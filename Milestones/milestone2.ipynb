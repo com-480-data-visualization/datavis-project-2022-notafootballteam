{
 "cells": [
  {
   "cell_type": "code",
   "execution_count": 99,
   "id": "96b1aabd",
   "metadata": {},
   "outputs": [],
   "source": [
    "import pandas as pd\n",
    "import geopandas as gpd\n",
    "import mapclassify\n",
    "import plotly.express as px\n",
    "import pycountry\n",
    "import numpy as np\n",
    "import plotly.express as px"
   ]
  },
  {
   "cell_type": "code",
   "execution_count": 31,
   "id": "e488e367",
   "metadata": {},
   "outputs": [],
   "source": [
    "PATH_HAPPY = \"../Data/world-happiness-report.csv\"\n",
    "PATH_HAPPY_2021 = \"../Data/world-happiness-report-2021.csv\"\n",
    "PATH_ALCOHOL = \"../Data/alcohol-consumption.csv\""
   ]
  },
  {
   "cell_type": "markdown",
   "id": "88cca0e1",
   "metadata": {},
   "source": [
    "# Data Visualisation (COM-480) - 2022\n",
    "## <i>If Not Alcohol, What Makes Us Happy?</i>\n",
    "### Milestone 2\n",
    "---"
   ]
  },
  {
   "cell_type": "markdown",
   "id": "53cb5c48",
   "metadata": {},
   "source": [
    "## General overview"
   ]
  },
  {
   "cell_type": "markdown",
   "id": "fd1a3bc8",
   "metadata": {},
   "source": [
    "### Visualizations\n",
    "For the sake of practicality and to allow for more scalability, several medium complexity level visualizations are proposed, as opposed to a large complex visualization.\n",
    "\n",
    "By displaying a central <b>timeline slider</b> on the webpage, the user can query entries from 2005 to 2021. As discussed, missing values are interpolated. With a certain selected year, the following are the planned visualizations:\n",
    "- <b>Outlier Map.</b>\n",
    "A colored world map showing outliers: here, countries whose happiness level is very different from what would have been expected from GDP/capita alone. Countries close to their expected happiness level are represented in yellow, those far above in green shades and those below in red shades.\n",
    "- <b>Distribution Plot for Happiness /  Alcohol Consumption.</b>\n",
    "The objective is to plot the skew of the Happiness Score and alcohol consumption distributions to highlight their uniformity or inequality and discuss it. When hovering over each “bin” (i.e. vertical bar), the countries in that bin would become visible with the respective values.\n",
    "- <b>Change of Ranking over Time (Bar Chart).</b>\n",
    "Using a horizontal bar chart, the objective is to visualize the evolution of the ranking of the happiest countries.\n",
    "- <b>Correlation: Scatterplot.</b>\n",
    "The objective is to create an interactive 2D scatterplot, where the user can select the X-axis attribute (GDP/inhabitant, alcohol consumption...), while the Y-axis attribute is fixed to Happiness Score. Each point in the scatterplot would represent a country. The points can be color-coded based on the georegion, or the actual flag of the country. The size of a country depends on its total population. When a country is selected, the user would see the country’s connected scatterplot positions from 2005 to 2021.\n",
    "- <b>Magnitude: [Radar Chart](https://en.wikipedia.org/wiki/Radar_chart).</b>\n",
    "The objective is to create an interactive radar chart with the Happiness Score attribute at the top corner while others are the remaining corners.\n",
    "- <b> Correlation Map.</b>\n",
    "A world map color-coded based on the value of the attribute selected in the scatter-plot.\n",
    "- <i>Optional: Fun animation.</i>\n",
    "An animation which demonstrates the magnitude of the alcohol consumed per capita by country. For example, a bottle that gets filled by country-themed bubbles; their number corresponds to the respective value for that country.\n",
    "\n",
    "Note that the Scatterplot, the Radar Chart and the Map are connected: hovering/tapping on a country on the scatterplot would also update the radar chart line and would highlight the country on the map, and vice versa.\n",
    "\n",
    "Please also record the words \"Happiness Score\", \"Ladder Score\" and \"Life Ladder\" refer to the same metric all along the report, references, datasets and visualizations. \n",
    "\n",
    "The mockups can be found below. "
   ]
  },
  {
   "cell_type": "markdown",
   "id": "db60408f",
   "metadata": {},
   "source": [
    "### Tools we will use "
   ]
  },
  {
   "cell_type": "markdown",
   "id": "48ed2dda",
   "metadata": {},
   "source": [
    "We decided to start by a mockup of all the visualisations listed above. These can be either quick pythob implementations for the Core MVP (see section below) and quick \"handmade\" mockups for the other visualisations.\n",
    "\n",
    "The python implementation process is also usefull for the next step : using pandas, we obtain quite complete dataframes and would not have to do any further processing on the data in JS. \n",
    "\n",
    "Below is a list of tools to be used for our real implementation. "
   ]
  },
  {
   "cell_type": "markdown",
   "id": "d76c5718",
   "metadata": {},
   "source": [
    "| Visualisation| Lectures and tools we will need |\n",
    "| :----------- | :----------- |\n",
    "| Outlier Map     | Lecture 4  : D3.js (Drawing the map) <br /> Lecture 5 : D3.js (Making it interactive) <br /> Lecture 8 : GDAL, Leaflet.js  (Drawing the map)  |\n",
    "| Distribution Plot for Happiness / Alcohol Consumption.  | Lecture 4 : D3.js (Drawing the plot) <br /> Lecture 5 : D3.js (Making it interactive)       |\n",
    "| Change of Ranking over Time (Bar Chart). / Alcohol Consumption.  | Lecture 4 : D3.js (Drawing the plot)<br /> Lecture 5 : D3.js (Making it interactive)      |\n",
    "| Correlation: Scatterplot.  | Lecture 4 : D3.js (Drawing the plot)<br /> Lecture 5 : D3.js (Making it interactive)      |\n",
    "| Magnitude: [Radar Chart](https://en.wikipedia.org/wiki/Radar_chart).  | Lecture 4 : D3.js (Drawing the plot)<br /> Lecture 5 : D3.js (Making it interactive)       |\n",
    "| Correlation Map.   | Lecture 4 : D3.js (Drawing the plot)<br /> Lecture 5 : D3.js (Making it interactive)      |\n",
    "| Fun animation (a 2D bottle that gets filled by country-themed bubbles)      | Two.js framework            |"
   ]
  },
  {
   "cell_type": "markdown",
   "id": "ec6da858",
   "metadata": {},
   "source": [
    "### Ordered list of pieces to implement\n",
    "\n",
    "<ins>Minimal viable product: Core</ins>\n",
    "1. [ ] Outlier Map \n",
    "2. [ ] Correlation: Scatterplot\n",
    "3. [ ] Magnitude: [Radar Chart](https://en.wikipedia.org/wiki/Radar_chart)\n",
    "4. [ ] Make the 3 plots interactive and connected (Outlier Map, Radar Chart, Scatterplot)\n",
    "\n",
    "<ins>End of minimal viable product  </ins>\n",
    "1. [ ] Change of Ranking over Time (Bar Chart)\n",
    "2. [ ] Distribution Plot for Happiness / Alcohol Consumption.\n",
    "3. [ ] Correlation Map.\n",
    "4. [ ] Change of Ranking over Time animated\n",
    "<br />  \n",
    "\n",
    "<ins>If we have time </ins>\n",
    "\n",
    "1. [ ] The Fun animation (2D bottle that gets filled by country-themed bubbles)"
   ]
  },
  {
   "cell_type": "markdown",
   "id": "24f76562",
   "metadata": {},
   "source": [
    "### Website"
   ]
  },
  {
   "cell_type": "markdown",
   "id": "1005e189",
   "metadata": {},
   "source": [
    "Additionally we build the skeleton of the website that will contain all our visualizations. It can be found [here](https://com-480-data-visualization.github.io/datavis-project-2022-notafootballteam/)"
   ]
  },
  {
   "cell_type": "markdown",
   "id": "a2bd3090",
   "metadata": {},
   "source": [
    "## Mockups"
   ]
  },
  {
   "cell_type": "markdown",
   "id": "638b56fa",
   "metadata": {},
   "source": [
    "### Data preprocessing"
   ]
  },
  {
   "cell_type": "code",
   "execution_count": 32,
   "id": "ea3fcd26",
   "metadata": {
    "scrolled": false
   },
   "outputs": [
    {
     "data": {
      "text/html": [
       "<div>\n",
       "<style scoped>\n",
       "    .dataframe tbody tr th:only-of-type {\n",
       "        vertical-align: middle;\n",
       "    }\n",
       "\n",
       "    .dataframe tbody tr th {\n",
       "        vertical-align: top;\n",
       "    }\n",
       "\n",
       "    .dataframe thead th {\n",
       "        text-align: right;\n",
       "    }\n",
       "</style>\n",
       "<table border=\"1\" class=\"dataframe\">\n",
       "  <thead>\n",
       "    <tr style=\"text-align: right;\">\n",
       "      <th></th>\n",
       "      <th>Country name</th>\n",
       "      <th>Regional indicator</th>\n",
       "      <th>Ladder score</th>\n",
       "      <th>Standard error of ladder score</th>\n",
       "      <th>upperwhisker</th>\n",
       "      <th>lowerwhisker</th>\n",
       "      <th>Logged GDP per capita</th>\n",
       "      <th>Social support</th>\n",
       "      <th>Healthy life expectancy</th>\n",
       "      <th>Freedom to make life choices</th>\n",
       "      <th>Generosity</th>\n",
       "      <th>Perceptions of corruption</th>\n",
       "      <th>Ladder score in Dystopia</th>\n",
       "      <th>Explained by: Log GDP per capita</th>\n",
       "      <th>Explained by: Social support</th>\n",
       "      <th>Explained by: Healthy life expectancy</th>\n",
       "      <th>Explained by: Freedom to make life choices</th>\n",
       "      <th>Explained by: Generosity</th>\n",
       "      <th>Explained by: Perceptions of corruption</th>\n",
       "      <th>Dystopia + residual</th>\n",
       "    </tr>\n",
       "  </thead>\n",
       "  <tbody>\n",
       "    <tr>\n",
       "      <th>0</th>\n",
       "      <td>Finland</td>\n",
       "      <td>Western Europe</td>\n",
       "      <td>7.842</td>\n",
       "      <td>0.032</td>\n",
       "      <td>7.904</td>\n",
       "      <td>7.780</td>\n",
       "      <td>10.775</td>\n",
       "      <td>0.954</td>\n",
       "      <td>72.0</td>\n",
       "      <td>0.949</td>\n",
       "      <td>-0.098</td>\n",
       "      <td>0.186</td>\n",
       "      <td>2.43</td>\n",
       "      <td>1.446</td>\n",
       "      <td>1.106</td>\n",
       "      <td>0.741</td>\n",
       "      <td>0.691</td>\n",
       "      <td>0.124</td>\n",
       "      <td>0.481</td>\n",
       "      <td>3.253</td>\n",
       "    </tr>\n",
       "    <tr>\n",
       "      <th>1</th>\n",
       "      <td>Denmark</td>\n",
       "      <td>Western Europe</td>\n",
       "      <td>7.620</td>\n",
       "      <td>0.035</td>\n",
       "      <td>7.687</td>\n",
       "      <td>7.552</td>\n",
       "      <td>10.933</td>\n",
       "      <td>0.954</td>\n",
       "      <td>72.7</td>\n",
       "      <td>0.946</td>\n",
       "      <td>0.030</td>\n",
       "      <td>0.179</td>\n",
       "      <td>2.43</td>\n",
       "      <td>1.502</td>\n",
       "      <td>1.108</td>\n",
       "      <td>0.763</td>\n",
       "      <td>0.686</td>\n",
       "      <td>0.208</td>\n",
       "      <td>0.485</td>\n",
       "      <td>2.868</td>\n",
       "    </tr>\n",
       "    <tr>\n",
       "      <th>2</th>\n",
       "      <td>Switzerland</td>\n",
       "      <td>Western Europe</td>\n",
       "      <td>7.571</td>\n",
       "      <td>0.036</td>\n",
       "      <td>7.643</td>\n",
       "      <td>7.500</td>\n",
       "      <td>11.117</td>\n",
       "      <td>0.942</td>\n",
       "      <td>74.4</td>\n",
       "      <td>0.919</td>\n",
       "      <td>0.025</td>\n",
       "      <td>0.292</td>\n",
       "      <td>2.43</td>\n",
       "      <td>1.566</td>\n",
       "      <td>1.079</td>\n",
       "      <td>0.816</td>\n",
       "      <td>0.653</td>\n",
       "      <td>0.204</td>\n",
       "      <td>0.413</td>\n",
       "      <td>2.839</td>\n",
       "    </tr>\n",
       "    <tr>\n",
       "      <th>3</th>\n",
       "      <td>Iceland</td>\n",
       "      <td>Western Europe</td>\n",
       "      <td>7.554</td>\n",
       "      <td>0.059</td>\n",
       "      <td>7.670</td>\n",
       "      <td>7.438</td>\n",
       "      <td>10.878</td>\n",
       "      <td>0.983</td>\n",
       "      <td>73.0</td>\n",
       "      <td>0.955</td>\n",
       "      <td>0.160</td>\n",
       "      <td>0.673</td>\n",
       "      <td>2.43</td>\n",
       "      <td>1.482</td>\n",
       "      <td>1.172</td>\n",
       "      <td>0.772</td>\n",
       "      <td>0.698</td>\n",
       "      <td>0.293</td>\n",
       "      <td>0.170</td>\n",
       "      <td>2.967</td>\n",
       "    </tr>\n",
       "    <tr>\n",
       "      <th>4</th>\n",
       "      <td>Netherlands</td>\n",
       "      <td>Western Europe</td>\n",
       "      <td>7.464</td>\n",
       "      <td>0.027</td>\n",
       "      <td>7.518</td>\n",
       "      <td>7.410</td>\n",
       "      <td>10.932</td>\n",
       "      <td>0.942</td>\n",
       "      <td>72.4</td>\n",
       "      <td>0.913</td>\n",
       "      <td>0.175</td>\n",
       "      <td>0.338</td>\n",
       "      <td>2.43</td>\n",
       "      <td>1.501</td>\n",
       "      <td>1.079</td>\n",
       "      <td>0.753</td>\n",
       "      <td>0.647</td>\n",
       "      <td>0.302</td>\n",
       "      <td>0.384</td>\n",
       "      <td>2.798</td>\n",
       "    </tr>\n",
       "  </tbody>\n",
       "</table>\n",
       "</div>"
      ],
      "text/plain": [
       "  Country name Regional indicator  Ladder score  \\\n",
       "0      Finland     Western Europe         7.842   \n",
       "1      Denmark     Western Europe         7.620   \n",
       "2  Switzerland     Western Europe         7.571   \n",
       "3      Iceland     Western Europe         7.554   \n",
       "4  Netherlands     Western Europe         7.464   \n",
       "\n",
       "   Standard error of ladder score  upperwhisker  lowerwhisker  \\\n",
       "0                           0.032         7.904         7.780   \n",
       "1                           0.035         7.687         7.552   \n",
       "2                           0.036         7.643         7.500   \n",
       "3                           0.059         7.670         7.438   \n",
       "4                           0.027         7.518         7.410   \n",
       "\n",
       "   Logged GDP per capita  Social support  Healthy life expectancy  \\\n",
       "0                 10.775           0.954                     72.0   \n",
       "1                 10.933           0.954                     72.7   \n",
       "2                 11.117           0.942                     74.4   \n",
       "3                 10.878           0.983                     73.0   \n",
       "4                 10.932           0.942                     72.4   \n",
       "\n",
       "   Freedom to make life choices  Generosity  Perceptions of corruption  \\\n",
       "0                         0.949      -0.098                      0.186   \n",
       "1                         0.946       0.030                      0.179   \n",
       "2                         0.919       0.025                      0.292   \n",
       "3                         0.955       0.160                      0.673   \n",
       "4                         0.913       0.175                      0.338   \n",
       "\n",
       "   Ladder score in Dystopia  Explained by: Log GDP per capita  \\\n",
       "0                      2.43                             1.446   \n",
       "1                      2.43                             1.502   \n",
       "2                      2.43                             1.566   \n",
       "3                      2.43                             1.482   \n",
       "4                      2.43                             1.501   \n",
       "\n",
       "   Explained by: Social support  Explained by: Healthy life expectancy  \\\n",
       "0                         1.106                                  0.741   \n",
       "1                         1.108                                  0.763   \n",
       "2                         1.079                                  0.816   \n",
       "3                         1.172                                  0.772   \n",
       "4                         1.079                                  0.753   \n",
       "\n",
       "   Explained by: Freedom to make life choices  Explained by: Generosity  \\\n",
       "0                                       0.691                     0.124   \n",
       "1                                       0.686                     0.208   \n",
       "2                                       0.653                     0.204   \n",
       "3                                       0.698                     0.293   \n",
       "4                                       0.647                     0.302   \n",
       "\n",
       "   Explained by: Perceptions of corruption  Dystopia + residual  \n",
       "0                                    0.481                3.253  \n",
       "1                                    0.485                2.868  \n",
       "2                                    0.413                2.839  \n",
       "3                                    0.170                2.967  \n",
       "4                                    0.384                2.798  "
      ]
     },
     "execution_count": 32,
     "metadata": {},
     "output_type": "execute_result"
    }
   ],
   "source": [
    "df_happy_2021 = pd.read_csv(PATH_HAPPY_2021)\n",
    "df_happy_2021.head()"
   ]
  },
  {
   "cell_type": "code",
   "execution_count": 33,
   "id": "fa65625a",
   "metadata": {},
   "outputs": [],
   "source": [
    "# We built here a list of country names that were not standard and their standard conversion. \n",
    "names_conversion = {\"Czech Republic\": \"Czechia\", \n",
    "                    \"Taiwan Province of China\": \"Taiwan, Province of China\", \n",
    "                    \"South Korea\": \"Korea, Republic of\", \n",
    "                    \"Moldova\": \"Moldova, Republic of\", \n",
    "                    \"Bolivia\": \"Bolivia, Plurinational State of\", \n",
    "                    \"Russia\" : \"Russian Federation\", \n",
    "                    \"Hong Kong S.A.R. of China\": \"Hong Kong\", \n",
    "                    \"Vietnam\": \"Viet Nam\", \n",
    "                    \"Congo (Brazzaville)\": \"Congo\", \n",
    "                    \"Ivory Coast\": \"Côte d'Ivoire\",\n",
    "                    \"Laos\": \"Lao People's Democratic Republic\", \n",
    "                    \"Venezuela\": \"Venezuela, Bolivarian Republic of\",\n",
    "                    \"Iran\": \"Iran, Islamic Republic of\", \n",
    "                    \"Palestinian Territories\": \"Palestine, State of\", \n",
    "                    \"Swaziland\": \"Eswatini\",\n",
    "                    \"Tanzania\": \"Tanzania, United Republic of\"}"
   ]
  },
  {
   "cell_type": "code",
   "execution_count": 34,
   "id": "285fba46",
   "metadata": {},
   "outputs": [],
   "source": [
    "df_happy_2021[\"Country name\"] = df_happy_2021[\"Country name\"].replace(names_conversion)"
   ]
  },
  {
   "cell_type": "markdown",
   "id": "026cfcd8",
   "metadata": {},
   "source": [
    "A first step is to ensure name consistency for countries. To do so, we will use the pycountry library and retrieve the iso_2 and iso_3 codes for country names. "
   ]
  },
  {
   "cell_type": "code",
   "execution_count": 35,
   "id": "a4238e09",
   "metadata": {
    "scrolled": false
   },
   "outputs": [
    {
     "name": "stdout",
     "output_type": "stream",
     "text": [
      "['FIN', 'DNK', 'CHE', 'ISL', 'NLD', 'NOR', 'SWE', 'LUX', 'NZL', 'AUT', 'AUS', 'ISR', 'DEU', 'CAN', 'IRL', 'CRI', 'GBR', 'CZE', 'USA', 'BEL', 'FRA', 'BHR', 'MLT', 'TWN', 'ARE', 'SAU', 'ESP', 'ITA', 'SVN', 'GTM', 'URY', 'SGP', 'Unknown code', 'SVK', 'BRA', 'MEX', 'JAM', 'LTU', 'CYP', 'EST', 'PAN', 'UZB', 'CHL', 'POL', 'KAZ', 'ROU', 'KWT', 'SRB', 'SLV', 'MUS', 'LVA', 'COL', 'HUN', 'THA', 'NIC', 'JPN', 'ARG', 'PRT', 'HND', 'HRV', 'PHL', 'KOR', 'PER', 'BIH', 'MDA', 'ECU', 'KGZ', 'GRC', 'BOL', 'MNG', 'PRY', 'MNE', 'DOM', 'Unknown code', 'BLR', 'RUS', 'HKG', 'TJK', 'VNM', 'LBY', 'MYS', 'IDN', 'COG', 'CHN', 'CIV', 'ARM', 'NPL', 'BGR', 'MDV', 'AZE', 'CMR', 'SEN', 'ALB', 'MKD', 'GHA', 'NER', 'TKM', 'GMB', 'BEN', 'LAO', 'BGD', 'GIN', 'ZAF', 'TUR', 'PAK', 'MAR', 'VEN', 'GEO', 'DZA', 'UKR', 'IRQ', 'GAB', 'BFA', 'KHM', 'MOZ', 'NGA', 'MLI', 'IRN', 'UGA', 'LBR', 'KEN', 'TUN', 'LBN', 'NAM', 'PSE', 'MMR', 'JOR', 'TCD', 'LKA', 'SWZ', 'COM', 'EGY', 'ETH', 'MRT', 'MDG', 'TGO', 'ZMB', 'SLE', 'IND', 'BDI', 'YEM', 'TZA', 'HTI', 'MWI', 'LSO', 'BWA', 'RWA', 'ZWE', 'AFG']\n"
     ]
    }
   ],
   "source": [
    "input_countries = [a for a in df_happy_2021[\"Country name\"].to_numpy()]\n",
    "countries_2 = {}\n",
    "countries_3 = {}\n",
    "for country in pycountry.countries:\n",
    "    countries_2[country.name] = country.alpha_2\n",
    "    countries_3[country.name] = country.alpha_3\n",
    "    \n",
    "codes_2 = [countries_2.get(country, 'Unknown code') for country in input_countries]\n",
    "codes_3 = [countries_3.get(country, 'Unknown code') for country in input_countries]\n",
    "\n",
    "print(codes_3)"
   ]
  },
  {
   "cell_type": "code",
   "execution_count": 36,
   "id": "f09568e1",
   "metadata": {},
   "outputs": [],
   "source": [
    "df_happy_2021[\"iso_2\"] = codes_2\n",
    "df_happy_2021[\"iso_3\"] = codes_3"
   ]
  },
  {
   "cell_type": "code",
   "execution_count": 37,
   "id": "50daac5b",
   "metadata": {
    "scrolled": true
   },
   "outputs": [
    {
     "data": {
      "text/html": [
       "<div>\n",
       "<style scoped>\n",
       "    .dataframe tbody tr th:only-of-type {\n",
       "        vertical-align: middle;\n",
       "    }\n",
       "\n",
       "    .dataframe tbody tr th {\n",
       "        vertical-align: top;\n",
       "    }\n",
       "\n",
       "    .dataframe thead th {\n",
       "        text-align: right;\n",
       "    }\n",
       "</style>\n",
       "<table border=\"1\" class=\"dataframe\">\n",
       "  <thead>\n",
       "    <tr style=\"text-align: right;\">\n",
       "      <th></th>\n",
       "      <th>Country name</th>\n",
       "      <th>Regional indicator</th>\n",
       "      <th>Ladder score</th>\n",
       "      <th>Standard error of ladder score</th>\n",
       "      <th>upperwhisker</th>\n",
       "      <th>lowerwhisker</th>\n",
       "      <th>Logged GDP per capita</th>\n",
       "      <th>Social support</th>\n",
       "      <th>Healthy life expectancy</th>\n",
       "      <th>Freedom to make life choices</th>\n",
       "      <th>...</th>\n",
       "      <th>Ladder score in Dystopia</th>\n",
       "      <th>Explained by: Log GDP per capita</th>\n",
       "      <th>Explained by: Social support</th>\n",
       "      <th>Explained by: Healthy life expectancy</th>\n",
       "      <th>Explained by: Freedom to make life choices</th>\n",
       "      <th>Explained by: Generosity</th>\n",
       "      <th>Explained by: Perceptions of corruption</th>\n",
       "      <th>Dystopia + residual</th>\n",
       "      <th>iso_2</th>\n",
       "      <th>iso_3</th>\n",
       "    </tr>\n",
       "  </thead>\n",
       "  <tbody>\n",
       "    <tr>\n",
       "      <th>32</th>\n",
       "      <td>Kosovo</td>\n",
       "      <td>Central and Eastern Europe</td>\n",
       "      <td>6.372</td>\n",
       "      <td>0.059</td>\n",
       "      <td>6.487</td>\n",
       "      <td>6.257</td>\n",
       "      <td>9.318</td>\n",
       "      <td>0.821</td>\n",
       "      <td>63.813</td>\n",
       "      <td>0.869</td>\n",
       "      <td>...</td>\n",
       "      <td>2.43</td>\n",
       "      <td>0.937</td>\n",
       "      <td>0.807</td>\n",
       "      <td>0.483</td>\n",
       "      <td>0.593</td>\n",
       "      <td>0.356</td>\n",
       "      <td>0.014</td>\n",
       "      <td>3.182</td>\n",
       "      <td>Unknown code</td>\n",
       "      <td>Unknown code</td>\n",
       "    </tr>\n",
       "    <tr>\n",
       "      <th>73</th>\n",
       "      <td>North Cyprus</td>\n",
       "      <td>Western Europe</td>\n",
       "      <td>5.536</td>\n",
       "      <td>0.051</td>\n",
       "      <td>5.636</td>\n",
       "      <td>5.435</td>\n",
       "      <td>10.576</td>\n",
       "      <td>0.820</td>\n",
       "      <td>73.898</td>\n",
       "      <td>0.795</td>\n",
       "      <td>...</td>\n",
       "      <td>2.43</td>\n",
       "      <td>1.377</td>\n",
       "      <td>0.806</td>\n",
       "      <td>0.801</td>\n",
       "      <td>0.503</td>\n",
       "      <td>0.196</td>\n",
       "      <td>0.200</td>\n",
       "      <td>1.653</td>\n",
       "      <td>Unknown code</td>\n",
       "      <td>Unknown code</td>\n",
       "    </tr>\n",
       "  </tbody>\n",
       "</table>\n",
       "<p>2 rows × 22 columns</p>\n",
       "</div>"
      ],
      "text/plain": [
       "    Country name          Regional indicator  Ladder score  \\\n",
       "32        Kosovo  Central and Eastern Europe         6.372   \n",
       "73  North Cyprus              Western Europe         5.536   \n",
       "\n",
       "    Standard error of ladder score  upperwhisker  lowerwhisker  \\\n",
       "32                           0.059         6.487         6.257   \n",
       "73                           0.051         5.636         5.435   \n",
       "\n",
       "    Logged GDP per capita  Social support  Healthy life expectancy  \\\n",
       "32                  9.318           0.821                   63.813   \n",
       "73                 10.576           0.820                   73.898   \n",
       "\n",
       "    Freedom to make life choices  ...  Ladder score in Dystopia  \\\n",
       "32                         0.869  ...                      2.43   \n",
       "73                         0.795  ...                      2.43   \n",
       "\n",
       "    Explained by: Log GDP per capita  Explained by: Social support  \\\n",
       "32                             0.937                         0.807   \n",
       "73                             1.377                         0.806   \n",
       "\n",
       "    Explained by: Healthy life expectancy  \\\n",
       "32                                  0.483   \n",
       "73                                  0.801   \n",
       "\n",
       "    Explained by: Freedom to make life choices  Explained by: Generosity  \\\n",
       "32                                       0.593                     0.356   \n",
       "73                                       0.503                     0.196   \n",
       "\n",
       "    Explained by: Perceptions of corruption  Dystopia + residual  \\\n",
       "32                                    0.014                3.182   \n",
       "73                                    0.200                1.653   \n",
       "\n",
       "           iso_2         iso_3  \n",
       "32  Unknown code  Unknown code  \n",
       "73  Unknown code  Unknown code  \n",
       "\n",
       "[2 rows x 22 columns]"
      ]
     },
     "execution_count": 37,
     "metadata": {},
     "output_type": "execute_result"
    }
   ],
   "source": [
    "df_happy_2021[df_happy_2021['iso_3'] == \"Unknown code\"]"
   ]
  },
  {
   "cell_type": "code",
   "execution_count": 38,
   "id": "64a84864",
   "metadata": {},
   "outputs": [],
   "source": [
    "# some iso standards are not yet define. We enter by hand the temporary ones. \n",
    "df_happy_2021.loc[32,\"iso_2\"] = \"XK\"\n",
    "df_happy_2021.loc[32, \"iso_3\"] = \"XKX\"\n",
    "df_happy_2021.loc[73, \"iso_3\"] = \"CTR\"\n",
    "df_happy_2021.loc[73, \"iso_2\"] = \"CT\""
   ]
  },
  {
   "cell_type": "markdown",
   "id": "530caf60",
   "metadata": {},
   "source": [
    "### Outlier Map"
   ]
  },
  {
   "cell_type": "markdown",
   "id": "b7ee5a60",
   "metadata": {},
   "source": [
    "A colored world map showing outliers: here, countries whose happiness level is very different from what would have been expected from GDP/capita alone. Countries close to their expected happiness level are represented in yellow, those far above in green shades and those below in red shades."
   ]
  },
  {
   "cell_type": "markdown",
   "id": "63999b9f",
   "metadata": {},
   "source": [
    "Let's start by building a table containing the Happiness Ranking and the GDP/inhabtinant ranking of a country. From there, we will show how strong the difference between the two of them is. "
   ]
  },
  {
   "cell_type": "code",
   "execution_count": 39,
   "id": "b8ab8a5f",
   "metadata": {
    "scrolled": true
   },
   "outputs": [],
   "source": [
    "df_happy_2021[\"Happiness ranking\"] = df_happy_2021.index.array"
   ]
  },
  {
   "cell_type": "code",
   "execution_count": 40,
   "id": "ce922b98",
   "metadata": {},
   "outputs": [],
   "source": [
    "df_2021_indexed = df_happy_2021.sort_values(by = \"Logged GDP per capita\", ascending = False).reset_index()\n",
    "df_2021_indexed[\"GDP Ranking\"] = df_2021_indexed.index.array"
   ]
  },
  {
   "cell_type": "code",
   "execution_count": 42,
   "id": "fffb1412",
   "metadata": {},
   "outputs": [
    {
     "name": "stderr",
     "output_type": "stream",
     "text": [
      "/usr/local/lib/python3.7/site-packages/ipykernel_launcher.py:2: SettingWithCopyWarning:\n",
      "\n",
      "\n",
      "A value is trying to be set on a copy of a slice from a DataFrame.\n",
      "Try using .loc[row_indexer,col_indexer] = value instead\n",
      "\n",
      "See the caveats in the documentation: https://pandas.pydata.org/pandas-docs/stable/user_guide/indexing.html#returning-a-view-versus-a-copy\n",
      "\n"
     ]
    }
   ],
   "source": [
    "df_2021_outliers = df_2021_indexed[[\"Country name\", \"iso_2\", \"iso_3\", \"Happiness ranking\", \"GDP Ranking\"]]\n",
    "df_2021_outliers[\"Difference\"] = df_2021_outliers[\"GDP Ranking\"] - df_2021_outliers[\"Happiness ranking\"]"
   ]
  },
  {
   "cell_type": "code",
   "execution_count": 43,
   "id": "82a1750d",
   "metadata": {
    "scrolled": true
   },
   "outputs": [
    {
     "data": {
      "text/html": [
       "<div>\n",
       "<style scoped>\n",
       "    .dataframe tbody tr th:only-of-type {\n",
       "        vertical-align: middle;\n",
       "    }\n",
       "\n",
       "    .dataframe tbody tr th {\n",
       "        vertical-align: top;\n",
       "    }\n",
       "\n",
       "    .dataframe thead th {\n",
       "        text-align: right;\n",
       "    }\n",
       "</style>\n",
       "<table border=\"1\" class=\"dataframe\">\n",
       "  <thead>\n",
       "    <tr style=\"text-align: right;\">\n",
       "      <th></th>\n",
       "      <th>Country name</th>\n",
       "      <th>iso_2</th>\n",
       "      <th>iso_3</th>\n",
       "      <th>Happiness ranking</th>\n",
       "      <th>GDP Ranking</th>\n",
       "      <th>Difference</th>\n",
       "    </tr>\n",
       "  </thead>\n",
       "  <tbody>\n",
       "    <tr>\n",
       "      <th>0</th>\n",
       "      <td>Luxembourg</td>\n",
       "      <td>LU</td>\n",
       "      <td>LUX</td>\n",
       "      <td>7</td>\n",
       "      <td>0</td>\n",
       "      <td>-7</td>\n",
       "    </tr>\n",
       "    <tr>\n",
       "      <th>1</th>\n",
       "      <td>Singapore</td>\n",
       "      <td>SG</td>\n",
       "      <td>SGP</td>\n",
       "      <td>31</td>\n",
       "      <td>1</td>\n",
       "      <td>-30</td>\n",
       "    </tr>\n",
       "    <tr>\n",
       "      <th>2</th>\n",
       "      <td>Ireland</td>\n",
       "      <td>IE</td>\n",
       "      <td>IRL</td>\n",
       "      <td>14</td>\n",
       "      <td>2</td>\n",
       "      <td>-12</td>\n",
       "    </tr>\n",
       "    <tr>\n",
       "      <th>3</th>\n",
       "      <td>Switzerland</td>\n",
       "      <td>CH</td>\n",
       "      <td>CHE</td>\n",
       "      <td>2</td>\n",
       "      <td>3</td>\n",
       "      <td>1</td>\n",
       "    </tr>\n",
       "    <tr>\n",
       "      <th>4</th>\n",
       "      <td>United Arab Emirates</td>\n",
       "      <td>AE</td>\n",
       "      <td>ARE</td>\n",
       "      <td>24</td>\n",
       "      <td>4</td>\n",
       "      <td>-20</td>\n",
       "    </tr>\n",
       "  </tbody>\n",
       "</table>\n",
       "</div>"
      ],
      "text/plain": [
       "           Country name iso_2 iso_3  Happiness ranking  GDP Ranking  \\\n",
       "0            Luxembourg    LU   LUX                  7            0   \n",
       "1             Singapore    SG   SGP                 31            1   \n",
       "2               Ireland    IE   IRL                 14            2   \n",
       "3           Switzerland    CH   CHE                  2            3   \n",
       "4  United Arab Emirates    AE   ARE                 24            4   \n",
       "\n",
       "   Difference  \n",
       "0          -7  \n",
       "1         -30  \n",
       "2         -12  \n",
       "3           1  \n",
       "4         -20  "
      ]
     },
     "execution_count": 43,
     "metadata": {},
     "output_type": "execute_result"
    }
   ],
   "source": [
    "df_2021_outliers.head()"
   ]
  },
  {
   "cell_type": "markdown",
   "id": "d94f5451",
   "metadata": {},
   "source": [
    "The geopandas library allows to generate polygons with the right shape, making plotting data on a map very easy. It provides a dataframe with all countries and associated polygons."
   ]
  },
  {
   "cell_type": "code",
   "execution_count": 45,
   "id": "4fe5e3b9",
   "metadata": {
    "scrolled": true
   },
   "outputs": [
    {
     "data": {
      "text/html": [
       "<div>\n",
       "<style scoped>\n",
       "    .dataframe tbody tr th:only-of-type {\n",
       "        vertical-align: middle;\n",
       "    }\n",
       "\n",
       "    .dataframe tbody tr th {\n",
       "        vertical-align: top;\n",
       "    }\n",
       "\n",
       "    .dataframe thead th {\n",
       "        text-align: right;\n",
       "    }\n",
       "</style>\n",
       "<table border=\"1\" class=\"dataframe\">\n",
       "  <thead>\n",
       "    <tr style=\"text-align: right;\">\n",
       "      <th></th>\n",
       "      <th>pop_est</th>\n",
       "      <th>continent</th>\n",
       "      <th>name</th>\n",
       "      <th>iso_a3</th>\n",
       "      <th>gdp_md_est</th>\n",
       "      <th>geometry</th>\n",
       "    </tr>\n",
       "  </thead>\n",
       "  <tbody>\n",
       "    <tr>\n",
       "      <th>0</th>\n",
       "      <td>920938</td>\n",
       "      <td>Oceania</td>\n",
       "      <td>Fiji</td>\n",
       "      <td>FJI</td>\n",
       "      <td>8374.0</td>\n",
       "      <td>MULTIPOLYGON (((180.00000 -16.06713, 180.00000...</td>\n",
       "    </tr>\n",
       "    <tr>\n",
       "      <th>1</th>\n",
       "      <td>53950935</td>\n",
       "      <td>Africa</td>\n",
       "      <td>Tanzania</td>\n",
       "      <td>TZA</td>\n",
       "      <td>150600.0</td>\n",
       "      <td>POLYGON ((33.90371 -0.95000, 34.07262 -1.05982...</td>\n",
       "    </tr>\n",
       "    <tr>\n",
       "      <th>2</th>\n",
       "      <td>603253</td>\n",
       "      <td>Africa</td>\n",
       "      <td>W. Sahara</td>\n",
       "      <td>ESH</td>\n",
       "      <td>906.5</td>\n",
       "      <td>POLYGON ((-8.66559 27.65643, -8.66512 27.58948...</td>\n",
       "    </tr>\n",
       "    <tr>\n",
       "      <th>3</th>\n",
       "      <td>35623680</td>\n",
       "      <td>North America</td>\n",
       "      <td>Canada</td>\n",
       "      <td>CAN</td>\n",
       "      <td>1674000.0</td>\n",
       "      <td>MULTIPOLYGON (((-122.84000 49.00000, -122.9742...</td>\n",
       "    </tr>\n",
       "    <tr>\n",
       "      <th>4</th>\n",
       "      <td>326625791</td>\n",
       "      <td>North America</td>\n",
       "      <td>United States of America</td>\n",
       "      <td>USA</td>\n",
       "      <td>18560000.0</td>\n",
       "      <td>MULTIPOLYGON (((-122.84000 49.00000, -120.0000...</td>\n",
       "    </tr>\n",
       "  </tbody>\n",
       "</table>\n",
       "</div>"
      ],
      "text/plain": [
       "     pop_est      continent                      name iso_a3  gdp_md_est  \\\n",
       "0     920938        Oceania                      Fiji    FJI      8374.0   \n",
       "1   53950935         Africa                  Tanzania    TZA    150600.0   \n",
       "2     603253         Africa                 W. Sahara    ESH       906.5   \n",
       "3   35623680  North America                    Canada    CAN   1674000.0   \n",
       "4  326625791  North America  United States of America    USA  18560000.0   \n",
       "\n",
       "                                            geometry  \n",
       "0  MULTIPOLYGON (((180.00000 -16.06713, 180.00000...  \n",
       "1  POLYGON ((33.90371 -0.95000, 34.07262 -1.05982...  \n",
       "2  POLYGON ((-8.66559 27.65643, -8.66512 27.58948...  \n",
       "3  MULTIPOLYGON (((-122.84000 49.00000, -122.9742...  \n",
       "4  MULTIPOLYGON (((-122.84000 49.00000, -120.0000...  "
      ]
     },
     "execution_count": 45,
     "metadata": {},
     "output_type": "execute_result"
    }
   ],
   "source": [
    "countries = gpd.read_file(\n",
    "               gpd.datasets.get_path(\"naturalearth_lowres\"))\n",
    "countries.head()"
   ]
  },
  {
   "cell_type": "code",
   "execution_count": 46,
   "id": "89bd5b18",
   "metadata": {
    "scrolled": true
   },
   "outputs": [],
   "source": [
    "countries = countries.merge(right = df_2021_outliers, how = \"left\", left_on = \"iso_a3\", right_on = \"iso_3\")"
   ]
  },
  {
   "cell_type": "code",
   "execution_count": 47,
   "id": "b248ad3f",
   "metadata": {
    "scrolled": true
   },
   "outputs": [
    {
     "name": "stderr",
     "output_type": "stream",
     "text": [
      "/usr/local/lib/python3.7/site-packages/geopandas/geodataframe.py:1351: SettingWithCopyWarning:\n",
      "\n",
      "\n",
      "A value is trying to be set on a copy of a slice from a DataFrame.\n",
      "Try using .loc[row_indexer,col_indexer] = value instead\n",
      "\n",
      "See the caveats in the documentation: https://pandas.pydata.org/pandas-docs/stable/user_guide/indexing.html#returning-a-view-versus-a-copy\n",
      "\n"
     ]
    },
    {
     "data": {
      "text/plain": [
       "<matplotlib.axes._subplots.AxesSubplot at 0x1309135c0>"
      ]
     },
     "execution_count": 47,
     "metadata": {},
     "output_type": "execute_result"
    },
    {
     "data": {
      "image/png": "[encoded data removed]",
      "text/plain": [
       "<Figure size 1800x1440 with 2 Axes>"
      ]
     },
     "metadata": {
      "needs_background": "light"
     },
     "output_type": "display_data"
    }
   ],
   "source": [
    "plot_differences = countries[[\"name\", \"geometry\", \"Difference\"]]\n",
    "plot_differences['Difference'] = plot_differences['Difference'].fillna(0)\n",
    "plot_differences.plot(column='Difference', figsize=(25, 20),\n",
    "           legend=True, cmap='RdYlGn')"
   ]
  },
  {
   "cell_type": "markdown",
   "id": "4b6e45b1",
   "metadata": {},
   "source": [
    "<b> Title : Ranking difference between GDP/inhabitant and happiness by country </b>"
   ]
  },
  {
   "cell_type": "markdown",
   "id": "457cdbb9",
   "metadata": {},
   "source": [
    "## Correlation: Scatterplot"
   ]
  },
  {
   "cell_type": "markdown",
   "id": "7acbd89c",
   "metadata": {},
   "source": [
    "The objective is to create an interactive 2D scatterplot, where the user can select the X-axis attribute (GDP/inhabitant, alcohol consumption...), while the Y-axis attribute is fixed to Happiness Score. Each point in the scatterplot would represent a country. The points can be color-coded based on the georegion, or the actual flag of the country. The size of a country depends on its total population. When a country is selected, the user would see the country’s connected scatterplot positions from 2005 to 2021.\n",
    "\n",
    "All credits for building (quickly) this visualisation, to the [solution showed here](https://community.plotly.com/t/put-images-inside-bubbles/41364/5). "
   ]
  },
  {
   "cell_type": "code",
   "execution_count": 48,
   "id": "351520c7",
   "metadata": {},
   "outputs": [],
   "source": [
    "# only iso2 can be used with the country flag dictionary mentioned below\n",
    "iso3_to_iso2 = {c.alpha_3: c.alpha_2 for c in pycountry.countries}\n",
    "\n",
    "df = px.data.gapminder().query(\"year==2007\")\n",
    "df[\"iso_alpha2\"] = df[\"iso_alpha\"].map(iso3_to_iso2)"
   ]
  },
  {
   "cell_type": "code",
   "execution_count": 49,
   "id": "d76908e3",
   "metadata": {
    "scrolled": true
   },
   "outputs": [],
   "source": [
    "df = df.merge(right = df_happy_2021, how = \"left\", left_on = \"iso_alpha\", right_on = \"iso_3\")"
   ]
  },
  {
   "cell_type": "code",
   "execution_count": 50,
   "id": "793774f6",
   "metadata": {
    "scrolled": true
   },
   "outputs": [
    {
     "data": {
      "text/html": [
       "<div>\n",
       "<style scoped>\n",
       "    .dataframe tbody tr th:only-of-type {\n",
       "        vertical-align: middle;\n",
       "    }\n",
       "\n",
       "    .dataframe tbody tr th {\n",
       "        vertical-align: top;\n",
       "    }\n",
       "\n",
       "    .dataframe thead th {\n",
       "        text-align: right;\n",
       "    }\n",
       "</style>\n",
       "<table border=\"1\" class=\"dataframe\">\n",
       "  <thead>\n",
       "    <tr style=\"text-align: right;\">\n",
       "      <th></th>\n",
       "      <th>country</th>\n",
       "      <th>continent</th>\n",
       "      <th>year</th>\n",
       "      <th>lifeExp</th>\n",
       "      <th>pop</th>\n",
       "      <th>gdpPercap</th>\n",
       "      <th>iso_alpha</th>\n",
       "      <th>iso_num</th>\n",
       "      <th>iso_alpha2</th>\n",
       "      <th>Country name</th>\n",
       "      <th>...</th>\n",
       "      <th>Explained by: Log GDP per capita</th>\n",
       "      <th>Explained by: Social support</th>\n",
       "      <th>Explained by: Healthy life expectancy</th>\n",
       "      <th>Explained by: Freedom to make life choices</th>\n",
       "      <th>Explained by: Generosity</th>\n",
       "      <th>Explained by: Perceptions of corruption</th>\n",
       "      <th>Dystopia + residual</th>\n",
       "      <th>iso_2</th>\n",
       "      <th>iso_3</th>\n",
       "      <th>Happiness ranking</th>\n",
       "    </tr>\n",
       "  </thead>\n",
       "  <tbody>\n",
       "    <tr>\n",
       "      <th>0</th>\n",
       "      <td>Afghanistan</td>\n",
       "      <td>Asia</td>\n",
       "      <td>2007</td>\n",
       "      <td>43.828</td>\n",
       "      <td>31889923</td>\n",
       "      <td>974.580338</td>\n",
       "      <td>AFG</td>\n",
       "      <td>4</td>\n",
       "      <td>AF</td>\n",
       "      <td>Afghanistan</td>\n",
       "      <td>...</td>\n",
       "      <td>0.370</td>\n",
       "      <td>0.000</td>\n",
       "      <td>0.126</td>\n",
       "      <td>0.000</td>\n",
       "      <td>0.122</td>\n",
       "      <td>0.010</td>\n",
       "      <td>1.895</td>\n",
       "      <td>AF</td>\n",
       "      <td>AFG</td>\n",
       "      <td>148.0</td>\n",
       "    </tr>\n",
       "    <tr>\n",
       "      <th>1</th>\n",
       "      <td>Albania</td>\n",
       "      <td>Europe</td>\n",
       "      <td>2007</td>\n",
       "      <td>76.423</td>\n",
       "      <td>3600523</td>\n",
       "      <td>5937.029526</td>\n",
       "      <td>ALB</td>\n",
       "      <td>8</td>\n",
       "      <td>AL</td>\n",
       "      <td>Albania</td>\n",
       "      <td>...</td>\n",
       "      <td>1.008</td>\n",
       "      <td>0.529</td>\n",
       "      <td>0.646</td>\n",
       "      <td>0.491</td>\n",
       "      <td>0.168</td>\n",
       "      <td>0.024</td>\n",
       "      <td>2.250</td>\n",
       "      <td>AL</td>\n",
       "      <td>ALB</td>\n",
       "      <td>92.0</td>\n",
       "    </tr>\n",
       "    <tr>\n",
       "      <th>2</th>\n",
       "      <td>Algeria</td>\n",
       "      <td>Africa</td>\n",
       "      <td>2007</td>\n",
       "      <td>72.301</td>\n",
       "      <td>33333216</td>\n",
       "      <td>6223.367465</td>\n",
       "      <td>DZA</td>\n",
       "      <td>12</td>\n",
       "      <td>DZ</td>\n",
       "      <td>Algeria</td>\n",
       "      <td>...</td>\n",
       "      <td>0.946</td>\n",
       "      <td>0.765</td>\n",
       "      <td>0.552</td>\n",
       "      <td>0.119</td>\n",
       "      <td>0.144</td>\n",
       "      <td>0.120</td>\n",
       "      <td>2.242</td>\n",
       "      <td>DZ</td>\n",
       "      <td>DZA</td>\n",
       "      <td>108.0</td>\n",
       "    </tr>\n",
       "    <tr>\n",
       "      <th>3</th>\n",
       "      <td>Angola</td>\n",
       "      <td>Africa</td>\n",
       "      <td>2007</td>\n",
       "      <td>42.731</td>\n",
       "      <td>12420476</td>\n",
       "      <td>4797.231267</td>\n",
       "      <td>AGO</td>\n",
       "      <td>24</td>\n",
       "      <td>AO</td>\n",
       "      <td>NaN</td>\n",
       "      <td>...</td>\n",
       "      <td>NaN</td>\n",
       "      <td>NaN</td>\n",
       "      <td>NaN</td>\n",
       "      <td>NaN</td>\n",
       "      <td>NaN</td>\n",
       "      <td>NaN</td>\n",
       "      <td>NaN</td>\n",
       "      <td>NaN</td>\n",
       "      <td>NaN</td>\n",
       "      <td>NaN</td>\n",
       "    </tr>\n",
       "    <tr>\n",
       "      <th>4</th>\n",
       "      <td>Argentina</td>\n",
       "      <td>Americas</td>\n",
       "      <td>2007</td>\n",
       "      <td>75.320</td>\n",
       "      <td>40301927</td>\n",
       "      <td>12779.379640</td>\n",
       "      <td>ARG</td>\n",
       "      <td>32</td>\n",
       "      <td>AR</td>\n",
       "      <td>Argentina</td>\n",
       "      <td>...</td>\n",
       "      <td>1.162</td>\n",
       "      <td>0.980</td>\n",
       "      <td>0.646</td>\n",
       "      <td>0.544</td>\n",
       "      <td>0.069</td>\n",
       "      <td>0.067</td>\n",
       "      <td>2.461</td>\n",
       "      <td>AR</td>\n",
       "      <td>ARG</td>\n",
       "      <td>56.0</td>\n",
       "    </tr>\n",
       "  </tbody>\n",
       "</table>\n",
       "<p>5 rows × 32 columns</p>\n",
       "</div>"
      ],
      "text/plain": [
       "       country continent  year  lifeExp       pop     gdpPercap iso_alpha  \\\n",
       "0  Afghanistan      Asia  2007   43.828  31889923    974.580338       AFG   \n",
       "1      Albania    Europe  2007   76.423   3600523   5937.029526       ALB   \n",
       "2      Algeria    Africa  2007   72.301  33333216   6223.367465       DZA   \n",
       "3       Angola    Africa  2007   42.731  12420476   4797.231267       AGO   \n",
       "4    Argentina  Americas  2007   75.320  40301927  12779.379640       ARG   \n",
       "\n",
       "   iso_num iso_alpha2 Country name  ... Explained by: Log GDP per capita  \\\n",
       "0        4         AF  Afghanistan  ...                            0.370   \n",
       "1        8         AL      Albania  ...                            1.008   \n",
       "2       12         DZ      Algeria  ...                            0.946   \n",
       "3       24         AO          NaN  ...                              NaN   \n",
       "4       32         AR    Argentina  ...                            1.162   \n",
       "\n",
       "   Explained by: Social support  Explained by: Healthy life expectancy  \\\n",
       "0                         0.000                                  0.126   \n",
       "1                         0.529                                  0.646   \n",
       "2                         0.765                                  0.552   \n",
       "3                           NaN                                    NaN   \n",
       "4                         0.980                                  0.646   \n",
       "\n",
       "   Explained by: Freedom to make life choices  Explained by: Generosity  \\\n",
       "0                                       0.000                     0.122   \n",
       "1                                       0.491                     0.168   \n",
       "2                                       0.119                     0.144   \n",
       "3                                         NaN                       NaN   \n",
       "4                                       0.544                     0.069   \n",
       "\n",
       "   Explained by: Perceptions of corruption  Dystopia + residual  iso_2  iso_3  \\\n",
       "0                                    0.010                1.895     AF    AFG   \n",
       "1                                    0.024                2.250     AL    ALB   \n",
       "2                                    0.120                2.242     DZ    DZA   \n",
       "3                                      NaN                  NaN    NaN    NaN   \n",
       "4                                    0.067                2.461     AR    ARG   \n",
       "\n",
       "   Happiness ranking  \n",
       "0              148.0  \n",
       "1               92.0  \n",
       "2              108.0  \n",
       "3                NaN  \n",
       "4               56.0  \n",
       "\n",
       "[5 rows x 32 columns]"
      ]
     },
     "execution_count": 50,
     "metadata": {},
     "output_type": "execute_result"
    }
   ],
   "source": [
    "df.head()"
   ]
  },
  {
   "cell_type": "code",
   "execution_count": 93,
   "id": "b073c22d",
   "metadata": {},
   "outputs": [],
   "source": [
    "interesting_columns = ['Ladder score', 'Logged GDP per capita', 'Social support', 'Healthy life expectancy','Freedom to make life choices', 'Generosity', 'Perceptions of corruption']"
   ]
  },
  {
   "cell_type": "code",
   "execution_count": 90,
   "id": "e067e937",
   "metadata": {
    "scrolled": true
   },
   "outputs": [
    {
     "data": {
      "application/vnd.plotly.v1+json": {
       "config": {
        "plotlyServerURL": "https://plot.ly"
       },
       "data": [
        {
         "customdata": [
          [
           0.463,
           52.493,
           0.382,
           -0.102,
           0.924
          ],
          [
           0.697,
           68.999,
           0.785,
           -0.03,
           0.901
          ],
          [
           0.802,
           66.005,
           0.48,
           -0.067,
           0.752
          ],
          [
           null,
           null,
           null,
           null,
           null
          ],
          [
           0.898,
           69,
           0.828,
           -0.182,
           0.834
          ],
          [
           0.94,
           73.9,
           0.914,
           0.159,
           0.442
          ],
          [
           0.934,
           73.3,
           0.908,
           0.042,
           0.481
          ],
          [
           0.862,
           69.495,
           0.925,
           0.089,
           0.722
          ],
          [
           0.693,
           64.8,
           0.877,
           -0.041,
           0.682
          ],
          [
           0.906,
           72.199,
           0.783,
           -0.153,
           0.646
          ],
          [
           0.489,
           54.713,
           0.757,
           -0.034,
           0.661
          ],
          [
           0.81,
           63.901,
           0.875,
           -0.077,
           0.839
          ],
          [
           0.87,
           68.098,
           0.706,
           0.113,
           0.931
          ],
          [
           0.784,
           59.269,
           0.824,
           -0.246,
           0.801
          ],
          [
           0.882,
           66.601,
           0.804,
           -0.071,
           0.756
          ],
          [
           0.931,
           67,
           0.788,
           -0.096,
           0.932
          ],
          [
           0.672,
           54.151,
           0.695,
           -0.009,
           0.748
          ],
          [
           0.49,
           53.4,
           0.626,
           -0.024,
           0.607
          ],
          [
           0.765,
           62,
           0.959,
           0.034,
           0.843
          ],
          [
           0.71,
           53.515,
           0.731,
           0.026,
           0.848
          ],
          [
           0.926,
           73.8,
           0.915,
           0.089,
           0.415
          ],
          [
           null,
           null,
           null,
           null,
           null
          ],
          [
           0.619,
           48.478,
           0.579,
           0.041,
           0.807
          ],
          [
           0.882,
           70,
           0.742,
           -0.044,
           0.83
          ],
          [
           0.811,
           69.593,
           0.904,
           -0.146,
           0.755
          ],
          [
           0.847,
           68.001,
           0.837,
           -0.135,
           0.841
          ],
          [
           0.626,
           57.349,
           0.548,
           0.082,
           0.781
          ],
          [
           null,
           null,
           null,
           null,
           null
          ],
          [
           0.636,
           58.221,
           0.695,
           -0.068,
           0.745
          ],
          [
           0.891,
           71.4,
           0.934,
           -0.126,
           0.809
          ],
          [
           0.644,
           50.114,
           0.741,
           -0.016,
           0.794
          ],
          [
           0.924,
           70.799,
           0.754,
           -0.118,
           0.939
          ],
          [
           null,
           null,
           null,
           null,
           null
          ],
          [
           0.947,
           70.807,
           0.858,
           -0.208,
           0.868
          ],
          [
           0.954,
           72.7,
           0.946,
           0.03,
           0.179
          ],
          [
           null,
           null,
           null,
           null,
           null
          ],
          [
           0.853,
           66.102,
           0.86,
           -0.133,
           0.714
          ],
          [
           0.821,
           68.8,
           0.842,
           -0.124,
           0.843
          ],
          [
           0.75,
           61.998,
           0.749,
           -0.182,
           0.795
          ],
          [
           0.762,
           66.402,
           0.888,
           -0.11,
           0.688
          ],
          [
           null,
           null,
           null,
           null,
           null
          ],
          [
           null,
           null,
           null,
           null,
           null
          ],
          [
           0.764,
           59,
           0.752,
           0.082,
           0.761
          ],
          [
           0.954,
           72,
           0.949,
           -0.098,
           0.186
          ],
          [
           0.942,
           74,
           0.822,
           -0.147,
           0.571
          ],
          [
           0.776,
           59.962,
           0.731,
           -0.2,
           0.84
          ],
          [
           0.69,
           55.16,
           0.697,
           0.424,
           0.746
          ],
          [
           0.903,
           72.5,
           0.875,
           0.011,
           0.46
          ],
          [
           0.727,
           57.586,
           0.807,
           0.123,
           0.848
          ],
          [
           0.823,
           72.6,
           0.582,
           -0.288,
           0.823
          ],
          [
           0.813,
           64.958,
           0.906,
           -0.038,
           0.775
          ],
          [
           0.639,
           55.008,
           0.697,
           0.095,
           0.766
          ],
          [
           null,
           null,
           null,
           null,
           null
          ],
          [
           0.54,
           55.7,
           0.593,
           0.422,
           0.721
          ],
          [
           0.812,
           67.3,
           0.857,
           0.081,
           0.809
          ],
          [
           0.836,
           76.82,
           0.717,
           0.067,
           0.403
          ],
          [
           0.943,
           68,
           0.755,
           -0.186,
           0.876
          ],
          [
           0.983,
           73,
           0.955,
           0.16,
           0.673
          ],
          [
           0.603,
           60.633,
           0.893,
           0.089,
           0.774
          ],
          [
           0.811,
           62.236,
           0.873,
           0.542,
           0.867
          ],
          [
           0.71,
           66.3,
           0.608,
           0.218,
           0.714
          ],
          [
           0.746,
           60.583,
           0.63,
           -0.053,
           0.875
          ],
          [
           0.947,
           72.4,
           0.879,
           0.077,
           0.363
          ],
          [
           0.939,
           73.503,
           0.8,
           0.031,
           0.753
          ],
          [
           0.88,
           73.8,
           0.693,
           -0.084,
           0.866
          ],
          [
           0.877,
           67.5,
           0.89,
           -0.137,
           0.884
          ],
          [
           0.884,
           75.1,
           0.796,
           -0.258,
           0.638
          ],
          [
           0.767,
           67,
           0.755,
           -0.167,
           0.705
          ],
          [
           0.688,
           60.704,
           0.779,
           0.287,
           0.825
          ],
          [
           0.799,
           73.9,
           0.672,
           -0.083,
           0.727
          ],
          [
           0.799,
           73.9,
           0.672,
           -0.083,
           0.727
          ],
          [
           0.843,
           66.9,
           0.867,
           -0.104,
           0.736
          ],
          [
           0.848,
           67.355,
           0.525,
           -0.073,
           0.898
          ],
          [
           0.787,
           48.7,
           0.715,
           -0.131,
           0.915
          ],
          [
           0.72,
           56.498,
           0.735,
           0.05,
           0.85
          ],
          [
           0.827,
           62.3,
           0.771,
           -0.087,
           0.667
          ],
          [
           0.686,
           59.305,
           0.552,
           -0.005,
           0.803
          ],
          [
           0.537,
           57.948,
           0.78,
           0.038,
           0.729
          ],
          [
           0.817,
           67.102,
           0.895,
           0.125,
           0.839
          ],
          [
           0.724,
           51.969,
           0.697,
           -0.036,
           0.827
          ],
          [
           0.795,
           57.161,
           0.561,
           -0.106,
           0.731
          ],
          [
           0.905,
           66.701,
           0.867,
           -0.054,
           0.789
          ],
          [
           0.831,
           68.597,
           0.862,
           -0.147,
           0.799
          ],
          [
           0.935,
           62.5,
           0.708,
           0.116,
           0.856
          ],
          [
           0.858,
           68.699,
           0.708,
           -0.034,
           0.812
          ],
          [
           0.56,
           66.208,
           0.774,
           -0.236,
           0.801
          ],
          [
           0.744,
           54.706,
           0.882,
           0.061,
           0.684
          ],
          [
           0.779,
           59.302,
           0.876,
           0.509,
           0.66
          ],
          [
           0.818,
           56.799,
           0.719,
           -0.149,
           0.847
          ],
          [
           0.774,
           64.233,
           0.782,
           0.152,
           0.727
          ],
          [
           0.942,
           72.4,
           0.913,
           0.175,
           0.338
          ],
          [
           0.948,
           73.4,
           0.929,
           0.134,
           0.242
          ],
          [
           0.864,
           67.657,
           0.836,
           0.02,
           0.664
          ],
          [
           0.641,
           53.78,
           0.806,
           0.018,
           0.693
          ],
          [
           0.74,
           50.102,
           0.737,
           0.037,
           0.878
          ],
          [
           0.954,
           73.3,
           0.96,
           0.093,
           0.27
          ],
          [
           null,
           null,
           null,
           null,
           null
          ],
          [
           0.651,
           58.709,
           0.726,
           0.098,
           0.787
          ],
          [
           0.896,
           69.652,
           0.872,
           -0.166,
           0.856
          ],
          [
           0.893,
           65.9,
           0.876,
           0.028,
           0.882
          ],
          [
           0.832,
           68.25,
           0.822,
           -0.154,
           0.891
          ],
          [
           0.83,
           62,
           0.917,
           -0.097,
           0.742
          ],
          [
           0.898,
           69.702,
           0.841,
           -0.165,
           0.735
          ],
          [
           0.879,
           72.6,
           0.892,
           -0.244,
           0.887
          ],
          [
           null,
           null,
           null,
           null,
           null
          ],
          [
           null,
           null,
           null,
           null,
           null
          ],
          [
           0.832,
           67.355,
           0.845,
           -0.219,
           0.938
          ],
          [
           0.552,
           61.4,
           0.897,
           0.061,
           0.167
          ],
          [
           null,
           null,
           null,
           null,
           null
          ],
          [
           0.891,
           66.603,
           0.877,
           -0.149,
           0.684
          ],
          [
           0.71,
           59.802,
           0.695,
           -0.046,
           0.801
          ],
          [
           0.873,
           68.6,
           0.778,
           0.002,
           0.835
          ],
          [
           0.63,
           51.651,
           0.717,
           0.084,
           0.866
          ],
          [
           0.915,
           76.953,
           0.927,
           -0.018,
           0.082
          ],
          [
           0.936,
           69.201,
           0.766,
           -0.124,
           0.911
          ],
          [
           0.948,
           71.4,
           0.949,
           -0.101,
           0.806
          ],
          [
           null,
           null,
           null,
           null,
           null
          ],
          [
           0.86,
           56.904,
           0.749,
           -0.067,
           0.86
          ],
          [
           0.932,
           74.7,
           0.761,
           -0.081,
           0.745
          ],
          [
           0.827,
           67.299,
           0.841,
           0.079,
           0.863
          ],
          [
           null,
           null,
           null,
           null,
           null
          ],
          [
           0.77,
           50.833,
           0.647,
           -0.185,
           0.708
          ],
          [
           0.934,
           72.7,
           0.945,
           0.086,
           0.237
          ],
          [
           0.942,
           74.4,
           0.919,
           0.025,
           0.292
          ],
          [
           null,
           null,
           null,
           null,
           null
          ],
          [
           0.898,
           69.6,
           0.784,
           -0.07,
           0.721
          ],
          [
           0.702,
           57.999,
           0.833,
           0.183,
           0.577
          ],
          [
           0.888,
           67.401,
           0.884,
           0.287,
           0.895
          ],
          [
           0.569,
           54.914,
           0.619,
           0.032,
           0.772
          ],
          [
           null,
           null,
           null,
           null,
           null
          ],
          [
           0.691,
           67.201,
           0.656,
           -0.201,
           0.87
          ],
          [
           0.822,
           67.199,
           0.576,
           -0.139,
           0.776
          ],
          [
           0.781,
           56.101,
           0.709,
           0.122,
           0.855
          ],
          [
           0.934,
           72.5,
           0.859,
           0.233,
           0.459
          ],
          [
           0.92,
           68.2,
           0.837,
           0.098,
           0.698
          ],
          [
           0.925,
           69.1,
           0.896,
           -0.092,
           0.59
          ],
          [
           0.861,
           66.7,
           0.615,
           -0.169,
           0.827
          ],
          [
           0.85,
           68.034,
           0.94,
           -0.098,
           0.796
          ],
          [
           0.826,
           62.25,
           0.653,
           -0.163,
           0.821
          ],
          [
           0.832,
           57.122,
           0.602,
           -0.147,
           0.8
          ],
          [
           0.708,
           55.809,
           0.782,
           0.061,
           0.823
          ],
          [
           0.75,
           56.201,
           0.677,
           -0.047,
           0.821
          ]
         ],
         "hovertemplate": "<b>%{hovertext}</b><br><br>Logged GDP per capita=%{x}<br>Ladder score=%{y}<br>Social support=%{customdata[0]}<br>Healthy life expectancy=%{customdata[1]}<br>Freedom to make life choices=%{customdata[2]}<br>Generosity=%{customdata[3]}<br>Perceptions of corruption=%{customdata[4]}<extra></extra>",
         "hovertext": [
          "Afghanistan",
          "Albania",
          "Algeria",
          null,
          "Argentina",
          "Australia",
          "Austria",
          "Bahrain",
          "Bangladesh",
          "Belgium",
          "Benin",
          "Bolivia, Plurinational State of",
          "Bosnia and Herzegovina",
          "Botswana",
          "Brazil",
          "Bulgaria",
          "Burkina Faso",
          "Burundi",
          "Cambodia",
          "Cameroon",
          "Canada",
          null,
          "Chad",
          "Chile",
          "China",
          "Colombia",
          "Comoros",
          null,
          "Congo",
          "Costa Rica",
          "Côte d'Ivoire",
          "Croatia",
          null,
          "Czechia",
          "Denmark",
          null,
          "Dominican Republic",
          "Ecuador",
          "Egypt",
          "El Salvador",
          null,
          null,
          "Ethiopia",
          "Finland",
          "France",
          "Gabon",
          "Gambia",
          "Germany",
          "Ghana",
          "Greece",
          "Guatemala",
          "Guinea",
          null,
          "Haiti",
          "Honduras",
          "Hong Kong",
          "Hungary",
          "Iceland",
          "India",
          "Indonesia",
          "Iran, Islamic Republic of",
          "Iraq",
          "Ireland",
          "Israel",
          "Italy",
          "Jamaica",
          "Japan",
          "Jordan",
          "Kenya",
          "Korea, Republic of",
          "Korea, Republic of",
          "Kuwait",
          "Lebanon",
          "Lesotho",
          "Liberia",
          "Libya",
          "Madagascar",
          "Malawi",
          "Malaysia",
          "Mali",
          "Mauritania",
          "Mauritius",
          "Mexico",
          "Mongolia",
          "Montenegro",
          "Morocco",
          "Mozambique",
          "Myanmar",
          "Namibia",
          "Nepal",
          "Netherlands",
          "New Zealand",
          "Nicaragua",
          "Niger",
          "Nigeria",
          "Norway",
          null,
          "Pakistan",
          "Panama",
          "Paraguay",
          "Peru",
          "Philippines",
          "Poland",
          "Portugal",
          null,
          null,
          "Romania",
          "Rwanda",
          null,
          "Saudi Arabia",
          "Senegal",
          "Serbia",
          "Sierra Leone",
          "Singapore",
          "Slovakia",
          "Slovenia",
          null,
          "South Africa",
          "Spain",
          "Sri Lanka",
          null,
          "Eswatini",
          "Sweden",
          "Switzerland",
          null,
          "Taiwan, Province of China",
          "Tanzania, United Republic of",
          "Thailand",
          "Togo",
          null,
          "Tunisia",
          "Turkey",
          "Uganda",
          "United Kingdom",
          "United States",
          "Uruguay",
          "Venezuela, Bolivarian Republic of",
          "Viet Nam",
          "Palestine, State of",
          "Yemen",
          "Zambia",
          "Zimbabwe"
         ],
         "legendgroup": "",
         "marker": {
          "color": "rgba(0,0,0,0)",
          "symbol": "circle"
         },
         "mode": "markers",
         "name": "",
         "orientation": "v",
         "showlegend": false,
         "type": "scatter",
         "x": [
          7.695,
          9.52,
          9.342,
          null,
          9.962,
          10.796,
          10.906,
          10.669,
          8.454,
          10.823,
          8.087,
          9.046,
          9.59,
          9.782,
          9.577,
          10.016,
          7.678,
          6.635,
          8.36,
          8.189,
          10.776,
          null,
          7.364,
          10.071,
          9.673,
          9.557,
          8.031,
          null,
          8.117,
          9.88,
          8.551,
          10.217,
          null,
          10.556,
          10.933,
          null,
          9.802,
          9.313,
          9.367,
          9.054,
          null,
          null,
          7.694,
          10.775,
          10.704,
          9.603,
          7.686,
          10.873,
          8.58,
          10.279,
          9.053,
          7.838,
          null,
          7.477,
          8.648,
          11,
          10.358,
          10.878,
          8.755,
          9.365,
          9.584,
          9.24,
          11.342,
          10.575,
          10.623,
          9.186,
          10.611,
          9.182,
          8.361,
          10.651,
          10.651,
          10.817,
          9.626,
          7.926,
          7.288,
          9.622,
          7.396,
          6.958,
          10.238,
          7.744,
          8.542,
          10.008,
          9.859,
          9.4,
          9.94,
          8.903,
          7.158,
          8.541,
          9.161,
          8.12,
          10.932,
          10.643,
          8.62,
          7.098,
          8.533,
          11.053,
          null,
          8.458,
          10.35,
          9.448,
          9.458,
          9.076,
          10.382,
          10.421,
          null,
          null,
          10.284,
          7.676,
          null,
          10.743,
          8.118,
          9.787,
          7.434,
          11.488,
          10.369,
          10.529,
          null,
          9.403,
          10.571,
          9.47,
          null,
          9.065,
          10.867,
          11.117,
          null,
          10.871,
          7.876,
          9.805,
          7.362,
          null,
          9.266,
          10.24,
          7.677,
          10.707,
          11.023,
          9.966,
          9.073,
          8.973,
          8.485,
          7.578,
          8.145,
          7.943
         ],
         "xaxis": "x",
         "y": [
          2.523,
          5.117,
          4.887,
          null,
          5.929,
          7.183,
          7.268,
          6.647,
          5.025,
          6.834,
          5.045,
          5.716,
          5.813,
          3.467,
          6.33,
          5.266,
          4.834,
          3.775,
          4.83,
          5.142,
          7.103,
          null,
          4.355,
          6.172,
          5.339,
          6.012,
          4.289,
          null,
          5.342,
          7.069,
          5.306,
          5.882,
          null,
          6.965,
          7.62,
          null,
          5.545,
          5.764,
          4.283,
          6.061,
          null,
          null,
          4.275,
          7.842,
          6.69,
          4.852,
          5.051,
          7.155,
          5.088,
          5.723,
          6.435,
          4.984,
          null,
          3.615,
          5.919,
          5.477,
          5.992,
          7.554,
          3.819,
          5.345,
          4.721,
          4.854,
          7.085,
          7.157,
          6.483,
          6.309,
          5.94,
          4.395,
          4.607,
          5.845,
          5.845,
          6.106,
          4.584,
          3.512,
          4.625,
          5.41,
          4.208,
          3.6,
          5.384,
          4.723,
          4.227,
          6.049,
          6.317,
          5.677,
          5.581,
          4.918,
          4.794,
          4.426,
          4.574,
          5.269,
          7.464,
          7.277,
          5.972,
          5.074,
          4.759,
          7.392,
          null,
          4.934,
          6.18,
          5.653,
          5.84,
          5.88,
          6.166,
          5.929,
          null,
          null,
          6.14,
          3.415,
          null,
          6.494,
          5.132,
          6.078,
          3.849,
          6.377,
          6.331,
          6.461,
          null,
          4.956,
          6.491,
          4.325,
          null,
          4.308,
          7.363,
          7.571,
          null,
          6.584,
          3.623,
          5.985,
          4.107,
          null,
          4.596,
          4.948,
          4.636,
          7.064,
          6.951,
          6.431,
          4.892,
          5.411,
          4.517,
          3.658,
          4.073,
          3.145
         ],
         "yaxis": "y"
        }
       ],
       "layout": {
        "height": 600,
        "images": [
         {
          "layer": "above",
          "opacity": 0.8,
          "sizex": 0.3760059164154413,
          "sizey": 0.3760059164154413,
          "sizing": "contain",
          "source": "https://raw.githubusercontent.com/matahombres/CSS-Country-Flags-Rounded/master/flags/AF.png",
          "x": 7.695,
          "xanchor": "center",
          "xref": "x",
          "y": 2.523,
          "yanchor": "middle",
          "yref": "y"
         },
         {
          "layer": "above",
          "opacity": 0.8,
          "sizex": 0.2667965846307805,
          "sizey": 0.2667965846307805,
          "sizing": "contain",
          "source": "https://raw.githubusercontent.com/matahombres/CSS-Country-Flags-Rounded/master/flags/AL.png",
          "x": 9.52,
          "xanchor": "center",
          "xref": "x",
          "y": 5.117,
          "yanchor": "middle",
          "yref": "y"
         },
         {
          "layer": "above",
          "opacity": 0.8,
          "sizex": 0.379686686363604,
          "sizey": 0.379686686363604,
          "sizing": "contain",
          "source": "https://raw.githubusercontent.com/matahombres/CSS-Country-Flags-Rounded/master/flags/DZ.png",
          "x": 9.342,
          "xanchor": "center",
          "xref": "x",
          "y": 4.887,
          "yanchor": "middle",
          "yref": "y"
         },
         {
          "layer": "above",
          "opacity": 0.8,
          "sizex": 0.31417693731059626,
          "sizey": 0.31417693731059626,
          "sizing": "contain",
          "source": "https://raw.githubusercontent.com/matahombres/CSS-Country-Flags-Rounded/master/flags/AO.png",
          "x": null,
          "xanchor": "center",
          "xref": "x",
          "y": null,
          "yanchor": "middle",
          "yref": "y"
         },
         {
          "layer": "above",
          "opacity": 0.8,
          "sizex": 0.3964305690885166,
          "sizey": 0.3964305690885166,
          "sizing": "contain",
          "source": "https://raw.githubusercontent.com/matahombres/CSS-Country-Flags-Rounded/master/flags/AR.png",
          "x": 9.962,
          "xanchor": "center",
          "xref": "x",
          "y": 5.929,
          "yanchor": "middle",
          "yref": "y"
         },
         {
          "layer": "above",
          "opacity": 0.8,
          "sizex": 0.34319025161940236,
          "sizey": 0.34319025161940236,
          "sizing": "contain",
          "source": "https://raw.githubusercontent.com/matahombres/CSS-Country-Flags-Rounded/master/flags/AU.png",
          "x": 10.796,
          "xanchor": "center",
          "xref": "x",
          "y": 7.183,
          "yanchor": "middle",
          "yref": "y"
         },
         {
          "layer": "above",
          "opacity": 0.8,
          "sizex": 0.294932458188903,
          "sizey": 0.294932458188903,
          "sizing": "contain",
          "source": "https://raw.githubusercontent.com/matahombres/CSS-Country-Flags-Rounded/master/flags/AT.png",
          "x": 10.906,
          "xanchor": "center",
          "xref": "x",
          "y": 7.268,
          "yanchor": "middle",
          "yref": "y"
         },
         {
          "layer": "above",
          "opacity": 0.8,
          "sizex": 0.2360477247056405,
          "sizey": 0.2360477247056405,
          "sizing": "contain",
          "source": "https://raw.githubusercontent.com/matahombres/CSS-Country-Flags-Rounded/master/flags/BH.png",
          "x": 10.669,
          "xanchor": "center",
          "xref": "x",
          "y": 6.647,
          "yanchor": "middle",
          "yref": "y"
         },
         {
          "layer": "above",
          "opacity": 0.8,
          "sizex": 0.5687766105075743,
          "sizey": 0.5687766105075743,
          "sizing": "contain",
          "source": "https://raw.githubusercontent.com/matahombres/CSS-Country-Flags-Rounded/master/flags/BD.png",
          "x": 8.454,
          "xanchor": "center",
          "xref": "x",
          "y": 5.025,
          "yanchor": "middle",
          "yref": "y"
         },
         {
          "layer": "above",
          "opacity": 0.8,
          "sizex": 0.3054226266670998,
          "sizey": 0.3054226266670998,
          "sizing": "contain",
          "source": "https://raw.githubusercontent.com/matahombres/CSS-Country-Flags-Rounded/master/flags/BE.png",
          "x": 10.823,
          "xanchor": "center",
          "xref": "x",
          "y": 6.834,
          "yanchor": "middle",
          "yref": "y"
         },
         {
          "layer": "above",
          "opacity": 0.8,
          "sizex": 0.2943124105005522,
          "sizey": 0.2943124105005522,
          "sizing": "contain",
          "source": "https://raw.githubusercontent.com/matahombres/CSS-Country-Flags-Rounded/master/flags/BJ.png",
          "x": 8.087,
          "xanchor": "center",
          "xref": "x",
          "y": 5.045,
          "yanchor": "middle",
          "yref": "y"
         },
         {
          "layer": "above",
          "opacity": 0.8,
          "sizex": 0.2994838144877258,
          "sizey": 0.2994838144877258,
          "sizing": "contain",
          "source": "https://raw.githubusercontent.com/matahombres/CSS-Country-Flags-Rounded/master/flags/BO.png",
          "x": 9.046,
          "xanchor": "center",
          "xref": "x",
          "y": 5.716,
          "yanchor": "middle",
          "yref": "y"
         },
         {
          "layer": "above",
          "opacity": 0.8,
          "sizex": 0.27367263940357667,
          "sizey": 0.27367263940357667,
          "sizing": "contain",
          "source": "https://raw.githubusercontent.com/matahombres/CSS-Country-Flags-Rounded/master/flags/BA.png",
          "x": 9.59,
          "xanchor": "center",
          "xref": "x",
          "y": 5.813,
          "yanchor": "middle",
          "yref": "y"
         },
         {
          "layer": "above",
          "opacity": 0.8,
          "sizex": 0.24881977403136452,
          "sizey": 0.24881977403136452,
          "sizing": "contain",
          "source": "https://raw.githubusercontent.com/matahombres/CSS-Country-Flags-Rounded/master/flags/BW.png",
          "x": 9.782,
          "xanchor": "center",
          "xref": "x",
          "y": 3.467,
          "yanchor": "middle",
          "yref": "y"
         },
         {
          "layer": "above",
          "opacity": 0.8,
          "sizex": 0.6130094102471125,
          "sizey": 0.6130094102471125,
          "sizing": "contain",
          "source": "https://raw.githubusercontent.com/matahombres/CSS-Country-Flags-Rounded/master/flags/BR.png",
          "x": 9.577,
          "xanchor": "center",
          "xref": "x",
          "y": 6.33,
          "yanchor": "middle",
          "yref": "y"
         },
         {
          "layer": "above",
          "opacity": 0.8,
          "sizex": 0.2903466959059647,
          "sizey": 0.2903466959059647,
          "sizing": "contain",
          "source": "https://raw.githubusercontent.com/matahombres/CSS-Country-Flags-Rounded/master/flags/BG.png",
          "x": 10.016,
          "xanchor": "center",
          "xref": "x",
          "y": 5.266,
          "yanchor": "middle",
          "yref": "y"
         },
         {
          "layer": "above",
          "opacity": 0.8,
          "sizex": 0.3217707574747835,
          "sizey": 0.3217707574747835,
          "sizing": "contain",
          "source": "https://raw.githubusercontent.com/matahombres/CSS-Country-Flags-Rounded/master/flags/BF.png",
          "x": 7.678,
          "xanchor": "center",
          "xref": "x",
          "y": 4.834,
          "yanchor": "middle",
          "yref": "y"
         },
         {
          "layer": "above",
          "opacity": 0.8,
          "sizex": 0.29589681873484214,
          "sizey": 0.29589681873484214,
          "sizing": "contain",
          "source": "https://raw.githubusercontent.com/matahombres/CSS-Country-Flags-Rounded/master/flags/BI.png",
          "x": 6.635,
          "xanchor": "center",
          "xref": "x",
          "y": 3.775,
          "yanchor": "middle",
          "yref": "y"
         },
         {
          "layer": "above",
          "opacity": 0.8,
          "sizex": 0.321020463117325,
          "sizey": 0.321020463117325,
          "sizing": "contain",
          "source": "https://raw.githubusercontent.com/matahombres/CSS-Country-Flags-Rounded/master/flags/KH.png",
          "x": 8.36,
          "xanchor": "center",
          "xref": "x",
          "y": 4.83,
          "yanchor": "middle",
          "yref": "y"
         },
         {
          "layer": "above",
          "opacity": 0.8,
          "sizex": 0.33405295614293684,
          "sizey": 0.33405295614293684,
          "sizing": "contain",
          "source": "https://raw.githubusercontent.com/matahombres/CSS-Country-Flags-Rounded/master/flags/CM.png",
          "x": 8.189,
          "xanchor": "center",
          "xref": "x",
          "y": 5.142,
          "yanchor": "middle",
          "yref": "y"
         },
         {
          "layer": "above",
          "opacity": 0.8,
          "sizex": 0.37983020971409276,
          "sizey": 0.37983020971409276,
          "sizing": "contain",
          "source": "https://raw.githubusercontent.com/matahombres/CSS-Country-Flags-Rounded/master/flags/CA.png",
          "x": 10.776,
          "xanchor": "center",
          "xref": "x",
          "y": 7.103,
          "yanchor": "middle",
          "yref": "y"
         },
         {
          "layer": "above",
          "opacity": 0.8,
          "sizex": 0.2724096507858243,
          "sizey": 0.2724096507858243,
          "sizing": "contain",
          "source": "https://raw.githubusercontent.com/matahombres/CSS-Country-Flags-Rounded/master/flags/CF.png",
          "x": null,
          "xanchor": "center",
          "xref": "x",
          "y": null,
          "yanchor": "middle",
          "yref": "y"
         },
         {
          "layer": "above",
          "opacity": 0.8,
          "sizex": 0.3047269938011849,
          "sizey": 0.3047269938011849,
          "sizing": "contain",
          "source": "https://raw.githubusercontent.com/matahombres/CSS-Country-Flags-Rounded/master/flags/TD.png",
          "x": 7.364,
          "xanchor": "center",
          "xref": "x",
          "y": 4.355,
          "yanchor": "middle",
          "yref": "y"
         },
         {
          "layer": "above",
          "opacity": 0.8,
          "sizex": 0.32906490669317195,
          "sizey": 0.32906490669317195,
          "sizing": "contain",
          "source": "https://raw.githubusercontent.com/matahombres/CSS-Country-Flags-Rounded/master/flags/CL.png",
          "x": 10.071,
          "xanchor": "center",
          "xref": "x",
          "y": 6.172,
          "yanchor": "middle",
          "yref": "y"
         },
         {
          "layer": "above",
          "opacity": 0.8,
          "sizex": 1.2691848900857143,
          "sizey": 1.2691848900857143,
          "sizing": "contain",
          "source": "https://raw.githubusercontent.com/matahombres/CSS-Country-Flags-Rounded/master/flags/CN.png",
          "x": 9.673,
          "xanchor": "center",
          "xref": "x",
          "y": 5.339,
          "yanchor": "middle",
          "yref": "y"
         },
         {
          "layer": "above",
          "opacity": 0.8,
          "sizex": 0.40522646550592395,
          "sizey": 0.40522646550592395,
          "sizing": "contain",
          "source": "https://raw.githubusercontent.com/matahombres/CSS-Country-Flags-Rounded/master/flags/CO.png",
          "x": 9.557,
          "xanchor": "center",
          "xref": "x",
          "y": 6.012,
          "yanchor": "middle",
          "yref": "y"
         },
         {
          "layer": "above",
          "opacity": 0.8,
          "sizex": 0.23608898556373326,
          "sizey": 0.23608898556373326,
          "sizing": "contain",
          "source": "https://raw.githubusercontent.com/matahombres/CSS-Country-Flags-Rounded/master/flags/KM.png",
          "x": 8.031,
          "xanchor": "center",
          "xref": "x",
          "y": 4.289,
          "yanchor": "middle",
          "yref": "y"
         },
         {
          "layer": "above",
          "opacity": 0.8,
          "sizex": 0.44563673984510477,
          "sizey": 0.44563673984510477,
          "sizing": "contain",
          "source": "https://raw.githubusercontent.com/matahombres/CSS-Country-Flags-Rounded/master/flags/CD.png",
          "x": null,
          "xanchor": "center",
          "xref": "x",
          "y": null,
          "yanchor": "middle",
          "yref": "y"
         },
         {
          "layer": "above",
          "opacity": 0.8,
          "sizex": 0.26831142854192125,
          "sizey": 0.26831142854192125,
          "sizing": "contain",
          "source": "https://raw.githubusercontent.com/matahombres/CSS-Country-Flags-Rounded/master/flags/CG.png",
          "x": 8.117,
          "xanchor": "center",
          "xref": "x",
          "y": 5.342,
          "yanchor": "middle",
          "yref": "y"
         },
         {
          "layer": "above",
          "opacity": 0.8,
          "sizex": 0.2707486561302528,
          "sizey": 0.2707486561302528,
          "sizing": "contain",
          "source": "https://raw.githubusercontent.com/matahombres/CSS-Country-Flags-Rounded/master/flags/CR.png",
          "x": 9.88,
          "xanchor": "center",
          "xref": "x",
          "y": 7.069,
          "yanchor": "middle",
          "yref": "y"
         },
         {
          "layer": "above",
          "opacity": 0.8,
          "sizex": 0.335145874580858,
          "sizey": 0.335145874580858,
          "sizing": "contain",
          "source": "https://raw.githubusercontent.com/matahombres/CSS-Country-Flags-Rounded/master/flags/CI.png",
          "x": 8.551,
          "xanchor": "center",
          "xref": "x",
          "y": 5.306,
          "yanchor": "middle",
          "yref": "y"
         },
         {
          "layer": "above",
          "opacity": 0.8,
          "sizex": 0.27326940622805895,
          "sizey": 0.27326940622805895,
          "sizing": "contain",
          "source": "https://raw.githubusercontent.com/matahombres/CSS-Country-Flags-Rounded/master/flags/HR.png",
          "x": 10.217,
          "xanchor": "center",
          "xref": "x",
          "y": 5.882,
          "yanchor": "middle",
          "yref": "y"
         },
         {
          "layer": "above",
          "opacity": 0.8,
          "sizex": 0.30994306945190264,
          "sizey": 0.30994306945190264,
          "sizing": "contain",
          "source": "https://raw.githubusercontent.com/matahombres/CSS-Country-Flags-Rounded/master/flags/CU.png",
          "x": null,
          "xanchor": "center",
          "xref": "x",
          "y": null,
          "yanchor": "middle",
          "yref": "y"
         },
         {
          "layer": "above",
          "opacity": 0.8,
          "sizex": 0.3046811845729747,
          "sizey": 0.3046811845729747,
          "sizing": "contain",
          "source": "https://raw.githubusercontent.com/matahombres/CSS-Country-Flags-Rounded/master/flags/CZ.png",
          "x": 10.556,
          "xanchor": "center",
          "xref": "x",
          "y": 6.965,
          "yanchor": "middle",
          "yref": "y"
         },
         {
          "layer": "above",
          "opacity": 0.8,
          "sizex": 0.279637924026962,
          "sizey": 0.279637924026962,
          "sizing": "contain",
          "source": "https://raw.githubusercontent.com/matahombres/CSS-Country-Flags-Rounded/master/flags/DK.png",
          "x": 10.933,
          "xanchor": "center",
          "xref": "x",
          "y": 7.62,
          "yanchor": "middle",
          "yref": "y"
         },
         {
          "layer": "above",
          "opacity": 0.8,
          "sizex": 0.23205084259071276,
          "sizey": 0.23205084259071276,
          "sizing": "contain",
          "source": "https://raw.githubusercontent.com/matahombres/CSS-Country-Flags-Rounded/master/flags/DJ.png",
          "x": null,
          "xanchor": "center",
          "xref": "x",
          "y": null,
          "yanchor": "middle",
          "yref": "y"
         },
         {
          "layer": "above",
          "opacity": 0.8,
          "sizex": 0.3004453121145457,
          "sizey": 0.3004453121145457,
          "sizing": "contain",
          "source": "https://raw.githubusercontent.com/matahombres/CSS-Country-Flags-Rounded/master/flags/DO.png",
          "x": 9.802,
          "xanchor": "center",
          "xref": "x",
          "y": 5.545,
          "yanchor": "middle",
          "yref": "y"
         },
         {
          "layer": "above",
          "opacity": 0.8,
          "sizex": 0.3195533736007177,
          "sizey": 0.3195533736007177,
          "sizing": "contain",
          "source": "https://raw.githubusercontent.com/matahombres/CSS-Country-Flags-Rounded/master/flags/EC.png",
          "x": 9.313,
          "xanchor": "center",
          "xref": "x",
          "y": 5.764,
          "yanchor": "middle",
          "yref": "y"
         },
         {
          "layer": "above",
          "opacity": 0.8,
          "sizex": 0.4724675934171418,
          "sizey": 0.4724675934171418,
          "sizing": "contain",
          "source": "https://raw.githubusercontent.com/matahombres/CSS-Country-Flags-Rounded/master/flags/EG.png",
          "x": 9.367,
          "xanchor": "center",
          "xref": "x",
          "y": 4.283,
          "yanchor": "middle",
          "yref": "y"
         },
         {
          "layer": "above",
          "opacity": 0.8,
          "sizex": 0.2882569639117492,
          "sizey": 0.2882569639117492,
          "sizing": "contain",
          "source": "https://raw.githubusercontent.com/matahombres/CSS-Country-Flags-Rounded/master/flags/SV.png",
          "x": 9.054,
          "xanchor": "center",
          "xref": "x",
          "y": 6.061,
          "yanchor": "middle",
          "yref": "y"
         },
         {
          "layer": "above",
          "opacity": 0.8,
          "sizex": 0.2331544362677694,
          "sizey": 0.2331544362677694,
          "sizing": "contain",
          "source": "https://raw.githubusercontent.com/matahombres/CSS-Country-Flags-Rounded/master/flags/GQ.png",
          "x": null,
          "xanchor": "center",
          "xref": "x",
          "y": null,
          "yanchor": "middle",
          "yref": "y"
         },
         {
          "layer": "above",
          "opacity": 0.8,
          "sizex": 0.27604616994994235,
          "sizey": 0.27604616994994235,
          "sizing": "contain",
          "source": "https://raw.githubusercontent.com/matahombres/CSS-Country-Flags-Rounded/master/flags/ER.png",
          "x": null,
          "xanchor": "center",
          "xref": "x",
          "y": null,
          "yanchor": "middle",
          "yref": "y"
         },
         {
          "layer": "above",
          "opacity": 0.8,
          "sizex": 0.46629471234714726,
          "sizey": 0.46629471234714726,
          "sizing": "contain",
          "source": "https://raw.githubusercontent.com/matahombres/CSS-Country-Flags-Rounded/master/flags/ET.png",
          "x": 7.694,
          "xanchor": "center",
          "xref": "x",
          "y": 4.275,
          "yanchor": "middle",
          "yref": "y"
         },
         {
          "layer": "above",
          "opacity": 0.8,
          "sizex": 0.2781923398376241,
          "sizey": 0.2781923398376241,
          "sizing": "contain",
          "source": "https://raw.githubusercontent.com/matahombres/CSS-Country-Flags-Rounded/master/flags/FI.png",
          "x": 10.775,
          "xanchor": "center",
          "xref": "x",
          "y": 7.842,
          "yanchor": "middle",
          "yref": "y"
         },
         {
          "layer": "above",
          "opacity": 0.8,
          "sizex": 0.4391646751873103,
          "sizey": 0.4391646751873103,
          "sizing": "contain",
          "source": "https://raw.githubusercontent.com/matahombres/CSS-Country-Flags-Rounded/master/flags/FR.png",
          "x": 10.704,
          "xanchor": "center",
          "xref": "x",
          "y": 6.69,
          "yanchor": "middle",
          "yref": "y"
         },
         {
          "layer": "above",
          "opacity": 0.8,
          "sizex": 0.2466613751219527,
          "sizey": 0.2466613751219527,
          "sizing": "contain",
          "source": "https://raw.githubusercontent.com/matahombres/CSS-Country-Flags-Rounded/master/flags/GA.png",
          "x": 9.603,
          "xanchor": "center",
          "xref": "x",
          "y": 4.852,
          "yanchor": "middle",
          "yref": "y"
         },
         {
          "layer": "above",
          "opacity": 0.8,
          "sizex": 0.24937558117580197,
          "sizey": 0.24937558117580197,
          "sizing": "contain",
          "source": "https://raw.githubusercontent.com/matahombres/CSS-Country-Flags-Rounded/master/flags/GM.png",
          "x": 7.686,
          "xanchor": "center",
          "xref": "x",
          "y": 5.051,
          "yanchor": "middle",
          "yref": "y"
         },
         {
          "layer": "above",
          "opacity": 0.8,
          "sizex": 0.4759175478568005,
          "sizey": 0.4759175478568005,
          "sizing": "contain",
          "source": "https://raw.githubusercontent.com/matahombres/CSS-Country-Flags-Rounded/master/flags/DE.png",
          "x": 10.873,
          "xanchor": "center",
          "xref": "x",
          "y": 7.155,
          "yanchor": "middle",
          "yref": "y"
         },
         {
          "layer": "above",
          "opacity": 0.8,
          "sizex": 0.350826672552679,
          "sizey": 0.350826672552679,
          "sizing": "contain",
          "source": "https://raw.githubusercontent.com/matahombres/CSS-Country-Flags-Rounded/master/flags/GH.png",
          "x": 8.58,
          "xanchor": "center",
          "xref": "x",
          "y": 5.088,
          "yanchor": "middle",
          "yref": "y"
         },
         {
          "layer": "above",
          "opacity": 0.8,
          "sizex": 0.30683082122790933,
          "sizey": 0.30683082122790933,
          "sizing": "contain",
          "source": "https://raw.githubusercontent.com/matahombres/CSS-Country-Flags-Rounded/master/flags/GR.png",
          "x": 10.279,
          "xanchor": "center",
          "xref": "x",
          "y": 5.723,
          "yanchor": "middle",
          "yref": "y"
         },
         {
          "layer": "above",
          "opacity": 0.8,
          "sizex": 0.3148049680065545,
          "sizey": 0.3148049680065545,
          "sizing": "contain",
          "source": "https://raw.githubusercontent.com/matahombres/CSS-Country-Flags-Rounded/master/flags/GT.png",
          "x": 9.053,
          "xanchor": "center",
          "xref": "x",
          "y": 6.435,
          "yanchor": "middle",
          "yref": "y"
         },
         {
          "layer": "above",
          "opacity": 0.8,
          "sizex": 0.3033931025059653,
          "sizey": 0.3033931025059653,
          "sizing": "contain",
          "source": "https://raw.githubusercontent.com/matahombres/CSS-Country-Flags-Rounded/master/flags/GN.png",
          "x": 7.838,
          "xanchor": "center",
          "xref": "x",
          "y": 4.984,
          "yanchor": "middle",
          "yref": "y"
         },
         {
          "layer": "above",
          "opacity": 0.8,
          "sizex": 0.24686811641178846,
          "sizey": 0.24686811641178846,
          "sizing": "contain",
          "source": "https://raw.githubusercontent.com/matahombres/CSS-Country-Flags-Rounded/master/flags/GW.png",
          "x": null,
          "xanchor": "center",
          "xref": "x",
          "y": null,
          "yanchor": "middle",
          "yref": "y"
         },
         {
          "layer": "above",
          "opacity": 0.8,
          "sizex": 0.2964595718371952,
          "sizey": 0.2964595718371952,
          "sizing": "contain",
          "source": "https://raw.githubusercontent.com/matahombres/CSS-Country-Flags-Rounded/master/flags/HT.png",
          "x": 7.477,
          "xanchor": "center",
          "xref": "x",
          "y": 3.615,
          "yanchor": "middle",
          "yref": "y"
         },
         {
          "layer": "above",
          "opacity": 0.8,
          "sizex": 0.29120790062430385,
          "sizey": 0.29120790062430385,
          "sizing": "contain",
          "source": "https://raw.githubusercontent.com/matahombres/CSS-Country-Flags-Rounded/master/flags/HN.png",
          "x": 8.648,
          "xanchor": "center",
          "xref": "x",
          "y": 5.919,
          "yanchor": "middle",
          "yref": "y"
         },
         {
          "layer": "above",
          "opacity": 0.8,
          "sizex": 0.2884817596872718,
          "sizey": 0.2884817596872718,
          "sizing": "contain",
          "source": "https://raw.githubusercontent.com/matahombres/CSS-Country-Flags-Rounded/master/flags/HK.png",
          "x": 11,
          "xanchor": "center",
          "xref": "x",
          "y": 5.477,
          "yanchor": "middle",
          "yref": "y"
         },
         {
          "layer": "above",
          "opacity": 0.8,
          "sizex": 0.3034313896647667,
          "sizey": 0.3034313896647667,
          "sizing": "contain",
          "source": "https://raw.githubusercontent.com/matahombres/CSS-Country-Flags-Rounded/master/flags/HU.png",
          "x": 10.358,
          "xanchor": "center",
          "xref": "x",
          "y": 5.992,
          "yanchor": "middle",
          "yref": "y"
         },
         {
          "layer": "above",
          "opacity": 0.8,
          "sizex": 0.22753476849056253,
          "sizey": 0.22753476849056253,
          "sizing": "contain",
          "source": "https://raw.githubusercontent.com/matahombres/CSS-Country-Flags-Rounded/master/flags/IS.png",
          "x": 10.878,
          "xanchor": "center",
          "xref": "x",
          "y": 7.554,
          "yanchor": "middle",
          "yref": "y"
         },
         {
          "layer": "above",
          "opacity": 0.8,
          "sizex": 1.182068574418344,
          "sizey": 1.182068574418344,
          "sizing": "contain",
          "source": "https://raw.githubusercontent.com/matahombres/CSS-Country-Flags-Rounded/master/flags/IN.png",
          "x": 8.755,
          "xanchor": "center",
          "xref": "x",
          "y": 3.819,
          "yanchor": "middle",
          "yref": "y"
         },
         {
          "layer": "above",
          "opacity": 0.8,
          "sizex": 0.6470004231157959,
          "sizey": 0.6470004231157959,
          "sizing": "contain",
          "source": "https://raw.githubusercontent.com/matahombres/CSS-Country-Flags-Rounded/master/flags/ID.png",
          "x": 9.365,
          "xanchor": "center",
          "xref": "x",
          "y": 5.345,
          "yanchor": "middle",
          "yref": "y"
         },
         {
          "layer": "above",
          "opacity": 0.8,
          "sizex": 0.45425928282168837,
          "sizey": 0.45425928282168837,
          "sizing": "contain",
          "source": "https://raw.githubusercontent.com/matahombres/CSS-Country-Flags-Rounded/master/flags/IR.png",
          "x": 9.584,
          "xanchor": "center",
          "xref": "x",
          "y": 4.721,
          "yanchor": "middle",
          "yref": "y"
         },
         {
          "layer": "above",
          "opacity": 0.8,
          "sizex": 0.3642652335790709,
          "sizey": 0.3642652335790709,
          "sizing": "contain",
          "source": "https://raw.githubusercontent.com/matahombres/CSS-Country-Flags-Rounded/master/flags/IQ.png",
          "x": 9.24,
          "xanchor": "center",
          "xref": "x",
          "y": 4.854,
          "yanchor": "middle",
          "yref": "y"
         },
         {
          "layer": "above",
          "opacity": 0.8,
          "sizex": 0.27057077342851094,
          "sizey": 0.27057077342851094,
          "sizing": "contain",
          "source": "https://raw.githubusercontent.com/matahombres/CSS-Country-Flags-Rounded/master/flags/IE.png",
          "x": 11.342,
          "xanchor": "center",
          "xref": "x",
          "y": 7.085,
          "yanchor": "middle",
          "yref": "y"
         },
         {
          "layer": "above",
          "opacity": 0.8,
          "sizex": 0.28536657198385246,
          "sizey": 0.28536657198385246,
          "sizing": "contain",
          "source": "https://raw.githubusercontent.com/matahombres/CSS-Country-Flags-Rounded/master/flags/IL.png",
          "x": 10.575,
          "xanchor": "center",
          "xref": "x",
          "y": 7.157,
          "yanchor": "middle",
          "yref": "y"
         },
         {
          "layer": "above",
          "opacity": 0.8,
          "sizex": 0.43362634679859724,
          "sizey": 0.43362634679859724,
          "sizing": "contain",
          "source": "https://raw.githubusercontent.com/matahombres/CSS-Country-Flags-Rounded/master/flags/IT.png",
          "x": 10.623,
          "xanchor": "center",
          "xref": "x",
          "y": 6.483,
          "yanchor": "middle",
          "yref": "y"
         },
         {
          "layer": "above",
          "opacity": 0.8,
          "sizex": 0.26009388525882876,
          "sizey": 0.26009388525882876,
          "sizing": "contain",
          "source": "https://raw.githubusercontent.com/matahombres/CSS-Country-Flags-Rounded/master/flags/JM.png",
          "x": 9.186,
          "xanchor": "center",
          "xref": "x",
          "y": 6.309,
          "yanchor": "middle",
          "yref": "y"
         },
         {
          "layer": "above",
          "opacity": 0.8,
          "sizex": 0.540362733044805,
          "sizey": 0.540362733044805,
          "sizing": "contain",
          "source": "https://raw.githubusercontent.com/matahombres/CSS-Country-Flags-Rounded/master/flags/JP.png",
          "x": 10.611,
          "xanchor": "center",
          "xref": "x",
          "y": 5.94,
          "yanchor": "middle",
          "yref": "y"
         },
         {
          "layer": "above",
          "opacity": 0.8,
          "sizex": 0.28318898090601297,
          "sizey": 0.28318898090601297,
          "sizing": "contain",
          "source": "https://raw.githubusercontent.com/matahombres/CSS-Country-Flags-Rounded/master/flags/JO.png",
          "x": 9.182,
          "xanchor": "center",
          "xref": "x",
          "y": 4.395,
          "yanchor": "middle",
          "yref": "y"
         },
         {
          "layer": "above",
          "opacity": 0.8,
          "sizex": 0.38533510572272983,
          "sizey": 0.38533510572272983,
          "sizing": "contain",
          "source": "https://raw.githubusercontent.com/matahombres/CSS-Country-Flags-Rounded/master/flags/KE.png",
          "x": 8.361,
          "xanchor": "center",
          "xref": "x",
          "y": 4.607,
          "yanchor": "middle",
          "yref": "y"
         },
         {
          "layer": "above",
          "opacity": 0.8,
          "sizex": 0.3521250340770133,
          "sizey": 0.3521250340770133,
          "sizing": "contain",
          "source": "https://raw.githubusercontent.com/matahombres/CSS-Country-Flags-Rounded/master/flags/KR.png",
          "x": 10.651,
          "xanchor": "center",
          "xref": "x",
          "y": 5.845,
          "yanchor": "middle",
          "yref": "y"
         },
         {
          "layer": "above",
          "opacity": 0.8,
          "sizex": 0.4155024922986187,
          "sizey": 0.4155024922986187,
          "sizing": "contain",
          "source": "https://raw.githubusercontent.com/matahombres/CSS-Country-Flags-Rounded/master/flags/KR.png",
          "x": 10.651,
          "xanchor": "center",
          "xref": "x",
          "y": 5.845,
          "yanchor": "middle",
          "yref": "y"
         },
         {
          "layer": "above",
          "opacity": 0.8,
          "sizex": 0.25763344960849455,
          "sizey": 0.25763344960849455,
          "sizing": "contain",
          "source": "https://raw.githubusercontent.com/matahombres/CSS-Country-Flags-Rounded/master/flags/KW.png",
          "x": 10.817,
          "xanchor": "center",
          "xref": "x",
          "y": 6.106,
          "yanchor": "middle",
          "yref": "y"
         },
         {
          "layer": "above",
          "opacity": 0.8,
          "sizex": 0.26920576730152806,
          "sizey": 0.26920576730152806,
          "sizing": "contain",
          "source": "https://raw.githubusercontent.com/matahombres/CSS-Country-Flags-Rounded/master/flags/LB.png",
          "x": 9.626,
          "xanchor": "center",
          "xref": "x",
          "y": 4.584,
          "yanchor": "middle",
          "yref": "y"
         },
         {
          "layer": "above",
          "opacity": 0.8,
          "sizex": 0.25285054248575806,
          "sizey": 0.25285054248575806,
          "sizing": "contain",
          "source": "https://raw.githubusercontent.com/matahombres/CSS-Country-Flags-Rounded/master/flags/LS.png",
          "x": 7.926,
          "xanchor": "center",
          "xref": "x",
          "y": 3.512,
          "yanchor": "middle",
          "yref": "y"
         },
         {
          "layer": "above",
          "opacity": 0.8,
          "sizex": 0.2635827573733278,
          "sizey": 0.2635827573733278,
          "sizing": "contain",
          "source": "https://raw.githubusercontent.com/matahombres/CSS-Country-Flags-Rounded/master/flags/LR.png",
          "x": 7.288,
          "xanchor": "center",
          "xref": "x",
          "y": 4.625,
          "yanchor": "middle",
          "yref": "y"
         },
         {
          "layer": "above",
          "opacity": 0.8,
          "sizex": 0.28309256000642885,
          "sizey": 0.28309256000642885,
          "sizing": "contain",
          "source": "https://raw.githubusercontent.com/matahombres/CSS-Country-Flags-Rounded/master/flags/LY.png",
          "x": 9.622,
          "xanchor": "center",
          "xref": "x",
          "y": 5.41,
          "yanchor": "middle",
          "yref": "y"
         },
         {
          "layer": "above",
          "opacity": 0.8,
          "sizex": 0.3390448263866693,
          "sizey": 0.3390448263866693,
          "sizing": "contain",
          "source": "https://raw.githubusercontent.com/matahombres/CSS-Country-Flags-Rounded/master/flags/MG.png",
          "x": 7.396,
          "xanchor": "center",
          "xref": "x",
          "y": 4.208,
          "yanchor": "middle",
          "yref": "y"
         },
         {
          "layer": "above",
          "opacity": 0.8,
          "sizex": 0.317857166978176,
          "sizey": 0.317857166978176,
          "sizing": "contain",
          "source": "https://raw.githubusercontent.com/matahombres/CSS-Country-Flags-Rounded/master/flags/MW.png",
          "x": 6.958,
          "xanchor": "center",
          "xref": "x",
          "y": 3.6,
          "yanchor": "middle",
          "yref": "y"
         },
         {
          "layer": "above",
          "opacity": 0.8,
          "sizex": 0.35663688062655674,
          "sizey": 0.35663688062655674,
          "sizing": "contain",
          "source": "https://raw.githubusercontent.com/matahombres/CSS-Country-Flags-Rounded/master/flags/MY.png",
          "x": 10.238,
          "xanchor": "center",
          "xref": "x",
          "y": 5.384,
          "yanchor": "middle",
          "yref": "y"
         },
         {
          "layer": "above",
          "opacity": 0.8,
          "sizex": 0.3125580901096294,
          "sizey": 0.3125580901096294,
          "sizing": "contain",
          "source": "https://raw.githubusercontent.com/matahombres/CSS-Country-Flags-Rounded/master/flags/ML.png",
          "x": 7.744,
          "xanchor": "center",
          "xref": "x",
          "y": 4.723,
          "yanchor": "middle",
          "yref": "y"
         },
         {
          "layer": "above",
          "opacity": 0.8,
          "sizex": 0.26419939631163264,
          "sizey": 0.26419939631163264,
          "sizing": "contain",
          "source": "https://raw.githubusercontent.com/matahombres/CSS-Country-Flags-Rounded/master/flags/MR.png",
          "x": 8.542,
          "xanchor": "center",
          "xref": "x",
          "y": 4.227,
          "yanchor": "middle",
          "yref": "y"
         },
         {
          "layer": "above",
          "opacity": 0.8,
          "sizex": 0.2441056030979321,
          "sizey": 0.2441056030979321,
          "sizing": "contain",
          "source": "https://raw.githubusercontent.com/matahombres/CSS-Country-Flags-Rounded/master/flags/MU.png",
          "x": 10.008,
          "xanchor": "center",
          "xref": "x",
          "y": 6.049,
          "yanchor": "middle",
          "yref": "y"
         },
         {
          "layer": "above",
          "opacity": 0.8,
          "sizex": 0.5151924873596124,
          "sizey": 0.5151924873596124,
          "sizing": "contain",
          "source": "https://raw.githubusercontent.com/matahombres/CSS-Country-Flags-Rounded/master/flags/MX.png",
          "x": 9.859,
          "xanchor": "center",
          "xref": "x",
          "y": 6.317,
          "yanchor": "middle",
          "yref": "y"
         },
         {
          "layer": "above",
          "opacity": 0.8,
          "sizex": 0.26090800884424153,
          "sizey": 0.26090800884424153,
          "sizing": "contain",
          "source": "https://raw.githubusercontent.com/matahombres/CSS-Country-Flags-Rounded/master/flags/MN.png",
          "x": 9.4,
          "xanchor": "center",
          "xref": "x",
          "y": 5.677,
          "yanchor": "middle",
          "yref": "y"
         },
         {
          "layer": "above",
          "opacity": 0.8,
          "sizex": 0.23563181199218317,
          "sizey": 0.23563181199218317,
          "sizing": "contain",
          "source": "https://raw.githubusercontent.com/matahombres/CSS-Country-Flags-Rounded/master/flags/ME.png",
          "x": 9.94,
          "xanchor": "center",
          "xref": "x",
          "y": 5.581,
          "yanchor": "middle",
          "yref": "y"
         },
         {
          "layer": "above",
          "opacity": 0.8,
          "sizex": 0.3807526792220224,
          "sizey": 0.3807526792220224,
          "sizing": "contain",
          "source": "https://raw.githubusercontent.com/matahombres/CSS-Country-Flags-Rounded/master/flags/MA.png",
          "x": 8.903,
          "xanchor": "center",
          "xref": "x",
          "y": 4.918,
          "yanchor": "middle",
          "yref": "y"
         },
         {
          "layer": "above",
          "opacity": 0.8,
          "sizex": 0.3416265028481157,
          "sizey": 0.3416265028481157,
          "sizing": "contain",
          "source": "https://raw.githubusercontent.com/matahombres/CSS-Country-Flags-Rounded/master/flags/MZ.png",
          "x": 7.158,
          "xanchor": "center",
          "xref": "x",
          "y": 4.794,
          "yanchor": "middle",
          "yref": "y"
         },
         {
          "layer": "above",
          "opacity": 0.8,
          "sizex": 0.41281728737639917,
          "sizey": 0.41281728737639917,
          "sizing": "contain",
          "source": "https://raw.githubusercontent.com/matahombres/CSS-Country-Flags-Rounded/master/flags/MM.png",
          "x": 8.541,
          "xanchor": "center",
          "xref": "x",
          "y": 4.426,
          "yanchor": "middle",
          "yref": "y"
         },
         {
          "layer": "above",
          "opacity": 0.8,
          "sizex": 0.2532838254343379,
          "sizey": 0.2532838254343379,
          "sizing": "contain",
          "source": "https://raw.githubusercontent.com/matahombres/CSS-Country-Flags-Rounded/master/flags/NA.png",
          "x": 9.161,
          "xanchor": "center",
          "xref": "x",
          "y": 4.574,
          "yanchor": "middle",
          "yref": "y"
         },
         {
          "layer": "above",
          "opacity": 0.8,
          "sizex": 0.36811063811499495,
          "sizey": 0.36811063811499495,
          "sizing": "contain",
          "source": "https://raw.githubusercontent.com/matahombres/CSS-Country-Flags-Rounded/master/flags/NP.png",
          "x": 8.12,
          "xanchor": "center",
          "xref": "x",
          "y": 5.269,
          "yanchor": "middle",
          "yref": "y"
         },
         {
          "layer": "above",
          "opacity": 0.8,
          "sizex": 0.33009205010351494,
          "sizey": 0.33009205010351494,
          "sizing": "contain",
          "source": "https://raw.githubusercontent.com/matahombres/CSS-Country-Flags-Rounded/master/flags/NL.png",
          "x": 10.932,
          "xanchor": "center",
          "xref": "x",
          "y": 7.464,
          "yanchor": "middle",
          "yref": "y"
         },
         {
          "layer": "above",
          "opacity": 0.8,
          "sizex": 0.27061877944823015,
          "sizey": 0.27061877944823015,
          "sizing": "contain",
          "source": "https://raw.githubusercontent.com/matahombres/CSS-Country-Flags-Rounded/master/flags/NZ.png",
          "x": 10.643,
          "xanchor": "center",
          "xref": "x",
          "y": 7.277,
          "yanchor": "middle",
          "yref": "y"
         },
         {
          "layer": "above",
          "opacity": 0.8,
          "sizex": 0.2809165162758724,
          "sizey": 0.2809165162758724,
          "sizing": "contain",
          "source": "https://raw.githubusercontent.com/matahombres/CSS-Country-Flags-Rounded/master/flags/NI.png",
          "x": 8.62,
          "xanchor": "center",
          "xref": "x",
          "y": 5.972,
          "yanchor": "middle",
          "yref": "y"
         },
         {
          "layer": "above",
          "opacity": 0.8,
          "sizex": 0.316118807589305,
          "sizey": 0.316118807589305,
          "sizing": "contain",
          "source": "https://raw.githubusercontent.com/matahombres/CSS-Country-Flags-Rounded/master/flags/NE.png",
          "x": 7.098,
          "xanchor": "center",
          "xref": "x",
          "y": 5.074,
          "yanchor": "middle",
          "yref": "y"
         },
         {
          "layer": "above",
          "opacity": 0.8,
          "sizex": 0.549977631371591,
          "sizey": 0.549977631371591,
          "sizing": "contain",
          "source": "https://raw.githubusercontent.com/matahombres/CSS-Country-Flags-Rounded/master/flags/NG.png",
          "x": 8.533,
          "xanchor": "center",
          "xref": "x",
          "y": 4.759,
          "yanchor": "middle",
          "yref": "y"
         },
         {
          "layer": "above",
          "opacity": 0.8,
          "sizex": 0.2741873870117301,
          "sizey": 0.2741873870117301,
          "sizing": "contain",
          "source": "https://raw.githubusercontent.com/matahombres/CSS-Country-Flags-Rounded/master/flags/NO.png",
          "x": 11.053,
          "xanchor": "center",
          "xref": "x",
          "y": 7.392,
          "yanchor": "middle",
          "yref": "y"
         },
         {
          "layer": "above",
          "opacity": 0.8,
          "sizex": 0.26367194823900053,
          "sizey": 0.26367194823900053,
          "sizing": "contain",
          "source": "https://raw.githubusercontent.com/matahombres/CSS-Country-Flags-Rounded/master/flags/OM.png",
          "x": null,
          "xanchor": "center",
          "xref": "x",
          "y": null,
          "yanchor": "middle",
          "yref": "y"
         },
         {
          "layer": "above",
          "opacity": 0.8,
          "sizex": 0.5904653750575618,
          "sizey": 0.5904653750575618,
          "sizing": "contain",
          "source": "https://raw.githubusercontent.com/matahombres/CSS-Country-Flags-Rounded/master/flags/PK.png",
          "x": 8.458,
          "xanchor": "center",
          "xref": "x",
          "y": 4.934,
          "yanchor": "middle",
          "yref": "y"
         },
         {
          "layer": "above",
          "opacity": 0.8,
          "sizex": 0.26397429711242754,
          "sizey": 0.26397429711242754,
          "sizing": "contain",
          "source": "https://raw.githubusercontent.com/matahombres/CSS-Country-Flags-Rounded/master/flags/PA.png",
          "x": 10.35,
          "xanchor": "center",
          "xref": "x",
          "y": 6.18,
          "yanchor": "middle",
          "yref": "y"
         },
         {
          "layer": "above",
          "opacity": 0.8,
          "sizex": 0.2867352482933109,
          "sizey": 0.2867352482933109,
          "sizing": "contain",
          "source": "https://raw.githubusercontent.com/matahombres/CSS-Country-Flags-Rounded/master/flags/PY.png",
          "x": 9.448,
          "xanchor": "center",
          "xref": "x",
          "y": 5.653,
          "yanchor": "middle",
          "yref": "y"
         },
         {
          "layer": "above",
          "opacity": 0.8,
          "sizex": 0.3674944327802718,
          "sizey": 0.3674944327802718,
          "sizing": "contain",
          "source": "https://raw.githubusercontent.com/matahombres/CSS-Country-Flags-Rounded/master/flags/PE.png",
          "x": 9.458,
          "xanchor": "center",
          "xref": "x",
          "y": 5.84,
          "yanchor": "middle",
          "yref": "y"
         },
         {
          "layer": "above",
          "opacity": 0.8,
          "sizex": 0.489488361939455,
          "sizey": 0.489488361939455,
          "sizing": "contain",
          "source": "https://raw.githubusercontent.com/matahombres/CSS-Country-Flags-Rounded/master/flags/PH.png",
          "x": 9.076,
          "xanchor": "center",
          "xref": "x",
          "y": 5.88,
          "yanchor": "middle",
          "yref": "y"
         },
         {
          "layer": "above",
          "opacity": 0.8,
          "sizex": 0.3922926122036874,
          "sizey": 0.3922926122036874,
          "sizing": "contain",
          "source": "https://raw.githubusercontent.com/matahombres/CSS-Country-Flags-Rounded/master/flags/PL.png",
          "x": 10.382,
          "xanchor": "center",
          "xref": "x",
          "y": 6.166,
          "yanchor": "middle",
          "yref": "y"
         },
         {
          "layer": "above",
          "opacity": 0.8,
          "sizex": 0.3065479896715771,
          "sizey": 0.3065479896715771,
          "sizing": "contain",
          "source": "https://raw.githubusercontent.com/matahombres/CSS-Country-Flags-Rounded/master/flags/PT.png",
          "x": 10.421,
          "xanchor": "center",
          "xref": "x",
          "y": 5.929,
          "yanchor": "middle",
          "yref": "y"
         },
         {
          "layer": "above",
          "opacity": 0.8,
          "sizex": 0.26936155944152407,
          "sizey": 0.26936155944152407,
          "sizing": "contain",
          "source": "https://raw.githubusercontent.com/matahombres/CSS-Country-Flags-Rounded/master/flags/PR.png",
          "x": null,
          "xanchor": "center",
          "xref": "x",
          "y": null,
          "yanchor": "middle",
          "yref": "y"
         },
         {
          "layer": "above",
          "opacity": 0.8,
          "sizex": 0.23755040510299896,
          "sizey": 0.23755040510299896,
          "sizing": "contain",
          "source": "https://raw.githubusercontent.com/matahombres/CSS-Country-Flags-Rounded/master/flags/RE.png",
          "x": null,
          "xanchor": "center",
          "xref": "x",
          "y": null,
          "yanchor": "middle",
          "yref": "y"
         },
         {
          "layer": "above",
          "opacity": 0.8,
          "sizex": 0.3489959547917727,
          "sizey": 0.3489959547917727,
          "sizing": "contain",
          "source": "https://raw.githubusercontent.com/matahombres/CSS-Country-Flags-Rounded/master/flags/RO.png",
          "x": 10.284,
          "xanchor": "center",
          "xref": "x",
          "y": 6.14,
          "yanchor": "middle",
          "yref": "y"
         },
         {
          "layer": "above",
          "opacity": 0.8,
          "sizex": 0.2982279406549259,
          "sizey": 0.2982279406549259,
          "sizing": "contain",
          "source": "https://raw.githubusercontent.com/matahombres/CSS-Country-Flags-Rounded/master/flags/RW.png",
          "x": 7.676,
          "xanchor": "center",
          "xref": "x",
          "y": 3.415,
          "yanchor": "middle",
          "yref": "y"
         },
         {
          "layer": "above",
          "opacity": 0.8,
          "sizex": 0.22454241935283709,
          "sizey": 0.22454241935283709,
          "sizing": "contain",
          "source": "https://raw.githubusercontent.com/matahombres/CSS-Country-Flags-Rounded/master/flags/ST.png",
          "x": null,
          "xanchor": "center",
          "xref": "x",
          "y": null,
          "yanchor": "middle",
          "yref": "y"
         },
         {
          "layer": "above",
          "opacity": 0.8,
          "sizex": 0.3645465649127451,
          "sizey": 0.3645465649127451,
          "sizing": "contain",
          "source": "https://raw.githubusercontent.com/matahombres/CSS-Country-Flags-Rounded/master/flags/SA.png",
          "x": 10.743,
          "xanchor": "center",
          "xref": "x",
          "y": 6.494,
          "yanchor": "middle",
          "yref": "y"
         },
         {
          "layer": "above",
          "opacity": 0.8,
          "sizex": 0.3135428325616162,
          "sizey": 0.3135428325616162,
          "sizing": "contain",
          "source": "https://raw.githubusercontent.com/matahombres/CSS-Country-Flags-Rounded/master/flags/SN.png",
          "x": 8.118,
          "xanchor": "center",
          "xref": "x",
          "y": 5.132,
          "yanchor": "middle",
          "yref": "y"
         },
         {
          "layer": "above",
          "opacity": 0.8,
          "sizex": 0.304323153133412,
          "sizey": 0.304323153133412,
          "sizing": "contain",
          "source": "https://raw.githubusercontent.com/matahombres/CSS-Country-Flags-Rounded/master/flags/RS.png",
          "x": 9.787,
          "xanchor": "center",
          "xref": "x",
          "y": 6.078,
          "yanchor": "middle",
          "yref": "y"
         },
         {
          "layer": "above",
          "opacity": 0.8,
          "sizex": 0.2837277719827658,
          "sizey": 0.2837277719827658,
          "sizing": "contain",
          "source": "https://raw.githubusercontent.com/matahombres/CSS-Country-Flags-Rounded/master/flags/SL.png",
          "x": 7.434,
          "xanchor": "center",
          "xref": "x",
          "y": 3.849,
          "yanchor": "middle",
          "yref": "y"
         },
         {
          "layer": "above",
          "opacity": 0.8,
          "sizex": 0.273678174617022,
          "sizey": 0.273678174617022,
          "sizing": "contain",
          "source": "https://raw.githubusercontent.com/matahombres/CSS-Country-Flags-Rounded/master/flags/SG.png",
          "x": 11.488,
          "xanchor": "center",
          "xref": "x",
          "y": 6.377,
          "yanchor": "middle",
          "yref": "y"
         },
         {
          "layer": "above",
          "opacity": 0.8,
          "sizex": 0.2795094010091125,
          "sizey": 0.2795094010091125,
          "sizing": "contain",
          "source": "https://raw.githubusercontent.com/matahombres/CSS-Country-Flags-Rounded/master/flags/SK.png",
          "x": 10.369,
          "xanchor": "center",
          "xref": "x",
          "y": 6.331,
          "yanchor": "middle",
          "yref": "y"
         },
         {
          "layer": "above",
          "opacity": 0.8,
          "sizex": 0.25281558560204237,
          "sizey": 0.25281558560204237,
          "sizing": "contain",
          "source": "https://raw.githubusercontent.com/matahombres/CSS-Country-Flags-Rounded/master/flags/SI.png",
          "x": 10.529,
          "xanchor": "center",
          "xref": "x",
          "y": 6.461,
          "yanchor": "middle",
          "yref": "y"
         },
         {
          "layer": "above",
          "opacity": 0.8,
          "sizex": 0.29948198676661986,
          "sizey": 0.29948198676661986,
          "sizing": "contain",
          "source": "https://raw.githubusercontent.com/matahombres/CSS-Country-Flags-Rounded/master/flags/SO.png",
          "x": null,
          "xanchor": "center",
          "xref": "x",
          "y": null,
          "yanchor": "middle",
          "yref": "y"
         },
         {
          "layer": "above",
          "opacity": 0.8,
          "sizex": 0.40472277400534507,
          "sizey": 0.40472277400534507,
          "sizing": "contain",
          "source": "https://raw.githubusercontent.com/matahombres/CSS-Country-Flags-Rounded/master/flags/ZA.png",
          "x": 9.403,
          "xanchor": "center",
          "xref": "x",
          "y": 4.956,
          "yanchor": "middle",
          "yref": "y"
         },
         {
          "layer": "above",
          "opacity": 0.8,
          "sizex": 0.3967657848814336,
          "sizey": 0.3967657848814336,
          "sizing": "contain",
          "source": "https://raw.githubusercontent.com/matahombres/CSS-Country-Flags-Rounded/master/flags/ES.png",
          "x": 10.571,
          "xanchor": "center",
          "xref": "x",
          "y": 6.491,
          "yanchor": "middle",
          "yref": "y"
         },
         {
          "layer": "above",
          "opacity": 0.8,
          "sizex": 0.34300992428820454,
          "sizey": 0.34300992428820454,
          "sizing": "contain",
          "source": "https://raw.githubusercontent.com/matahombres/CSS-Country-Flags-Rounded/master/flags/LK.png",
          "x": 9.47,
          "xanchor": "center",
          "xref": "x",
          "y": 4.325,
          "yanchor": "middle",
          "yref": "y"
         },
         {
          "layer": "above",
          "opacity": 0.8,
          "sizex": 0.4009427362213976,
          "sizey": 0.4009427362213976,
          "sizing": "contain",
          "source": "https://raw.githubusercontent.com/matahombres/CSS-Country-Flags-Rounded/master/flags/SD.png",
          "x": null,
          "xanchor": "center",
          "xref": "x",
          "y": null,
          "yanchor": "middle",
          "yref": "y"
         },
         {
          "layer": "above",
          "opacity": 0.8,
          "sizex": 0.24253362306424803,
          "sizey": 0.24253362306424803,
          "sizing": "contain",
          "source": "https://raw.githubusercontent.com/matahombres/CSS-Country-Flags-Rounded/master/flags/SZ.png",
          "x": 9.065,
          "xanchor": "center",
          "xref": "x",
          "y": 4.308,
          "yanchor": "middle",
          "yref": "y"
         },
         {
          "layer": "above",
          "opacity": 0.8,
          "sizex": 0.29905810147097206,
          "sizey": 0.29905810147097206,
          "sizing": "contain",
          "source": "https://raw.githubusercontent.com/matahombres/CSS-Country-Flags-Rounded/master/flags/SE.png",
          "x": 10.867,
          "xanchor": "center",
          "xref": "x",
          "y": 7.363,
          "yanchor": "middle",
          "yref": "y"
         },
         {
          "layer": "above",
          "opacity": 0.8,
          "sizex": 0.29158442444565313,
          "sizey": 0.29158442444565313,
          "sizing": "contain",
          "source": "https://raw.githubusercontent.com/matahombres/CSS-Country-Flags-Rounded/master/flags/CH.png",
          "x": 11.117,
          "xanchor": "center",
          "xref": "x",
          "y": 7.571,
          "yanchor": "middle",
          "yref": "y"
         },
         {
          "layer": "above",
          "opacity": 0.8,
          "sizex": 0.33953316396819744,
          "sizey": 0.33953316396819744,
          "sizing": "contain",
          "source": "https://raw.githubusercontent.com/matahombres/CSS-Country-Flags-Rounded/master/flags/SY.png",
          "x": null,
          "xanchor": "center",
          "xref": "x",
          "y": null,
          "yanchor": "middle",
          "yref": "y"
         },
         {
          "layer": "above",
          "opacity": 0.8,
          "sizex": 0.3517400706527833,
          "sizey": 0.3517400706527833,
          "sizing": "contain",
          "source": "https://raw.githubusercontent.com/matahombres/CSS-Country-Flags-Rounded/master/flags/TW.png",
          "x": 10.871,
          "xanchor": "center",
          "xref": "x",
          "y": 6.584,
          "yanchor": "middle",
          "yref": "y"
         },
         {
          "layer": "above",
          "opacity": 0.8,
          "sizex": 0.3914020523659982,
          "sizey": 0.3914020523659982,
          "sizing": "contain",
          "source": "https://raw.githubusercontent.com/matahombres/CSS-Country-Flags-Rounded/master/flags/TZ.png",
          "x": 7.876,
          "xanchor": "center",
          "xref": "x",
          "y": 3.623,
          "yanchor": "middle",
          "yref": "y"
         },
         {
          "layer": "above",
          "opacity": 0.8,
          "sizex": 0.44647118792604423,
          "sizey": 0.44647118792604423,
          "sizing": "contain",
          "source": "https://raw.githubusercontent.com/matahombres/CSS-Country-Flags-Rounded/master/flags/TH.png",
          "x": 9.805,
          "xanchor": "center",
          "xref": "x",
          "y": 5.985,
          "yanchor": "middle",
          "yref": "y"
         },
         {
          "layer": "above",
          "opacity": 0.8,
          "sizex": 0.2810766299615159,
          "sizey": 0.2810766299615159,
          "sizing": "contain",
          "source": "https://raw.githubusercontent.com/matahombres/CSS-Country-Flags-Rounded/master/flags/TG.png",
          "x": 7.362,
          "xanchor": "center",
          "xref": "x",
          "y": 4.107,
          "yanchor": "middle",
          "yref": "y"
         },
         {
          "layer": "above",
          "opacity": 0.8,
          "sizex": 0.2414693382855787,
          "sizey": 0.2414693382855787,
          "sizing": "contain",
          "source": "https://raw.githubusercontent.com/matahombres/CSS-Country-Flags-Rounded/master/flags/TT.png",
          "x": null,
          "xanchor": "center",
          "xref": "x",
          "y": null,
          "yanchor": "middle",
          "yref": "y"
         },
         {
          "layer": "above",
          "opacity": 0.8,
          "sizex": 0.30489682811979263,
          "sizey": 0.30489682811979263,
          "sizing": "contain",
          "source": "https://raw.githubusercontent.com/matahombres/CSS-Country-Flags-Rounded/master/flags/TN.png",
          "x": 9.266,
          "xanchor": "center",
          "xref": "x",
          "y": 4.596,
          "yanchor": "middle",
          "yref": "y"
         },
         {
          "layer": "above",
          "opacity": 0.8,
          "sizex": 0.45722069515601066,
          "sizey": 0.45722069515601066,
          "sizing": "contain",
          "source": "https://raw.githubusercontent.com/matahombres/CSS-Country-Flags-Rounded/master/flags/TR.png",
          "x": 10.24,
          "xanchor": "center",
          "xref": "x",
          "y": 4.948,
          "yanchor": "middle",
          "yref": "y"
         },
         {
          "layer": "above",
          "opacity": 0.8,
          "sizex": 0.3688365676053198,
          "sizey": 0.3688365676053198,
          "sizing": "contain",
          "source": "https://raw.githubusercontent.com/matahombres/CSS-Country-Flags-Rounded/master/flags/UG.png",
          "x": 7.677,
          "xanchor": "center",
          "xref": "x",
          "y": 4.636,
          "yanchor": "middle",
          "yref": "y"
         },
         {
          "layer": "above",
          "opacity": 0.8,
          "sizex": 0.4385906587111007,
          "sizey": 0.4385906587111007,
          "sizing": "contain",
          "source": "https://raw.githubusercontent.com/matahombres/CSS-Country-Flags-Rounded/master/flags/GB.png",
          "x": 10.707,
          "xanchor": "center",
          "xref": "x",
          "y": 7.064,
          "yanchor": "middle",
          "yref": "y"
         },
         {
          "layer": "above",
          "opacity": 0.8,
          "sizex": 0.7169568537645911,
          "sizey": 0.7169568537645911,
          "sizing": "contain",
          "source": "https://raw.githubusercontent.com/matahombres/CSS-Country-Flags-Rounded/master/flags/US.png",
          "x": 11.023,
          "xanchor": "center",
          "xref": "x",
          "y": 6.951,
          "yanchor": "middle",
          "yref": "y"
         },
         {
          "layer": "above",
          "opacity": 0.8,
          "sizex": 0.265609399203738,
          "sizey": 0.265609399203738,
          "sizing": "contain",
          "source": "https://raw.githubusercontent.com/matahombres/CSS-Country-Flags-Rounded/master/flags/UY.png",
          "x": 9.966,
          "xanchor": "center",
          "xref": "x",
          "y": 6.431,
          "yanchor": "middle",
          "yref": "y"
         },
         {
          "layer": "above",
          "opacity": 0.8,
          "sizex": 0.360283918150401,
          "sizey": 0.360283918150401,
          "sizing": "contain",
          "source": "https://raw.githubusercontent.com/matahombres/CSS-Country-Flags-Rounded/master/flags/VE.png",
          "x": 9.073,
          "xanchor": "center",
          "xref": "x",
          "y": 4.892,
          "yanchor": "middle",
          "yref": "y"
         },
         {
          "layer": "above",
          "opacity": 0.8,
          "sizex": 0.48046876620878826,
          "sizey": 0.48046876620878826,
          "sizing": "contain",
          "source": "https://raw.githubusercontent.com/matahombres/CSS-Country-Flags-Rounded/master/flags/VN.png",
          "x": 8.973,
          "xanchor": "center",
          "xref": "x",
          "y": 5.411,
          "yanchor": "middle",
          "yref": "y"
         },
         {
          "layer": "above",
          "opacity": 0.8,
          "sizex": 0.26991514968013164,
          "sizey": 0.26991514968013164,
          "sizing": "contain",
          "source": "https://raw.githubusercontent.com/matahombres/CSS-Country-Flags-Rounded/master/flags/PS.png",
          "x": 8.485,
          "xanchor": "center",
          "xref": "x",
          "y": 4.517,
          "yanchor": "middle",
          "yref": "y"
         },
         {
          "layer": "above",
          "opacity": 0.8,
          "sizex": 0.34879737417661083,
          "sizey": 0.34879737417661083,
          "sizing": "contain",
          "source": "https://raw.githubusercontent.com/matahombres/CSS-Country-Flags-Rounded/master/flags/YE.png",
          "x": 7.578,
          "xanchor": "center",
          "xref": "x",
          "y": 3.658,
          "yanchor": "middle",
          "yref": "y"
         },
         {
          "layer": "above",
          "opacity": 0.8,
          "sizex": 0.311351161452856,
          "sizey": 0.311351161452856,
          "sizing": "contain",
          "source": "https://raw.githubusercontent.com/matahombres/CSS-Country-Flags-Rounded/master/flags/ZM.png",
          "x": 8.145,
          "xanchor": "center",
          "xref": "x",
          "y": 4.073,
          "yanchor": "middle",
          "yref": "y"
         },
         {
          "layer": "above",
          "opacity": 0.8,
          "sizex": 0.31372416018107163,
          "sizey": 0.31372416018107163,
          "sizing": "contain",
          "source": "https://raw.githubusercontent.com/matahombres/CSS-Country-Flags-Rounded/master/flags/ZW.png",
          "x": 7.943,
          "xanchor": "center",
          "xref": "x",
          "y": 3.145,
          "yanchor": "middle",
          "yref": "y"
         }
        ],
        "legend": {
         "tracegroupgap": 0
        },
        "margin": {
         "t": 60
        },
        "plot_bgcolor": "#dfdfdf",
        "template": {
         "data": {
          "bar": [
           {
            "error_x": {
             "color": "#2a3f5f"
            },
            "error_y": {
             "color": "#2a3f5f"
            },
            "marker": {
             "line": {
              "color": "#E5ECF6",
              "width": 0.5
             },
             "pattern": {
              "fillmode": "overlay",
              "size": 10,
              "solidity": 0.2
             }
            },
            "type": "bar"
           }
          ],
          "barpolar": [
           {
            "marker": {
             "line": {
              "color": "#E5ECF6",
              "width": 0.5
             },
             "pattern": {
              "fillmode": "overlay",
              "size": 10,
              "solidity": 0.2
             }
            },
            "type": "barpolar"
           }
          ],
          "carpet": [
           {
            "aaxis": {
             "endlinecolor": "#2a3f5f",
             "gridcolor": "white",
             "linecolor": "white",
             "minorgridcolor": "white",
             "startlinecolor": "#2a3f5f"
            },
            "baxis": {
             "endlinecolor": "#2a3f5f",
             "gridcolor": "white",
             "linecolor": "white",
             "minorgridcolor": "white",
             "startlinecolor": "#2a3f5f"
            },
            "type": "carpet"
           }
          ],
          "choropleth": [
           {
            "colorbar": {
             "outlinewidth": 0,
             "ticks": ""
            },
            "type": "choropleth"
           }
          ],
          "contour": [
           {
            "colorbar": {
             "outlinewidth": 0,
             "ticks": ""
            },
            "colorscale": [
             [
              0,
              "#0d0887"
             ],
             [
              0.1111111111111111,
              "#46039f"
             ],
             [
              0.2222222222222222,
              "#7201a8"
             ],
             [
              0.3333333333333333,
              "#9c179e"
             ],
             [
              0.4444444444444444,
              "#bd3786"
             ],
             [
              0.5555555555555556,
              "#d8576b"
             ],
             [
              0.6666666666666666,
              "#ed7953"
             ],
             [
              0.7777777777777778,
              "#fb9f3a"
             ],
             [
              0.8888888888888888,
              "#fdca26"
             ],
             [
              1,
              "#f0f921"
             ]
            ],
            "type": "contour"
           }
          ],
          "contourcarpet": [
           {
            "colorbar": {
             "outlinewidth": 0,
             "ticks": ""
            },
            "type": "contourcarpet"
           }
          ],
          "heatmap": [
           {
            "colorbar": {
             "outlinewidth": 0,
             "ticks": ""
            },
            "colorscale": [
             [
              0,
              "#0d0887"
             ],
             [
              0.1111111111111111,
              "#46039f"
             ],
             [
              0.2222222222222222,
              "#7201a8"
             ],
             [
              0.3333333333333333,
              "#9c179e"
             ],
             [
              0.4444444444444444,
              "#bd3786"
             ],
             [
              0.5555555555555556,
              "#d8576b"
             ],
             [
              0.6666666666666666,
              "#ed7953"
             ],
             [
              0.7777777777777778,
              "#fb9f3a"
             ],
             [
              0.8888888888888888,
              "#fdca26"
             ],
             [
              1,
              "#f0f921"
             ]
            ],
            "type": "heatmap"
           }
          ],
          "heatmapgl": [
           {
            "colorbar": {
             "outlinewidth": 0,
             "ticks": ""
            },
            "colorscale": [
             [
              0,
              "#0d0887"
             ],
             [
              0.1111111111111111,
              "#46039f"
             ],
             [
              0.2222222222222222,
              "#7201a8"
             ],
             [
              0.3333333333333333,
              "#9c179e"
             ],
             [
              0.4444444444444444,
              "#bd3786"
             ],
             [
              0.5555555555555556,
              "#d8576b"
             ],
             [
              0.6666666666666666,
              "#ed7953"
             ],
             [
              0.7777777777777778,
              "#fb9f3a"
             ],
             [
              0.8888888888888888,
              "#fdca26"
             ],
             [
              1,
              "#f0f921"
             ]
            ],
            "type": "heatmapgl"
           }
          ],
          "histogram": [
           {
            "marker": {
             "pattern": {
              "fillmode": "overlay",
              "size": 10,
              "solidity": 0.2
             }
            },
            "type": "histogram"
           }
          ],
          "histogram2d": [
           {
            "colorbar": {
             "outlinewidth": 0,
             "ticks": ""
            },
            "colorscale": [
             [
              0,
              "#0d0887"
             ],
             [
              0.1111111111111111,
              "#46039f"
             ],
             [
              0.2222222222222222,
              "#7201a8"
             ],
             [
              0.3333333333333333,
              "#9c179e"
             ],
             [
              0.4444444444444444,
              "#bd3786"
             ],
             [
              0.5555555555555556,
              "#d8576b"
             ],
             [
              0.6666666666666666,
              "#ed7953"
             ],
             [
              0.7777777777777778,
              "#fb9f3a"
             ],
             [
              0.8888888888888888,
              "#fdca26"
             ],
             [
              1,
              "#f0f921"
             ]
            ],
            "type": "histogram2d"
           }
          ],
          "histogram2dcontour": [
           {
            "colorbar": {
             "outlinewidth": 0,
             "ticks": ""
            },
            "colorscale": [
             [
              0,
              "#0d0887"
             ],
             [
              0.1111111111111111,
              "#46039f"
             ],
             [
              0.2222222222222222,
              "#7201a8"
             ],
             [
              0.3333333333333333,
              "#9c179e"
             ],
             [
              0.4444444444444444,
              "#bd3786"
             ],
             [
              0.5555555555555556,
              "#d8576b"
             ],
             [
              0.6666666666666666,
              "#ed7953"
             ],
             [
              0.7777777777777778,
              "#fb9f3a"
             ],
             [
              0.8888888888888888,
              "#fdca26"
             ],
             [
              1,
              "#f0f921"
             ]
            ],
            "type": "histogram2dcontour"
           }
          ],
          "mesh3d": [
           {
            "colorbar": {
             "outlinewidth": 0,
             "ticks": ""
            },
            "type": "mesh3d"
           }
          ],
          "parcoords": [
           {
            "line": {
             "colorbar": {
              "outlinewidth": 0,
              "ticks": ""
             }
            },
            "type": "parcoords"
           }
          ],
          "pie": [
           {
            "automargin": true,
            "type": "pie"
           }
          ],
          "scatter": [
           {
            "fillpattern": {
             "fillmode": "overlay",
             "size": 10,
             "solidity": 0.2
            },
            "type": "scatter"
           }
          ],
          "scatter3d": [
           {
            "line": {
             "colorbar": {
              "outlinewidth": 0,
              "ticks": ""
             }
            },
            "marker": {
             "colorbar": {
              "outlinewidth": 0,
              "ticks": ""
             }
            },
            "type": "scatter3d"
           }
          ],
          "scattercarpet": [
           {
            "marker": {
             "colorbar": {
              "outlinewidth": 0,
              "ticks": ""
             }
            },
            "type": "scattercarpet"
           }
          ],
          "scattergeo": [
           {
            "marker": {
             "colorbar": {
              "outlinewidth": 0,
              "ticks": ""
             }
            },
            "type": "scattergeo"
           }
          ],
          "scattergl": [
           {
            "marker": {
             "colorbar": {
              "outlinewidth": 0,
              "ticks": ""
             }
            },
            "type": "scattergl"
           }
          ],
          "scattermapbox": [
           {
            "marker": {
             "colorbar": {
              "outlinewidth": 0,
              "ticks": ""
             }
            },
            "type": "scattermapbox"
           }
          ],
          "scatterpolar": [
           {
            "marker": {
             "colorbar": {
              "outlinewidth": 0,
              "ticks": ""
             }
            },
            "type": "scatterpolar"
           }
          ],
          "scatterpolargl": [
           {
            "marker": {
             "colorbar": {
              "outlinewidth": 0,
              "ticks": ""
             }
            },
            "type": "scatterpolargl"
           }
          ],
          "scatterternary": [
           {
            "marker": {
             "colorbar": {
              "outlinewidth": 0,
              "ticks": ""
             }
            },
            "type": "scatterternary"
           }
          ],
          "surface": [
           {
            "colorbar": {
             "outlinewidth": 0,
             "ticks": ""
            },
            "colorscale": [
             [
              0,
              "#0d0887"
             ],
             [
              0.1111111111111111,
              "#46039f"
             ],
             [
              0.2222222222222222,
              "#7201a8"
             ],
             [
              0.3333333333333333,
              "#9c179e"
             ],
             [
              0.4444444444444444,
              "#bd3786"
             ],
             [
              0.5555555555555556,
              "#d8576b"
             ],
             [
              0.6666666666666666,
              "#ed7953"
             ],
             [
              0.7777777777777778,
              "#fb9f3a"
             ],
             [
              0.8888888888888888,
              "#fdca26"
             ],
             [
              1,
              "#f0f921"
             ]
            ],
            "type": "surface"
           }
          ],
          "table": [
           {
            "cells": {
             "fill": {
              "color": "#EBF0F8"
             },
             "line": {
              "color": "white"
             }
            },
            "header": {
             "fill": {
              "color": "#C8D4E3"
             },
             "line": {
              "color": "white"
             }
            },
            "type": "table"
           }
          ]
         },
         "layout": {
          "annotationdefaults": {
           "arrowcolor": "#2a3f5f",
           "arrowhead": 0,
           "arrowwidth": 1
          },
          "autotypenumbers": "strict",
          "coloraxis": {
           "colorbar": {
            "outlinewidth": 0,
            "ticks": ""
           }
          },
          "colorscale": {
           "diverging": [
            [
             0,
             "#8e0152"
            ],
            [
             0.1,
             "#c51b7d"
            ],
            [
             0.2,
             "#de77ae"
            ],
            [
             0.3,
             "#f1b6da"
            ],
            [
             0.4,
             "#fde0ef"
            ],
            [
             0.5,
             "#f7f7f7"
            ],
            [
             0.6,
             "#e6f5d0"
            ],
            [
             0.7,
             "#b8e186"
            ],
            [
             0.8,
             "#7fbc41"
            ],
            [
             0.9,
             "#4d9221"
            ],
            [
             1,
             "#276419"
            ]
           ],
           "sequential": [
            [
             0,
             "#0d0887"
            ],
            [
             0.1111111111111111,
             "#46039f"
            ],
            [
             0.2222222222222222,
             "#7201a8"
            ],
            [
             0.3333333333333333,
             "#9c179e"
            ],
            [
             0.4444444444444444,
             "#bd3786"
            ],
            [
             0.5555555555555556,
             "#d8576b"
            ],
            [
             0.6666666666666666,
             "#ed7953"
            ],
            [
             0.7777777777777778,
             "#fb9f3a"
            ],
            [
             0.8888888888888888,
             "#fdca26"
            ],
            [
             1,
             "#f0f921"
            ]
           ],
           "sequentialminus": [
            [
             0,
             "#0d0887"
            ],
            [
             0.1111111111111111,
             "#46039f"
            ],
            [
             0.2222222222222222,
             "#7201a8"
            ],
            [
             0.3333333333333333,
             "#9c179e"
            ],
            [
             0.4444444444444444,
             "#bd3786"
            ],
            [
             0.5555555555555556,
             "#d8576b"
            ],
            [
             0.6666666666666666,
             "#ed7953"
            ],
            [
             0.7777777777777778,
             "#fb9f3a"
            ],
            [
             0.8888888888888888,
             "#fdca26"
            ],
            [
             1,
             "#f0f921"
            ]
           ]
          },
          "colorway": [
           "#636efa",
           "#EF553B",
           "#00cc96",
           "#ab63fa",
           "#FFA15A",
           "#19d3f3",
           "#FF6692",
           "#B6E880",
           "#FF97FF",
           "#FECB52"
          ],
          "font": {
           "color": "#2a3f5f"
          },
          "geo": {
           "bgcolor": "white",
           "lakecolor": "white",
           "landcolor": "#E5ECF6",
           "showlakes": true,
           "showland": true,
           "subunitcolor": "white"
          },
          "hoverlabel": {
           "align": "left"
          },
          "hovermode": "closest",
          "mapbox": {
           "style": "light"
          },
          "paper_bgcolor": "white",
          "plot_bgcolor": "#E5ECF6",
          "polar": {
           "angularaxis": {
            "gridcolor": "white",
            "linecolor": "white",
            "ticks": ""
           },
           "bgcolor": "#E5ECF6",
           "radialaxis": {
            "gridcolor": "white",
            "linecolor": "white",
            "ticks": ""
           }
          },
          "scene": {
           "xaxis": {
            "backgroundcolor": "#E5ECF6",
            "gridcolor": "white",
            "gridwidth": 2,
            "linecolor": "white",
            "showbackground": true,
            "ticks": "",
            "zerolinecolor": "white"
           },
           "yaxis": {
            "backgroundcolor": "#E5ECF6",
            "gridcolor": "white",
            "gridwidth": 2,
            "linecolor": "white",
            "showbackground": true,
            "ticks": "",
            "zerolinecolor": "white"
           },
           "zaxis": {
            "backgroundcolor": "#E5ECF6",
            "gridcolor": "white",
            "gridwidth": 2,
            "linecolor": "white",
            "showbackground": true,
            "ticks": "",
            "zerolinecolor": "white"
           }
          },
          "shapedefaults": {
           "line": {
            "color": "#2a3f5f"
           }
          },
          "ternary": {
           "aaxis": {
            "gridcolor": "white",
            "linecolor": "white",
            "ticks": ""
           },
           "baxis": {
            "gridcolor": "white",
            "linecolor": "white",
            "ticks": ""
           },
           "bgcolor": "#E5ECF6",
           "caxis": {
            "gridcolor": "white",
            "linecolor": "white",
            "ticks": ""
           }
          },
          "title": {
           "x": 0.05
          },
          "xaxis": {
           "automargin": true,
           "gridcolor": "white",
           "linecolor": "white",
           "ticks": "",
           "title": {
            "standoff": 15
           },
           "zerolinecolor": "white",
           "zerolinewidth": 2
          },
          "yaxis": {
           "automargin": true,
           "gridcolor": "white",
           "linecolor": "white",
           "ticks": "",
           "title": {
            "standoff": 15
           },
           "zerolinecolor": "white",
           "zerolinewidth": 2
          }
         }
        },
        "width": 1000,
        "xaxis": {
         "anchor": "y",
         "domain": [
          0,
          1
         ],
         "title": {
          "text": "Logged GDP per capita"
         }
        },
        "yaxis": {
         "anchor": "x",
         "domain": [
          0,
          1
         ],
         "range": [
          0,
          10
         ],
         "title": {
          "text": "Ladder score"
         }
        }
       }
      },
      "text/html": [
       "<div>                            <div id=\"7f5d7d25-dfb8-42c8-aa28-cb18f1cffc34\" class=\"plotly-graph-div\" style=\"height:600px; width:1000px;\"></div>            <script type=\"text/javascript\">                require([\"plotly\"], function(Plotly) {                    window.PLOTLYENV=window.PLOTLYENV || {};                                    if (document.getElementById(\"7f5d7d25-dfb8-42c8-aa28-cb18f1cffc34\")) {                    Plotly.newPlot(                        \"7f5d7d25-dfb8-42c8-aa28-cb18f1cffc34\",                        [{\"customdata\":[[0.463,52.493,0.382,-0.102,0.924],[0.697,68.999,0.785,-0.03,0.901],[0.802,66.005,0.48,-0.067,0.752],[null,null,null,null,null],[0.898,69.0,0.828,-0.182,0.834],[0.94,73.9,0.914,0.159,0.442],[0.934,73.3,0.908,0.042,0.481],[0.862,69.495,0.925,0.089,0.722],[0.693,64.8,0.877,-0.041,0.682],[0.906,72.199,0.783,-0.153,0.646],[0.489,54.713,0.757,-0.034,0.661],[0.81,63.901,0.875,-0.077,0.839],[0.87,68.098,0.706,0.113,0.931],[0.784,59.269,0.824,-0.246,0.801],[0.882,66.601,0.804,-0.071,0.756],[0.931,67.0,0.788,-0.096,0.932],[0.672,54.151,0.695,-0.009,0.748],[0.49,53.4,0.626,-0.024,0.607],[0.765,62.0,0.959,0.034,0.843],[0.71,53.515,0.731,0.026,0.848],[0.926,73.8,0.915,0.089,0.415],[null,null,null,null,null],[0.619,48.478,0.579,0.041,0.807],[0.882,70.0,0.742,-0.044,0.83],[0.811,69.593,0.904,-0.146,0.755],[0.847,68.001,0.837,-0.135,0.841],[0.626,57.349,0.548,0.082,0.781],[null,null,null,null,null],[0.636,58.221,0.695,-0.068,0.745],[0.891,71.4,0.934,-0.126,0.809],[0.644,50.114,0.741,-0.016,0.794],[0.924,70.799,0.754,-0.118,0.939],[null,null,null,null,null],[0.947,70.807,0.858,-0.208,0.868],[0.954,72.7,0.946,0.03,0.179],[null,null,null,null,null],[0.853,66.102,0.86,-0.133,0.714],[0.821,68.8,0.842,-0.124,0.843],[0.75,61.998,0.749,-0.182,0.795],[0.762,66.402,0.888,-0.11,0.688],[null,null,null,null,null],[null,null,null,null,null],[0.764,59.0,0.752,0.082,0.761],[0.954,72.0,0.949,-0.098,0.186],[0.942,74.0,0.822,-0.147,0.571],[0.776,59.962,0.731,-0.2,0.84],[0.69,55.16,0.697,0.424,0.746],[0.903,72.5,0.875,0.011,0.46],[0.727,57.586,0.807,0.123,0.848],[0.823,72.6,0.582,-0.288,0.823],[0.813,64.958,0.906,-0.038,0.775],[0.639,55.008,0.697,0.095,0.766],[null,null,null,null,null],[0.54,55.7,0.593,0.422,0.721],[0.812,67.3,0.857,0.081,0.809],[0.836,76.82,0.717,0.067,0.403],[0.943,68.0,0.755,-0.186,0.876],[0.983,73.0,0.955,0.16,0.673],[0.603,60.633,0.893,0.089,0.774],[0.811,62.236,0.873,0.542,0.867],[0.71,66.3,0.608,0.218,0.714],[0.746,60.583,0.63,-0.053,0.875],[0.947,72.4,0.879,0.077,0.363],[0.939,73.503,0.8,0.031,0.753],[0.88,73.8,0.693,-0.084,0.866],[0.877,67.5,0.89,-0.137,0.884],[0.884,75.1,0.796,-0.258,0.638],[0.767,67.0,0.755,-0.167,0.705],[0.688,60.704,0.779,0.287,0.825],[0.799,73.9,0.672,-0.083,0.727],[0.799,73.9,0.672,-0.083,0.727],[0.843,66.9,0.867,-0.104,0.736],[0.848,67.355,0.525,-0.073,0.898],[0.787,48.7,0.715,-0.131,0.915],[0.72,56.498,0.735,0.05,0.85],[0.827,62.3,0.771,-0.087,0.667],[0.686,59.305,0.552,-0.005,0.803],[0.537,57.948,0.78,0.038,0.729],[0.817,67.102,0.895,0.125,0.839],[0.724,51.969,0.697,-0.036,0.827],[0.795,57.161,0.561,-0.106,0.731],[0.905,66.701,0.867,-0.054,0.789],[0.831,68.597,0.862,-0.147,0.799],[0.935,62.5,0.708,0.116,0.856],[0.858,68.699,0.708,-0.034,0.812],[0.56,66.208,0.774,-0.236,0.801],[0.744,54.706,0.882,0.061,0.684],[0.779,59.302,0.876,0.509,0.66],[0.818,56.799,0.719,-0.149,0.847],[0.774,64.233,0.782,0.152,0.727],[0.942,72.4,0.913,0.175,0.338],[0.948,73.4,0.929,0.134,0.242],[0.864,67.657,0.836,0.02,0.664],[0.641,53.78,0.806,0.018,0.693],[0.74,50.102,0.737,0.037,0.878],[0.954,73.3,0.96,0.093,0.27],[null,null,null,null,null],[0.651,58.709,0.726,0.098,0.787],[0.896,69.652,0.872,-0.166,0.856],[0.893,65.9,0.876,0.028,0.882],[0.832,68.25,0.822,-0.154,0.891],[0.83,62.0,0.917,-0.097,0.742],[0.898,69.702,0.841,-0.165,0.735],[0.879,72.6,0.892,-0.244,0.887],[null,null,null,null,null],[null,null,null,null,null],[0.832,67.355,0.845,-0.219,0.938],[0.552,61.4,0.897,0.061,0.167],[null,null,null,null,null],[0.891,66.603,0.877,-0.149,0.684],[0.71,59.802,0.695,-0.046,0.801],[0.873,68.6,0.778,0.002,0.835],[0.63,51.651,0.717,0.084,0.866],[0.915,76.953,0.927,-0.018,0.082],[0.936,69.201,0.766,-0.124,0.911],[0.948,71.4,0.949,-0.101,0.806],[null,null,null,null,null],[0.86,56.904,0.749,-0.067,0.86],[0.932,74.7,0.761,-0.081,0.745],[0.827,67.299,0.841,0.079,0.863],[null,null,null,null,null],[0.77,50.833,0.647,-0.185,0.708],[0.934,72.7,0.945,0.086,0.237],[0.942,74.4,0.919,0.025,0.292],[null,null,null,null,null],[0.898,69.6,0.784,-0.07,0.721],[0.702,57.999,0.833,0.183,0.577],[0.888,67.401,0.884,0.287,0.895],[0.569,54.914,0.619,0.032,0.772],[null,null,null,null,null],[0.691,67.201,0.656,-0.201,0.87],[0.822,67.199,0.576,-0.139,0.776],[0.781,56.101,0.709,0.122,0.855],[0.934,72.5,0.859,0.233,0.459],[0.92,68.2,0.837,0.098,0.698],[0.925,69.1,0.896,-0.092,0.59],[0.861,66.7,0.615,-0.169,0.827],[0.85,68.034,0.94,-0.098,0.796],[0.826,62.25,0.653,-0.163,0.821],[0.832,57.122,0.602,-0.147,0.8],[0.708,55.809,0.782,0.061,0.823],[0.75,56.201,0.677,-0.047,0.821]],\"hovertemplate\":\"<b>%{hovertext}</b><br><br>Logged GDP per capita=%{x}<br>Ladder score=%{y}<br>Social support=%{customdata[0]}<br>Healthy life expectancy=%{customdata[1]}<br>Freedom to make life choices=%{customdata[2]}<br>Generosity=%{customdata[3]}<br>Perceptions of corruption=%{customdata[4]}<extra></extra>\",\"hovertext\":[\"Afghanistan\",\"Albania\",\"Algeria\",null,\"Argentina\",\"Australia\",\"Austria\",\"Bahrain\",\"Bangladesh\",\"Belgium\",\"Benin\",\"Bolivia, Plurinational State of\",\"Bosnia and Herzegovina\",\"Botswana\",\"Brazil\",\"Bulgaria\",\"Burkina Faso\",\"Burundi\",\"Cambodia\",\"Cameroon\",\"Canada\",null,\"Chad\",\"Chile\",\"China\",\"Colombia\",\"Comoros\",null,\"Congo\",\"Costa Rica\",\"C\\u00f4te d'Ivoire\",\"Croatia\",null,\"Czechia\",\"Denmark\",null,\"Dominican Republic\",\"Ecuador\",\"Egypt\",\"El Salvador\",null,null,\"Ethiopia\",\"Finland\",\"France\",\"Gabon\",\"Gambia\",\"Germany\",\"Ghana\",\"Greece\",\"Guatemala\",\"Guinea\",null,\"Haiti\",\"Honduras\",\"Hong Kong\",\"Hungary\",\"Iceland\",\"India\",\"Indonesia\",\"Iran, Islamic Republic of\",\"Iraq\",\"Ireland\",\"Israel\",\"Italy\",\"Jamaica\",\"Japan\",\"Jordan\",\"Kenya\",\"Korea, Republic of\",\"Korea, Republic of\",\"Kuwait\",\"Lebanon\",\"Lesotho\",\"Liberia\",\"Libya\",\"Madagascar\",\"Malawi\",\"Malaysia\",\"Mali\",\"Mauritania\",\"Mauritius\",\"Mexico\",\"Mongolia\",\"Montenegro\",\"Morocco\",\"Mozambique\",\"Myanmar\",\"Namibia\",\"Nepal\",\"Netherlands\",\"New Zealand\",\"Nicaragua\",\"Niger\",\"Nigeria\",\"Norway\",null,\"Pakistan\",\"Panama\",\"Paraguay\",\"Peru\",\"Philippines\",\"Poland\",\"Portugal\",null,null,\"Romania\",\"Rwanda\",null,\"Saudi Arabia\",\"Senegal\",\"Serbia\",\"Sierra Leone\",\"Singapore\",\"Slovakia\",\"Slovenia\",null,\"South Africa\",\"Spain\",\"Sri Lanka\",null,\"Eswatini\",\"Sweden\",\"Switzerland\",null,\"Taiwan, Province of China\",\"Tanzania, United Republic of\",\"Thailand\",\"Togo\",null,\"Tunisia\",\"Turkey\",\"Uganda\",\"United Kingdom\",\"United States\",\"Uruguay\",\"Venezuela, Bolivarian Republic of\",\"Viet Nam\",\"Palestine, State of\",\"Yemen\",\"Zambia\",\"Zimbabwe\"],\"legendgroup\":\"\",\"marker\":{\"color\":\"rgba(0,0,0,0)\",\"symbol\":\"circle\"},\"mode\":\"markers\",\"name\":\"\",\"orientation\":\"v\",\"showlegend\":false,\"x\":[7.695,9.52,9.342,null,9.962,10.796,10.906,10.669,8.454,10.823,8.087,9.046,9.59,9.782,9.577,10.016,7.678,6.635,8.36,8.189,10.776,null,7.364,10.071,9.673,9.557,8.031,null,8.117,9.88,8.551,10.217,null,10.556,10.933,null,9.802,9.313,9.367,9.054,null,null,7.694,10.775,10.704,9.603,7.686,10.873,8.58,10.279,9.053,7.838,null,7.477,8.648,11.0,10.358,10.878,8.755,9.365,9.584,9.24,11.342,10.575,10.623,9.186,10.611,9.182,8.361,10.651,10.651,10.817,9.626,7.926,7.288,9.622,7.396,6.958,10.238,7.744,8.542,10.008,9.859,9.4,9.94,8.903,7.158,8.541,9.161,8.12,10.932,10.643,8.62,7.098,8.533,11.053,null,8.458,10.35,9.448,9.458,9.076,10.382,10.421,null,null,10.284,7.676,null,10.743,8.118,9.787,7.434,11.488,10.369,10.529,null,9.403,10.571,9.47,null,9.065,10.867,11.117,null,10.871,7.876,9.805,7.362,null,9.266,10.24,7.677,10.707,11.023,9.966,9.073,8.973,8.485,7.578,8.145,7.943],\"xaxis\":\"x\",\"y\":[2.523,5.117,4.887,null,5.929,7.183,7.268,6.647,5.025,6.834,5.045,5.716,5.813,3.467,6.33,5.266,4.834,3.775,4.83,5.142,7.103,null,4.355,6.172,5.339,6.012,4.289,null,5.342,7.069,5.306,5.882,null,6.965,7.62,null,5.545,5.764,4.283,6.061,null,null,4.275,7.842,6.69,4.852,5.051,7.155,5.088,5.723,6.435,4.984,null,3.615,5.919,5.477,5.992,7.554,3.819,5.345,4.721,4.854,7.085,7.157,6.483,6.309,5.94,4.395,4.607,5.845,5.845,6.106,4.584,3.512,4.625,5.41,4.208,3.6,5.384,4.723,4.227,6.049,6.317,5.677,5.581,4.918,4.794,4.426,4.574,5.269,7.464,7.277,5.972,5.074,4.759,7.392,null,4.934,6.18,5.653,5.84,5.88,6.166,5.929,null,null,6.14,3.415,null,6.494,5.132,6.078,3.849,6.377,6.331,6.461,null,4.956,6.491,4.325,null,4.308,7.363,7.571,null,6.584,3.623,5.985,4.107,null,4.596,4.948,4.636,7.064,6.951,6.431,4.892,5.411,4.517,3.658,4.073,3.145],\"yaxis\":\"y\",\"type\":\"scatter\"}],                        {\"template\":{\"data\":{\"histogram2dcontour\":[{\"type\":\"histogram2dcontour\",\"colorbar\":{\"outlinewidth\":0,\"ticks\":\"\"},\"colorscale\":[[0.0,\"#0d0887\"],[0.1111111111111111,\"#46039f\"],[0.2222222222222222,\"#7201a8\"],[0.3333333333333333,\"#9c179e\"],[0.4444444444444444,\"#bd3786\"],[0.5555555555555556,\"#d8576b\"],[0.6666666666666666,\"#ed7953\"],[0.7777777777777778,\"#fb9f3a\"],[0.8888888888888888,\"#fdca26\"],[1.0,\"#f0f921\"]]}],\"choropleth\":[{\"type\":\"choropleth\",\"colorbar\":{\"outlinewidth\":0,\"ticks\":\"\"}}],\"histogram2d\":[{\"type\":\"histogram2d\",\"colorbar\":{\"outlinewidth\":0,\"ticks\":\"\"},\"colorscale\":[[0.0,\"#0d0887\"],[0.1111111111111111,\"#46039f\"],[0.2222222222222222,\"#7201a8\"],[0.3333333333333333,\"#9c179e\"],[0.4444444444444444,\"#bd3786\"],[0.5555555555555556,\"#d8576b\"],[0.6666666666666666,\"#ed7953\"],[0.7777777777777778,\"#fb9f3a\"],[0.8888888888888888,\"#fdca26\"],[1.0,\"#f0f921\"]]}],\"heatmap\":[{\"type\":\"heatmap\",\"colorbar\":{\"outlinewidth\":0,\"ticks\":\"\"},\"colorscale\":[[0.0,\"#0d0887\"],[0.1111111111111111,\"#46039f\"],[0.2222222222222222,\"#7201a8\"],[0.3333333333333333,\"#9c179e\"],[0.4444444444444444,\"#bd3786\"],[0.5555555555555556,\"#d8576b\"],[0.6666666666666666,\"#ed7953\"],[0.7777777777777778,\"#fb9f3a\"],[0.8888888888888888,\"#fdca26\"],[1.0,\"#f0f921\"]]}],\"heatmapgl\":[{\"type\":\"heatmapgl\",\"colorbar\":{\"outlinewidth\":0,\"ticks\":\"\"},\"colorscale\":[[0.0,\"#0d0887\"],[0.1111111111111111,\"#46039f\"],[0.2222222222222222,\"#7201a8\"],[0.3333333333333333,\"#9c179e\"],[0.4444444444444444,\"#bd3786\"],[0.5555555555555556,\"#d8576b\"],[0.6666666666666666,\"#ed7953\"],[0.7777777777777778,\"#fb9f3a\"],[0.8888888888888888,\"#fdca26\"],[1.0,\"#f0f921\"]]}],\"contourcarpet\":[{\"type\":\"contourcarpet\",\"colorbar\":{\"outlinewidth\":0,\"ticks\":\"\"}}],\"contour\":[{\"type\":\"contour\",\"colorbar\":{\"outlinewidth\":0,\"ticks\":\"\"},\"colorscale\":[[0.0,\"#0d0887\"],[0.1111111111111111,\"#46039f\"],[0.2222222222222222,\"#7201a8\"],[0.3333333333333333,\"#9c179e\"],[0.4444444444444444,\"#bd3786\"],[0.5555555555555556,\"#d8576b\"],[0.6666666666666666,\"#ed7953\"],[0.7777777777777778,\"#fb9f3a\"],[0.8888888888888888,\"#fdca26\"],[1.0,\"#f0f921\"]]}],\"surface\":[{\"type\":\"surface\",\"colorbar\":{\"outlinewidth\":0,\"ticks\":\"\"},\"colorscale\":[[0.0,\"#0d0887\"],[0.1111111111111111,\"#46039f\"],[0.2222222222222222,\"#7201a8\"],[0.3333333333333333,\"#9c179e\"],[0.4444444444444444,\"#bd3786\"],[0.5555555555555556,\"#d8576b\"],[0.6666666666666666,\"#ed7953\"],[0.7777777777777778,\"#fb9f3a\"],[0.8888888888888888,\"#fdca26\"],[1.0,\"#f0f921\"]]}],\"mesh3d\":[{\"type\":\"mesh3d\",\"colorbar\":{\"outlinewidth\":0,\"ticks\":\"\"}}],\"scatter\":[{\"fillpattern\":{\"fillmode\":\"overlay\",\"size\":10,\"solidity\":0.2},\"type\":\"scatter\"}],\"parcoords\":[{\"type\":\"parcoords\",\"line\":{\"colorbar\":{\"outlinewidth\":0,\"ticks\":\"\"}}}],\"scatterpolargl\":[{\"type\":\"scatterpolargl\",\"marker\":{\"colorbar\":{\"outlinewidth\":0,\"ticks\":\"\"}}}],\"bar\":[{\"error_x\":{\"color\":\"#2a3f5f\"},\"error_y\":{\"color\":\"#2a3f5f\"},\"marker\":{\"line\":{\"color\":\"#E5ECF6\",\"width\":0.5},\"pattern\":{\"fillmode\":\"overlay\",\"size\":10,\"solidity\":0.2}},\"type\":\"bar\"}],\"scattergeo\":[{\"type\":\"scattergeo\",\"marker\":{\"colorbar\":{\"outlinewidth\":0,\"ticks\":\"\"}}}],\"scatterpolar\":[{\"type\":\"scatterpolar\",\"marker\":{\"colorbar\":{\"outlinewidth\":0,\"ticks\":\"\"}}}],\"histogram\":[{\"marker\":{\"pattern\":{\"fillmode\":\"overlay\",\"size\":10,\"solidity\":0.2}},\"type\":\"histogram\"}],\"scattergl\":[{\"type\":\"scattergl\",\"marker\":{\"colorbar\":{\"outlinewidth\":0,\"ticks\":\"\"}}}],\"scatter3d\":[{\"type\":\"scatter3d\",\"line\":{\"colorbar\":{\"outlinewidth\":0,\"ticks\":\"\"}},\"marker\":{\"colorbar\":{\"outlinewidth\":0,\"ticks\":\"\"}}}],\"scattermapbox\":[{\"type\":\"scattermapbox\",\"marker\":{\"colorbar\":{\"outlinewidth\":0,\"ticks\":\"\"}}}],\"scatterternary\":[{\"type\":\"scatterternary\",\"marker\":{\"colorbar\":{\"outlinewidth\":0,\"ticks\":\"\"}}}],\"scattercarpet\":[{\"type\":\"scattercarpet\",\"marker\":{\"colorbar\":{\"outlinewidth\":0,\"ticks\":\"\"}}}],\"carpet\":[{\"aaxis\":{\"endlinecolor\":\"#2a3f5f\",\"gridcolor\":\"white\",\"linecolor\":\"white\",\"minorgridcolor\":\"white\",\"startlinecolor\":\"#2a3f5f\"},\"baxis\":{\"endlinecolor\":\"#2a3f5f\",\"gridcolor\":\"white\",\"linecolor\":\"white\",\"minorgridcolor\":\"white\",\"startlinecolor\":\"#2a3f5f\"},\"type\":\"carpet\"}],\"table\":[{\"cells\":{\"fill\":{\"color\":\"#EBF0F8\"},\"line\":{\"color\":\"white\"}},\"header\":{\"fill\":{\"color\":\"#C8D4E3\"},\"line\":{\"color\":\"white\"}},\"type\":\"table\"}],\"barpolar\":[{\"marker\":{\"line\":{\"color\":\"#E5ECF6\",\"width\":0.5},\"pattern\":{\"fillmode\":\"overlay\",\"size\":10,\"solidity\":0.2}},\"type\":\"barpolar\"}],\"pie\":[{\"automargin\":true,\"type\":\"pie\"}]},\"layout\":{\"autotypenumbers\":\"strict\",\"colorway\":[\"#636efa\",\"#EF553B\",\"#00cc96\",\"#ab63fa\",\"#FFA15A\",\"#19d3f3\",\"#FF6692\",\"#B6E880\",\"#FF97FF\",\"#FECB52\"],\"font\":{\"color\":\"#2a3f5f\"},\"hovermode\":\"closest\",\"hoverlabel\":{\"align\":\"left\"},\"paper_bgcolor\":\"white\",\"plot_bgcolor\":\"#E5ECF6\",\"polar\":{\"bgcolor\":\"#E5ECF6\",\"angularaxis\":{\"gridcolor\":\"white\",\"linecolor\":\"white\",\"ticks\":\"\"},\"radialaxis\":{\"gridcolor\":\"white\",\"linecolor\":\"white\",\"ticks\":\"\"}},\"ternary\":{\"bgcolor\":\"#E5ECF6\",\"aaxis\":{\"gridcolor\":\"white\",\"linecolor\":\"white\",\"ticks\":\"\"},\"baxis\":{\"gridcolor\":\"white\",\"linecolor\":\"white\",\"ticks\":\"\"},\"caxis\":{\"gridcolor\":\"white\",\"linecolor\":\"white\",\"ticks\":\"\"}},\"coloraxis\":{\"colorbar\":{\"outlinewidth\":0,\"ticks\":\"\"}},\"colorscale\":{\"sequential\":[[0.0,\"#0d0887\"],[0.1111111111111111,\"#46039f\"],[0.2222222222222222,\"#7201a8\"],[0.3333333333333333,\"#9c179e\"],[0.4444444444444444,\"#bd3786\"],[0.5555555555555556,\"#d8576b\"],[0.6666666666666666,\"#ed7953\"],[0.7777777777777778,\"#fb9f3a\"],[0.8888888888888888,\"#fdca26\"],[1.0,\"#f0f921\"]],\"sequentialminus\":[[0.0,\"#0d0887\"],[0.1111111111111111,\"#46039f\"],[0.2222222222222222,\"#7201a8\"],[0.3333333333333333,\"#9c179e\"],[0.4444444444444444,\"#bd3786\"],[0.5555555555555556,\"#d8576b\"],[0.6666666666666666,\"#ed7953\"],[0.7777777777777778,\"#fb9f3a\"],[0.8888888888888888,\"#fdca26\"],[1.0,\"#f0f921\"]],\"diverging\":[[0,\"#8e0152\"],[0.1,\"#c51b7d\"],[0.2,\"#de77ae\"],[0.3,\"#f1b6da\"],[0.4,\"#fde0ef\"],[0.5,\"#f7f7f7\"],[0.6,\"#e6f5d0\"],[0.7,\"#b8e186\"],[0.8,\"#7fbc41\"],[0.9,\"#4d9221\"],[1,\"#276419\"]]},\"xaxis\":{\"gridcolor\":\"white\",\"linecolor\":\"white\",\"ticks\":\"\",\"title\":{\"standoff\":15},\"zerolinecolor\":\"white\",\"automargin\":true,\"zerolinewidth\":2},\"yaxis\":{\"gridcolor\":\"white\",\"linecolor\":\"white\",\"ticks\":\"\",\"title\":{\"standoff\":15},\"zerolinecolor\":\"white\",\"automargin\":true,\"zerolinewidth\":2},\"scene\":{\"xaxis\":{\"backgroundcolor\":\"#E5ECF6\",\"gridcolor\":\"white\",\"linecolor\":\"white\",\"showbackground\":true,\"ticks\":\"\",\"zerolinecolor\":\"white\",\"gridwidth\":2},\"yaxis\":{\"backgroundcolor\":\"#E5ECF6\",\"gridcolor\":\"white\",\"linecolor\":\"white\",\"showbackground\":true,\"ticks\":\"\",\"zerolinecolor\":\"white\",\"gridwidth\":2},\"zaxis\":{\"backgroundcolor\":\"#E5ECF6\",\"gridcolor\":\"white\",\"linecolor\":\"white\",\"showbackground\":true,\"ticks\":\"\",\"zerolinecolor\":\"white\",\"gridwidth\":2}},\"shapedefaults\":{\"line\":{\"color\":\"#2a3f5f\"}},\"annotationdefaults\":{\"arrowcolor\":\"#2a3f5f\",\"arrowhead\":0,\"arrowwidth\":1},\"geo\":{\"bgcolor\":\"white\",\"landcolor\":\"#E5ECF6\",\"subunitcolor\":\"white\",\"showland\":true,\"showlakes\":true,\"lakecolor\":\"white\"},\"title\":{\"x\":0.05},\"mapbox\":{\"style\":\"light\"}}},\"xaxis\":{\"anchor\":\"y\",\"domain\":[0.0,1.0],\"title\":{\"text\":\"Logged GDP per capita\"}},\"yaxis\":{\"anchor\":\"x\",\"domain\":[0.0,1.0],\"title\":{\"text\":\"Ladder score\"},\"range\":[0,10]},\"legend\":{\"tracegroupgap\":0},\"margin\":{\"t\":60},\"images\":[{\"layer\":\"above\",\"opacity\":0.8,\"sizex\":0.3760059164154413,\"sizey\":0.3760059164154413,\"sizing\":\"contain\",\"source\":\"https://raw.githubusercontent.com/matahombres/CSS-Country-Flags-Rounded/master/flags/AF.png\",\"x\":7.695,\"xanchor\":\"center\",\"xref\":\"x\",\"y\":2.523,\"yanchor\":\"middle\",\"yref\":\"y\"},{\"layer\":\"above\",\"opacity\":0.8,\"sizex\":0.2667965846307805,\"sizey\":0.2667965846307805,\"sizing\":\"contain\",\"source\":\"https://raw.githubusercontent.com/matahombres/CSS-Country-Flags-Rounded/master/flags/AL.png\",\"x\":9.52,\"xanchor\":\"center\",\"xref\":\"x\",\"y\":5.117,\"yanchor\":\"middle\",\"yref\":\"y\"},{\"layer\":\"above\",\"opacity\":0.8,\"sizex\":0.379686686363604,\"sizey\":0.379686686363604,\"sizing\":\"contain\",\"source\":\"https://raw.githubusercontent.com/matahombres/CSS-Country-Flags-Rounded/master/flags/DZ.png\",\"x\":9.342,\"xanchor\":\"center\",\"xref\":\"x\",\"y\":4.887,\"yanchor\":\"middle\",\"yref\":\"y\"},{\"layer\":\"above\",\"opacity\":0.8,\"sizex\":0.31417693731059626,\"sizey\":0.31417693731059626,\"sizing\":\"contain\",\"source\":\"https://raw.githubusercontent.com/matahombres/CSS-Country-Flags-Rounded/master/flags/AO.png\",\"x\":null,\"xanchor\":\"center\",\"xref\":\"x\",\"y\":null,\"yanchor\":\"middle\",\"yref\":\"y\"},{\"layer\":\"above\",\"opacity\":0.8,\"sizex\":0.3964305690885166,\"sizey\":0.3964305690885166,\"sizing\":\"contain\",\"source\":\"https://raw.githubusercontent.com/matahombres/CSS-Country-Flags-Rounded/master/flags/AR.png\",\"x\":9.962,\"xanchor\":\"center\",\"xref\":\"x\",\"y\":5.929,\"yanchor\":\"middle\",\"yref\":\"y\"},{\"layer\":\"above\",\"opacity\":0.8,\"sizex\":0.34319025161940236,\"sizey\":0.34319025161940236,\"sizing\":\"contain\",\"source\":\"https://raw.githubusercontent.com/matahombres/CSS-Country-Flags-Rounded/master/flags/AU.png\",\"x\":10.796,\"xanchor\":\"center\",\"xref\":\"x\",\"y\":7.183,\"yanchor\":\"middle\",\"yref\":\"y\"},{\"layer\":\"above\",\"opacity\":0.8,\"sizex\":0.294932458188903,\"sizey\":0.294932458188903,\"sizing\":\"contain\",\"source\":\"https://raw.githubusercontent.com/matahombres/CSS-Country-Flags-Rounded/master/flags/AT.png\",\"x\":10.906,\"xanchor\":\"center\",\"xref\":\"x\",\"y\":7.268,\"yanchor\":\"middle\",\"yref\":\"y\"},{\"layer\":\"above\",\"opacity\":0.8,\"sizex\":0.2360477247056405,\"sizey\":0.2360477247056405,\"sizing\":\"contain\",\"source\":\"https://raw.githubusercontent.com/matahombres/CSS-Country-Flags-Rounded/master/flags/BH.png\",\"x\":10.669,\"xanchor\":\"center\",\"xref\":\"x\",\"y\":6.647,\"yanchor\":\"middle\",\"yref\":\"y\"},{\"layer\":\"above\",\"opacity\":0.8,\"sizex\":0.5687766105075743,\"sizey\":0.5687766105075743,\"sizing\":\"contain\",\"source\":\"https://raw.githubusercontent.com/matahombres/CSS-Country-Flags-Rounded/master/flags/BD.png\",\"x\":8.454,\"xanchor\":\"center\",\"xref\":\"x\",\"y\":5.025,\"yanchor\":\"middle\",\"yref\":\"y\"},{\"layer\":\"above\",\"opacity\":0.8,\"sizex\":0.3054226266670998,\"sizey\":0.3054226266670998,\"sizing\":\"contain\",\"source\":\"https://raw.githubusercontent.com/matahombres/CSS-Country-Flags-Rounded/master/flags/BE.png\",\"x\":10.823,\"xanchor\":\"center\",\"xref\":\"x\",\"y\":6.834,\"yanchor\":\"middle\",\"yref\":\"y\"},{\"layer\":\"above\",\"opacity\":0.8,\"sizex\":0.2943124105005522,\"sizey\":0.2943124105005522,\"sizing\":\"contain\",\"source\":\"https://raw.githubusercontent.com/matahombres/CSS-Country-Flags-Rounded/master/flags/BJ.png\",\"x\":8.087,\"xanchor\":\"center\",\"xref\":\"x\",\"y\":5.045,\"yanchor\":\"middle\",\"yref\":\"y\"},{\"layer\":\"above\",\"opacity\":0.8,\"sizex\":0.2994838144877258,\"sizey\":0.2994838144877258,\"sizing\":\"contain\",\"source\":\"https://raw.githubusercontent.com/matahombres/CSS-Country-Flags-Rounded/master/flags/BO.png\",\"x\":9.046,\"xanchor\":\"center\",\"xref\":\"x\",\"y\":5.716,\"yanchor\":\"middle\",\"yref\":\"y\"},{\"layer\":\"above\",\"opacity\":0.8,\"sizex\":0.27367263940357667,\"sizey\":0.27367263940357667,\"sizing\":\"contain\",\"source\":\"https://raw.githubusercontent.com/matahombres/CSS-Country-Flags-Rounded/master/flags/BA.png\",\"x\":9.59,\"xanchor\":\"center\",\"xref\":\"x\",\"y\":5.813,\"yanchor\":\"middle\",\"yref\":\"y\"},{\"layer\":\"above\",\"opacity\":0.8,\"sizex\":0.24881977403136452,\"sizey\":0.24881977403136452,\"sizing\":\"contain\",\"source\":\"https://raw.githubusercontent.com/matahombres/CSS-Country-Flags-Rounded/master/flags/BW.png\",\"x\":9.782,\"xanchor\":\"center\",\"xref\":\"x\",\"y\":3.467,\"yanchor\":\"middle\",\"yref\":\"y\"},{\"layer\":\"above\",\"opacity\":0.8,\"sizex\":0.6130094102471125,\"sizey\":0.6130094102471125,\"sizing\":\"contain\",\"source\":\"https://raw.githubusercontent.com/matahombres/CSS-Country-Flags-Rounded/master/flags/BR.png\",\"x\":9.577,\"xanchor\":\"center\",\"xref\":\"x\",\"y\":6.33,\"yanchor\":\"middle\",\"yref\":\"y\"},{\"layer\":\"above\",\"opacity\":0.8,\"sizex\":0.2903466959059647,\"sizey\":0.2903466959059647,\"sizing\":\"contain\",\"source\":\"https://raw.githubusercontent.com/matahombres/CSS-Country-Flags-Rounded/master/flags/BG.png\",\"x\":10.016,\"xanchor\":\"center\",\"xref\":\"x\",\"y\":5.266,\"yanchor\":\"middle\",\"yref\":\"y\"},{\"layer\":\"above\",\"opacity\":0.8,\"sizex\":0.3217707574747835,\"sizey\":0.3217707574747835,\"sizing\":\"contain\",\"source\":\"https://raw.githubusercontent.com/matahombres/CSS-Country-Flags-Rounded/master/flags/BF.png\",\"x\":7.678,\"xanchor\":\"center\",\"xref\":\"x\",\"y\":4.834,\"yanchor\":\"middle\",\"yref\":\"y\"},{\"layer\":\"above\",\"opacity\":0.8,\"sizex\":0.29589681873484214,\"sizey\":0.29589681873484214,\"sizing\":\"contain\",\"source\":\"https://raw.githubusercontent.com/matahombres/CSS-Country-Flags-Rounded/master/flags/BI.png\",\"x\":6.635,\"xanchor\":\"center\",\"xref\":\"x\",\"y\":3.775,\"yanchor\":\"middle\",\"yref\":\"y\"},{\"layer\":\"above\",\"opacity\":0.8,\"sizex\":0.321020463117325,\"sizey\":0.321020463117325,\"sizing\":\"contain\",\"source\":\"https://raw.githubusercontent.com/matahombres/CSS-Country-Flags-Rounded/master/flags/KH.png\",\"x\":8.36,\"xanchor\":\"center\",\"xref\":\"x\",\"y\":4.83,\"yanchor\":\"middle\",\"yref\":\"y\"},{\"layer\":\"above\",\"opacity\":0.8,\"sizex\":0.33405295614293684,\"sizey\":0.33405295614293684,\"sizing\":\"contain\",\"source\":\"https://raw.githubusercontent.com/matahombres/CSS-Country-Flags-Rounded/master/flags/CM.png\",\"x\":8.189,\"xanchor\":\"center\",\"xref\":\"x\",\"y\":5.142,\"yanchor\":\"middle\",\"yref\":\"y\"},{\"layer\":\"above\",\"opacity\":0.8,\"sizex\":0.37983020971409276,\"sizey\":0.37983020971409276,\"sizing\":\"contain\",\"source\":\"https://raw.githubusercontent.com/matahombres/CSS-Country-Flags-Rounded/master/flags/CA.png\",\"x\":10.776,\"xanchor\":\"center\",\"xref\":\"x\",\"y\":7.103,\"yanchor\":\"middle\",\"yref\":\"y\"},{\"layer\":\"above\",\"opacity\":0.8,\"sizex\":0.2724096507858243,\"sizey\":0.2724096507858243,\"sizing\":\"contain\",\"source\":\"https://raw.githubusercontent.com/matahombres/CSS-Country-Flags-Rounded/master/flags/CF.png\",\"x\":null,\"xanchor\":\"center\",\"xref\":\"x\",\"y\":null,\"yanchor\":\"middle\",\"yref\":\"y\"},{\"layer\":\"above\",\"opacity\":0.8,\"sizex\":0.3047269938011849,\"sizey\":0.3047269938011849,\"sizing\":\"contain\",\"source\":\"https://raw.githubusercontent.com/matahombres/CSS-Country-Flags-Rounded/master/flags/TD.png\",\"x\":7.364,\"xanchor\":\"center\",\"xref\":\"x\",\"y\":4.355,\"yanchor\":\"middle\",\"yref\":\"y\"},{\"layer\":\"above\",\"opacity\":0.8,\"sizex\":0.32906490669317195,\"sizey\":0.32906490669317195,\"sizing\":\"contain\",\"source\":\"https://raw.githubusercontent.com/matahombres/CSS-Country-Flags-Rounded/master/flags/CL.png\",\"x\":10.071,\"xanchor\":\"center\",\"xref\":\"x\",\"y\":6.172,\"yanchor\":\"middle\",\"yref\":\"y\"},{\"layer\":\"above\",\"opacity\":0.8,\"sizex\":1.2691848900857143,\"sizey\":1.2691848900857143,\"sizing\":\"contain\",\"source\":\"https://raw.githubusercontent.com/matahombres/CSS-Country-Flags-Rounded/master/flags/CN.png\",\"x\":9.673,\"xanchor\":\"center\",\"xref\":\"x\",\"y\":5.339,\"yanchor\":\"middle\",\"yref\":\"y\"},{\"layer\":\"above\",\"opacity\":0.8,\"sizex\":0.40522646550592395,\"sizey\":0.40522646550592395,\"sizing\":\"contain\",\"source\":\"https://raw.githubusercontent.com/matahombres/CSS-Country-Flags-Rounded/master/flags/CO.png\",\"x\":9.557,\"xanchor\":\"center\",\"xref\":\"x\",\"y\":6.012,\"yanchor\":\"middle\",\"yref\":\"y\"},{\"layer\":\"above\",\"opacity\":0.8,\"sizex\":0.23608898556373326,\"sizey\":0.23608898556373326,\"sizing\":\"contain\",\"source\":\"https://raw.githubusercontent.com/matahombres/CSS-Country-Flags-Rounded/master/flags/KM.png\",\"x\":8.031,\"xanchor\":\"center\",\"xref\":\"x\",\"y\":4.289,\"yanchor\":\"middle\",\"yref\":\"y\"},{\"layer\":\"above\",\"opacity\":0.8,\"sizex\":0.44563673984510477,\"sizey\":0.44563673984510477,\"sizing\":\"contain\",\"source\":\"https://raw.githubusercontent.com/matahombres/CSS-Country-Flags-Rounded/master/flags/CD.png\",\"x\":null,\"xanchor\":\"center\",\"xref\":\"x\",\"y\":null,\"yanchor\":\"middle\",\"yref\":\"y\"},{\"layer\":\"above\",\"opacity\":0.8,\"sizex\":0.26831142854192125,\"sizey\":0.26831142854192125,\"sizing\":\"contain\",\"source\":\"https://raw.githubusercontent.com/matahombres/CSS-Country-Flags-Rounded/master/flags/CG.png\",\"x\":8.117,\"xanchor\":\"center\",\"xref\":\"x\",\"y\":5.342,\"yanchor\":\"middle\",\"yref\":\"y\"},{\"layer\":\"above\",\"opacity\":0.8,\"sizex\":0.2707486561302528,\"sizey\":0.2707486561302528,\"sizing\":\"contain\",\"source\":\"https://raw.githubusercontent.com/matahombres/CSS-Country-Flags-Rounded/master/flags/CR.png\",\"x\":9.88,\"xanchor\":\"center\",\"xref\":\"x\",\"y\":7.069,\"yanchor\":\"middle\",\"yref\":\"y\"},{\"layer\":\"above\",\"opacity\":0.8,\"sizex\":0.335145874580858,\"sizey\":0.335145874580858,\"sizing\":\"contain\",\"source\":\"https://raw.githubusercontent.com/matahombres/CSS-Country-Flags-Rounded/master/flags/CI.png\",\"x\":8.551,\"xanchor\":\"center\",\"xref\":\"x\",\"y\":5.306,\"yanchor\":\"middle\",\"yref\":\"y\"},{\"layer\":\"above\",\"opacity\":0.8,\"sizex\":0.27326940622805895,\"sizey\":0.27326940622805895,\"sizing\":\"contain\",\"source\":\"https://raw.githubusercontent.com/matahombres/CSS-Country-Flags-Rounded/master/flags/HR.png\",\"x\":10.217,\"xanchor\":\"center\",\"xref\":\"x\",\"y\":5.882,\"yanchor\":\"middle\",\"yref\":\"y\"},{\"layer\":\"above\",\"opacity\":0.8,\"sizex\":0.30994306945190264,\"sizey\":0.30994306945190264,\"sizing\":\"contain\",\"source\":\"https://raw.githubusercontent.com/matahombres/CSS-Country-Flags-Rounded/master/flags/CU.png\",\"x\":null,\"xanchor\":\"center\",\"xref\":\"x\",\"y\":null,\"yanchor\":\"middle\",\"yref\":\"y\"},{\"layer\":\"above\",\"opacity\":0.8,\"sizex\":0.3046811845729747,\"sizey\":0.3046811845729747,\"sizing\":\"contain\",\"source\":\"https://raw.githubusercontent.com/matahombres/CSS-Country-Flags-Rounded/master/flags/CZ.png\",\"x\":10.556,\"xanchor\":\"center\",\"xref\":\"x\",\"y\":6.965,\"yanchor\":\"middle\",\"yref\":\"y\"},{\"layer\":\"above\",\"opacity\":0.8,\"sizex\":0.279637924026962,\"sizey\":0.279637924026962,\"sizing\":\"contain\",\"source\":\"https://raw.githubusercontent.com/matahombres/CSS-Country-Flags-Rounded/master/flags/DK.png\",\"x\":10.933,\"xanchor\":\"center\",\"xref\":\"x\",\"y\":7.62,\"yanchor\":\"middle\",\"yref\":\"y\"},{\"layer\":\"above\",\"opacity\":0.8,\"sizex\":0.23205084259071276,\"sizey\":0.23205084259071276,\"sizing\":\"contain\",\"source\":\"https://raw.githubusercontent.com/matahombres/CSS-Country-Flags-Rounded/master/flags/DJ.png\",\"x\":null,\"xanchor\":\"center\",\"xref\":\"x\",\"y\":null,\"yanchor\":\"middle\",\"yref\":\"y\"},{\"layer\":\"above\",\"opacity\":0.8,\"sizex\":0.3004453121145457,\"sizey\":0.3004453121145457,\"sizing\":\"contain\",\"source\":\"https://raw.githubusercontent.com/matahombres/CSS-Country-Flags-Rounded/master/flags/DO.png\",\"x\":9.802,\"xanchor\":\"center\",\"xref\":\"x\",\"y\":5.545,\"yanchor\":\"middle\",\"yref\":\"y\"},{\"layer\":\"above\",\"opacity\":0.8,\"sizex\":0.3195533736007177,\"sizey\":0.3195533736007177,\"sizing\":\"contain\",\"source\":\"https://raw.githubusercontent.com/matahombres/CSS-Country-Flags-Rounded/master/flags/EC.png\",\"x\":9.313,\"xanchor\":\"center\",\"xref\":\"x\",\"y\":5.764,\"yanchor\":\"middle\",\"yref\":\"y\"},{\"layer\":\"above\",\"opacity\":0.8,\"sizex\":0.4724675934171418,\"sizey\":0.4724675934171418,\"sizing\":\"contain\",\"source\":\"https://raw.githubusercontent.com/matahombres/CSS-Country-Flags-Rounded/master/flags/EG.png\",\"x\":9.367,\"xanchor\":\"center\",\"xref\":\"x\",\"y\":4.283,\"yanchor\":\"middle\",\"yref\":\"y\"},{\"layer\":\"above\",\"opacity\":0.8,\"sizex\":0.2882569639117492,\"sizey\":0.2882569639117492,\"sizing\":\"contain\",\"source\":\"https://raw.githubusercontent.com/matahombres/CSS-Country-Flags-Rounded/master/flags/SV.png\",\"x\":9.054,\"xanchor\":\"center\",\"xref\":\"x\",\"y\":6.061,\"yanchor\":\"middle\",\"yref\":\"y\"},{\"layer\":\"above\",\"opacity\":0.8,\"sizex\":0.2331544362677694,\"sizey\":0.2331544362677694,\"sizing\":\"contain\",\"source\":\"https://raw.githubusercontent.com/matahombres/CSS-Country-Flags-Rounded/master/flags/GQ.png\",\"x\":null,\"xanchor\":\"center\",\"xref\":\"x\",\"y\":null,\"yanchor\":\"middle\",\"yref\":\"y\"},{\"layer\":\"above\",\"opacity\":0.8,\"sizex\":0.27604616994994235,\"sizey\":0.27604616994994235,\"sizing\":\"contain\",\"source\":\"https://raw.githubusercontent.com/matahombres/CSS-Country-Flags-Rounded/master/flags/ER.png\",\"x\":null,\"xanchor\":\"center\",\"xref\":\"x\",\"y\":null,\"yanchor\":\"middle\",\"yref\":\"y\"},{\"layer\":\"above\",\"opacity\":0.8,\"sizex\":0.46629471234714726,\"sizey\":0.46629471234714726,\"sizing\":\"contain\",\"source\":\"https://raw.githubusercontent.com/matahombres/CSS-Country-Flags-Rounded/master/flags/ET.png\",\"x\":7.694,\"xanchor\":\"center\",\"xref\":\"x\",\"y\":4.275,\"yanchor\":\"middle\",\"yref\":\"y\"},{\"layer\":\"above\",\"opacity\":0.8,\"sizex\":0.2781923398376241,\"sizey\":0.2781923398376241,\"sizing\":\"contain\",\"source\":\"https://raw.githubusercontent.com/matahombres/CSS-Country-Flags-Rounded/master/flags/FI.png\",\"x\":10.775,\"xanchor\":\"center\",\"xref\":\"x\",\"y\":7.842,\"yanchor\":\"middle\",\"yref\":\"y\"},{\"layer\":\"above\",\"opacity\":0.8,\"sizex\":0.4391646751873103,\"sizey\":0.4391646751873103,\"sizing\":\"contain\",\"source\":\"https://raw.githubusercontent.com/matahombres/CSS-Country-Flags-Rounded/master/flags/FR.png\",\"x\":10.704,\"xanchor\":\"center\",\"xref\":\"x\",\"y\":6.69,\"yanchor\":\"middle\",\"yref\":\"y\"},{\"layer\":\"above\",\"opacity\":0.8,\"sizex\":0.2466613751219527,\"sizey\":0.2466613751219527,\"sizing\":\"contain\",\"source\":\"https://raw.githubusercontent.com/matahombres/CSS-Country-Flags-Rounded/master/flags/GA.png\",\"x\":9.603,\"xanchor\":\"center\",\"xref\":\"x\",\"y\":4.852,\"yanchor\":\"middle\",\"yref\":\"y\"},{\"layer\":\"above\",\"opacity\":0.8,\"sizex\":0.24937558117580197,\"sizey\":0.24937558117580197,\"sizing\":\"contain\",\"source\":\"https://raw.githubusercontent.com/matahombres/CSS-Country-Flags-Rounded/master/flags/GM.png\",\"x\":7.686,\"xanchor\":\"center\",\"xref\":\"x\",\"y\":5.051,\"yanchor\":\"middle\",\"yref\":\"y\"},{\"layer\":\"above\",\"opacity\":0.8,\"sizex\":0.4759175478568005,\"sizey\":0.4759175478568005,\"sizing\":\"contain\",\"source\":\"https://raw.githubusercontent.com/matahombres/CSS-Country-Flags-Rounded/master/flags/DE.png\",\"x\":10.873,\"xanchor\":\"center\",\"xref\":\"x\",\"y\":7.155,\"yanchor\":\"middle\",\"yref\":\"y\"},{\"layer\":\"above\",\"opacity\":0.8,\"sizex\":0.350826672552679,\"sizey\":0.350826672552679,\"sizing\":\"contain\",\"source\":\"https://raw.githubusercontent.com/matahombres/CSS-Country-Flags-Rounded/master/flags/GH.png\",\"x\":8.58,\"xanchor\":\"center\",\"xref\":\"x\",\"y\":5.088,\"yanchor\":\"middle\",\"yref\":\"y\"},{\"layer\":\"above\",\"opacity\":0.8,\"sizex\":0.30683082122790933,\"sizey\":0.30683082122790933,\"sizing\":\"contain\",\"source\":\"https://raw.githubusercontent.com/matahombres/CSS-Country-Flags-Rounded/master/flags/GR.png\",\"x\":10.279,\"xanchor\":\"center\",\"xref\":\"x\",\"y\":5.723,\"yanchor\":\"middle\",\"yref\":\"y\"},{\"layer\":\"above\",\"opacity\":0.8,\"sizex\":0.3148049680065545,\"sizey\":0.3148049680065545,\"sizing\":\"contain\",\"source\":\"https://raw.githubusercontent.com/matahombres/CSS-Country-Flags-Rounded/master/flags/GT.png\",\"x\":9.053,\"xanchor\":\"center\",\"xref\":\"x\",\"y\":6.435,\"yanchor\":\"middle\",\"yref\":\"y\"},{\"layer\":\"above\",\"opacity\":0.8,\"sizex\":0.3033931025059653,\"sizey\":0.3033931025059653,\"sizing\":\"contain\",\"source\":\"https://raw.githubusercontent.com/matahombres/CSS-Country-Flags-Rounded/master/flags/GN.png\",\"x\":7.838,\"xanchor\":\"center\",\"xref\":\"x\",\"y\":4.984,\"yanchor\":\"middle\",\"yref\":\"y\"},{\"layer\":\"above\",\"opacity\":0.8,\"sizex\":0.24686811641178846,\"sizey\":0.24686811641178846,\"sizing\":\"contain\",\"source\":\"https://raw.githubusercontent.com/matahombres/CSS-Country-Flags-Rounded/master/flags/GW.png\",\"x\":null,\"xanchor\":\"center\",\"xref\":\"x\",\"y\":null,\"yanchor\":\"middle\",\"yref\":\"y\"},{\"layer\":\"above\",\"opacity\":0.8,\"sizex\":0.2964595718371952,\"sizey\":0.2964595718371952,\"sizing\":\"contain\",\"source\":\"https://raw.githubusercontent.com/matahombres/CSS-Country-Flags-Rounded/master/flags/HT.png\",\"x\":7.477,\"xanchor\":\"center\",\"xref\":\"x\",\"y\":3.615,\"yanchor\":\"middle\",\"yref\":\"y\"},{\"layer\":\"above\",\"opacity\":0.8,\"sizex\":0.29120790062430385,\"sizey\":0.29120790062430385,\"sizing\":\"contain\",\"source\":\"https://raw.githubusercontent.com/matahombres/CSS-Country-Flags-Rounded/master/flags/HN.png\",\"x\":8.648,\"xanchor\":\"center\",\"xref\":\"x\",\"y\":5.919,\"yanchor\":\"middle\",\"yref\":\"y\"},{\"layer\":\"above\",\"opacity\":0.8,\"sizex\":0.2884817596872718,\"sizey\":0.2884817596872718,\"sizing\":\"contain\",\"source\":\"https://raw.githubusercontent.com/matahombres/CSS-Country-Flags-Rounded/master/flags/HK.png\",\"x\":11.0,\"xanchor\":\"center\",\"xref\":\"x\",\"y\":5.477,\"yanchor\":\"middle\",\"yref\":\"y\"},{\"layer\":\"above\",\"opacity\":0.8,\"sizex\":0.3034313896647667,\"sizey\":0.3034313896647667,\"sizing\":\"contain\",\"source\":\"https://raw.githubusercontent.com/matahombres/CSS-Country-Flags-Rounded/master/flags/HU.png\",\"x\":10.358,\"xanchor\":\"center\",\"xref\":\"x\",\"y\":5.992,\"yanchor\":\"middle\",\"yref\":\"y\"},{\"layer\":\"above\",\"opacity\":0.8,\"sizex\":0.22753476849056253,\"sizey\":0.22753476849056253,\"sizing\":\"contain\",\"source\":\"https://raw.githubusercontent.com/matahombres/CSS-Country-Flags-Rounded/master/flags/IS.png\",\"x\":10.878,\"xanchor\":\"center\",\"xref\":\"x\",\"y\":7.554,\"yanchor\":\"middle\",\"yref\":\"y\"},{\"layer\":\"above\",\"opacity\":0.8,\"sizex\":1.182068574418344,\"sizey\":1.182068574418344,\"sizing\":\"contain\",\"source\":\"https://raw.githubusercontent.com/matahombres/CSS-Country-Flags-Rounded/master/flags/IN.png\",\"x\":8.755,\"xanchor\":\"center\",\"xref\":\"x\",\"y\":3.819,\"yanchor\":\"middle\",\"yref\":\"y\"},{\"layer\":\"above\",\"opacity\":0.8,\"sizex\":0.6470004231157959,\"sizey\":0.6470004231157959,\"sizing\":\"contain\",\"source\":\"https://raw.githubusercontent.com/matahombres/CSS-Country-Flags-Rounded/master/flags/ID.png\",\"x\":9.365,\"xanchor\":\"center\",\"xref\":\"x\",\"y\":5.345,\"yanchor\":\"middle\",\"yref\":\"y\"},{\"layer\":\"above\",\"opacity\":0.8,\"sizex\":0.45425928282168837,\"sizey\":0.45425928282168837,\"sizing\":\"contain\",\"source\":\"https://raw.githubusercontent.com/matahombres/CSS-Country-Flags-Rounded/master/flags/IR.png\",\"x\":9.584,\"xanchor\":\"center\",\"xref\":\"x\",\"y\":4.721,\"yanchor\":\"middle\",\"yref\":\"y\"},{\"layer\":\"above\",\"opacity\":0.8,\"sizex\":0.3642652335790709,\"sizey\":0.3642652335790709,\"sizing\":\"contain\",\"source\":\"https://raw.githubusercontent.com/matahombres/CSS-Country-Flags-Rounded/master/flags/IQ.png\",\"x\":9.24,\"xanchor\":\"center\",\"xref\":\"x\",\"y\":4.854,\"yanchor\":\"middle\",\"yref\":\"y\"},{\"layer\":\"above\",\"opacity\":0.8,\"sizex\":0.27057077342851094,\"sizey\":0.27057077342851094,\"sizing\":\"contain\",\"source\":\"https://raw.githubusercontent.com/matahombres/CSS-Country-Flags-Rounded/master/flags/IE.png\",\"x\":11.342,\"xanchor\":\"center\",\"xref\":\"x\",\"y\":7.085,\"yanchor\":\"middle\",\"yref\":\"y\"},{\"layer\":\"above\",\"opacity\":0.8,\"sizex\":0.28536657198385246,\"sizey\":0.28536657198385246,\"sizing\":\"contain\",\"source\":\"https://raw.githubusercontent.com/matahombres/CSS-Country-Flags-Rounded/master/flags/IL.png\",\"x\":10.575,\"xanchor\":\"center\",\"xref\":\"x\",\"y\":7.157,\"yanchor\":\"middle\",\"yref\":\"y\"},{\"layer\":\"above\",\"opacity\":0.8,\"sizex\":0.43362634679859724,\"sizey\":0.43362634679859724,\"sizing\":\"contain\",\"source\":\"https://raw.githubusercontent.com/matahombres/CSS-Country-Flags-Rounded/master/flags/IT.png\",\"x\":10.623,\"xanchor\":\"center\",\"xref\":\"x\",\"y\":6.483,\"yanchor\":\"middle\",\"yref\":\"y\"},{\"layer\":\"above\",\"opacity\":0.8,\"sizex\":0.26009388525882876,\"sizey\":0.26009388525882876,\"sizing\":\"contain\",\"source\":\"https://raw.githubusercontent.com/matahombres/CSS-Country-Flags-Rounded/master/flags/JM.png\",\"x\":9.186,\"xanchor\":\"center\",\"xref\":\"x\",\"y\":6.309,\"yanchor\":\"middle\",\"yref\":\"y\"},{\"layer\":\"above\",\"opacity\":0.8,\"sizex\":0.540362733044805,\"sizey\":0.540362733044805,\"sizing\":\"contain\",\"source\":\"https://raw.githubusercontent.com/matahombres/CSS-Country-Flags-Rounded/master/flags/JP.png\",\"x\":10.611,\"xanchor\":\"center\",\"xref\":\"x\",\"y\":5.94,\"yanchor\":\"middle\",\"yref\":\"y\"},{\"layer\":\"above\",\"opacity\":0.8,\"sizex\":0.28318898090601297,\"sizey\":0.28318898090601297,\"sizing\":\"contain\",\"source\":\"https://raw.githubusercontent.com/matahombres/CSS-Country-Flags-Rounded/master/flags/JO.png\",\"x\":9.182,\"xanchor\":\"center\",\"xref\":\"x\",\"y\":4.395,\"yanchor\":\"middle\",\"yref\":\"y\"},{\"layer\":\"above\",\"opacity\":0.8,\"sizex\":0.38533510572272983,\"sizey\":0.38533510572272983,\"sizing\":\"contain\",\"source\":\"https://raw.githubusercontent.com/matahombres/CSS-Country-Flags-Rounded/master/flags/KE.png\",\"x\":8.361,\"xanchor\":\"center\",\"xref\":\"x\",\"y\":4.607,\"yanchor\":\"middle\",\"yref\":\"y\"},{\"layer\":\"above\",\"opacity\":0.8,\"sizex\":0.3521250340770133,\"sizey\":0.3521250340770133,\"sizing\":\"contain\",\"source\":\"https://raw.githubusercontent.com/matahombres/CSS-Country-Flags-Rounded/master/flags/KR.png\",\"x\":10.651,\"xanchor\":\"center\",\"xref\":\"x\",\"y\":5.845,\"yanchor\":\"middle\",\"yref\":\"y\"},{\"layer\":\"above\",\"opacity\":0.8,\"sizex\":0.4155024922986187,\"sizey\":0.4155024922986187,\"sizing\":\"contain\",\"source\":\"https://raw.githubusercontent.com/matahombres/CSS-Country-Flags-Rounded/master/flags/KR.png\",\"x\":10.651,\"xanchor\":\"center\",\"xref\":\"x\",\"y\":5.845,\"yanchor\":\"middle\",\"yref\":\"y\"},{\"layer\":\"above\",\"opacity\":0.8,\"sizex\":0.25763344960849455,\"sizey\":0.25763344960849455,\"sizing\":\"contain\",\"source\":\"https://raw.githubusercontent.com/matahombres/CSS-Country-Flags-Rounded/master/flags/KW.png\",\"x\":10.817,\"xanchor\":\"center\",\"xref\":\"x\",\"y\":6.106,\"yanchor\":\"middle\",\"yref\":\"y\"},{\"layer\":\"above\",\"opacity\":0.8,\"sizex\":0.26920576730152806,\"sizey\":0.26920576730152806,\"sizing\":\"contain\",\"source\":\"https://raw.githubusercontent.com/matahombres/CSS-Country-Flags-Rounded/master/flags/LB.png\",\"x\":9.626,\"xanchor\":\"center\",\"xref\":\"x\",\"y\":4.584,\"yanchor\":\"middle\",\"yref\":\"y\"},{\"layer\":\"above\",\"opacity\":0.8,\"sizex\":0.25285054248575806,\"sizey\":0.25285054248575806,\"sizing\":\"contain\",\"source\":\"https://raw.githubusercontent.com/matahombres/CSS-Country-Flags-Rounded/master/flags/LS.png\",\"x\":7.926,\"xanchor\":\"center\",\"xref\":\"x\",\"y\":3.512,\"yanchor\":\"middle\",\"yref\":\"y\"},{\"layer\":\"above\",\"opacity\":0.8,\"sizex\":0.2635827573733278,\"sizey\":0.2635827573733278,\"sizing\":\"contain\",\"source\":\"https://raw.githubusercontent.com/matahombres/CSS-Country-Flags-Rounded/master/flags/LR.png\",\"x\":7.288,\"xanchor\":\"center\",\"xref\":\"x\",\"y\":4.625,\"yanchor\":\"middle\",\"yref\":\"y\"},{\"layer\":\"above\",\"opacity\":0.8,\"sizex\":0.28309256000642885,\"sizey\":0.28309256000642885,\"sizing\":\"contain\",\"source\":\"https://raw.githubusercontent.com/matahombres/CSS-Country-Flags-Rounded/master/flags/LY.png\",\"x\":9.622,\"xanchor\":\"center\",\"xref\":\"x\",\"y\":5.41,\"yanchor\":\"middle\",\"yref\":\"y\"},{\"layer\":\"above\",\"opacity\":0.8,\"sizex\":0.3390448263866693,\"sizey\":0.3390448263866693,\"sizing\":\"contain\",\"source\":\"https://raw.githubusercontent.com/matahombres/CSS-Country-Flags-Rounded/master/flags/MG.png\",\"x\":7.396,\"xanchor\":\"center\",\"xref\":\"x\",\"y\":4.208,\"yanchor\":\"middle\",\"yref\":\"y\"},{\"layer\":\"above\",\"opacity\":0.8,\"sizex\":0.317857166978176,\"sizey\":0.317857166978176,\"sizing\":\"contain\",\"source\":\"https://raw.githubusercontent.com/matahombres/CSS-Country-Flags-Rounded/master/flags/MW.png\",\"x\":6.958,\"xanchor\":\"center\",\"xref\":\"x\",\"y\":3.6,\"yanchor\":\"middle\",\"yref\":\"y\"},{\"layer\":\"above\",\"opacity\":0.8,\"sizex\":0.35663688062655674,\"sizey\":0.35663688062655674,\"sizing\":\"contain\",\"source\":\"https://raw.githubusercontent.com/matahombres/CSS-Country-Flags-Rounded/master/flags/MY.png\",\"x\":10.238,\"xanchor\":\"center\",\"xref\":\"x\",\"y\":5.384,\"yanchor\":\"middle\",\"yref\":\"y\"},{\"layer\":\"above\",\"opacity\":0.8,\"sizex\":0.3125580901096294,\"sizey\":0.3125580901096294,\"sizing\":\"contain\",\"source\":\"https://raw.githubusercontent.com/matahombres/CSS-Country-Flags-Rounded/master/flags/ML.png\",\"x\":7.744,\"xanchor\":\"center\",\"xref\":\"x\",\"y\":4.723,\"yanchor\":\"middle\",\"yref\":\"y\"},{\"layer\":\"above\",\"opacity\":0.8,\"sizex\":0.26419939631163264,\"sizey\":0.26419939631163264,\"sizing\":\"contain\",\"source\":\"https://raw.githubusercontent.com/matahombres/CSS-Country-Flags-Rounded/master/flags/MR.png\",\"x\":8.542,\"xanchor\":\"center\",\"xref\":\"x\",\"y\":4.227,\"yanchor\":\"middle\",\"yref\":\"y\"},{\"layer\":\"above\",\"opacity\":0.8,\"sizex\":0.2441056030979321,\"sizey\":0.2441056030979321,\"sizing\":\"contain\",\"source\":\"https://raw.githubusercontent.com/matahombres/CSS-Country-Flags-Rounded/master/flags/MU.png\",\"x\":10.008,\"xanchor\":\"center\",\"xref\":\"x\",\"y\":6.049,\"yanchor\":\"middle\",\"yref\":\"y\"},{\"layer\":\"above\",\"opacity\":0.8,\"sizex\":0.5151924873596124,\"sizey\":0.5151924873596124,\"sizing\":\"contain\",\"source\":\"https://raw.githubusercontent.com/matahombres/CSS-Country-Flags-Rounded/master/flags/MX.png\",\"x\":9.859,\"xanchor\":\"center\",\"xref\":\"x\",\"y\":6.317,\"yanchor\":\"middle\",\"yref\":\"y\"},{\"layer\":\"above\",\"opacity\":0.8,\"sizex\":0.26090800884424153,\"sizey\":0.26090800884424153,\"sizing\":\"contain\",\"source\":\"https://raw.githubusercontent.com/matahombres/CSS-Country-Flags-Rounded/master/flags/MN.png\",\"x\":9.4,\"xanchor\":\"center\",\"xref\":\"x\",\"y\":5.677,\"yanchor\":\"middle\",\"yref\":\"y\"},{\"layer\":\"above\",\"opacity\":0.8,\"sizex\":0.23563181199218317,\"sizey\":0.23563181199218317,\"sizing\":\"contain\",\"source\":\"https://raw.githubusercontent.com/matahombres/CSS-Country-Flags-Rounded/master/flags/ME.png\",\"x\":9.94,\"xanchor\":\"center\",\"xref\":\"x\",\"y\":5.581,\"yanchor\":\"middle\",\"yref\":\"y\"},{\"layer\":\"above\",\"opacity\":0.8,\"sizex\":0.3807526792220224,\"sizey\":0.3807526792220224,\"sizing\":\"contain\",\"source\":\"https://raw.githubusercontent.com/matahombres/CSS-Country-Flags-Rounded/master/flags/MA.png\",\"x\":8.903,\"xanchor\":\"center\",\"xref\":\"x\",\"y\":4.918,\"yanchor\":\"middle\",\"yref\":\"y\"},{\"layer\":\"above\",\"opacity\":0.8,\"sizex\":0.3416265028481157,\"sizey\":0.3416265028481157,\"sizing\":\"contain\",\"source\":\"https://raw.githubusercontent.com/matahombres/CSS-Country-Flags-Rounded/master/flags/MZ.png\",\"x\":7.158,\"xanchor\":\"center\",\"xref\":\"x\",\"y\":4.794,\"yanchor\":\"middle\",\"yref\":\"y\"},{\"layer\":\"above\",\"opacity\":0.8,\"sizex\":0.41281728737639917,\"sizey\":0.41281728737639917,\"sizing\":\"contain\",\"source\":\"https://raw.githubusercontent.com/matahombres/CSS-Country-Flags-Rounded/master/flags/MM.png\",\"x\":8.541,\"xanchor\":\"center\",\"xref\":\"x\",\"y\":4.426,\"yanchor\":\"middle\",\"yref\":\"y\"},{\"layer\":\"above\",\"opacity\":0.8,\"sizex\":0.2532838254343379,\"sizey\":0.2532838254343379,\"sizing\":\"contain\",\"source\":\"https://raw.githubusercontent.com/matahombres/CSS-Country-Flags-Rounded/master/flags/NA.png\",\"x\":9.161,\"xanchor\":\"center\",\"xref\":\"x\",\"y\":4.574,\"yanchor\":\"middle\",\"yref\":\"y\"},{\"layer\":\"above\",\"opacity\":0.8,\"sizex\":0.36811063811499495,\"sizey\":0.36811063811499495,\"sizing\":\"contain\",\"source\":\"https://raw.githubusercontent.com/matahombres/CSS-Country-Flags-Rounded/master/flags/NP.png\",\"x\":8.12,\"xanchor\":\"center\",\"xref\":\"x\",\"y\":5.269,\"yanchor\":\"middle\",\"yref\":\"y\"},{\"layer\":\"above\",\"opacity\":0.8,\"sizex\":0.33009205010351494,\"sizey\":0.33009205010351494,\"sizing\":\"contain\",\"source\":\"https://raw.githubusercontent.com/matahombres/CSS-Country-Flags-Rounded/master/flags/NL.png\",\"x\":10.932,\"xanchor\":\"center\",\"xref\":\"x\",\"y\":7.464,\"yanchor\":\"middle\",\"yref\":\"y\"},{\"layer\":\"above\",\"opacity\":0.8,\"sizex\":0.27061877944823015,\"sizey\":0.27061877944823015,\"sizing\":\"contain\",\"source\":\"https://raw.githubusercontent.com/matahombres/CSS-Country-Flags-Rounded/master/flags/NZ.png\",\"x\":10.643,\"xanchor\":\"center\",\"xref\":\"x\",\"y\":7.277,\"yanchor\":\"middle\",\"yref\":\"y\"},{\"layer\":\"above\",\"opacity\":0.8,\"sizex\":0.2809165162758724,\"sizey\":0.2809165162758724,\"sizing\":\"contain\",\"source\":\"https://raw.githubusercontent.com/matahombres/CSS-Country-Flags-Rounded/master/flags/NI.png\",\"x\":8.62,\"xanchor\":\"center\",\"xref\":\"x\",\"y\":5.972,\"yanchor\":\"middle\",\"yref\":\"y\"},{\"layer\":\"above\",\"opacity\":0.8,\"sizex\":0.316118807589305,\"sizey\":0.316118807589305,\"sizing\":\"contain\",\"source\":\"https://raw.githubusercontent.com/matahombres/CSS-Country-Flags-Rounded/master/flags/NE.png\",\"x\":7.098,\"xanchor\":\"center\",\"xref\":\"x\",\"y\":5.074,\"yanchor\":\"middle\",\"yref\":\"y\"},{\"layer\":\"above\",\"opacity\":0.8,\"sizex\":0.549977631371591,\"sizey\":0.549977631371591,\"sizing\":\"contain\",\"source\":\"https://raw.githubusercontent.com/matahombres/CSS-Country-Flags-Rounded/master/flags/NG.png\",\"x\":8.533,\"xanchor\":\"center\",\"xref\":\"x\",\"y\":4.759,\"yanchor\":\"middle\",\"yref\":\"y\"},{\"layer\":\"above\",\"opacity\":0.8,\"sizex\":0.2741873870117301,\"sizey\":0.2741873870117301,\"sizing\":\"contain\",\"source\":\"https://raw.githubusercontent.com/matahombres/CSS-Country-Flags-Rounded/master/flags/NO.png\",\"x\":11.053,\"xanchor\":\"center\",\"xref\":\"x\",\"y\":7.392,\"yanchor\":\"middle\",\"yref\":\"y\"},{\"layer\":\"above\",\"opacity\":0.8,\"sizex\":0.26367194823900053,\"sizey\":0.26367194823900053,\"sizing\":\"contain\",\"source\":\"https://raw.githubusercontent.com/matahombres/CSS-Country-Flags-Rounded/master/flags/OM.png\",\"x\":null,\"xanchor\":\"center\",\"xref\":\"x\",\"y\":null,\"yanchor\":\"middle\",\"yref\":\"y\"},{\"layer\":\"above\",\"opacity\":0.8,\"sizex\":0.5904653750575618,\"sizey\":0.5904653750575618,\"sizing\":\"contain\",\"source\":\"https://raw.githubusercontent.com/matahombres/CSS-Country-Flags-Rounded/master/flags/PK.png\",\"x\":8.458,\"xanchor\":\"center\",\"xref\":\"x\",\"y\":4.934,\"yanchor\":\"middle\",\"yref\":\"y\"},{\"layer\":\"above\",\"opacity\":0.8,\"sizex\":0.26397429711242754,\"sizey\":0.26397429711242754,\"sizing\":\"contain\",\"source\":\"https://raw.githubusercontent.com/matahombres/CSS-Country-Flags-Rounded/master/flags/PA.png\",\"x\":10.35,\"xanchor\":\"center\",\"xref\":\"x\",\"y\":6.18,\"yanchor\":\"middle\",\"yref\":\"y\"},{\"layer\":\"above\",\"opacity\":0.8,\"sizex\":0.2867352482933109,\"sizey\":0.2867352482933109,\"sizing\":\"contain\",\"source\":\"https://raw.githubusercontent.com/matahombres/CSS-Country-Flags-Rounded/master/flags/PY.png\",\"x\":9.448,\"xanchor\":\"center\",\"xref\":\"x\",\"y\":5.653,\"yanchor\":\"middle\",\"yref\":\"y\"},{\"layer\":\"above\",\"opacity\":0.8,\"sizex\":0.3674944327802718,\"sizey\":0.3674944327802718,\"sizing\":\"contain\",\"source\":\"https://raw.githubusercontent.com/matahombres/CSS-Country-Flags-Rounded/master/flags/PE.png\",\"x\":9.458,\"xanchor\":\"center\",\"xref\":\"x\",\"y\":5.84,\"yanchor\":\"middle\",\"yref\":\"y\"},{\"layer\":\"above\",\"opacity\":0.8,\"sizex\":0.489488361939455,\"sizey\":0.489488361939455,\"sizing\":\"contain\",\"source\":\"https://raw.githubusercontent.com/matahombres/CSS-Country-Flags-Rounded/master/flags/PH.png\",\"x\":9.076,\"xanchor\":\"center\",\"xref\":\"x\",\"y\":5.88,\"yanchor\":\"middle\",\"yref\":\"y\"},{\"layer\":\"above\",\"opacity\":0.8,\"sizex\":0.3922926122036874,\"sizey\":0.3922926122036874,\"sizing\":\"contain\",\"source\":\"https://raw.githubusercontent.com/matahombres/CSS-Country-Flags-Rounded/master/flags/PL.png\",\"x\":10.382,\"xanchor\":\"center\",\"xref\":\"x\",\"y\":6.166,\"yanchor\":\"middle\",\"yref\":\"y\"},{\"layer\":\"above\",\"opacity\":0.8,\"sizex\":0.3065479896715771,\"sizey\":0.3065479896715771,\"sizing\":\"contain\",\"source\":\"https://raw.githubusercontent.com/matahombres/CSS-Country-Flags-Rounded/master/flags/PT.png\",\"x\":10.421,\"xanchor\":\"center\",\"xref\":\"x\",\"y\":5.929,\"yanchor\":\"middle\",\"yref\":\"y\"},{\"layer\":\"above\",\"opacity\":0.8,\"sizex\":0.26936155944152407,\"sizey\":0.26936155944152407,\"sizing\":\"contain\",\"source\":\"https://raw.githubusercontent.com/matahombres/CSS-Country-Flags-Rounded/master/flags/PR.png\",\"x\":null,\"xanchor\":\"center\",\"xref\":\"x\",\"y\":null,\"yanchor\":\"middle\",\"yref\":\"y\"},{\"layer\":\"above\",\"opacity\":0.8,\"sizex\":0.23755040510299896,\"sizey\":0.23755040510299896,\"sizing\":\"contain\",\"source\":\"https://raw.githubusercontent.com/matahombres/CSS-Country-Flags-Rounded/master/flags/RE.png\",\"x\":null,\"xanchor\":\"center\",\"xref\":\"x\",\"y\":null,\"yanchor\":\"middle\",\"yref\":\"y\"},{\"layer\":\"above\",\"opacity\":0.8,\"sizex\":0.3489959547917727,\"sizey\":0.3489959547917727,\"sizing\":\"contain\",\"source\":\"https://raw.githubusercontent.com/matahombres/CSS-Country-Flags-Rounded/master/flags/RO.png\",\"x\":10.284,\"xanchor\":\"center\",\"xref\":\"x\",\"y\":6.14,\"yanchor\":\"middle\",\"yref\":\"y\"},{\"layer\":\"above\",\"opacity\":0.8,\"sizex\":0.2982279406549259,\"sizey\":0.2982279406549259,\"sizing\":\"contain\",\"source\":\"https://raw.githubusercontent.com/matahombres/CSS-Country-Flags-Rounded/master/flags/RW.png\",\"x\":7.676,\"xanchor\":\"center\",\"xref\":\"x\",\"y\":3.415,\"yanchor\":\"middle\",\"yref\":\"y\"},{\"layer\":\"above\",\"opacity\":0.8,\"sizex\":0.22454241935283709,\"sizey\":0.22454241935283709,\"sizing\":\"contain\",\"source\":\"https://raw.githubusercontent.com/matahombres/CSS-Country-Flags-Rounded/master/flags/ST.png\",\"x\":null,\"xanchor\":\"center\",\"xref\":\"x\",\"y\":null,\"yanchor\":\"middle\",\"yref\":\"y\"},{\"layer\":\"above\",\"opacity\":0.8,\"sizex\":0.3645465649127451,\"sizey\":0.3645465649127451,\"sizing\":\"contain\",\"source\":\"https://raw.githubusercontent.com/matahombres/CSS-Country-Flags-Rounded/master/flags/SA.png\",\"x\":10.743,\"xanchor\":\"center\",\"xref\":\"x\",\"y\":6.494,\"yanchor\":\"middle\",\"yref\":\"y\"},{\"layer\":\"above\",\"opacity\":0.8,\"sizex\":0.3135428325616162,\"sizey\":0.3135428325616162,\"sizing\":\"contain\",\"source\":\"https://raw.githubusercontent.com/matahombres/CSS-Country-Flags-Rounded/master/flags/SN.png\",\"x\":8.118,\"xanchor\":\"center\",\"xref\":\"x\",\"y\":5.132,\"yanchor\":\"middle\",\"yref\":\"y\"},{\"layer\":\"above\",\"opacity\":0.8,\"sizex\":0.304323153133412,\"sizey\":0.304323153133412,\"sizing\":\"contain\",\"source\":\"https://raw.githubusercontent.com/matahombres/CSS-Country-Flags-Rounded/master/flags/RS.png\",\"x\":9.787,\"xanchor\":\"center\",\"xref\":\"x\",\"y\":6.078,\"yanchor\":\"middle\",\"yref\":\"y\"},{\"layer\":\"above\",\"opacity\":0.8,\"sizex\":0.2837277719827658,\"sizey\":0.2837277719827658,\"sizing\":\"contain\",\"source\":\"https://raw.githubusercontent.com/matahombres/CSS-Country-Flags-Rounded/master/flags/SL.png\",\"x\":7.434,\"xanchor\":\"center\",\"xref\":\"x\",\"y\":3.849,\"yanchor\":\"middle\",\"yref\":\"y\"},{\"layer\":\"above\",\"opacity\":0.8,\"sizex\":0.273678174617022,\"sizey\":0.273678174617022,\"sizing\":\"contain\",\"source\":\"https://raw.githubusercontent.com/matahombres/CSS-Country-Flags-Rounded/master/flags/SG.png\",\"x\":11.488,\"xanchor\":\"center\",\"xref\":\"x\",\"y\":6.377,\"yanchor\":\"middle\",\"yref\":\"y\"},{\"layer\":\"above\",\"opacity\":0.8,\"sizex\":0.2795094010091125,\"sizey\":0.2795094010091125,\"sizing\":\"contain\",\"source\":\"https://raw.githubusercontent.com/matahombres/CSS-Country-Flags-Rounded/master/flags/SK.png\",\"x\":10.369,\"xanchor\":\"center\",\"xref\":\"x\",\"y\":6.331,\"yanchor\":\"middle\",\"yref\":\"y\"},{\"layer\":\"above\",\"opacity\":0.8,\"sizex\":0.25281558560204237,\"sizey\":0.25281558560204237,\"sizing\":\"contain\",\"source\":\"https://raw.githubusercontent.com/matahombres/CSS-Country-Flags-Rounded/master/flags/SI.png\",\"x\":10.529,\"xanchor\":\"center\",\"xref\":\"x\",\"y\":6.461,\"yanchor\":\"middle\",\"yref\":\"y\"},{\"layer\":\"above\",\"opacity\":0.8,\"sizex\":0.29948198676661986,\"sizey\":0.29948198676661986,\"sizing\":\"contain\",\"source\":\"https://raw.githubusercontent.com/matahombres/CSS-Country-Flags-Rounded/master/flags/SO.png\",\"x\":null,\"xanchor\":\"center\",\"xref\":\"x\",\"y\":null,\"yanchor\":\"middle\",\"yref\":\"y\"},{\"layer\":\"above\",\"opacity\":0.8,\"sizex\":0.40472277400534507,\"sizey\":0.40472277400534507,\"sizing\":\"contain\",\"source\":\"https://raw.githubusercontent.com/matahombres/CSS-Country-Flags-Rounded/master/flags/ZA.png\",\"x\":9.403,\"xanchor\":\"center\",\"xref\":\"x\",\"y\":4.956,\"yanchor\":\"middle\",\"yref\":\"y\"},{\"layer\":\"above\",\"opacity\":0.8,\"sizex\":0.3967657848814336,\"sizey\":0.3967657848814336,\"sizing\":\"contain\",\"source\":\"https://raw.githubusercontent.com/matahombres/CSS-Country-Flags-Rounded/master/flags/ES.png\",\"x\":10.571,\"xanchor\":\"center\",\"xref\":\"x\",\"y\":6.491,\"yanchor\":\"middle\",\"yref\":\"y\"},{\"layer\":\"above\",\"opacity\":0.8,\"sizex\":0.34300992428820454,\"sizey\":0.34300992428820454,\"sizing\":\"contain\",\"source\":\"https://raw.githubusercontent.com/matahombres/CSS-Country-Flags-Rounded/master/flags/LK.png\",\"x\":9.47,\"xanchor\":\"center\",\"xref\":\"x\",\"y\":4.325,\"yanchor\":\"middle\",\"yref\":\"y\"},{\"layer\":\"above\",\"opacity\":0.8,\"sizex\":0.4009427362213976,\"sizey\":0.4009427362213976,\"sizing\":\"contain\",\"source\":\"https://raw.githubusercontent.com/matahombres/CSS-Country-Flags-Rounded/master/flags/SD.png\",\"x\":null,\"xanchor\":\"center\",\"xref\":\"x\",\"y\":null,\"yanchor\":\"middle\",\"yref\":\"y\"},{\"layer\":\"above\",\"opacity\":0.8,\"sizex\":0.24253362306424803,\"sizey\":0.24253362306424803,\"sizing\":\"contain\",\"source\":\"https://raw.githubusercontent.com/matahombres/CSS-Country-Flags-Rounded/master/flags/SZ.png\",\"x\":9.065,\"xanchor\":\"center\",\"xref\":\"x\",\"y\":4.308,\"yanchor\":\"middle\",\"yref\":\"y\"},{\"layer\":\"above\",\"opacity\":0.8,\"sizex\":0.29905810147097206,\"sizey\":0.29905810147097206,\"sizing\":\"contain\",\"source\":\"https://raw.githubusercontent.com/matahombres/CSS-Country-Flags-Rounded/master/flags/SE.png\",\"x\":10.867,\"xanchor\":\"center\",\"xref\":\"x\",\"y\":7.363,\"yanchor\":\"middle\",\"yref\":\"y\"},{\"layer\":\"above\",\"opacity\":0.8,\"sizex\":0.29158442444565313,\"sizey\":0.29158442444565313,\"sizing\":\"contain\",\"source\":\"https://raw.githubusercontent.com/matahombres/CSS-Country-Flags-Rounded/master/flags/CH.png\",\"x\":11.117,\"xanchor\":\"center\",\"xref\":\"x\",\"y\":7.571,\"yanchor\":\"middle\",\"yref\":\"y\"},{\"layer\":\"above\",\"opacity\":0.8,\"sizex\":0.33953316396819744,\"sizey\":0.33953316396819744,\"sizing\":\"contain\",\"source\":\"https://raw.githubusercontent.com/matahombres/CSS-Country-Flags-Rounded/master/flags/SY.png\",\"x\":null,\"xanchor\":\"center\",\"xref\":\"x\",\"y\":null,\"yanchor\":\"middle\",\"yref\":\"y\"},{\"layer\":\"above\",\"opacity\":0.8,\"sizex\":0.3517400706527833,\"sizey\":0.3517400706527833,\"sizing\":\"contain\",\"source\":\"https://raw.githubusercontent.com/matahombres/CSS-Country-Flags-Rounded/master/flags/TW.png\",\"x\":10.871,\"xanchor\":\"center\",\"xref\":\"x\",\"y\":6.584,\"yanchor\":\"middle\",\"yref\":\"y\"},{\"layer\":\"above\",\"opacity\":0.8,\"sizex\":0.3914020523659982,\"sizey\":0.3914020523659982,\"sizing\":\"contain\",\"source\":\"https://raw.githubusercontent.com/matahombres/CSS-Country-Flags-Rounded/master/flags/TZ.png\",\"x\":7.876,\"xanchor\":\"center\",\"xref\":\"x\",\"y\":3.623,\"yanchor\":\"middle\",\"yref\":\"y\"},{\"layer\":\"above\",\"opacity\":0.8,\"sizex\":0.44647118792604423,\"sizey\":0.44647118792604423,\"sizing\":\"contain\",\"source\":\"https://raw.githubusercontent.com/matahombres/CSS-Country-Flags-Rounded/master/flags/TH.png\",\"x\":9.805,\"xanchor\":\"center\",\"xref\":\"x\",\"y\":5.985,\"yanchor\":\"middle\",\"yref\":\"y\"},{\"layer\":\"above\",\"opacity\":0.8,\"sizex\":0.2810766299615159,\"sizey\":0.2810766299615159,\"sizing\":\"contain\",\"source\":\"https://raw.githubusercontent.com/matahombres/CSS-Country-Flags-Rounded/master/flags/TG.png\",\"x\":7.362,\"xanchor\":\"center\",\"xref\":\"x\",\"y\":4.107,\"yanchor\":\"middle\",\"yref\":\"y\"},{\"layer\":\"above\",\"opacity\":0.8,\"sizex\":0.2414693382855787,\"sizey\":0.2414693382855787,\"sizing\":\"contain\",\"source\":\"https://raw.githubusercontent.com/matahombres/CSS-Country-Flags-Rounded/master/flags/TT.png\",\"x\":null,\"xanchor\":\"center\",\"xref\":\"x\",\"y\":null,\"yanchor\":\"middle\",\"yref\":\"y\"},{\"layer\":\"above\",\"opacity\":0.8,\"sizex\":0.30489682811979263,\"sizey\":0.30489682811979263,\"sizing\":\"contain\",\"source\":\"https://raw.githubusercontent.com/matahombres/CSS-Country-Flags-Rounded/master/flags/TN.png\",\"x\":9.266,\"xanchor\":\"center\",\"xref\":\"x\",\"y\":4.596,\"yanchor\":\"middle\",\"yref\":\"y\"},{\"layer\":\"above\",\"opacity\":0.8,\"sizex\":0.45722069515601066,\"sizey\":0.45722069515601066,\"sizing\":\"contain\",\"source\":\"https://raw.githubusercontent.com/matahombres/CSS-Country-Flags-Rounded/master/flags/TR.png\",\"x\":10.24,\"xanchor\":\"center\",\"xref\":\"x\",\"y\":4.948,\"yanchor\":\"middle\",\"yref\":\"y\"},{\"layer\":\"above\",\"opacity\":0.8,\"sizex\":0.3688365676053198,\"sizey\":0.3688365676053198,\"sizing\":\"contain\",\"source\":\"https://raw.githubusercontent.com/matahombres/CSS-Country-Flags-Rounded/master/flags/UG.png\",\"x\":7.677,\"xanchor\":\"center\",\"xref\":\"x\",\"y\":4.636,\"yanchor\":\"middle\",\"yref\":\"y\"},{\"layer\":\"above\",\"opacity\":0.8,\"sizex\":0.4385906587111007,\"sizey\":0.4385906587111007,\"sizing\":\"contain\",\"source\":\"https://raw.githubusercontent.com/matahombres/CSS-Country-Flags-Rounded/master/flags/GB.png\",\"x\":10.707,\"xanchor\":\"center\",\"xref\":\"x\",\"y\":7.064,\"yanchor\":\"middle\",\"yref\":\"y\"},{\"layer\":\"above\",\"opacity\":0.8,\"sizex\":0.7169568537645911,\"sizey\":0.7169568537645911,\"sizing\":\"contain\",\"source\":\"https://raw.githubusercontent.com/matahombres/CSS-Country-Flags-Rounded/master/flags/US.png\",\"x\":11.023,\"xanchor\":\"center\",\"xref\":\"x\",\"y\":6.951,\"yanchor\":\"middle\",\"yref\":\"y\"},{\"layer\":\"above\",\"opacity\":0.8,\"sizex\":0.265609399203738,\"sizey\":0.265609399203738,\"sizing\":\"contain\",\"source\":\"https://raw.githubusercontent.com/matahombres/CSS-Country-Flags-Rounded/master/flags/UY.png\",\"x\":9.966,\"xanchor\":\"center\",\"xref\":\"x\",\"y\":6.431,\"yanchor\":\"middle\",\"yref\":\"y\"},{\"layer\":\"above\",\"opacity\":0.8,\"sizex\":0.360283918150401,\"sizey\":0.360283918150401,\"sizing\":\"contain\",\"source\":\"https://raw.githubusercontent.com/matahombres/CSS-Country-Flags-Rounded/master/flags/VE.png\",\"x\":9.073,\"xanchor\":\"center\",\"xref\":\"x\",\"y\":4.892,\"yanchor\":\"middle\",\"yref\":\"y\"},{\"layer\":\"above\",\"opacity\":0.8,\"sizex\":0.48046876620878826,\"sizey\":0.48046876620878826,\"sizing\":\"contain\",\"source\":\"https://raw.githubusercontent.com/matahombres/CSS-Country-Flags-Rounded/master/flags/VN.png\",\"x\":8.973,\"xanchor\":\"center\",\"xref\":\"x\",\"y\":5.411,\"yanchor\":\"middle\",\"yref\":\"y\"},{\"layer\":\"above\",\"opacity\":0.8,\"sizex\":0.26991514968013164,\"sizey\":0.26991514968013164,\"sizing\":\"contain\",\"source\":\"https://raw.githubusercontent.com/matahombres/CSS-Country-Flags-Rounded/master/flags/PS.png\",\"x\":8.485,\"xanchor\":\"center\",\"xref\":\"x\",\"y\":4.517,\"yanchor\":\"middle\",\"yref\":\"y\"},{\"layer\":\"above\",\"opacity\":0.8,\"sizex\":0.34879737417661083,\"sizey\":0.34879737417661083,\"sizing\":\"contain\",\"source\":\"https://raw.githubusercontent.com/matahombres/CSS-Country-Flags-Rounded/master/flags/YE.png\",\"x\":7.578,\"xanchor\":\"center\",\"xref\":\"x\",\"y\":3.658,\"yanchor\":\"middle\",\"yref\":\"y\"},{\"layer\":\"above\",\"opacity\":0.8,\"sizex\":0.311351161452856,\"sizey\":0.311351161452856,\"sizing\":\"contain\",\"source\":\"https://raw.githubusercontent.com/matahombres/CSS-Country-Flags-Rounded/master/flags/ZM.png\",\"x\":8.145,\"xanchor\":\"center\",\"xref\":\"x\",\"y\":4.073,\"yanchor\":\"middle\",\"yref\":\"y\"},{\"layer\":\"above\",\"opacity\":0.8,\"sizex\":0.31372416018107163,\"sizey\":0.31372416018107163,\"sizing\":\"contain\",\"source\":\"https://raw.githubusercontent.com/matahombres/CSS-Country-Flags-Rounded/master/flags/ZW.png\",\"x\":7.943,\"xanchor\":\"center\",\"xref\":\"x\",\"y\":3.145,\"yanchor\":\"middle\",\"yref\":\"y\"}],\"height\":600,\"width\":1000,\"plot_bgcolor\":\"#dfdfdf\"},                        {\"responsive\": true}                    ).then(function(){\n",
       "                            \n",
       "var gd = document.getElementById('7f5d7d25-dfb8-42c8-aa28-cb18f1cffc34');\n",
       "var x = new MutationObserver(function (mutations, observer) {{\n",
       "        var display = window.getComputedStyle(gd).display;\n",
       "        if (!display || display === 'none') {{\n",
       "            console.log([gd, 'removed!']);\n",
       "            Plotly.purge(gd);\n",
       "            observer.disconnect();\n",
       "        }}\n",
       "}});\n",
       "\n",
       "// Listen for the removal of the full notebook cells\n",
       "var notebookContainer = gd.closest('#notebook-container');\n",
       "if (notebookContainer) {{\n",
       "    x.observe(notebookContainer, {childList: true});\n",
       "}}\n",
       "\n",
       "// Listen for the clearing of the current output cell\n",
       "var outputEl = gd.closest('.output');\n",
       "if (outputEl) {{\n",
       "    x.observe(outputEl, {childList: true});\n",
       "}}\n",
       "\n",
       "                        })                };                });            </script>        </div>"
      ]
     },
     "metadata": {},
     "output_type": "display_data"
    }
   ],
   "source": [
    "# todo : change with ladder score here \n",
    "fig = px.scatter(\n",
    "    df,\n",
    "    x=\"Logged GDP per capita\",\n",
    "    y=\"Ladder score\",\n",
    "    hover_name=\"Country name\",\n",
    "    hover_data=interesting_columns,\n",
    ")\n",
    "fig.update_traces(marker_color=\"rgba(0,0,0,0)\")\n",
    "\n",
    "for i, row in df.iterrows():\n",
    "    country_iso = row[\"iso_alpha2\"]\n",
    "    fig.add_layout_image(\n",
    "        dict(\n",
    "            source=f\"https://raw.githubusercontent.com/matahombres/CSS-Country-Flags-Rounded/master/flags/{country_iso}.png\",\n",
    "            xref=\"x\",\n",
    "            yref=\"y\",\n",
    "            xanchor=\"center\",\n",
    "            yanchor=\"middle\",\n",
    "            x=row[\"Logged GDP per capita\"],\n",
    "            y=row[\"Ladder score\"],\n",
    "            sizex=(np.sqrt(row[\"pop\"] / df[\"pop\"].max()) * maxi * 0.15 + maxi * 0.03)/7000,\n",
    "            sizey=(np.sqrt(row[\"pop\"] / df[\"pop\"].max()) * maxi * 0.15+ maxi * 0.03)/7000,\n",
    "            sizing=\"contain\",\n",
    "            opacity=0.8,\n",
    "            layer=\"above\"\n",
    "        )\n",
    "    )\n",
    "\n",
    "fig.update_layout(height=600, width=1000, plot_bgcolor=\"#dfdfdf\", yaxis_range=[0, 10])\n",
    "\n",
    "fig.show()"
   ]
  },
  {
   "cell_type": "markdown",
   "id": "8692c582",
   "metadata": {},
   "source": [
    "### Magnitude: Radar Chart"
   ]
  },
  {
   "cell_type": "markdown",
   "id": "24f3efd4",
   "metadata": {},
   "source": [
    "The objective is to create an interactive radar chart with the Happiness Score attribute at the top corner while others are the remaining corners."
   ]
  },
  {
   "cell_type": "markdown",
   "id": "bb96f142",
   "metadata": {},
   "source": [
    "To construct such a radar, let's start by converting the desired columns in a percentage of the maximum possible value for this column. "
   ]
  },
  {
   "cell_type": "code",
   "execution_count": 87,
   "id": "d4412950",
   "metadata": {},
   "outputs": [],
   "source": [
    "df_radar = df_happy_2021[[\"Country name\"]]"
   ]
  },
  {
   "cell_type": "code",
   "execution_count": 88,
   "id": "d9e25930",
   "metadata": {
    "scrolled": false
   },
   "outputs": [
    {
     "data": {
      "text/plain": [
       "Index(['Country name', 'Regional indicator', 'Ladder score',\n",
       "       'Standard error of ladder score', 'upperwhisker', 'lowerwhisker',\n",
       "       'Logged GDP per capita', 'Social support', 'Healthy life expectancy',\n",
       "       'Freedom to make life choices', 'Generosity',\n",
       "       'Perceptions of corruption', 'Ladder score in Dystopia',\n",
       "       'Explained by: Log GDP per capita', 'Explained by: Social support',\n",
       "       'Explained by: Healthy life expectancy',\n",
       "       'Explained by: Freedom to make life choices',\n",
       "       'Explained by: Generosity', 'Explained by: Perceptions of corruption',\n",
       "       'Dystopia + residual', 'iso_2', 'iso_3', 'Happiness ranking'],\n",
       "      dtype='object')"
      ]
     },
     "execution_count": 88,
     "metadata": {},
     "output_type": "execute_result"
    }
   ],
   "source": [
    "df_happy_2021.columns"
   ]
  },
  {
   "cell_type": "code",
   "execution_count": 108,
   "id": "012434bc",
   "metadata": {},
   "outputs": [
    {
     "name": "stderr",
     "output_type": "stream",
     "text": [
      "/usr/local/lib/python3.7/site-packages/ipykernel_launcher.py:2: SettingWithCopyWarning:\n",
      "\n",
      "\n",
      "A value is trying to be set on a copy of a slice from a DataFrame.\n",
      "Try using .loc[row_indexer,col_indexer] = value instead\n",
      "\n",
      "See the caveats in the documentation: https://pandas.pydata.org/pandas-docs/stable/user_guide/indexing.html#returning-a-view-versus-a-copy\n",
      "\n"
     ]
    },
    {
     "data": {
      "text/html": [
       "<div>\n",
       "<style scoped>\n",
       "    .dataframe tbody tr th:only-of-type {\n",
       "        vertical-align: middle;\n",
       "    }\n",
       "\n",
       "    .dataframe tbody tr th {\n",
       "        vertical-align: top;\n",
       "    }\n",
       "\n",
       "    .dataframe thead th {\n",
       "        text-align: right;\n",
       "    }\n",
       "</style>\n",
       "<table border=\"1\" class=\"dataframe\">\n",
       "  <thead>\n",
       "    <tr style=\"text-align: right;\">\n",
       "      <th></th>\n",
       "      <th>Country name</th>\n",
       "      <th>Ladder score ratio</th>\n",
       "      <th>Logged GDP per capita ratio</th>\n",
       "      <th>Social support ratio</th>\n",
       "      <th>Healthy life expectancy ratio</th>\n",
       "      <th>Freedom to make life choices ratio</th>\n",
       "      <th>Generosity ratio</th>\n",
       "      <th>Perceptions of corruption ratio</th>\n",
       "    </tr>\n",
       "  </thead>\n",
       "  <tbody>\n",
       "    <tr>\n",
       "      <th>0</th>\n",
       "      <td>Finland</td>\n",
       "      <td>1.000000</td>\n",
       "      <td>0.826018</td>\n",
       "      <td>0.944231</td>\n",
       "      <td>0.826058</td>\n",
       "      <td>0.964286</td>\n",
       "      <td>0.228916</td>\n",
       "      <td>0.121354</td>\n",
       "    </tr>\n",
       "    <tr>\n",
       "      <th>1</th>\n",
       "      <td>Denmark</td>\n",
       "      <td>0.958263</td>\n",
       "      <td>0.857542</td>\n",
       "      <td>0.944231</td>\n",
       "      <td>0.850641</td>\n",
       "      <td>0.959184</td>\n",
       "      <td>0.383133</td>\n",
       "      <td>0.113186</td>\n",
       "    </tr>\n",
       "    <tr>\n",
       "      <th>2</th>\n",
       "      <td>Switzerland</td>\n",
       "      <td>0.949051</td>\n",
       "      <td>0.894254</td>\n",
       "      <td>0.921154</td>\n",
       "      <td>0.910342</td>\n",
       "      <td>0.913265</td>\n",
       "      <td>0.377108</td>\n",
       "      <td>0.245041</td>\n",
       "    </tr>\n",
       "    <tr>\n",
       "      <th>3</th>\n",
       "      <td>Iceland</td>\n",
       "      <td>0.945854</td>\n",
       "      <td>0.846568</td>\n",
       "      <td>1.000000</td>\n",
       "      <td>0.861176</td>\n",
       "      <td>0.974490</td>\n",
       "      <td>0.539759</td>\n",
       "      <td>0.689615</td>\n",
       "    </tr>\n",
       "    <tr>\n",
       "      <th>4</th>\n",
       "      <td>Netherlands</td>\n",
       "      <td>0.928934</td>\n",
       "      <td>0.857342</td>\n",
       "      <td>0.921154</td>\n",
       "      <td>0.840105</td>\n",
       "      <td>0.903061</td>\n",
       "      <td>0.557831</td>\n",
       "      <td>0.298716</td>\n",
       "    </tr>\n",
       "  </tbody>\n",
       "</table>\n",
       "</div>"
      ],
      "text/plain": [
       "  Country name  Ladder score ratio  Logged GDP per capita ratio  \\\n",
       "0      Finland            1.000000                     0.826018   \n",
       "1      Denmark            0.958263                     0.857542   \n",
       "2  Switzerland            0.949051                     0.894254   \n",
       "3      Iceland            0.945854                     0.846568   \n",
       "4  Netherlands            0.928934                     0.857342   \n",
       "\n",
       "   Social support ratio  Healthy life expectancy ratio  \\\n",
       "0              0.944231                       0.826058   \n",
       "1              0.944231                       0.850641   \n",
       "2              0.921154                       0.910342   \n",
       "3              1.000000                       0.861176   \n",
       "4              0.921154                       0.840105   \n",
       "\n",
       "   Freedom to make life choices ratio  Generosity ratio  \\\n",
       "0                            0.964286          0.228916   \n",
       "1                            0.959184          0.383133   \n",
       "2                            0.913265          0.377108   \n",
       "3                            0.974490          0.539759   \n",
       "4                            0.903061          0.557831   \n",
       "\n",
       "   Perceptions of corruption ratio  \n",
       "0                         0.121354  \n",
       "1                         0.113186  \n",
       "2                         0.245041  \n",
       "3                         0.689615  \n",
       "4                         0.298716  "
      ]
     },
     "execution_count": 108,
     "metadata": {},
     "output_type": "execute_result"
    }
   ],
   "source": [
    "for column in interesting_columns: \n",
    "    df_radar[column+\" ratio\"] = (df_happy_2021[column] - df_happy_2021[column].min(skipna = True))/(df_happy_2021[column].max(skipna = True) -  df_happy_2021[column].min(skipna = True)) \n",
    "df_radar.head()"
   ]
  },
  {
   "cell_type": "code",
   "execution_count": 109,
   "id": "95aefb99",
   "metadata": {
    "scrolled": true
   },
   "outputs": [
    {
     "data": {
      "text/plain": [
       "Country name                                        Zimbabwe\n",
       "Regional indicator                            Western Europe\n",
       "Ladder score                                           7.842\n",
       "Standard error of ladder score                         0.173\n",
       "upperwhisker                                           7.904\n",
       "lowerwhisker                                            7.78\n",
       "Logged GDP per capita                                 11.647\n",
       "Social support                                         0.983\n",
       "Healthy life expectancy                               76.953\n",
       "Freedom to make life choices                            0.97\n",
       "Generosity                                             0.542\n",
       "Perceptions of corruption                              0.939\n",
       "Ladder score in Dystopia                                2.43\n",
       "Explained by: Log GDP per capita                       1.751\n",
       "Explained by: Social support                           1.172\n",
       "Explained by: Healthy life expectancy                  0.897\n",
       "Explained by: Freedom to make life choices             0.716\n",
       "Explained by: Generosity                               0.541\n",
       "Explained by: Perceptions of corruption                0.547\n",
       "Dystopia + residual                                    3.482\n",
       "iso_2                                                     ZW\n",
       "iso_3                                                    ZWE\n",
       "Happiness ranking                                        148\n",
       "dtype: object"
      ]
     },
     "execution_count": 109,
     "metadata": {},
     "output_type": "execute_result"
    }
   ],
   "source": [
    "df_happy_2021.max()"
   ]
  },
  {
   "cell_type": "code",
   "execution_count": 113,
   "id": "925a46d0",
   "metadata": {},
   "outputs": [
    {
     "data": {
      "application/vnd.plotly.v1+json": {
       "config": {
        "plotlyServerURL": "https://plot.ly"
       },
       "data": [
        {
         "fill": "toself",
         "hovertemplate": "r=%{r}<br>theta=%{theta}<extra></extra>",
         "legendgroup": "",
         "line": {
          "color": "#636efa",
          "dash": "solid"
         },
         "marker": {
          "symbol": "circle"
         },
         "mode": "lines",
         "name": "",
         "r": [
          7.183,
          10.796,
          0.94,
          73.9,
          0.914,
          0.159,
          0.442,
          7.183
         ],
         "showlegend": false,
         "subplot": "polar",
         "theta": [
          "Ladder score",
          "Logged GDP per capita",
          "Social support",
          "Healthy life expectancy",
          "Freedom to make life choices",
          "Generosity",
          "Perceptions of corruption",
          "Ladder score"
         ],
         "type": "scatterpolar"
        }
       ],
       "layout": {
        "legend": {
         "tracegroupgap": 0
        },
        "polar": {
         "angularaxis": {
          "direction": "clockwise",
          "rotation": 90
         },
         "domain": {
          "x": [
           0,
           1
          ],
          "y": [
           0,
           1
          ]
         },
         "radialaxis": {
          "range": [
           0,
           1
          ]
         }
        },
        "template": {
         "data": {
          "bar": [
           {
            "error_x": {
             "color": "#2a3f5f"
            },
            "error_y": {
             "color": "#2a3f5f"
            },
            "marker": {
             "line": {
              "color": "#E5ECF6",
              "width": 0.5
             },
             "pattern": {
              "fillmode": "overlay",
              "size": 10,
              "solidity": 0.2
             }
            },
            "type": "bar"
           }
          ],
          "barpolar": [
           {
            "marker": {
             "line": {
              "color": "#E5ECF6",
              "width": 0.5
             },
             "pattern": {
              "fillmode": "overlay",
              "size": 10,
              "solidity": 0.2
             }
            },
            "type": "barpolar"
           }
          ],
          "carpet": [
           {
            "aaxis": {
             "endlinecolor": "#2a3f5f",
             "gridcolor": "white",
             "linecolor": "white",
             "minorgridcolor": "white",
             "startlinecolor": "#2a3f5f"
            },
            "baxis": {
             "endlinecolor": "#2a3f5f",
             "gridcolor": "white",
             "linecolor": "white",
             "minorgridcolor": "white",
             "startlinecolor": "#2a3f5f"
            },
            "type": "carpet"
           }
          ],
          "choropleth": [
           {
            "colorbar": {
             "outlinewidth": 0,
             "ticks": ""
            },
            "type": "choropleth"
           }
          ],
          "contour": [
           {
            "colorbar": {
             "outlinewidth": 0,
             "ticks": ""
            },
            "colorscale": [
             [
              0,
              "#0d0887"
             ],
             [
              0.1111111111111111,
              "#46039f"
             ],
             [
              0.2222222222222222,
              "#7201a8"
             ],
             [
              0.3333333333333333,
              "#9c179e"
             ],
             [
              0.4444444444444444,
              "#bd3786"
             ],
             [
              0.5555555555555556,
              "#d8576b"
             ],
             [
              0.6666666666666666,
              "#ed7953"
             ],
             [
              0.7777777777777778,
              "#fb9f3a"
             ],
             [
              0.8888888888888888,
              "#fdca26"
             ],
             [
              1,
              "#f0f921"
             ]
            ],
            "type": "contour"
           }
          ],
          "contourcarpet": [
           {
            "colorbar": {
             "outlinewidth": 0,
             "ticks": ""
            },
            "type": "contourcarpet"
           }
          ],
          "heatmap": [
           {
            "colorbar": {
             "outlinewidth": 0,
             "ticks": ""
            },
            "colorscale": [
             [
              0,
              "#0d0887"
             ],
             [
              0.1111111111111111,
              "#46039f"
             ],
             [
              0.2222222222222222,
              "#7201a8"
             ],
             [
              0.3333333333333333,
              "#9c179e"
             ],
             [
              0.4444444444444444,
              "#bd3786"
             ],
             [
              0.5555555555555556,
              "#d8576b"
             ],
             [
              0.6666666666666666,
              "#ed7953"
             ],
             [
              0.7777777777777778,
              "#fb9f3a"
             ],
             [
              0.8888888888888888,
              "#fdca26"
             ],
             [
              1,
              "#f0f921"
             ]
            ],
            "type": "heatmap"
           }
          ],
          "heatmapgl": [
           {
            "colorbar": {
             "outlinewidth": 0,
             "ticks": ""
            },
            "colorscale": [
             [
              0,
              "#0d0887"
             ],
             [
              0.1111111111111111,
              "#46039f"
             ],
             [
              0.2222222222222222,
              "#7201a8"
             ],
             [
              0.3333333333333333,
              "#9c179e"
             ],
             [
              0.4444444444444444,
              "#bd3786"
             ],
             [
              0.5555555555555556,
              "#d8576b"
             ],
             [
              0.6666666666666666,
              "#ed7953"
             ],
             [
              0.7777777777777778,
              "#fb9f3a"
             ],
             [
              0.8888888888888888,
              "#fdca26"
             ],
             [
              1,
              "#f0f921"
             ]
            ],
            "type": "heatmapgl"
           }
          ],
          "histogram": [
           {
            "marker": {
             "pattern": {
              "fillmode": "overlay",
              "size": 10,
              "solidity": 0.2
             }
            },
            "type": "histogram"
           }
          ],
          "histogram2d": [
           {
            "colorbar": {
             "outlinewidth": 0,
             "ticks": ""
            },
            "colorscale": [
             [
              0,
              "#0d0887"
             ],
             [
              0.1111111111111111,
              "#46039f"
             ],
             [
              0.2222222222222222,
              "#7201a8"
             ],
             [
              0.3333333333333333,
              "#9c179e"
             ],
             [
              0.4444444444444444,
              "#bd3786"
             ],
             [
              0.5555555555555556,
              "#d8576b"
             ],
             [
              0.6666666666666666,
              "#ed7953"
             ],
             [
              0.7777777777777778,
              "#fb9f3a"
             ],
             [
              0.8888888888888888,
              "#fdca26"
             ],
             [
              1,
              "#f0f921"
             ]
            ],
            "type": "histogram2d"
           }
          ],
          "histogram2dcontour": [
           {
            "colorbar": {
             "outlinewidth": 0,
             "ticks": ""
            },
            "colorscale": [
             [
              0,
              "#0d0887"
             ],
             [
              0.1111111111111111,
              "#46039f"
             ],
             [
              0.2222222222222222,
              "#7201a8"
             ],
             [
              0.3333333333333333,
              "#9c179e"
             ],
             [
              0.4444444444444444,
              "#bd3786"
             ],
             [
              0.5555555555555556,
              "#d8576b"
             ],
             [
              0.6666666666666666,
              "#ed7953"
             ],
             [
              0.7777777777777778,
              "#fb9f3a"
             ],
             [
              0.8888888888888888,
              "#fdca26"
             ],
             [
              1,
              "#f0f921"
             ]
            ],
            "type": "histogram2dcontour"
           }
          ],
          "mesh3d": [
           {
            "colorbar": {
             "outlinewidth": 0,
             "ticks": ""
            },
            "type": "mesh3d"
           }
          ],
          "parcoords": [
           {
            "line": {
             "colorbar": {
              "outlinewidth": 0,
              "ticks": ""
             }
            },
            "type": "parcoords"
           }
          ],
          "pie": [
           {
            "automargin": true,
            "type": "pie"
           }
          ],
          "scatter": [
           {
            "fillpattern": {
             "fillmode": "overlay",
             "size": 10,
             "solidity": 0.2
            },
            "type": "scatter"
           }
          ],
          "scatter3d": [
           {
            "line": {
             "colorbar": {
              "outlinewidth": 0,
              "ticks": ""
             }
            },
            "marker": {
             "colorbar": {
              "outlinewidth": 0,
              "ticks": ""
             }
            },
            "type": "scatter3d"
           }
          ],
          "scattercarpet": [
           {
            "marker": {
             "colorbar": {
              "outlinewidth": 0,
              "ticks": ""
             }
            },
            "type": "scattercarpet"
           }
          ],
          "scattergeo": [
           {
            "marker": {
             "colorbar": {
              "outlinewidth": 0,
              "ticks": ""
             }
            },
            "type": "scattergeo"
           }
          ],
          "scattergl": [
           {
            "marker": {
             "colorbar": {
              "outlinewidth": 0,
              "ticks": ""
             }
            },
            "type": "scattergl"
           }
          ],
          "scattermapbox": [
           {
            "marker": {
             "colorbar": {
              "outlinewidth": 0,
              "ticks": ""
             }
            },
            "type": "scattermapbox"
           }
          ],
          "scatterpolar": [
           {
            "marker": {
             "colorbar": {
              "outlinewidth": 0,
              "ticks": ""
             }
            },
            "type": "scatterpolar"
           }
          ],
          "scatterpolargl": [
           {
            "marker": {
             "colorbar": {
              "outlinewidth": 0,
              "ticks": ""
             }
            },
            "type": "scatterpolargl"
           }
          ],
          "scatterternary": [
           {
            "marker": {
             "colorbar": {
              "outlinewidth": 0,
              "ticks": ""
             }
            },
            "type": "scatterternary"
           }
          ],
          "surface": [
           {
            "colorbar": {
             "outlinewidth": 0,
             "ticks": ""
            },
            "colorscale": [
             [
              0,
              "#0d0887"
             ],
             [
              0.1111111111111111,
              "#46039f"
             ],
             [
              0.2222222222222222,
              "#7201a8"
             ],
             [
              0.3333333333333333,
              "#9c179e"
             ],
             [
              0.4444444444444444,
              "#bd3786"
             ],
             [
              0.5555555555555556,
              "#d8576b"
             ],
             [
              0.6666666666666666,
              "#ed7953"
             ],
             [
              0.7777777777777778,
              "#fb9f3a"
             ],
             [
              0.8888888888888888,
              "#fdca26"
             ],
             [
              1,
              "#f0f921"
             ]
            ],
            "type": "surface"
           }
          ],
          "table": [
           {
            "cells": {
             "fill": {
              "color": "#EBF0F8"
             },
             "line": {
              "color": "white"
             }
            },
            "header": {
             "fill": {
              "color": "#C8D4E3"
             },
             "line": {
              "color": "white"
             }
            },
            "type": "table"
           }
          ]
         },
         "layout": {
          "annotationdefaults": {
           "arrowcolor": "#2a3f5f",
           "arrowhead": 0,
           "arrowwidth": 1
          },
          "autotypenumbers": "strict",
          "coloraxis": {
           "colorbar": {
            "outlinewidth": 0,
            "ticks": ""
           }
          },
          "colorscale": {
           "diverging": [
            [
             0,
             "#8e0152"
            ],
            [
             0.1,
             "#c51b7d"
            ],
            [
             0.2,
             "#de77ae"
            ],
            [
             0.3,
             "#f1b6da"
            ],
            [
             0.4,
             "#fde0ef"
            ],
            [
             0.5,
             "#f7f7f7"
            ],
            [
             0.6,
             "#e6f5d0"
            ],
            [
             0.7,
             "#b8e186"
            ],
            [
             0.8,
             "#7fbc41"
            ],
            [
             0.9,
             "#4d9221"
            ],
            [
             1,
             "#276419"
            ]
           ],
           "sequential": [
            [
             0,
             "#0d0887"
            ],
            [
             0.1111111111111111,
             "#46039f"
            ],
            [
             0.2222222222222222,
             "#7201a8"
            ],
            [
             0.3333333333333333,
             "#9c179e"
            ],
            [
             0.4444444444444444,
             "#bd3786"
            ],
            [
             0.5555555555555556,
             "#d8576b"
            ],
            [
             0.6666666666666666,
             "#ed7953"
            ],
            [
             0.7777777777777778,
             "#fb9f3a"
            ],
            [
             0.8888888888888888,
             "#fdca26"
            ],
            [
             1,
             "#f0f921"
            ]
           ],
           "sequentialminus": [
            [
             0,
             "#0d0887"
            ],
            [
             0.1111111111111111,
             "#46039f"
            ],
            [
             0.2222222222222222,
             "#7201a8"
            ],
            [
             0.3333333333333333,
             "#9c179e"
            ],
            [
             0.4444444444444444,
             "#bd3786"
            ],
            [
             0.5555555555555556,
             "#d8576b"
            ],
            [
             0.6666666666666666,
             "#ed7953"
            ],
            [
             0.7777777777777778,
             "#fb9f3a"
            ],
            [
             0.8888888888888888,
             "#fdca26"
            ],
            [
             1,
             "#f0f921"
            ]
           ]
          },
          "colorway": [
           "#636efa",
           "#EF553B",
           "#00cc96",
           "#ab63fa",
           "#FFA15A",
           "#19d3f3",
           "#FF6692",
           "#B6E880",
           "#FF97FF",
           "#FECB52"
          ],
          "font": {
           "color": "#2a3f5f"
          },
          "geo": {
           "bgcolor": "white",
           "lakecolor": "white",
           "landcolor": "#E5ECF6",
           "showlakes": true,
           "showland": true,
           "subunitcolor": "white"
          },
          "hoverlabel": {
           "align": "left"
          },
          "hovermode": "closest",
          "mapbox": {
           "style": "light"
          },
          "paper_bgcolor": "white",
          "plot_bgcolor": "#E5ECF6",
          "polar": {
           "angularaxis": {
            "gridcolor": "white",
            "linecolor": "white",
            "ticks": ""
           },
           "bgcolor": "#E5ECF6",
           "radialaxis": {
            "gridcolor": "white",
            "linecolor": "white",
            "ticks": ""
           }
          },
          "scene": {
           "xaxis": {
            "backgroundcolor": "#E5ECF6",
            "gridcolor": "white",
            "gridwidth": 2,
            "linecolor": "white",
            "showbackground": true,
            "ticks": "",
            "zerolinecolor": "white"
           },
           "yaxis": {
            "backgroundcolor": "#E5ECF6",
            "gridcolor": "white",
            "gridwidth": 2,
            "linecolor": "white",
            "showbackground": true,
            "ticks": "",
            "zerolinecolor": "white"
           },
           "zaxis": {
            "backgroundcolor": "#E5ECF6",
            "gridcolor": "white",
            "gridwidth": 2,
            "linecolor": "white",
            "showbackground": true,
            "ticks": "",
            "zerolinecolor": "white"
           }
          },
          "shapedefaults": {
           "line": {
            "color": "#2a3f5f"
           }
          },
          "ternary": {
           "aaxis": {
            "gridcolor": "white",
            "linecolor": "white",
            "ticks": ""
           },
           "baxis": {
            "gridcolor": "white",
            "linecolor": "white",
            "ticks": ""
           },
           "bgcolor": "#E5ECF6",
           "caxis": {
            "gridcolor": "white",
            "linecolor": "white",
            "ticks": ""
           }
          },
          "title": {
           "x": 0.05
          },
          "xaxis": {
           "automargin": true,
           "gridcolor": "white",
           "linecolor": "white",
           "ticks": "",
           "title": {
            "standoff": 15
           },
           "zerolinecolor": "white",
           "zerolinewidth": 2
          },
          "yaxis": {
           "automargin": true,
           "gridcolor": "white",
           "linecolor": "white",
           "ticks": "",
           "title": {
            "standoff": 15
           },
           "zerolinecolor": "white",
           "zerolinewidth": 2
          }
         }
        },
        "title": {
         "text": "Radar"
        }
       }
      },
      "text/html": [
       "<div>                            <div id=\"fcec5991-1204-428a-bd93-222fb3682d52\" class=\"plotly-graph-div\" style=\"height:525px; width:100%;\"></div>            <script type=\"text/javascript\">                require([\"plotly\"], function(Plotly) {                    window.PLOTLYENV=window.PLOTLYENV || {};                                    if (document.getElementById(\"fcec5991-1204-428a-bd93-222fb3682d52\")) {                    Plotly.newPlot(                        \"fcec5991-1204-428a-bd93-222fb3682d52\",                        [{\"hovertemplate\":\"r=%{r}<br>theta=%{theta}<extra></extra>\",\"legendgroup\":\"\",\"line\":{\"color\":\"#636efa\",\"dash\":\"solid\"},\"marker\":{\"symbol\":\"circle\"},\"mode\":\"lines\",\"name\":\"\",\"r\":[7.183,10.796,0.94,73.9,0.914,0.159,0.442,7.183],\"showlegend\":false,\"subplot\":\"polar\",\"theta\":[\"Ladder score\",\"Logged GDP per capita\",\"Social support\",\"Healthy life expectancy\",\"Freedom to make life choices\",\"Generosity\",\"Perceptions of corruption\",\"Ladder score\"],\"type\":\"scatterpolar\",\"fill\":\"toself\"}],                        {\"template\":{\"data\":{\"histogram2dcontour\":[{\"type\":\"histogram2dcontour\",\"colorbar\":{\"outlinewidth\":0,\"ticks\":\"\"},\"colorscale\":[[0.0,\"#0d0887\"],[0.1111111111111111,\"#46039f\"],[0.2222222222222222,\"#7201a8\"],[0.3333333333333333,\"#9c179e\"],[0.4444444444444444,\"#bd3786\"],[0.5555555555555556,\"#d8576b\"],[0.6666666666666666,\"#ed7953\"],[0.7777777777777778,\"#fb9f3a\"],[0.8888888888888888,\"#fdca26\"],[1.0,\"#f0f921\"]]}],\"choropleth\":[{\"type\":\"choropleth\",\"colorbar\":{\"outlinewidth\":0,\"ticks\":\"\"}}],\"histogram2d\":[{\"type\":\"histogram2d\",\"colorbar\":{\"outlinewidth\":0,\"ticks\":\"\"},\"colorscale\":[[0.0,\"#0d0887\"],[0.1111111111111111,\"#46039f\"],[0.2222222222222222,\"#7201a8\"],[0.3333333333333333,\"#9c179e\"],[0.4444444444444444,\"#bd3786\"],[0.5555555555555556,\"#d8576b\"],[0.6666666666666666,\"#ed7953\"],[0.7777777777777778,\"#fb9f3a\"],[0.8888888888888888,\"#fdca26\"],[1.0,\"#f0f921\"]]}],\"heatmap\":[{\"type\":\"heatmap\",\"colorbar\":{\"outlinewidth\":0,\"ticks\":\"\"},\"colorscale\":[[0.0,\"#0d0887\"],[0.1111111111111111,\"#46039f\"],[0.2222222222222222,\"#7201a8\"],[0.3333333333333333,\"#9c179e\"],[0.4444444444444444,\"#bd3786\"],[0.5555555555555556,\"#d8576b\"],[0.6666666666666666,\"#ed7953\"],[0.7777777777777778,\"#fb9f3a\"],[0.8888888888888888,\"#fdca26\"],[1.0,\"#f0f921\"]]}],\"heatmapgl\":[{\"type\":\"heatmapgl\",\"colorbar\":{\"outlinewidth\":0,\"ticks\":\"\"},\"colorscale\":[[0.0,\"#0d0887\"],[0.1111111111111111,\"#46039f\"],[0.2222222222222222,\"#7201a8\"],[0.3333333333333333,\"#9c179e\"],[0.4444444444444444,\"#bd3786\"],[0.5555555555555556,\"#d8576b\"],[0.6666666666666666,\"#ed7953\"],[0.7777777777777778,\"#fb9f3a\"],[0.8888888888888888,\"#fdca26\"],[1.0,\"#f0f921\"]]}],\"contourcarpet\":[{\"type\":\"contourcarpet\",\"colorbar\":{\"outlinewidth\":0,\"ticks\":\"\"}}],\"contour\":[{\"type\":\"contour\",\"colorbar\":{\"outlinewidth\":0,\"ticks\":\"\"},\"colorscale\":[[0.0,\"#0d0887\"],[0.1111111111111111,\"#46039f\"],[0.2222222222222222,\"#7201a8\"],[0.3333333333333333,\"#9c179e\"],[0.4444444444444444,\"#bd3786\"],[0.5555555555555556,\"#d8576b\"],[0.6666666666666666,\"#ed7953\"],[0.7777777777777778,\"#fb9f3a\"],[0.8888888888888888,\"#fdca26\"],[1.0,\"#f0f921\"]]}],\"surface\":[{\"type\":\"surface\",\"colorbar\":{\"outlinewidth\":0,\"ticks\":\"\"},\"colorscale\":[[0.0,\"#0d0887\"],[0.1111111111111111,\"#46039f\"],[0.2222222222222222,\"#7201a8\"],[0.3333333333333333,\"#9c179e\"],[0.4444444444444444,\"#bd3786\"],[0.5555555555555556,\"#d8576b\"],[0.6666666666666666,\"#ed7953\"],[0.7777777777777778,\"#fb9f3a\"],[0.8888888888888888,\"#fdca26\"],[1.0,\"#f0f921\"]]}],\"mesh3d\":[{\"type\":\"mesh3d\",\"colorbar\":{\"outlinewidth\":0,\"ticks\":\"\"}}],\"scatter\":[{\"fillpattern\":{\"fillmode\":\"overlay\",\"size\":10,\"solidity\":0.2},\"type\":\"scatter\"}],\"parcoords\":[{\"type\":\"parcoords\",\"line\":{\"colorbar\":{\"outlinewidth\":0,\"ticks\":\"\"}}}],\"scatterpolargl\":[{\"type\":\"scatterpolargl\",\"marker\":{\"colorbar\":{\"outlinewidth\":0,\"ticks\":\"\"}}}],\"bar\":[{\"error_x\":{\"color\":\"#2a3f5f\"},\"error_y\":{\"color\":\"#2a3f5f\"},\"marker\":{\"line\":{\"color\":\"#E5ECF6\",\"width\":0.5},\"pattern\":{\"fillmode\":\"overlay\",\"size\":10,\"solidity\":0.2}},\"type\":\"bar\"}],\"scattergeo\":[{\"type\":\"scattergeo\",\"marker\":{\"colorbar\":{\"outlinewidth\":0,\"ticks\":\"\"}}}],\"scatterpolar\":[{\"type\":\"scatterpolar\",\"marker\":{\"colorbar\":{\"outlinewidth\":0,\"ticks\":\"\"}}}],\"histogram\":[{\"marker\":{\"pattern\":{\"fillmode\":\"overlay\",\"size\":10,\"solidity\":0.2}},\"type\":\"histogram\"}],\"scattergl\":[{\"type\":\"scattergl\",\"marker\":{\"colorbar\":{\"outlinewidth\":0,\"ticks\":\"\"}}}],\"scatter3d\":[{\"type\":\"scatter3d\",\"line\":{\"colorbar\":{\"outlinewidth\":0,\"ticks\":\"\"}},\"marker\":{\"colorbar\":{\"outlinewidth\":0,\"ticks\":\"\"}}}],\"scattermapbox\":[{\"type\":\"scattermapbox\",\"marker\":{\"colorbar\":{\"outlinewidth\":0,\"ticks\":\"\"}}}],\"scatterternary\":[{\"type\":\"scatterternary\",\"marker\":{\"colorbar\":{\"outlinewidth\":0,\"ticks\":\"\"}}}],\"scattercarpet\":[{\"type\":\"scattercarpet\",\"marker\":{\"colorbar\":{\"outlinewidth\":0,\"ticks\":\"\"}}}],\"carpet\":[{\"aaxis\":{\"endlinecolor\":\"#2a3f5f\",\"gridcolor\":\"white\",\"linecolor\":\"white\",\"minorgridcolor\":\"white\",\"startlinecolor\":\"#2a3f5f\"},\"baxis\":{\"endlinecolor\":\"#2a3f5f\",\"gridcolor\":\"white\",\"linecolor\":\"white\",\"minorgridcolor\":\"white\",\"startlinecolor\":\"#2a3f5f\"},\"type\":\"carpet\"}],\"table\":[{\"cells\":{\"fill\":{\"color\":\"#EBF0F8\"},\"line\":{\"color\":\"white\"}},\"header\":{\"fill\":{\"color\":\"#C8D4E3\"},\"line\":{\"color\":\"white\"}},\"type\":\"table\"}],\"barpolar\":[{\"marker\":{\"line\":{\"color\":\"#E5ECF6\",\"width\":0.5},\"pattern\":{\"fillmode\":\"overlay\",\"size\":10,\"solidity\":0.2}},\"type\":\"barpolar\"}],\"pie\":[{\"automargin\":true,\"type\":\"pie\"}]},\"layout\":{\"autotypenumbers\":\"strict\",\"colorway\":[\"#636efa\",\"#EF553B\",\"#00cc96\",\"#ab63fa\",\"#FFA15A\",\"#19d3f3\",\"#FF6692\",\"#B6E880\",\"#FF97FF\",\"#FECB52\"],\"font\":{\"color\":\"#2a3f5f\"},\"hovermode\":\"closest\",\"hoverlabel\":{\"align\":\"left\"},\"paper_bgcolor\":\"white\",\"plot_bgcolor\":\"#E5ECF6\",\"polar\":{\"bgcolor\":\"#E5ECF6\",\"angularaxis\":{\"gridcolor\":\"white\",\"linecolor\":\"white\",\"ticks\":\"\"},\"radialaxis\":{\"gridcolor\":\"white\",\"linecolor\":\"white\",\"ticks\":\"\"}},\"ternary\":{\"bgcolor\":\"#E5ECF6\",\"aaxis\":{\"gridcolor\":\"white\",\"linecolor\":\"white\",\"ticks\":\"\"},\"baxis\":{\"gridcolor\":\"white\",\"linecolor\":\"white\",\"ticks\":\"\"},\"caxis\":{\"gridcolor\":\"white\",\"linecolor\":\"white\",\"ticks\":\"\"}},\"coloraxis\":{\"colorbar\":{\"outlinewidth\":0,\"ticks\":\"\"}},\"colorscale\":{\"sequential\":[[0.0,\"#0d0887\"],[0.1111111111111111,\"#46039f\"],[0.2222222222222222,\"#7201a8\"],[0.3333333333333333,\"#9c179e\"],[0.4444444444444444,\"#bd3786\"],[0.5555555555555556,\"#d8576b\"],[0.6666666666666666,\"#ed7953\"],[0.7777777777777778,\"#fb9f3a\"],[0.8888888888888888,\"#fdca26\"],[1.0,\"#f0f921\"]],\"sequentialminus\":[[0.0,\"#0d0887\"],[0.1111111111111111,\"#46039f\"],[0.2222222222222222,\"#7201a8\"],[0.3333333333333333,\"#9c179e\"],[0.4444444444444444,\"#bd3786\"],[0.5555555555555556,\"#d8576b\"],[0.6666666666666666,\"#ed7953\"],[0.7777777777777778,\"#fb9f3a\"],[0.8888888888888888,\"#fdca26\"],[1.0,\"#f0f921\"]],\"diverging\":[[0,\"#8e0152\"],[0.1,\"#c51b7d\"],[0.2,\"#de77ae\"],[0.3,\"#f1b6da\"],[0.4,\"#fde0ef\"],[0.5,\"#f7f7f7\"],[0.6,\"#e6f5d0\"],[0.7,\"#b8e186\"],[0.8,\"#7fbc41\"],[0.9,\"#4d9221\"],[1,\"#276419\"]]},\"xaxis\":{\"gridcolor\":\"white\",\"linecolor\":\"white\",\"ticks\":\"\",\"title\":{\"standoff\":15},\"zerolinecolor\":\"white\",\"automargin\":true,\"zerolinewidth\":2},\"yaxis\":{\"gridcolor\":\"white\",\"linecolor\":\"white\",\"ticks\":\"\",\"title\":{\"standoff\":15},\"zerolinecolor\":\"white\",\"automargin\":true,\"zerolinewidth\":2},\"scene\":{\"xaxis\":{\"backgroundcolor\":\"#E5ECF6\",\"gridcolor\":\"white\",\"linecolor\":\"white\",\"showbackground\":true,\"ticks\":\"\",\"zerolinecolor\":\"white\",\"gridwidth\":2},\"yaxis\":{\"backgroundcolor\":\"#E5ECF6\",\"gridcolor\":\"white\",\"linecolor\":\"white\",\"showbackground\":true,\"ticks\":\"\",\"zerolinecolor\":\"white\",\"gridwidth\":2},\"zaxis\":{\"backgroundcolor\":\"#E5ECF6\",\"gridcolor\":\"white\",\"linecolor\":\"white\",\"showbackground\":true,\"ticks\":\"\",\"zerolinecolor\":\"white\",\"gridwidth\":2}},\"shapedefaults\":{\"line\":{\"color\":\"#2a3f5f\"}},\"annotationdefaults\":{\"arrowcolor\":\"#2a3f5f\",\"arrowhead\":0,\"arrowwidth\":1},\"geo\":{\"bgcolor\":\"white\",\"landcolor\":\"#E5ECF6\",\"subunitcolor\":\"white\",\"showland\":true,\"showlakes\":true,\"lakecolor\":\"white\"},\"title\":{\"x\":0.05},\"mapbox\":{\"style\":\"light\"}}},\"polar\":{\"domain\":{\"x\":[0.0,1.0],\"y\":[0.0,1.0]},\"angularaxis\":{\"direction\":\"clockwise\",\"rotation\":90},\"radialaxis\":{\"range\":[0,1]}},\"legend\":{\"tracegroupgap\":0},\"title\":{\"text\":\"Radar\"}},                        {\"responsive\": true}                    ).then(function(){\n",
       "                            \n",
       "var gd = document.getElementById('fcec5991-1204-428a-bd93-222fb3682d52');\n",
       "var x = new MutationObserver(function (mutations, observer) {{\n",
       "        var display = window.getComputedStyle(gd).display;\n",
       "        if (!display || display === 'none') {{\n",
       "            console.log([gd, 'removed!']);\n",
       "            Plotly.purge(gd);\n",
       "            observer.disconnect();\n",
       "        }}\n",
       "}});\n",
       "\n",
       "// Listen for the removal of the full notebook cells\n",
       "var notebookContainer = gd.closest('#notebook-container');\n",
       "if (notebookContainer) {{\n",
       "    x.observe(notebookContainer, {childList: true});\n",
       "}}\n",
       "\n",
       "// Listen for the clearing of the current output cell\n",
       "var outputEl = gd.closest('.output');\n",
       "if (outputEl) {{\n",
       "    x.observe(outputEl, {childList: true});\n",
       "}}\n",
       "\n",
       "                        })                };                });            </script>        </div>"
      ]
     },
     "metadata": {},
     "output_type": "display_data"
    }
   ],
   "source": [
    "fig = px.line_polar(\n",
    "                    r=df_happy_2021[interesting_columns].loc[10].values,\n",
    "                    theta=df_happy_2021[interesting_columns].columns,\n",
    "                    line_close=True,\n",
    "                    range_r = [0,1],\n",
    "                    title=\"Radar\")\n",
    "\n",
    "fig.update_traces(fill='toself')\n",
    "fig.show()"
   ]
  },
  {
   "cell_type": "markdown",
   "id": "388a1c5d",
   "metadata": {},
   "source": [
    "TODO : ajouter schemas de Mohamed ici "
   ]
  }
 ],
 "metadata": {
  "kernelspec": {
   "display_name": "Python 3 (ipykernel)",
   "language": "python",
   "name": "python3"
  },
  "language_info": {
   "codemirror_mode": {
    "name": "ipython",
    "version": 3
   },
   "file_extension": ".py",
   "mimetype": "text/x-python",
   "name": "python",
   "nbconvert_exporter": "python",
   "pygments_lexer": "ipython3",
   "version": "3.8.5"
  }
 },
 "nbformat": 4,
 "nbformat_minor": 5
}
