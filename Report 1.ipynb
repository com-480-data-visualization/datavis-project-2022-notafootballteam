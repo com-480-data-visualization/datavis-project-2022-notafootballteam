{
 "cells": [
  {
   "cell_type": "markdown",
   "id": "624be9d9",
   "metadata": {},
   "source": [
    "# Dataviz report 1"
   ]
  },
  {
   "cell_type": "markdown",
   "id": "2ee10e79",
   "metadata": {},
   "source": [
    "### World hapiness report content explained"
   ]
  },
  {
   "cell_type": "markdown",
   "id": "4eaaa7fb",
   "metadata": {},
   "source": [
    "The dataset contains per year (2006-2022 differs per country) scores for happiness for each country, and the estimated extent to which the following 6 factors (columns) contribute to make life evaluations higher : \n",
    "- Econimic production \n",
    "- Social support\n",
    "- Life expectency\n",
    "- Freedom\n",
    "- Absence of corruption\n",
    "- Generosity\n",
    "\n",
    "The sample size for each country is 1,000 people.\n",
    "To get the scores respondents are asked to rate their own lives on a 0 to 10 scale."
   ]
  },
  {
   "cell_type": "markdown",
   "id": "b1d09e96",
   "metadata": {},
   "source": [
    "### Alcohol consumption per capita, year and country\n",
    "The dataset contains yearly alcohol consumption per capita for each country of the world"
   ]
  }
 ],
 "metadata": {
  "kernelspec": {
   "display_name": "Python 3 (ipykernel)",
   "language": "python",
   "name": "python3"
  },
  "language_info": {
   "codemirror_mode": {
    "name": "ipython",
    "version": 3
   },
   "file_extension": ".py",
   "mimetype": "text/x-python",
   "name": "python",
   "nbconvert_exporter": "python",
   "pygments_lexer": "ipython3",
   "version": "3.9.7"
  }
 },
 "nbformat": 4,
 "nbformat_minor": 5
}
