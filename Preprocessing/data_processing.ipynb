{
 "cells": [
  {
   "cell_type": "code",
   "execution_count": null,
   "id": "44d9c721",
   "metadata": {},
   "outputs": [],
   "source": [
    "import pandas as pd\n",
    "import pycountry\n",
    "import numpy as np"
   ]
  },
  {
   "cell_type": "code",
   "execution_count": null,
   "id": "941db02d",
   "metadata": {},
   "outputs": [],
   "source": [
    "PATH_HAPPY = \"../Data/world-happiness-report.csv\"\n",
    "PATH_HAPPY_2021 = \"../Data/world-happiness-report-2021.csv\"\n",
    "PATH_ALCOHOL = \"../Data/alcohol-consumption.csv\""
   ]
  },
  {
   "cell_type": "markdown",
   "id": "76f875b5",
   "metadata": {},
   "source": [
    "# Data Processing"
   ]
  },
  {
   "cell_type": "code",
   "execution_count": null,
   "id": "329f5dc4",
   "metadata": {
    "scrolled": true
   },
   "outputs": [],
   "source": [
    "df_happy_2021 = pd.read_csv(PATH_HAPPY_2021)\n",
    "df_happy_2021.head()"
   ]
  },
  {
   "cell_type": "code",
   "execution_count": null,
   "id": "80cc8507",
   "metadata": {
    "scrolled": true
   },
   "outputs": [],
   "source": [
    "df_happy = pd.read_csv(PATH_HAPPY)\n",
    "df_happy"
   ]
  },
  {
   "cell_type": "markdown",
   "id": "c6009955",
   "metadata": {},
   "source": [
    "### Happiness data concatenation"
   ]
  },
  {
   "cell_type": "markdown",
   "id": "cec82457",
   "metadata": {},
   "source": [
    "Let's take a look at the range of the historical data."
   ]
  },
  {
   "cell_type": "code",
   "execution_count": null,
   "id": "cfe035c8",
   "metadata": {},
   "outputs": [],
   "source": [
    "df_happy[\"year\"].describe()"
   ]
  },
  {
   "cell_type": "markdown",
   "id": "bca16c7c",
   "metadata": {},
   "source": [
    "Historical data goes from 2005 to 2020. "
   ]
  },
  {
   "cell_type": "markdown",
   "id": "f473db07",
   "metadata": {},
   "source": [
    "We will first harominze the names of the columns in the 2021 set, in order to be ablte to merge them easily with the historical data."
   ]
  },
  {
   "cell_type": "code",
   "execution_count": null,
   "id": "b90cdf2a",
   "metadata": {},
   "outputs": [],
   "source": [
    "# let's include the year in the current dataset\n",
    "df_happy_2021[\"year\"] = 2021"
   ]
  },
  {
   "cell_type": "code",
   "execution_count": null,
   "id": "1b4cd112",
   "metadata": {},
   "outputs": [],
   "source": [
    "rename_columns = {'Ladder score':'Life Ladder', 'Logged GDP per capita':'Log GDP per capita',\n",
    "'Healthy life expectancy':'Healthy life expectancy at birth'}"
   ]
  },
  {
   "cell_type": "code",
   "execution_count": null,
   "id": "dc3fb1c1",
   "metadata": {},
   "outputs": [],
   "source": [
    "df_happy_2021 = df_happy_2021.rename(columns = rename_columns)"
   ]
  },
  {
   "cell_type": "markdown",
   "id": "fda03996",
   "metadata": {},
   "source": [
    "Let's now concatenate the two sets. For consistency reasons, we'll take only the columns already present into the historical set and the 2021 set. Note that in this case, this does not exclude any observed statistics, only those columns which were computed directly from the others. "
   ]
  },
  {
   "cell_type": "code",
   "execution_count": null,
   "id": "dff60c8c",
   "metadata": {},
   "outputs": [],
   "source": [
    "df = pd.concat([df_happy, df_happy_2021], join=\"inner\", ignore_index=True)"
   ]
  },
  {
   "cell_type": "code",
   "execution_count": null,
   "id": "e4f58e9f",
   "metadata": {},
   "outputs": [],
   "source": [
    "df"
   ]
  },
  {
   "cell_type": "markdown",
   "id": "ff7e81ff",
   "metadata": {},
   "source": [
    "### Adding country codes "
   ]
  },
  {
   "cell_type": "markdown",
   "id": "246a850b",
   "metadata": {},
   "source": [
    "To ensure consistency and completeness between both our datasets and external datasets further used for visualization,\n",
    "we will add country codes following the ISO standards and rename the countries according to those same ISO standards."
   ]
  },
  {
   "cell_type": "code",
   "execution_count": null,
   "id": "59901f05",
   "metadata": {},
   "outputs": [],
   "source": [
    "# We built here a list of country names that were not standard and their standard conversion. \n",
    "names_conversion = {\"Czech Republic\": \"Czechia\", \n",
    "                    \"Taiwan Province of China\": \"Taiwan, Province of China\", \n",
    "                    \"South Korea\": \"Korea, Republic of\", \n",
    "                    \"Moldova\": \"Moldova, Republic of\", \n",
    "                    \"Bolivia\": \"Bolivia, Plurinational State of\", \n",
    "                    \"Russia\" : \"Russian Federation\", \n",
    "                    \"Hong Kong S.A.R. of China\": \"Hong Kong\", \n",
    "                    \"Vietnam\": \"Viet Nam\", \n",
    "                    \"Congo (Brazzaville)\": \"Congo\",\n",
    "                    \"Congo (Kinshasa)\": \"Congo, The Democratic Republic of the\",\n",
    "                    \"Ivory Coast\": \"Côte d'Ivoire\",\n",
    "                    \"Laos\": \"Lao People's Democratic Republic\", \n",
    "                    \"Venezuela\": \"Venezuela, Bolivarian Republic of\",\n",
    "                    \"Iran\": \"Iran, Islamic Republic of\", \n",
    "                    \"Palestinian Territories\": \"Palestine, State of\", \n",
    "                    \"Swaziland\": \"Eswatini\",\n",
    "                    \"Syria\": \"Syrian Arab Republic\",\n",
    "                    \"Tanzania\": \"Tanzania, United Republic of\"}"
   ]
  },
  {
   "cell_type": "code",
   "execution_count": null,
   "id": "fd794ae9",
   "metadata": {},
   "outputs": [],
   "source": [
    "df[\"Country name\"] = df[\"Country name\"].replace(names_conversion)"
   ]
  },
  {
   "cell_type": "markdown",
   "id": "03a0b746",
   "metadata": {},
   "source": [
    "We will use the pycountry library and retrieve the iso_2 and iso_3 codes for country names. "
   ]
  },
  {
   "cell_type": "code",
   "execution_count": null,
   "id": "0f5870e1",
   "metadata": {
    "scrolled": true
   },
   "outputs": [],
   "source": [
    "input_countries = [a for a in df[\"Country name\"].to_numpy()]\n",
    "countries_2 = {}\n",
    "countries_3 = {}\n",
    "for country in pycountry.countries:\n",
    "    countries_2[country.name] = country.alpha_2\n",
    "    countries_3[country.name] = country.alpha_3\n",
    "    \n",
    "codes_2 = [countries_2.get(country, 'Unknown code') for country in input_countries]\n",
    "codes_3 = [countries_3.get(country, 'Unknown code') for country in input_countries]\n",
    "\n",
    "df[\"iso_2\"] = codes_2\n",
    "df[\"iso_3\"] = codes_3"
   ]
  },
  {
   "cell_type": "code",
   "execution_count": null,
   "id": "3d5ccf6c",
   "metadata": {
    "scrolled": true
   },
   "outputs": [],
   "source": [
    "df[df['iso_3'] == \"Unknown code\"]"
   ]
  },
  {
   "cell_type": "markdown",
   "id": "751225ce",
   "metadata": {},
   "source": [
    "Kosovo and North Cyprus don't benefit of full international recognition and do not have official country codes. \n",
    "However, for completion reasons, we will manually input their temporary country codes.\n",
    "Regarding Somaliland region, most of the data being NaN, we will simply exclude it from our dataset. "
   ]
  },
  {
   "cell_type": "code",
   "execution_count": null,
   "id": "4822bc94",
   "metadata": {},
   "outputs": [],
   "source": [
    "# some iso standards are not yet define. We enter by hand the temporary ones. \n",
    "df.loc[df[\"Country name\"] == \"Kosovo\", \"iso_2\"] = \"XK\"\n",
    "df.loc[df[\"Country name\"] == \"Kosovo\", \"iso_3\"] = \"XKX\"\n",
    "df.loc[df[\"Country name\"] == \"North Cyprus\", \"iso_2\"] = \"CTR\"\n",
    "df.loc[df[\"Country name\"] == \"North Cyprus\", \"iso_3\"] = \"CTR\""
   ]
  },
  {
   "cell_type": "code",
   "execution_count": null,
   "id": "15fe2b4f",
   "metadata": {},
   "outputs": [],
   "source": [
    "df = df[df[\"Country name\"] != \"Somaliland region\"]"
   ]
  },
  {
   "cell_type": "code",
   "execution_count": null,
   "id": "f45697f2",
   "metadata": {
    "scrolled": true
   },
   "outputs": [],
   "source": [
    "df[df['iso_3'] == \"Unknown code\"]"
   ]
  },
  {
   "cell_type": "markdown",
   "id": "9b075223",
   "metadata": {},
   "source": [
    "Therefore now, all our country codes appear to be included. This will tremendously facilitate \n",
    "join operations with other sets. "
   ]
  },
  {
   "cell_type": "code",
   "execution_count": null,
   "id": "633cffb8",
   "metadata": {
    "scrolled": true
   },
   "outputs": [],
   "source": [
    "df.head()"
   ]
  },
  {
   "cell_type": "markdown",
   "id": "d8e58ca6",
   "metadata": {},
   "source": [
    "Let's take a look at the completeness of this dataset. "
   ]
  },
  {
   "cell_type": "code",
   "execution_count": null,
   "id": "6129a835",
   "metadata": {
    "scrolled": true
   },
   "outputs": [],
   "source": [
    "df.groupby(['Country name'])['Country name'].count()"
   ]
  },
  {
   "cell_type": "markdown",
   "id": "75637890",
   "metadata": {},
   "source": [
    "We clearly see some years are missing for some data. Let's solve that by adding NaN values lines inbetween. "
   ]
  },
  {
   "cell_type": "code",
   "execution_count": null,
   "id": "2963a780",
   "metadata": {
    "scrolled": true
   },
   "outputs": [],
   "source": [
    "# we set an index as \"iso_3/Year\"\n",
    "df.set_index(['iso_3', 'year'], inplace=True)\n",
    "df"
   ]
  },
  {
   "cell_type": "code",
   "execution_count": null,
   "id": "87b94ef3",
   "metadata": {
    "scrolled": true
   },
   "outputs": [],
   "source": [
    "# then we reconstruct a combination of all indices and reindex\n",
    "index = pd.MultiIndex.from_product(df.index.levels)\n",
    "df = df.reindex(index)"
   ]
  },
  {
   "cell_type": "markdown",
   "id": "7c9d09fd",
   "metadata": {},
   "source": [
    "### Including alcohol consumption data"
   ]
  },
  {
   "cell_type": "code",
   "execution_count": null,
   "id": "e5517406",
   "metadata": {},
   "outputs": [],
   "source": [
    "df_alcohol = pd.read_csv(PATH_ALCOHOL)"
   ]
  },
  {
   "cell_type": "code",
   "execution_count": null,
   "id": "93d76850",
   "metadata": {},
   "outputs": [],
   "source": [
    "df_alcohol"
   ]
  },
  {
   "cell_type": "code",
   "execution_count": null,
   "id": "9c1cfc11",
   "metadata": {},
   "outputs": [],
   "source": [
    "df_alcohol[\"Year\"].describe()"
   ]
  },
  {
   "cell_type": "markdown",
   "id": "1611881e",
   "metadata": {},
   "source": [
    "Regarding alcohol consumption, our data ranges from 2005 to 2018. However, a quick eyeball shows the data as being relatively incomplete (Afghanistan for example, only contains 2010, 2015 and 2018 data). Once our data will be merged with the happiness dataframe, we will have NaN values for many years. However we should be able to easily interpolate, using the prebuilt `df.interpolate()` function. "
   ]
  },
  {
   "cell_type": "code",
   "execution_count": null,
   "id": "8a4744a2",
   "metadata": {},
   "outputs": [],
   "source": [
    "# we do define the same index as the previous set, to facilitate the Join operation\n",
    "df_alcohol = df_alcohol.rename(columns = {'Year':'year', 'Code':'iso_3', \"Total alcohol consumption per capita (liters of pure alcohol, projected estimates, 15+ years of age)\": \"Alcohol consumption\"})\n",
    "df_alcohol.set_index(['year', 'iso_3'], inplace=True)"
   ]
  },
  {
   "cell_type": "code",
   "execution_count": null,
   "id": "fbdac6d8",
   "metadata": {
    "scrolled": true
   },
   "outputs": [],
   "source": [
    "df_alcohol"
   ]
  },
  {
   "cell_type": "code",
   "execution_count": null,
   "id": "761fc274",
   "metadata": {
    "scrolled": true
   },
   "outputs": [],
   "source": [
    "df = df.merge(right = df_alcohol, how = \"left\", on = [\"iso_3\", \"year\"])\n",
    "df"
   ]
  },
  {
   "cell_type": "markdown",
   "id": "e2b1a748",
   "metadata": {},
   "source": [
    "### Interpolate"
   ]
  },
  {
   "cell_type": "markdown",
   "id": "81c23ae2",
   "metadata": {},
   "source": [
    "We will interpolate all the possible values and fill the gaps with the closest values, linearly. Note that for countries where only NaN values are available "
   ]
  },
  {
   "cell_type": "code",
   "execution_count": null,
   "id": "72400054",
   "metadata": {
    "scrolled": true
   },
   "outputs": [],
   "source": [
    "df = df.groupby(\"iso_3\").apply(\n",
    "    lambda group: group.interpolate(method = \"linear\", limit_direction = \n",
    "                                    \"both\").fillna(method = \"ffill\").fillna(method = \"bfill\"))"
   ]
  },
  {
   "cell_type": "markdown",
   "id": "8e2ea618",
   "metadata": {},
   "source": [
    "### Outliers"
   ]
  },
  {
   "cell_type": "markdown",
   "id": "b91ef71f",
   "metadata": {},
   "source": [
    "In order to identify outliers, we will use an \"outlier rate\", meaning the ratio of `Life Ladder/Log GDP per capita`. The higher the ratio, the happier the country compared to what it should be based on its inhabitants financial ressources alone. "
   ]
  },
  {
   "cell_type": "code",
   "execution_count": null,
   "id": "954dcd5b",
   "metadata": {},
   "outputs": [],
   "source": [
    "df[\"Happiness/GDP cap.\"] = df[\"Life Ladder\"]/df[\"Log GDP per capita\"]\n",
    "df"
   ]
  },
  {
   "cell_type": "markdown",
   "id": "90e6c8b5",
   "metadata": {},
   "source": [
    "As a quick view, our main outliers are shown below. "
   ]
  },
  {
   "cell_type": "code",
   "execution_count": null,
   "id": "085c612a",
   "metadata": {
    "scrolled": true
   },
   "outputs": [],
   "source": [
    "df.sort_values(\"Happiness/GDP cap.\", ascending = False).head()"
   ]
  },
  {
   "cell_type": "markdown",
   "id": "8e1a36c7",
   "metadata": {},
   "source": [
    "# Export "
   ]
  },
  {
   "cell_type": "markdown",
   "id": "2d2f7af3",
   "metadata": {},
   "source": [
    "Now we will export those data year by year in a csv format. The goal is to be easily \n",
    "reusable without further computation in our website."
   ]
  },
  {
   "cell_type": "code",
   "execution_count": null,
   "id": "507f08fe",
   "metadata": {},
   "outputs": [],
   "source": [
    "export_path = \"../Data/Processed/\""
   ]
  },
  {
   "cell_type": "code",
   "execution_count": null,
   "id": "5f93981f",
   "metadata": {},
   "outputs": [],
   "source": [
    "for year in df.index.levels[1]:\n",
    "    df.to_csv(export_path+\"data_\"+str(year)+\".csv\")"
   ]
  },
  {
   "cell_type": "code",
   "execution_count": null,
   "id": "9dd52065",
   "metadata": {},
   "outputs": [],
   "source": []
  }
 ],
 "metadata": {
  "kernelspec": {
   "display_name": "Python 3 (ipykernel)",
   "language": "python",
   "name": "python3"
  },
  "language_info": {
   "codemirror_mode": {
    "name": "ipython",
    "version": 3
   },
   "file_extension": ".py",
   "mimetype": "text/x-python",
   "name": "python",
   "nbconvert_exporter": "python",
   "pygments_lexer": "ipython3",
   "version": "3.7.2"
  }
 },
 "nbformat": 4,
 "nbformat_minor": 5
}
