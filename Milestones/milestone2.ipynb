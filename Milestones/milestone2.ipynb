{
 "cells": [
  {
   "cell_type": "code",
   "execution_count": null,
   "id": "96b1aabd",
   "metadata": {},
   "outputs": [],
   "source": [
    "import pandas as pd\n",
    "import geopandas as gpd\n",
    "import mapclassify"
   ]
  },
  {
   "cell_type": "code",
   "execution_count": null,
   "id": "e488e367",
   "metadata": {},
   "outputs": [],
   "source": [
    "PATH_HAPPY = \"../Data/world-happiness-report.csv\"\n",
    "PATH_HAPPY_2021 = \"../Data/world-happiness-report-2021.csv\"\n",
    "PATH_ALCOHOL = \"../Data/alcohol-consumption.csv\""
   ]
  },
  {
   "cell_type": "markdown",
   "id": "88cca0e1",
   "metadata": {},
   "source": [
    "# Data Visualisation (COM-480) - 2022\n",
    "## <i>If Not Alcohol, What Makes Us Happy?</i>\n",
    "### Milestone 2\n",
    "---"
   ]
  },
  {
   "cell_type": "markdown",
   "id": "fd1a3bc8",
   "metadata": {},
   "source": [
    "### Visualizations\n",
    "For the sake of practicality and to allow for more scalability, several medium complexity level visualizations are proposed, as opposed to a large complex visualization.\n",
    "\n",
    "By displaying a central <b>timeline slider</b> on the webpage, the user can query entries from 2005 to 2021. As discussed, missing values are interpolated. With a certain selected year, the following are the planned visualizations:\n",
    "- <b>Outlier Map.</b>\n",
    "A colored world map showing outliers: here, countries whose happiness level is very different from what would have been expected from GDP/capita alone. For example, countries close to their expected happiness level are represented in gray, those far above in green shades and those below in red shades.\n",
    "- <b>Distribution Plot for Happiness /  Alcohol Consumption.</b>\n",
    "The objective is to plot the skew of the Happiness Score and alcohol consumption distributions to highlight their uniformity or inequality and discuss it. When hovering over each “bin” (i.e. vertical bar), the countries in that bin would become visible with the respective values.\n",
    "- <b>Change of Ranking over Time (Bar Chart).</b>\n",
    "Using a horizontal bar chart, the objective is to visualize the evolution of the ranking of the happiest countries.\n",
    "- <b>Correlation: Scatterplot.</b>\n",
    "The objective is to create an interactive 2D scatterplot, where the user can select the X-axis attribute (default: alcohol consumtion), while the Y-axis attribute is fixed to Happiness Score. Each point in the scatterplot would represent a country. The points can be color-coded based on the georegion, or the actual flag of the country. When a country is selected, the user would see the country’s connected scatterplot positions from 2005 to 2021.\n",
    "- <b>Magnitude: [Radar Chart](https://en.wikipedia.org/wiki/Radar_chart).</b>\n",
    "The objective is to create an interactive radar chart with the Happiness Score attribute at the top corner while others are the remaining corners.\n",
    "- <b> Correlation Map.</b>\n",
    "A world map color-coded based on the value of the attribute selected in the scatter-plot.\n",
    "- <i>Optional: Fun animation.</i>\n",
    "An animation which demonstrates the magnitude of the alcohol consumed per capita by country. For example, a bottle that gets filled by country-themed bubbles; their number corresponds to the respective value for that country.\n",
    "\n",
    "Note that the Scatterplot, the Radar Chart and the Map are connected: hovering/tapping on a country on the scatterplot would also update the radar chart line and would highlight the country on the map, and vice versa."
   ]
  },
  {
   "cell_type": "code",
   "execution_count": null,
   "id": "ea3fcd26",
   "metadata": {},
   "outputs": [],
   "source": [
    "df_happy_2021 = pd.read_csv(PATH_HAPPY_2021)\n",
    "df_happy_2021.head()"
   ]
  },
  {
   "cell_type": "markdown",
   "id": "530caf60",
   "metadata": {},
   "source": [
    "## Outlier Map"
   ]
  },
  {
   "cell_type": "markdown",
   "id": "63999b9f",
   "metadata": {},
   "source": [
    "Let's start by building a table containing the Happiness Ranking and the GDP ranking of a country. From there, we will show how strong the difference between the two of them is. "
   ]
  },
  {
   "cell_type": "code",
   "execution_count": null,
   "id": "c35ec856",
   "metadata": {},
   "outputs": [],
   "source": [
    "df_happy_2021.sort_values(by = \"Logged GDP per capita\", ascending = False).reset_index()"
   ]
  },
  {
   "cell_type": "code",
   "execution_count": null,
   "id": "b8ab8a5f",
   "metadata": {},
   "outputs": [],
   "source": [
    "df_happy_2021[\"Happiness ranking\"] = (df_happy_2021.index.array + 1)"
   ]
  },
  {
   "cell_type": "code",
   "execution_count": null,
   "id": "ce922b98",
   "metadata": {},
   "outputs": [],
   "source": [
    "df_2021_indexed = df_happy_2021.sort_values(by = \"Logged GDP per capita\", ascending = False).reset_index()\n",
    "df_2021_indexed[\"GDP Ranking\"] = df_2021_indexed.index.array + 1"
   ]
  },
  {
   "cell_type": "code",
   "execution_count": null,
   "id": "398671f9",
   "metadata": {},
   "outputs": [],
   "source": [
    "df_2021_indexed.head()"
   ]
  },
  {
   "cell_type": "code",
   "execution_count": null,
   "id": "fffb1412",
   "metadata": {},
   "outputs": [],
   "source": [
    "df_2021_outliers = df_2021_indexed[[\"Country name\", \"Happiness ranking\", \"GDP Ranking\"]]\n",
    "df_2021_outliers[\"Difference\"] = df_2021_outliers[\"GDP Ranking\"] - df_2021_outliers[\"Happiness ranking\"]"
   ]
  },
  {
   "cell_type": "code",
   "execution_count": null,
   "id": "82a1750d",
   "metadata": {},
   "outputs": [],
   "source": [
    "df_2021_outliers"
   ]
  },
  {
   "cell_type": "code",
   "execution_count": null,
   "id": "4fe5e3b9",
   "metadata": {
    "scrolled": true
   },
   "outputs": [],
   "source": [
    "countries = gpd.read_file(\n",
    "               gpd.datasets.get_path(\"naturalearth_lowres\"))\n",
    "countries.head()"
   ]
  },
  {
   "cell_type": "code",
   "execution_count": null,
   "id": "93fec4fe",
   "metadata": {},
   "outputs": [],
   "source": [
    "countries.plot()"
   ]
  },
  {
   "cell_type": "code",
   "execution_count": null,
   "id": "89bd5b18",
   "metadata": {},
   "outputs": [],
   "source": [
    "# ATTENTION : This is just a mockup but be aware some countries are probably lost at this stage,\n",
    "# due to name inconsistency in the merge operation. \n",
    "countries = countries.merge(right = df_2021_outliers, how = \"left\", left_on = \"name\", right_on = \"Country name\")\n",
    "countries.head()"
   ]
  },
  {
   "cell_type": "code",
   "execution_count": null,
   "id": "b248ad3f",
   "metadata": {
    "scrolled": true
   },
   "outputs": [],
   "source": [
    "plot_differences = countries[[\"name\", \"geometry\", \"Difference\"]]\n",
    "plot_differences['Difference'] = plot_differences['Difference'].fillna(0)\n",
    "plot_differences.plot(column='Difference', figsize=(25, 20),\n",
    "           legend=True, cmap='coolwarm')"
   ]
  },
  {
   "cell_type": "markdown",
   "id": "350f7d80",
   "metadata": {},
   "source": [
    "## Tools we will use "
   ]
  },
  {
   "cell_type": "markdown",
   "id": "cca03615",
   "metadata": {},
   "source": [
    "| Visualisation| Lectures and tools we will need |\n",
    "| :----------- | :----------- |\n",
    "| Outlier Map     | Lecture 4  : D3.js (Drawing the map) <br /> Lecture 5 : D3.js (Making it interactive) <br /> Lecture 8 : GDAL, Leaflet.js  (Drawing the map)  |\n",
    "| Distribution Plot for Happiness / Alcohol Consumption.  | Lecture 4 : D3.js (Drawing the plot) <br /> Lecture 5 : D3.js (Making it interactive)       |\n",
    "| Change of Ranking over Time (Bar Chart). / Alcohol Consumption.  | Lecture 4 : D3.js (Drawing the plot)<br /> Lecture 5 : D3.js (Making it interactive)      |\n",
    "| Correlation: Scatterplot.  | Lecture 4 : D3.js (Drawing the plot)<br /> Lecture 5 : D3.js (Making it interactive)      |\n",
    "| Magnitude: [Radar Chart](https://en.wikipedia.org/wiki/Radar_chart).  | Lecture 4 : D3.js (Drawing the plot)<br /> Lecture 5 : D3.js (Making it interactive)       |\n",
    "| Correlation Map.   | Lecture 4 : D3.js (Drawing the plot)<br /> Lecture 5 : D3.js (Making it interactive)      |\n",
    "| Fun animation (a 2D bottle that gets filled by country-themed bubbles)      | Two.js framework            |"
   ]
  },
  {
   "cell_type": "markdown",
   "id": "a9fe9963",
   "metadata": {},
   "source": [
    "### Ordered list of pieces to implement in order\n",
    "\n",
    "<ins>Minimal viable product</ins>\n",
    "1. [ ] Outlier Map (Not interactive)\n",
    "2. [ ] Distribution Plot for Happiness / Alcohol Consumption. (Not interactive)\n",
    "3. [ ] Change of Ranking over Time (Bar Chart). (Not Animated)\n",
    "4. [ ] Correlation: Scatterplot. (Not interactive)\n",
    "5. [ ] Magnitude: [Radar Chart](https://en.wikipedia.org/wiki/Radar_chart). (Not interactive) \n",
    "6. [ ] Correlation Map. (No interaction)\n",
    " <br />  \n",
    " \n",
    "<ins>End of minimal viable product  </ins>\n",
    "\n",
    "7. [ ] Make the 3 plots interactive (Outlier Map, Radar Chart, Scatterplot)\n",
    "8. [ ] Change of Ranking over Time animated\n",
    "9. [ ] Connect the Scatterplot, the Radar Chart and the Map such that hovering/tapping on a country on the scatterplot would also update the radar chart line and would highlight the country on the map, and vice versa.\n",
    "<br />  \n",
    "\n",
    "<ins>If we have time </ins>\n",
    "\n",
    "10. [ ] The Fun animation (2D bottle that gets filled by country-themed bubbles)"
   ]
  },
  {
   "cell_type": "code",
   "execution_count": null,
   "id": "629f4a4d",
   "metadata": {},
   "outputs": [],
   "source": []
  }
 ],
 "metadata": {
  "kernelspec": {
   "display_name": "Python 3 (ipykernel)",
   "language": "python",
   "name": "python3"
  },
  "language_info": {
   "codemirror_mode": {
    "name": "ipython",
    "version": 3
   },
   "file_extension": ".py",
   "mimetype": "text/x-python",
   "name": "python",
   "nbconvert_exporter": "python",
   "pygments_lexer": "ipython3",
   "version": "3.9.7"
  }
 },
 "nbformat": 4,
 "nbformat_minor": 5
}
