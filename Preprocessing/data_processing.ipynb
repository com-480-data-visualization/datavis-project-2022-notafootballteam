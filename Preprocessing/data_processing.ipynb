{
 "cells": [
  {
   "cell_type": "code",
   "execution_count": 1,
   "id": "44d9c721",
   "metadata": {},
   "outputs": [],
   "source": [
    "import pandas as pd\n",
    "import pycountry\n",
    "import numpy as np\n",
    "import csv"
   ]
  },
  {
   "cell_type": "code",
   "execution_count": 2,
   "id": "941db02d",
   "metadata": {},
   "outputs": [],
   "source": [
    "PATH_HAPPY = \"../Data/world-happiness-report.csv\"\n",
    "PATH_HAPPY_2021 = \"../Data/world-happiness-report-2021.csv\"\n",
    "PATH_ALCOHOL = \"../Data/alcohol-consumption.csv\""
   ]
  },
  {
   "cell_type": "markdown",
   "id": "76f875b5",
   "metadata": {},
   "source": [
    "# Data Processing"
   ]
  },
  {
   "cell_type": "code",
   "execution_count": 3,
   "id": "329f5dc4",
   "metadata": {
    "scrolled": true
   },
   "outputs": [
    {
     "data": {
      "text/html": [
       "<div>\n",
       "<style scoped>\n",
       "    .dataframe tbody tr th:only-of-type {\n",
       "        vertical-align: middle;\n",
       "    }\n",
       "\n",
       "    .dataframe tbody tr th {\n",
       "        vertical-align: top;\n",
       "    }\n",
       "\n",
       "    .dataframe thead th {\n",
       "        text-align: right;\n",
       "    }\n",
       "</style>\n",
       "<table border=\"1\" class=\"dataframe\">\n",
       "  <thead>\n",
       "    <tr style=\"text-align: right;\">\n",
       "      <th></th>\n",
       "      <th>Country name</th>\n",
       "      <th>Regional indicator</th>\n",
       "      <th>Ladder score</th>\n",
       "      <th>Standard error of ladder score</th>\n",
       "      <th>upperwhisker</th>\n",
       "      <th>lowerwhisker</th>\n",
       "      <th>Logged GDP per capita</th>\n",
       "      <th>Social support</th>\n",
       "      <th>Healthy life expectancy</th>\n",
       "      <th>Freedom to make life choices</th>\n",
       "      <th>Generosity</th>\n",
       "      <th>Perceptions of corruption</th>\n",
       "      <th>Ladder score in Dystopia</th>\n",
       "      <th>Explained by: Log GDP per capita</th>\n",
       "      <th>Explained by: Social support</th>\n",
       "      <th>Explained by: Healthy life expectancy</th>\n",
       "      <th>Explained by: Freedom to make life choices</th>\n",
       "      <th>Explained by: Generosity</th>\n",
       "      <th>Explained by: Perceptions of corruption</th>\n",
       "      <th>Dystopia + residual</th>\n",
       "    </tr>\n",
       "  </thead>\n",
       "  <tbody>\n",
       "    <tr>\n",
       "      <th>0</th>\n",
       "      <td>Finland</td>\n",
       "      <td>Western Europe</td>\n",
       "      <td>7.842</td>\n",
       "      <td>0.032</td>\n",
       "      <td>7.904</td>\n",
       "      <td>7.780</td>\n",
       "      <td>10.775</td>\n",
       "      <td>0.954</td>\n",
       "      <td>72.0</td>\n",
       "      <td>0.949</td>\n",
       "      <td>-0.098</td>\n",
       "      <td>0.186</td>\n",
       "      <td>2.43</td>\n",
       "      <td>1.446</td>\n",
       "      <td>1.106</td>\n",
       "      <td>0.741</td>\n",
       "      <td>0.691</td>\n",
       "      <td>0.124</td>\n",
       "      <td>0.481</td>\n",
       "      <td>3.253</td>\n",
       "    </tr>\n",
       "    <tr>\n",
       "      <th>1</th>\n",
       "      <td>Denmark</td>\n",
       "      <td>Western Europe</td>\n",
       "      <td>7.620</td>\n",
       "      <td>0.035</td>\n",
       "      <td>7.687</td>\n",
       "      <td>7.552</td>\n",
       "      <td>10.933</td>\n",
       "      <td>0.954</td>\n",
       "      <td>72.7</td>\n",
       "      <td>0.946</td>\n",
       "      <td>0.030</td>\n",
       "      <td>0.179</td>\n",
       "      <td>2.43</td>\n",
       "      <td>1.502</td>\n",
       "      <td>1.108</td>\n",
       "      <td>0.763</td>\n",
       "      <td>0.686</td>\n",
       "      <td>0.208</td>\n",
       "      <td>0.485</td>\n",
       "      <td>2.868</td>\n",
       "    </tr>\n",
       "    <tr>\n",
       "      <th>2</th>\n",
       "      <td>Switzerland</td>\n",
       "      <td>Western Europe</td>\n",
       "      <td>7.571</td>\n",
       "      <td>0.036</td>\n",
       "      <td>7.643</td>\n",
       "      <td>7.500</td>\n",
       "      <td>11.117</td>\n",
       "      <td>0.942</td>\n",
       "      <td>74.4</td>\n",
       "      <td>0.919</td>\n",
       "      <td>0.025</td>\n",
       "      <td>0.292</td>\n",
       "      <td>2.43</td>\n",
       "      <td>1.566</td>\n",
       "      <td>1.079</td>\n",
       "      <td>0.816</td>\n",
       "      <td>0.653</td>\n",
       "      <td>0.204</td>\n",
       "      <td>0.413</td>\n",
       "      <td>2.839</td>\n",
       "    </tr>\n",
       "    <tr>\n",
       "      <th>3</th>\n",
       "      <td>Iceland</td>\n",
       "      <td>Western Europe</td>\n",
       "      <td>7.554</td>\n",
       "      <td>0.059</td>\n",
       "      <td>7.670</td>\n",
       "      <td>7.438</td>\n",
       "      <td>10.878</td>\n",
       "      <td>0.983</td>\n",
       "      <td>73.0</td>\n",
       "      <td>0.955</td>\n",
       "      <td>0.160</td>\n",
       "      <td>0.673</td>\n",
       "      <td>2.43</td>\n",
       "      <td>1.482</td>\n",
       "      <td>1.172</td>\n",
       "      <td>0.772</td>\n",
       "      <td>0.698</td>\n",
       "      <td>0.293</td>\n",
       "      <td>0.170</td>\n",
       "      <td>2.967</td>\n",
       "    </tr>\n",
       "    <tr>\n",
       "      <th>4</th>\n",
       "      <td>Netherlands</td>\n",
       "      <td>Western Europe</td>\n",
       "      <td>7.464</td>\n",
       "      <td>0.027</td>\n",
       "      <td>7.518</td>\n",
       "      <td>7.410</td>\n",
       "      <td>10.932</td>\n",
       "      <td>0.942</td>\n",
       "      <td>72.4</td>\n",
       "      <td>0.913</td>\n",
       "      <td>0.175</td>\n",
       "      <td>0.338</td>\n",
       "      <td>2.43</td>\n",
       "      <td>1.501</td>\n",
       "      <td>1.079</td>\n",
       "      <td>0.753</td>\n",
       "      <td>0.647</td>\n",
       "      <td>0.302</td>\n",
       "      <td>0.384</td>\n",
       "      <td>2.798</td>\n",
       "    </tr>\n",
       "  </tbody>\n",
       "</table>\n",
       "</div>"
      ],
      "text/plain": [
       "  Country name Regional indicator  Ladder score  \\\n",
       "0      Finland     Western Europe         7.842   \n",
       "1      Denmark     Western Europe         7.620   \n",
       "2  Switzerland     Western Europe         7.571   \n",
       "3      Iceland     Western Europe         7.554   \n",
       "4  Netherlands     Western Europe         7.464   \n",
       "\n",
       "   Standard error of ladder score  upperwhisker  lowerwhisker  \\\n",
       "0                           0.032         7.904         7.780   \n",
       "1                           0.035         7.687         7.552   \n",
       "2                           0.036         7.643         7.500   \n",
       "3                           0.059         7.670         7.438   \n",
       "4                           0.027         7.518         7.410   \n",
       "\n",
       "   Logged GDP per capita  Social support  Healthy life expectancy  \\\n",
       "0                 10.775           0.954                     72.0   \n",
       "1                 10.933           0.954                     72.7   \n",
       "2                 11.117           0.942                     74.4   \n",
       "3                 10.878           0.983                     73.0   \n",
       "4                 10.932           0.942                     72.4   \n",
       "\n",
       "   Freedom to make life choices  Generosity  Perceptions of corruption  \\\n",
       "0                         0.949      -0.098                      0.186   \n",
       "1                         0.946       0.030                      0.179   \n",
       "2                         0.919       0.025                      0.292   \n",
       "3                         0.955       0.160                      0.673   \n",
       "4                         0.913       0.175                      0.338   \n",
       "\n",
       "   Ladder score in Dystopia  Explained by: Log GDP per capita  \\\n",
       "0                      2.43                             1.446   \n",
       "1                      2.43                             1.502   \n",
       "2                      2.43                             1.566   \n",
       "3                      2.43                             1.482   \n",
       "4                      2.43                             1.501   \n",
       "\n",
       "   Explained by: Social support  Explained by: Healthy life expectancy  \\\n",
       "0                         1.106                                  0.741   \n",
       "1                         1.108                                  0.763   \n",
       "2                         1.079                                  0.816   \n",
       "3                         1.172                                  0.772   \n",
       "4                         1.079                                  0.753   \n",
       "\n",
       "   Explained by: Freedom to make life choices  Explained by: Generosity  \\\n",
       "0                                       0.691                     0.124   \n",
       "1                                       0.686                     0.208   \n",
       "2                                       0.653                     0.204   \n",
       "3                                       0.698                     0.293   \n",
       "4                                       0.647                     0.302   \n",
       "\n",
       "   Explained by: Perceptions of corruption  Dystopia + residual  \n",
       "0                                    0.481                3.253  \n",
       "1                                    0.485                2.868  \n",
       "2                                    0.413                2.839  \n",
       "3                                    0.170                2.967  \n",
       "4                                    0.384                2.798  "
      ]
     },
     "execution_count": 3,
     "metadata": {},
     "output_type": "execute_result"
    }
   ],
   "source": [
    "df_happy_2021 = pd.read_csv(PATH_HAPPY_2021)\n",
    "df_happy_2021.head()"
   ]
  },
  {
   "cell_type": "code",
   "execution_count": 4,
   "id": "80cc8507",
   "metadata": {
    "scrolled": true
   },
   "outputs": [
    {
     "data": {
      "text/html": [
       "<div>\n",
       "<style scoped>\n",
       "    .dataframe tbody tr th:only-of-type {\n",
       "        vertical-align: middle;\n",
       "    }\n",
       "\n",
       "    .dataframe tbody tr th {\n",
       "        vertical-align: top;\n",
       "    }\n",
       "\n",
       "    .dataframe thead th {\n",
       "        text-align: right;\n",
       "    }\n",
       "</style>\n",
       "<table border=\"1\" class=\"dataframe\">\n",
       "  <thead>\n",
       "    <tr style=\"text-align: right;\">\n",
       "      <th></th>\n",
       "      <th>Country name</th>\n",
       "      <th>year</th>\n",
       "      <th>Life Ladder</th>\n",
       "      <th>Log GDP per capita</th>\n",
       "      <th>Social support</th>\n",
       "      <th>Healthy life expectancy at birth</th>\n",
       "      <th>Freedom to make life choices</th>\n",
       "      <th>Generosity</th>\n",
       "      <th>Perceptions of corruption</th>\n",
       "      <th>Positive affect</th>\n",
       "      <th>Negative affect</th>\n",
       "    </tr>\n",
       "  </thead>\n",
       "  <tbody>\n",
       "    <tr>\n",
       "      <th>0</th>\n",
       "      <td>Afghanistan</td>\n",
       "      <td>2008</td>\n",
       "      <td>3.724</td>\n",
       "      <td>7.370</td>\n",
       "      <td>0.451</td>\n",
       "      <td>50.80</td>\n",
       "      <td>0.718</td>\n",
       "      <td>0.168</td>\n",
       "      <td>0.882</td>\n",
       "      <td>0.518</td>\n",
       "      <td>0.258</td>\n",
       "    </tr>\n",
       "    <tr>\n",
       "      <th>1</th>\n",
       "      <td>Afghanistan</td>\n",
       "      <td>2009</td>\n",
       "      <td>4.402</td>\n",
       "      <td>7.540</td>\n",
       "      <td>0.552</td>\n",
       "      <td>51.20</td>\n",
       "      <td>0.679</td>\n",
       "      <td>0.190</td>\n",
       "      <td>0.850</td>\n",
       "      <td>0.584</td>\n",
       "      <td>0.237</td>\n",
       "    </tr>\n",
       "    <tr>\n",
       "      <th>2</th>\n",
       "      <td>Afghanistan</td>\n",
       "      <td>2010</td>\n",
       "      <td>4.758</td>\n",
       "      <td>7.647</td>\n",
       "      <td>0.539</td>\n",
       "      <td>51.60</td>\n",
       "      <td>0.600</td>\n",
       "      <td>0.121</td>\n",
       "      <td>0.707</td>\n",
       "      <td>0.618</td>\n",
       "      <td>0.275</td>\n",
       "    </tr>\n",
       "    <tr>\n",
       "      <th>3</th>\n",
       "      <td>Afghanistan</td>\n",
       "      <td>2011</td>\n",
       "      <td>3.832</td>\n",
       "      <td>7.620</td>\n",
       "      <td>0.521</td>\n",
       "      <td>51.92</td>\n",
       "      <td>0.496</td>\n",
       "      <td>0.162</td>\n",
       "      <td>0.731</td>\n",
       "      <td>0.611</td>\n",
       "      <td>0.267</td>\n",
       "    </tr>\n",
       "    <tr>\n",
       "      <th>4</th>\n",
       "      <td>Afghanistan</td>\n",
       "      <td>2012</td>\n",
       "      <td>3.783</td>\n",
       "      <td>7.705</td>\n",
       "      <td>0.521</td>\n",
       "      <td>52.24</td>\n",
       "      <td>0.531</td>\n",
       "      <td>0.236</td>\n",
       "      <td>0.776</td>\n",
       "      <td>0.710</td>\n",
       "      <td>0.268</td>\n",
       "    </tr>\n",
       "    <tr>\n",
       "      <th>...</th>\n",
       "      <td>...</td>\n",
       "      <td>...</td>\n",
       "      <td>...</td>\n",
       "      <td>...</td>\n",
       "      <td>...</td>\n",
       "      <td>...</td>\n",
       "      <td>...</td>\n",
       "      <td>...</td>\n",
       "      <td>...</td>\n",
       "      <td>...</td>\n",
       "      <td>...</td>\n",
       "    </tr>\n",
       "    <tr>\n",
       "      <th>1944</th>\n",
       "      <td>Zimbabwe</td>\n",
       "      <td>2016</td>\n",
       "      <td>3.735</td>\n",
       "      <td>7.984</td>\n",
       "      <td>0.768</td>\n",
       "      <td>54.40</td>\n",
       "      <td>0.733</td>\n",
       "      <td>-0.095</td>\n",
       "      <td>0.724</td>\n",
       "      <td>0.738</td>\n",
       "      <td>0.209</td>\n",
       "    </tr>\n",
       "    <tr>\n",
       "      <th>1945</th>\n",
       "      <td>Zimbabwe</td>\n",
       "      <td>2017</td>\n",
       "      <td>3.638</td>\n",
       "      <td>8.016</td>\n",
       "      <td>0.754</td>\n",
       "      <td>55.00</td>\n",
       "      <td>0.753</td>\n",
       "      <td>-0.098</td>\n",
       "      <td>0.751</td>\n",
       "      <td>0.806</td>\n",
       "      <td>0.224</td>\n",
       "    </tr>\n",
       "    <tr>\n",
       "      <th>1946</th>\n",
       "      <td>Zimbabwe</td>\n",
       "      <td>2018</td>\n",
       "      <td>3.616</td>\n",
       "      <td>8.049</td>\n",
       "      <td>0.775</td>\n",
       "      <td>55.60</td>\n",
       "      <td>0.763</td>\n",
       "      <td>-0.068</td>\n",
       "      <td>0.844</td>\n",
       "      <td>0.710</td>\n",
       "      <td>0.212</td>\n",
       "    </tr>\n",
       "    <tr>\n",
       "      <th>1947</th>\n",
       "      <td>Zimbabwe</td>\n",
       "      <td>2019</td>\n",
       "      <td>2.694</td>\n",
       "      <td>7.950</td>\n",
       "      <td>0.759</td>\n",
       "      <td>56.20</td>\n",
       "      <td>0.632</td>\n",
       "      <td>-0.064</td>\n",
       "      <td>0.831</td>\n",
       "      <td>0.716</td>\n",
       "      <td>0.235</td>\n",
       "    </tr>\n",
       "    <tr>\n",
       "      <th>1948</th>\n",
       "      <td>Zimbabwe</td>\n",
       "      <td>2020</td>\n",
       "      <td>3.160</td>\n",
       "      <td>7.829</td>\n",
       "      <td>0.717</td>\n",
       "      <td>56.80</td>\n",
       "      <td>0.643</td>\n",
       "      <td>-0.009</td>\n",
       "      <td>0.789</td>\n",
       "      <td>0.703</td>\n",
       "      <td>0.346</td>\n",
       "    </tr>\n",
       "  </tbody>\n",
       "</table>\n",
       "<p>1949 rows × 11 columns</p>\n",
       "</div>"
      ],
      "text/plain": [
       "     Country name  year  Life Ladder  Log GDP per capita  Social support  \\\n",
       "0     Afghanistan  2008        3.724               7.370           0.451   \n",
       "1     Afghanistan  2009        4.402               7.540           0.552   \n",
       "2     Afghanistan  2010        4.758               7.647           0.539   \n",
       "3     Afghanistan  2011        3.832               7.620           0.521   \n",
       "4     Afghanistan  2012        3.783               7.705           0.521   \n",
       "...           ...   ...          ...                 ...             ...   \n",
       "1944     Zimbabwe  2016        3.735               7.984           0.768   \n",
       "1945     Zimbabwe  2017        3.638               8.016           0.754   \n",
       "1946     Zimbabwe  2018        3.616               8.049           0.775   \n",
       "1947     Zimbabwe  2019        2.694               7.950           0.759   \n",
       "1948     Zimbabwe  2020        3.160               7.829           0.717   \n",
       "\n",
       "      Healthy life expectancy at birth  Freedom to make life choices  \\\n",
       "0                                50.80                         0.718   \n",
       "1                                51.20                         0.679   \n",
       "2                                51.60                         0.600   \n",
       "3                                51.92                         0.496   \n",
       "4                                52.24                         0.531   \n",
       "...                                ...                           ...   \n",
       "1944                             54.40                         0.733   \n",
       "1945                             55.00                         0.753   \n",
       "1946                             55.60                         0.763   \n",
       "1947                             56.20                         0.632   \n",
       "1948                             56.80                         0.643   \n",
       "\n",
       "      Generosity  Perceptions of corruption  Positive affect  Negative affect  \n",
       "0          0.168                      0.882            0.518            0.258  \n",
       "1          0.190                      0.850            0.584            0.237  \n",
       "2          0.121                      0.707            0.618            0.275  \n",
       "3          0.162                      0.731            0.611            0.267  \n",
       "4          0.236                      0.776            0.710            0.268  \n",
       "...          ...                        ...              ...              ...  \n",
       "1944      -0.095                      0.724            0.738            0.209  \n",
       "1945      -0.098                      0.751            0.806            0.224  \n",
       "1946      -0.068                      0.844            0.710            0.212  \n",
       "1947      -0.064                      0.831            0.716            0.235  \n",
       "1948      -0.009                      0.789            0.703            0.346  \n",
       "\n",
       "[1949 rows x 11 columns]"
      ]
     },
     "execution_count": 4,
     "metadata": {},
     "output_type": "execute_result"
    }
   ],
   "source": [
    "df_happy = pd.read_csv(PATH_HAPPY)\n",
    "df_happy"
   ]
  },
  {
   "cell_type": "markdown",
   "id": "c6009955",
   "metadata": {},
   "source": [
    "### Happiness data concatenation"
   ]
  },
  {
   "cell_type": "markdown",
   "id": "cec82457",
   "metadata": {},
   "source": [
    "Let's take a look at the range of the historical data."
   ]
  },
  {
   "cell_type": "code",
   "execution_count": null,
   "id": "cfe035c8",
   "metadata": {},
   "outputs": [],
   "source": [
    "df_happy[\"year\"].describe()"
   ]
  },
  {
   "cell_type": "markdown",
   "id": "bca16c7c",
   "metadata": {},
   "source": [
    "Historical data goes from 2005 to 2020. "
   ]
  },
  {
   "cell_type": "markdown",
   "id": "f473db07",
   "metadata": {},
   "source": [
    "We will first harominze the names of the columns in the 2021 set, in order to be ablte to merge them easily with the historical data."
   ]
  },
  {
   "cell_type": "code",
   "execution_count": null,
   "id": "b90cdf2a",
   "metadata": {},
   "outputs": [],
   "source": [
    "# let's include the year in the current dataset\n",
    "df_happy_2021[\"year\"] = 2021"
   ]
  },
  {
   "cell_type": "code",
   "execution_count": null,
   "id": "1b4cd112",
   "metadata": {},
   "outputs": [],
   "source": [
    "rename_columns = {'Ladder score':'Life Ladder', 'Logged GDP per capita':'Log GDP per capita',\n",
    "'Healthy life expectancy':'Healthy life expectancy at birth'}"
   ]
  },
  {
   "cell_type": "code",
   "execution_count": null,
   "id": "dc3fb1c1",
   "metadata": {},
   "outputs": [],
   "source": [
    "df_happy_2021 = df_happy_2021.rename(columns = rename_columns)"
   ]
  },
  {
   "cell_type": "markdown",
   "id": "fda03996",
   "metadata": {},
   "source": [
    "Let's now concatenate the two sets. For consistency reasons, we'll take only the columns already present into the historical set and the 2021 set. Note that in this case, this does not exclude any observed statistics, only those columns which were computed directly from the others. "
   ]
  },
  {
   "cell_type": "code",
   "execution_count": null,
   "id": "dff60c8c",
   "metadata": {},
   "outputs": [],
   "source": [
    "df = pd.concat([df_happy, df_happy_2021], join=\"inner\", ignore_index=True)"
   ]
  },
  {
   "cell_type": "code",
   "execution_count": null,
   "id": "e4f58e9f",
   "metadata": {},
   "outputs": [],
   "source": [
    "df"
   ]
  },
  {
   "cell_type": "markdown",
   "id": "ff7e81ff",
   "metadata": {},
   "source": [
    "### Adding country codes "
   ]
  },
  {
   "cell_type": "markdown",
   "id": "246a850b",
   "metadata": {},
   "source": [
    "To ensure consistency and completeness between both our datasets and external datasets further used for visualization,\n",
    "we will add country codes following the ISO standards and rename the countries according to those same ISO standards."
   ]
  },
  {
   "cell_type": "code",
   "execution_count": null,
   "id": "59901f05",
   "metadata": {},
   "outputs": [],
   "source": [
    "# We built here a list of country names that were not standard and their standard conversion. \n",
    "names_conversion = {\"Czech Republic\": \"Czechia\", \n",
    "                    \"Taiwan Province of China\": \"Taiwan, Province of China\", \n",
    "                    \"South Korea\": \"Korea, Republic of\", \n",
    "                    \"Moldova\": \"Moldova, Republic of\", \n",
    "                    \"Bolivia\": \"Bolivia, Plurinational State of\", \n",
    "                    \"Russia\" : \"Russian Federation\", \n",
    "                    \"Hong Kong S.A.R. of China\": \"Hong Kong\", \n",
    "                    \"Vietnam\": \"Viet Nam\", \n",
    "                    \"Congo (Brazzaville)\": \"Congo\",\n",
    "                    \"Congo (Kinshasa)\": \"Congo, The Democratic Republic of the\",\n",
    "                    \"Ivory Coast\": \"Côte d'Ivoire\",\n",
    "                    \"Laos\": \"Lao People's Democratic Republic\", \n",
    "                    \"Venezuela\": \"Venezuela, Bolivarian Republic of\",\n",
    "                    \"Iran\": \"Iran, Islamic Republic of\", \n",
    "                    \"Palestinian Territories\": \"Palestine, State of\", \n",
    "                    \"Swaziland\": \"Eswatini\",\n",
    "                    \"Syria\": \"Syrian Arab Republic\",\n",
    "                    \"Tanzania\": \"Tanzania, United Republic of\"}"
   ]
  },
  {
   "cell_type": "code",
   "execution_count": null,
   "id": "fd794ae9",
   "metadata": {},
   "outputs": [],
   "source": [
    "df[\"Country name\"] = df[\"Country name\"].replace(names_conversion)"
   ]
  },
  {
   "cell_type": "markdown",
   "id": "03a0b746",
   "metadata": {},
   "source": [
    "We will use the pycountry library and retrieve the iso_2 and iso_3 codes for country names. "
   ]
  },
  {
   "cell_type": "code",
   "execution_count": null,
   "id": "0f5870e1",
   "metadata": {
    "scrolled": true
   },
   "outputs": [],
   "source": [
    "input_countries = [a for a in df[\"Country name\"].to_numpy()]\n",
    "countries_2 = {}\n",
    "countries_3 = {}\n",
    "for country in pycountry.countries:\n",
    "    countries_2[country.name] = country.alpha_2\n",
    "    countries_3[country.name] = country.alpha_3\n",
    "    \n",
    "codes_2 = [countries_2.get(country, 'Unknown code') for country in input_countries]\n",
    "codes_3 = [countries_3.get(country, 'Unknown code') for country in input_countries]\n",
    "\n",
    "df[\"iso_2\"] = codes_2\n",
    "df[\"iso_3\"] = codes_3"
   ]
  },
  {
   "cell_type": "code",
   "execution_count": null,
   "id": "3d5ccf6c",
   "metadata": {
    "scrolled": true
   },
   "outputs": [],
   "source": [
    "df[df['iso_3'] == \"Unknown code\"]"
   ]
  },
  {
   "cell_type": "markdown",
   "id": "751225ce",
   "metadata": {},
   "source": [
    "Kosovo and North Cyprus don't benefit of full international recognition and do not have official country codes. \n",
    "However, for completion reasons, we will manually input their temporary country codes.\n",
    "Regarding Somaliland region, most of the data being NaN, we will simply exclude it from our dataset. "
   ]
  },
  {
   "cell_type": "code",
   "execution_count": null,
   "id": "4822bc94",
   "metadata": {},
   "outputs": [],
   "source": [
    "# some iso standards are not yet define. We enter by hand the temporary ones. \n",
    "df.loc[df[\"Country name\"] == \"Kosovo\", \"iso_2\"] = \"XK\"\n",
    "df.loc[df[\"Country name\"] == \"Kosovo\", \"iso_3\"] = \"XKX\"\n",
    "df.loc[df[\"Country name\"] == \"North Cyprus\", \"iso_2\"] = \"CTR\"\n",
    "df.loc[df[\"Country name\"] == \"North Cyprus\", \"iso_3\"] = \"CTR\""
   ]
  },
  {
   "cell_type": "code",
   "execution_count": null,
   "id": "15fe2b4f",
   "metadata": {},
   "outputs": [],
   "source": [
    "df = df[df[\"Country name\"] != \"Somaliland region\"]"
   ]
  },
  {
   "cell_type": "code",
   "execution_count": null,
   "id": "f45697f2",
   "metadata": {
    "scrolled": true
   },
   "outputs": [],
   "source": [
    "df[df['iso_3'] == \"Unknown code\"]"
   ]
  },
  {
   "cell_type": "markdown",
   "id": "9b075223",
   "metadata": {},
   "source": [
    "Therefore now, all our country codes appear to be included. This will tremendously facilitate \n",
    "join operations with other sets. "
   ]
  },
  {
   "cell_type": "code",
   "execution_count": null,
   "id": "633cffb8",
   "metadata": {
    "scrolled": true
   },
   "outputs": [],
   "source": [
    "df.head()"
   ]
  },
  {
   "cell_type": "markdown",
   "id": "d8e58ca6",
   "metadata": {},
   "source": [
    "Let's take a look at the completeness of this dataset. "
   ]
  },
  {
   "cell_type": "code",
   "execution_count": null,
   "id": "6129a835",
   "metadata": {
    "scrolled": true
   },
   "outputs": [],
   "source": [
    "df.groupby(['Country name'])['Country name'].count()"
   ]
  },
  {
   "cell_type": "markdown",
   "id": "75637890",
   "metadata": {},
   "source": [
    "We clearly see some years are missing for some data. Let's solve that by adding NaN values lines inbetween. "
   ]
  },
  {
   "cell_type": "code",
   "execution_count": null,
   "id": "2963a780",
   "metadata": {
    "scrolled": true
   },
   "outputs": [],
   "source": [
    "# we set an index as \"iso_3/Year\"\n",
    "df.set_index(['iso_3', 'year'], inplace=True)\n",
    "df"
   ]
  },
  {
   "cell_type": "code",
   "execution_count": null,
   "id": "87b94ef3",
   "metadata": {
    "scrolled": true
   },
   "outputs": [],
   "source": [
    "# then we reconstruct a combination of all indices and reindex\n",
    "index = pd.MultiIndex.from_product(df.index.levels)\n",
    "df = df.reindex(index)"
   ]
  },
  {
   "cell_type": "markdown",
   "id": "7c9d09fd",
   "metadata": {},
   "source": [
    "### Including alcohol consumption data"
   ]
  },
  {
   "cell_type": "code",
   "execution_count": null,
   "id": "e5517406",
   "metadata": {},
   "outputs": [],
   "source": [
    "df_alcohol = pd.read_csv(PATH_ALCOHOL)"
   ]
  },
  {
   "cell_type": "code",
   "execution_count": null,
   "id": "93d76850",
   "metadata": {},
   "outputs": [],
   "source": [
    "df_alcohol"
   ]
  },
  {
   "cell_type": "code",
   "execution_count": null,
   "id": "9c1cfc11",
   "metadata": {},
   "outputs": [],
   "source": [
    "df_alcohol[\"Year\"].describe()"
   ]
  },
  {
   "cell_type": "markdown",
   "id": "1611881e",
   "metadata": {},
   "source": [
    "Regarding alcohol consumption, our data ranges from 2005 to 2018. However, a quick eyeball shows the data as being relatively incomplete (Afghanistan for example, only contains 2010, 2015 and 2018 data). Once our data will be merged with the happiness dataframe, we will have NaN values for many years. However we should be able to easily interpolate, using the prebuilt `df.interpolate()` function. "
   ]
  },
  {
   "cell_type": "code",
   "execution_count": null,
   "id": "8a4744a2",
   "metadata": {},
   "outputs": [],
   "source": [
    "# we do define the same index as the previous set, to facilitate the Join operation\n",
    "df_alcohol = df_alcohol.rename(columns = {'Year':'year', 'Code':'iso_3', \"Total alcohol consumption per capita (liters of pure alcohol, projected estimates, 15+ years of age)\": \"Alcohol consumption\"})\n",
    "df_alcohol.set_index(['year', 'iso_3'], inplace=True)"
   ]
  },
  {
   "cell_type": "code",
   "execution_count": null,
   "id": "fbdac6d8",
   "metadata": {
    "scrolled": true
   },
   "outputs": [],
   "source": [
    "df_alcohol"
   ]
  },
  {
   "cell_type": "code",
   "execution_count": null,
   "id": "761fc274",
   "metadata": {
    "scrolled": true
   },
   "outputs": [],
   "source": [
    "df = df.merge(right = df_alcohol, how = \"left\", on = [\"iso_3\", \"year\"])\n",
    "df"
   ]
  },
  {
   "cell_type": "markdown",
   "id": "e2b1a748",
   "metadata": {},
   "source": [
    "### Interpolate"
   ]
  },
  {
   "cell_type": "markdown",
   "id": "81c23ae2",
   "metadata": {},
   "source": [
    "We will interpolate all the possible values and fill the gaps with the closest values, linearly. Note that for countries where only NaN values are available "
   ]
  },
  {
   "cell_type": "code",
   "execution_count": null,
   "id": "72400054",
   "metadata": {
    "scrolled": true
   },
   "outputs": [],
   "source": [
    "df = df.groupby(\"iso_3\").apply(\n",
    "    lambda group: group.interpolate(method = \"linear\", limit_direction = \n",
    "                                    \"both\").fillna(method = \"ffill\").fillna(method = \"bfill\"))"
   ]
  },
  {
   "cell_type": "markdown",
   "id": "8e2ea618",
   "metadata": {},
   "source": [
    "### Outliers"
   ]
  },
  {
   "cell_type": "markdown",
   "id": "b91ef71f",
   "metadata": {},
   "source": [
    "In order to identify outliers, we will use an \"outlier rate\", meaning the ratio of `Life Ladder/Log GDP per capita`. The higher the ratio, the happier the country compared to what it should be based on its inhabitants financial ressources alone. "
   ]
  },
  {
   "cell_type": "code",
   "execution_count": null,
   "id": "954dcd5b",
   "metadata": {},
   "outputs": [],
   "source": [
    "df[\"Happiness/GDP cap.\"] = df[\"Life Ladder\"]/df[\"Log GDP per capita\"]\n",
    "df"
   ]
  },
  {
   "cell_type": "markdown",
   "id": "90e6c8b5",
   "metadata": {},
   "source": [
    "As a quick view, our main outliers are shown below. "
   ]
  },
  {
   "cell_type": "code",
   "execution_count": null,
   "id": "085c612a",
   "metadata": {
    "scrolled": true
   },
   "outputs": [],
   "source": [
    "df.sort_values(\"Happiness/GDP cap.\", ascending = False).head()"
   ]
  },
  {
   "cell_type": "markdown",
   "id": "8e1a36c7",
   "metadata": {},
   "source": [
    "# Export "
   ]
  },
  {
   "cell_type": "markdown",
   "id": "2e48453f",
   "metadata": {},
   "source": [
    "### General data"
   ]
  },
  {
   "cell_type": "markdown",
   "id": "2d2f7af3",
   "metadata": {},
   "source": [
    "Now we will export those data year by year in a csv format. The goal is to be easily \n",
    "reusable without further computation in our website."
   ]
  },
  {
   "cell_type": "code",
   "execution_count": null,
   "id": "507f08fe",
   "metadata": {},
   "outputs": [],
   "source": [
    "export_path = \"../Data/Processed/\""
   ]
  },
  {
   "cell_type": "code",
   "execution_count": null,
   "id": "5f93981f",
   "metadata": {},
   "outputs": [],
   "source": [
    "# for each year, we put all the information in a different csv file \n",
    "# for year in df.index.levels[1]:\n",
    "    # df[np.in1d(df.index.get_level_values(1), [year])].to_csv(export_path+\"data_\"+str(year)+\".csv\") "
   ]
  },
  {
   "cell_type": "markdown",
   "id": "40a99537",
   "metadata": {},
   "source": [
    "### ToP 10 data"
   ]
  },
  {
   "cell_type": "markdown",
   "id": "426b7084",
   "metadata": {},
   "source": [
    "For the purpose of the first graph (top 10 happiness countries and their time evolution), we generate a subset of the previous dataframe for every year, including only the top 10 happiest countries and their Life Ladder. \n",
    "This will be usefull for ensuring quick loading of the data in the website."
   ]
  },
  {
   "cell_type": "code",
   "execution_count": null,
   "id": "3f453542",
   "metadata": {
    "scrolled": true
   },
   "outputs": [],
   "source": [
    "years = df.index.levels[1] # contains all years, before reseting index\n",
    "df = df.reset_index() "
   ]
  },
  {
   "cell_type": "code",
   "execution_count": null,
   "id": "e9888a77",
   "metadata": {
    "scrolled": false
   },
   "outputs": [],
   "source": [
    "top_countries_ever = set([]) # contains the countries that have ever been in the top, no matter the year \n",
    "for year in years:\n",
    "    top_10 = df[df[\"year\"] == year].sort_values(\"Life Ladder\", ascending = False)[:10]\n",
    "    top_10 = top_10[[\"iso_2\", \"Country name\", \"Life Ladder\"]]\n",
    "    top_countries_ever = top_countries_ever.union(set(np.unique(top_10[\"Country name\"].to_numpy())))\n",
    "    top_10.to_csv(export_path+\"top_10_\"+str(year)+\".csv\", index = False)"
   ]
  },
  {
   "cell_type": "markdown",
   "id": "3e240a10",
   "metadata": {},
   "source": [
    "We also export a list of all country names present for at least one year in the top 10 happiest countries."
   ]
  },
  {
   "cell_type": "code",
   "execution_count": null,
   "id": "42639c74",
   "metadata": {
    "scrolled": false
   },
   "outputs": [],
   "source": [
    "# we just sort the data from the set and export them to csv \n",
    "pd.DataFrame(list(top_countries_ever)).sort_values(0).to_csv(export_path+\"countries_in_top\"+\".csv\", index = False, header = False)"
   ]
  }
 ],
 "metadata": {
  "kernelspec": {
   "display_name": "Python 3 (ipykernel)",
   "language": "python",
   "name": "python3"
  },
  "language_info": {
   "codemirror_mode": {
    "name": "ipython",
    "version": 3
   },
   "file_extension": ".py",
   "mimetype": "text/x-python",
   "name": "python",
   "nbconvert_exporter": "python",
   "pygments_lexer": "ipython3",
   "version": "3.9.7"
  }
 },
 "nbformat": 4,
 "nbformat_minor": 5
}
