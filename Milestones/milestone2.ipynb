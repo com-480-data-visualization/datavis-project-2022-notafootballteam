{
 "cells": [
  {
   "cell_type": "code",
   "execution_count": null,
   "id": "96b1aabd",
   "metadata": {},
   "outputs": [],
   "source": [
    "import pandas as pd\n",
    "import geopandas as gpd\n",
    "import mapclassify\n",
    "import plotly.express as px\n",
    "import pycountry\n",
    "import numpy as np"
   ]
  },
  {
   "cell_type": "code",
   "execution_count": null,
   "id": "e488e367",
   "metadata": {},
   "outputs": [],
   "source": [
    "PATH_HAPPY = \"../Data/world-happiness-report.csv\"\n",
    "PATH_HAPPY_2021 = \"../Data/world-happiness-report-2021.csv\"\n",
    "PATH_ALCOHOL = \"../Data/alcohol-consumption.csv\""
   ]
  },
  {
   "cell_type": "markdown",
   "id": "88cca0e1",
   "metadata": {},
   "source": [
    "# Data Visualisation (COM-480) - 2022\n",
    "## <i>If Not Alcohol, What Makes Us Happy?</i>\n",
    "### Milestone 2\n",
    "---"
   ]
  },
  {
   "cell_type": "markdown",
   "id": "fd1a3bc8",
   "metadata": {},
   "source": [
    "### Visualizations\n",
    "For the sake of practicality and to allow for more scalability, several medium complexity level visualizations are proposed, as opposed to a large complex visualization.\n",
    "\n",
    "By displaying a central <b>timeline slider</b> on the webpage, the user can query entries from 2005 to 2021. As discussed, missing values are interpolated. With a certain selected year, the following are the planned visualizations:\n",
    "- <b>Outlier Map.</b>\n",
    "A colored world map showing outliers: here, countries whose happiness level is very different from what would have been expected from GDP/capita alone. For example, countries close to their expected happiness level are represented in gray, those far above in green shades and those below in red shades.\n",
    "- <b>Distribution Plot for Happiness /  Alcohol Consumption.</b>\n",
    "The objective is to plot the skew of the Happiness Score and alcohol consumption distributions to highlight their uniformity or inequality and discuss it. When hovering over each “bin” (i.e. vertical bar), the countries in that bin would become visible with the respective values.\n",
    "- <b>Change of Ranking over Time (Bar Chart).</b>\n",
    "Using a horizontal bar chart, the objective is to visualize the evolution of the ranking of the happiest countries.\n",
    "- <b>Correlation: Scatterplot.</b>\n",
    "The objective is to create an interactive 2D scatterplot, where the user can select the X-axis attribute (default: alcohol consumtion), while the Y-axis attribute is fixed to Happiness Score. Each point in the scatterplot would represent a country. The points can be color-coded based on the georegion, or the actual flag of the country. When a country is selected, the user would see the country’s connected scatterplot positions from 2005 to 2021.\n",
    "- <b>Magnitude: [Radar Chart](https://en.wikipedia.org/wiki/Radar_chart).</b>\n",
    "The objective is to create an interactive radar chart with the Happiness Score attribute at the top corner while others are the remaining corners.\n",
    "- <b> Correlation Map.</b>\n",
    "A world map color-coded based on the value of the attribute selected in the scatter-plot.\n",
    "- <i>Optional: Fun animation.</i>\n",
    "An animation which demonstrates the magnitude of the alcohol consumed per capita by country. For example, a bottle that gets filled by country-themed bubbles; their number corresponds to the respective value for that country.\n",
    "\n",
    "Note that the Scatterplot, the Radar Chart and the Map are connected: hovering/tapping on a country on the scatterplot would also update the radar chart line and would highlight the country on the map, and vice versa."
   ]
  },
  {
   "cell_type": "markdown",
   "id": "db60408f",
   "metadata": {},
   "source": [
    "## Tools we will use "
   ]
  },
  {
   "cell_type": "markdown",
   "id": "48ed2dda",
   "metadata": {},
   "source": [
    "We decided to start by a mockup of all the visualisations listed above. These can be either quick & dirty python implementations (if nothing satisfying can be easily done \"by hand\") or handmade mockups. \n",
    "\n",
    "The python implementation process is also usefull for the next step : using pandas, we obtain quite complete dataframes and would not have to do any further processing on the data in JS. \n",
    "\n",
    "Below is a list of tools to be used for our real implementation. "
   ]
  },
  {
   "cell_type": "markdown",
   "id": "d76c5718",
   "metadata": {},
   "source": [
    "| Visualisation| Lectures and tools we will need |\n",
    "| :----------- | :----------- |\n",
    "| Outlier Map     | Lecture 4  : D3.js (Drawing the map) <br /> Lecture 5 : D3.js (Making it interactive) <br /> Lecture 8 : GDAL, Leaflet.js  (Drawing the map)  |\n",
    "| Distribution Plot for Happiness / Alcohol Consumption.  | Lecture 4 : D3.js (Drawing the plot) <br /> Lecture 5 : D3.js (Making it interactive)       |\n",
    "| Change of Ranking over Time (Bar Chart). / Alcohol Consumption.  | Lecture 4 : D3.js (Drawing the plot)<br /> Lecture 5 : D3.js (Making it interactive)      |\n",
    "| Correlation: Scatterplot.  | Lecture 4 : D3.js (Drawing the plot)<br /> Lecture 5 : D3.js (Making it interactive)      |\n",
    "| Magnitude: [Radar Chart](https://en.wikipedia.org/wiki/Radar_chart).  | Lecture 4 : D3.js (Drawing the plot)<br /> Lecture 5 : D3.js (Making it interactive)       |\n",
    "| Correlation Map.   | Lecture 4 : D3.js (Drawing the plot)<br /> Lecture 5 : D3.js (Making it interactive)      |\n",
    "| Fun animation (a 2D bottle that gets filled by country-themed bubbles)      | Two.js framework            |"
   ]
  },
  {
   "cell_type": "markdown",
   "id": "ec6da858",
   "metadata": {},
   "source": [
    "### Ordered list of pieces to implement\n",
    "\n",
    "<ins>Minimal viable product: Core</ins>\n",
    "1. [ ] Outlier Map \n",
    "2. [ ] Correlation: Scatterplot\n",
    "3. [ ] Magnitude: [Radar Chart](https://en.wikipedia.org/wiki/Radar_chart)\n",
    "4. [ ] Make the 3 plots interactive and connected (Outlier Map, Radar Chart, Scatterplot)\n",
    "\n",
    "<ins>End of minimal viable product  </ins>\n",
    "1. [ ] Change of Ranking over Time (Bar Chart)\n",
    "2. [ ] Distribution Plot for Happiness / Alcohol Consumption.\n",
    "3. [ ] Correlation Map.\n",
    "4. [ ] Change of Ranking over Time animated\n",
    "<br />  \n",
    "\n",
    "<ins>If we have time </ins>\n",
    "\n",
    "1. [ ] The Fun animation (2D bottle that gets filled by country-themed bubbles)"
   ]
  },
  {
   "cell_type": "markdown",
   "id": "638b56fa",
   "metadata": {},
   "source": [
    "### Data preprocessing"
   ]
  },
  {
   "cell_type": "code",
   "execution_count": null,
   "id": "ea3fcd26",
   "metadata": {
    "scrolled": false
   },
   "outputs": [],
   "source": [
    "df_happy_2021 = pd.read_csv(PATH_HAPPY_2021)\n",
    "df_happy_2021.head()"
   ]
  },
  {
   "cell_type": "code",
   "execution_count": null,
   "id": "fa65625a",
   "metadata": {},
   "outputs": [],
   "source": [
    "# We built here a list of country names that were not standard and their standard conversion. \n",
    "names_conversion = {\"Czech Republic\": \"Czechia\", \n",
    "                    \"Taiwan Province of China\": \"Taiwan, Province of China\", \n",
    "                    \"South Korea\": \"Korea, Republic of\", \n",
    "                    \"Moldova\": \"Moldova, Republic of\", \n",
    "                    \"Bolivia\": \"Bolivia, Plurinational State of\", \n",
    "                    \"Russia\" : \"Russian Federation\", \n",
    "                    \"Hong Kong S.A.R. of China\": \"Hong Kong\", \n",
    "                    \"Vietnam\": \"Viet Nam\", \n",
    "                    \"Congo (Brazzaville)\": \"Congo\", \n",
    "                    \"Ivory Coast\": \"Côte d'Ivoire\",\n",
    "                    \"Laos\": \"Lao People's Democratic Republic\", \n",
    "                    \"Venezuela\": \"Venezuela, Bolivarian Republic of\",\n",
    "                    \"Iran\": \"Iran, Islamic Republic of\", \n",
    "                    \"Palestinian Territories\": \"Palestine, State of\", \n",
    "                    \"Swaziland\": \"Eswatini\",\n",
    "                    \"Tanzania\": \"Tanzania, United Republic of\"}"
   ]
  },
  {
   "cell_type": "code",
   "execution_count": null,
   "id": "285fba46",
   "metadata": {},
   "outputs": [],
   "source": [
    "df_happy_2021[\"Country name\"] = df_happy_2021[\"Country name\"].replace(names_conversion)"
   ]
  },
  {
   "cell_type": "markdown",
   "id": "026cfcd8",
   "metadata": {},
   "source": [
    "A first step is to ensure name consistency for countries. To do so, we will use the pycountry library and retrieve the iso_2 and iso_3 codes for country names. "
   ]
  },
  {
   "cell_type": "code",
   "execution_count": null,
   "id": "a4238e09",
   "metadata": {
    "scrolled": false
   },
   "outputs": [],
   "source": [
    "input_countries = [a for a in df_happy_2021[\"Country name\"].to_numpy()]\n",
    "countries_2 = {}\n",
    "countries_3 = {}\n",
    "for country in pycountry.countries:\n",
    "    countries_2[country.name] = country.alpha_2\n",
    "    countries_3[country.name] = country.alpha_3\n",
    "    \n",
    "codes_2 = [countries_2.get(country, 'Unknown code') for country in input_countries]\n",
    "codes_3 = [countries_3.get(country, 'Unknown code') for country in input_countries]\n",
    "\n",
    "print(codes_3)"
   ]
  },
  {
   "cell_type": "code",
   "execution_count": null,
   "id": "f09568e1",
   "metadata": {},
   "outputs": [],
   "source": [
    "df_happy_2021[\"iso_2\"] = codes_2\n",
    "df_happy_2021[\"iso_3\"] = codes_3"
   ]
  },
  {
   "cell_type": "code",
   "execution_count": null,
   "id": "50daac5b",
   "metadata": {
    "scrolled": true
   },
   "outputs": [],
   "source": [
    "df_happy_2021[df_happy_2021['iso_3'] == \"Unknown code\"]"
   ]
  },
  {
   "cell_type": "code",
   "execution_count": null,
   "id": "64a84864",
   "metadata": {},
   "outputs": [],
   "source": [
    "# some iso standards are not yet define. We enter by hand the temporary ones. \n",
    "df_happy_2021.loc[32,\"iso_2\"] = \"XK\"\n",
    "df_happy_2021.loc[32, \"iso_3\"] = \"XKX\"\n",
    "df_happy_2021.loc[73, \"iso_3\"] = \"CTR\"\n",
    "df_happy_2021.loc[73, \"iso_2\"] = \"CT\""
   ]
  },
  {
   "cell_type": "markdown",
   "id": "530caf60",
   "metadata": {},
   "source": [
    "### Outlier Map"
   ]
  },
  {
   "cell_type": "markdown",
   "id": "63999b9f",
   "metadata": {},
   "source": [
    "Let's start by building a table containing the Happiness Ranking and the GDP ranking of a country. From there, we will show how strong the difference between the two of them is. "
   ]
  },
  {
   "cell_type": "code",
   "execution_count": null,
   "id": "b8ab8a5f",
   "metadata": {
    "scrolled": true
   },
   "outputs": [],
   "source": [
    "df_happy_2021[\"Happiness ranking\"] = df_happy_2021.index.array"
   ]
  },
  {
   "cell_type": "code",
   "execution_count": null,
   "id": "ce922b98",
   "metadata": {},
   "outputs": [],
   "source": [
    "df_2021_indexed = df_happy_2021.sort_values(by = \"Logged GDP per capita\", ascending = False).reset_index()\n",
    "df_2021_indexed[\"GDP Ranking\"] = df_2021_indexed.index.array"
   ]
  },
  {
   "cell_type": "code",
   "execution_count": null,
   "id": "398671f9",
   "metadata": {},
   "outputs": [],
   "source": [
    "df_2021_indexed.head()"
   ]
  },
  {
   "cell_type": "code",
   "execution_count": null,
   "id": "fffb1412",
   "metadata": {},
   "outputs": [],
   "source": [
    "df_2021_outliers = df_2021_indexed[[\"Country name\", \"iso_2\", \"iso_3\", \"Happiness ranking\", \"GDP Ranking\"]]\n",
    "df_2021_outliers[\"Difference\"] = df_2021_outliers[\"GDP Ranking\"] - df_2021_outliers[\"Happiness ranking\"]"
   ]
  },
  {
   "cell_type": "code",
   "execution_count": null,
   "id": "82a1750d",
   "metadata": {},
   "outputs": [],
   "source": [
    "df_2021_outliers.head()"
   ]
  },
  {
   "cell_type": "markdown",
   "id": "d94f5451",
   "metadata": {},
   "source": [
    "The geopandas library allows to generate polygons with the right shape, making plotting data on a map very easy. It provides a dataframe with all countries and associated polygons."
   ]
  },
  {
   "cell_type": "code",
   "execution_count": null,
   "id": "4fe5e3b9",
   "metadata": {
    "scrolled": true
   },
   "outputs": [],
   "source": [
    "countries = gpd.read_file(\n",
    "               gpd.datasets.get_path(\"naturalearth_lowres\"))\n",
    "countries.head()"
   ]
  },
  {
   "cell_type": "code",
   "execution_count": null,
   "id": "93fec4fe",
   "metadata": {},
   "outputs": [],
   "source": [
    "countries.plot()"
   ]
  },
  {
   "cell_type": "code",
   "execution_count": null,
   "id": "89bd5b18",
   "metadata": {},
   "outputs": [],
   "source": [
    "# ATTENTION : This is just a mockup but be aware some countries are probably lost at this stage,\n",
    "# due to name inconsistency in the merge operation. \n",
    "countries = countries.merge(right = df_2021_outliers, how = \"left\", left_on = \"iso_a3\", right_on = \"iso_3\")\n",
    "countries.head()"
   ]
  },
  {
   "cell_type": "code",
   "execution_count": null,
   "id": "b248ad3f",
   "metadata": {
    "scrolled": true
   },
   "outputs": [],
   "source": [
    "plot_differences = countries[[\"name\", \"geometry\", \"Difference\"]]\n",
    "plot_differences['Difference'] = plot_differences['Difference'].fillna(0)\n",
    "plot_differences.plot(column='Difference', figsize=(25, 20),\n",
    "           legend=True, cmap='coolwarm')"
   ]
  },
  {
   "cell_type": "markdown",
   "id": "4b6e45b1",
   "metadata": {},
   "source": [
    "<b> Title : Ranking difference between GDP/inhabitant and happiness by country </b>"
   ]
  },
  {
   "cell_type": "markdown",
   "id": "457cdbb9",
   "metadata": {},
   "source": [
    "## Distribution Plot for Happiness / Alcohol Consumption. "
   ]
  },
  {
   "cell_type": "markdown",
   "id": "7acbd89c",
   "metadata": {},
   "source": [
    "All credits for building (quickly) this visualisation, to the [solution showed here](https://community.plotly.com/t/put-images-inside-bubbles/41364/5). "
   ]
  },
  {
   "cell_type": "code",
   "execution_count": null,
   "id": "351520c7",
   "metadata": {},
   "outputs": [],
   "source": [
    "# only iso2 can be used with the country flag dictionary mentioned below\n",
    "iso3_to_iso2 = {c.alpha_3: c.alpha_2 for c in pycountry.countries}\n",
    "\n",
    "df = px.data.gapminder().query(\"year==2007\")\n",
    "df[\"iso_alpha2\"] = df[\"iso_alpha\"].map(iso3_to_iso2)"
   ]
  },
  {
   "cell_type": "code",
   "execution_count": null,
   "id": "d76908e3",
   "metadata": {
    "scrolled": true
   },
   "outputs": [],
   "source": [
    "df = df.merge(right = df_happy_2021, how = \"left\", left_on = \"iso_alpha\", right_on = \"iso_3\")"
   ]
  },
  {
   "cell_type": "code",
   "execution_count": null,
   "id": "793774f6",
   "metadata": {
    "scrolled": true
   },
   "outputs": [],
   "source": [
    "df.head()"
   ]
  },
  {
   "cell_type": "code",
   "execution_count": null,
   "id": "e067e937",
   "metadata": {},
   "outputs": [],
   "source": [
    "# todo : change with ladder score here \n",
    "fig = px.scatter(\n",
    "    df,\n",
    "    x=\"lifeExp\",\n",
    "    y=\"gdpPercap\",\n",
    "    hover_name=\"country\",\n",
    "    hover_data=[\"lifeExp\", \"gdpPercap\", \"pop\"],\n",
    ")\n",
    "fig.update_traces(marker_color=\"rgba(0,0,0,0)\")\n",
    "\n",
    "minDim = df[[\"lifeExp\", \"gdpPercap\"]].max().idxmax()\n",
    "maxi = df[minDim].max()\n",
    "for i, row in df.iterrows():\n",
    "    country_iso = row[\"iso_alpha2\"]\n",
    "    fig.add_layout_image(\n",
    "        dict(\n",
    "            source=f\"https://raw.githubusercontent.com/matahombres/CSS-Country-Flags-Rounded/master/flags/{country_iso}.png\",\n",
    "            xref=\"x\",\n",
    "            yref=\"y\",\n",
    "            xanchor=\"center\",\n",
    "            yanchor=\"middle\",\n",
    "            x=row[\"lifeExp\"],\n",
    "            y=row[\"gdpPercap\"],\n",
    "            sizex=np.sqrt(row[\"pop\"] / df[\"pop\"].max()) * maxi * 0.15 + maxi * 0.03,\n",
    "            sizey=np.sqrt(row[\"pop\"] / df[\"pop\"].max()) * maxi * 0.15+ maxi * 0.03,\n",
    "            sizing=\"contain\",\n",
    "            opacity=0.8,\n",
    "            layer=\"above\"\n",
    "        )\n",
    "    )\n",
    "\n",
    "fig.update_layout(height=600, width=1000, plot_bgcolor=\"#dfdfdf\", yaxis_range=[-5e3, 55e3])\n",
    "\n",
    "fig.show()"
   ]
  },
  {
   "cell_type": "code",
   "execution_count": null,
   "id": "583e9fbd",
   "metadata": {},
   "outputs": [],
   "source": []
  }
 ],
 "metadata": {
  "kernelspec": {
   "display_name": "Python 3 (ipykernel)",
   "language": "python",
   "name": "python3"
  },
  "language_info": {
   "codemirror_mode": {
    "name": "ipython",
    "version": 3
   },
   "file_extension": ".py",
   "mimetype": "text/x-python",
   "name": "python",
   "nbconvert_exporter": "python",
   "pygments_lexer": "ipython3",
   "version": "3.7.2"
  }
 },
 "nbformat": 4,
 "nbformat_minor": 5
}
