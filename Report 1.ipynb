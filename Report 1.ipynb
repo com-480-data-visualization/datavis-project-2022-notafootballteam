{
 "cells": [
  {
   "cell_type": "markdown",
   "id": "624be9d9",
   "metadata": {},
   "source": [
    "# Dataviz report 1"
   ]
  },
  {
   "cell_type": "code",
   "execution_count": null,
   "id": "f5c29c8b",
   "metadata": {},
   "outputs": [],
   "source": []
  }
 ],
 "metadata": {
  "kernelspec": {
   "display_name": "Python 3 (ipykernel)",
   "language": "python",
   "name": "python3"
  },
  "language_info": {
   "codemirror_mode": {
    "name": "ipython",
    "version": 3
   },
   "file_extension": ".py",
   "mimetype": "text/x-python",
   "name": "python",
   "nbconvert_exporter": "python",
   "pygments_lexer": "ipython3",
   "version": "3.9.7"
  }
 },
 "nbformat": 4,
 "nbformat_minor": 5
}
