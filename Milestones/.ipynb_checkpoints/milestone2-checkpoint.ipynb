{
 "cells": [
  {
   "cell_type": "code",
   "execution_count": 4,
   "id": "96b1aabd",
   "metadata": {},
   "outputs": [],
   "source": [
    "import pandas as pd\n",
    "import geopandas as gpd\n",
    "import mapclassify\n",
    "import plotly.express as px\n",
    "import pycountry\n",
    "import numpy as np"
   ]
  },
  {
   "cell_type": "code",
   "execution_count": 5,
   "id": "e488e367",
   "metadata": {},
   "outputs": [],
   "source": [
    "PATH_HAPPY = \"../Data/world-happiness-report.csv\"\n",
    "PATH_HAPPY_2021 = \"../Data/world-happiness-report-2021.csv\"\n",
    "PATH_ALCOHOL = \"../Data/alcohol-consumption.csv\""
   ]
  },
  {
   "cell_type": "markdown",
   "id": "88cca0e1",
   "metadata": {},
   "source": [
    "# Data Visualisation (COM-480) - 2022\n",
    "## <i>If Not Alcohol, What Makes Us Happy?</i>\n",
    "### Milestone 2\n",
    "---"
   ]
  },
  {
   "cell_type": "markdown",
   "id": "fd1a3bc8",
   "metadata": {},
   "source": [
    "### Visualizations\n",
    "For the sake of practicality and to allow for more scalability, several medium complexity level visualizations are proposed, as opposed to a large complex visualization.\n",
    "\n",
    "By displaying a central <b>timeline slider</b> on the webpage, the user can query entries from 2005 to 2021. As discussed, missing values are interpolated. With a certain selected year, the following are the planned visualizations:\n",
    "- <b>Outlier Map.</b>\n",
    "A colored world map showing outliers: here, countries whose happiness level is very different from what would have been expected from GDP/capita alone. For example, countries close to their expected happiness level are represented in gray, those far above in green shades and those below in red shades.\n",
    "- <b>Distribution Plot for Happiness /  Alcohol Consumption.</b>\n",
    "The objective is to plot the skew of the Happiness Score and alcohol consumption distributions to highlight their uniformity or inequality and discuss it. When hovering over each “bin” (i.e. vertical bar), the countries in that bin would become visible with the respective values.\n",
    "- <b>Change of Ranking over Time (Bar Chart).</b>\n",
    "Using a horizontal bar chart, the objective is to visualize the evolution of the ranking of the happiest countries.\n",
    "- <b>Correlation: Scatterplot.</b>\n",
    "The objective is to create an interactive 2D scatterplot, where the user can select the X-axis attribute (default: alcohol consumtion), while the Y-axis attribute is fixed to Happiness Score. Each point in the scatterplot would represent a country. The points can be color-coded based on the georegion, or the actual flag of the country. When a country is selected, the user would see the country’s connected scatterplot positions from 2005 to 2021.\n",
    "- <b>Magnitude: [Radar Chart](https://en.wikipedia.org/wiki/Radar_chart).</b>\n",
    "The objective is to create an interactive radar chart with the Happiness Score attribute at the top corner while others are the remaining corners.\n",
    "- <b> Correlation Map.</b>\n",
    "A world map color-coded based on the value of the attribute selected in the scatter-plot.\n",
    "- <i>Optional: Fun animation.</i>\n",
    "An animation which demonstrates the magnitude of the alcohol consumed per capita by country. For example, a bottle that gets filled by country-themed bubbles; their number corresponds to the respective value for that country.\n",
    "\n",
    "Note that the Scatterplot, the Radar Chart and the Map are connected: hovering/tapping on a country on the scatterplot would also update the radar chart line and would highlight the country on the map, and vice versa."
   ]
  },
  {
   "cell_type": "markdown",
   "id": "db60408f",
   "metadata": {},
   "source": [
    "## Tools we will use "
   ]
  },
  {
   "cell_type": "markdown",
   "id": "48ed2dda",
   "metadata": {},
   "source": [
    "We decided to start by a mockup of all the visualisations listed above. These can be either quick & dirty python implementations (if nothing satisfying can be easily done \"by hand\") or handmade mockups. \n",
    "\n",
    "The python implementation process is also useful for the next step: using pandas, we obtain quite complete dataframes and would not have to do any further processing on the data in JS.\n",
    "\n",
    "Below is a list of tools to be used for our real implementation. "
   ]
  },
  {
   "cell_type": "markdown",
   "id": "d76c5718",
   "metadata": {},
   "source": [
    "| Visualisation| Lectures and tools we will need |\n",
    "| :----------- | :----------- |\n",
    "| Outlier Map     | Lecture 4  : D3.js (Drawing the map) <br /> Lecture 5 : D3.js (Making it interactive) <br /> Lecture 8 : GDAL, Leaflet.js  (Drawing the map)  |\n",
    "| Distribution Plot for Happiness / Alcohol Consumption.  | Lecture 4 : D3.js (Drawing the plot) <br /> Lecture 5 : D3.js (Making it interactive)       |\n",
    "| Change of Ranking over Time (Bar Chart). / Alcohol Consumption.  | Lecture 4 : D3.js (Drawing the plot)<br /> Lecture 5 : D3.js (Making it interactive)      |\n",
    "| Correlation: Scatterplot.  | Lecture 4 : D3.js (Drawing the plot)<br /> Lecture 5 : D3.js (Making it interactive)      |\n",
    "| Magnitude: [Radar Chart](https://en.wikipedia.org/wiki/Radar_chart).  | Lecture 4 : D3.js (Drawing the plot)<br /> Lecture 5 : D3.js (Making it interactive)       |\n",
    "| Correlation Map.   | Lecture 4 : D3.js (Drawing the plot)<br /> Lecture 5 : D3.js (Making it interactive)      |\n",
    "| Fun animation (a 2D bottle that gets filled by country-themed bubbles)      | Two.js framework            |"
   ]
  },
  {
   "cell_type": "markdown",
   "id": "ec6da858",
   "metadata": {},
   "source": [
    "### Ordered list of work items\n",
    "\n",
    "<ins>Minimal viable product: Core</ins>\n",
    "1. [ ] Outlier Map \n",
    "2. [ ] Correlation: Scatterplot\n",
    "3. [ ] Magnitude: [Radar Chart](https://en.wikipedia.org/wiki/Radar_chart)\n",
    "4. [ ] Make the 3 plots interactive and connected (Outlier Map, Radar Chart, Scatterplot)\n",
    "\n",
    "<ins>End of minimal viable product  </ins>\n",
    "1. [ ] Change of Ranking over Time (Bar Chart)\n",
    "2. [ ] Distribution Plot for Happiness / Alcohol Consumption.\n",
    "3. [ ] Correlation Map.\n",
    "4. [ ] Change of Ranking over Time animated\n",
    "<br />  \n",
    "\n",
    "<ins>If we have time </ins>\n",
    "\n",
    "1. [ ] The Fun animation (2D bottle that gets filled by country-themed bubbles)"
   ]
  },
  {
   "cell_type": "markdown",
   "id": "638b56fa",
   "metadata": {},
   "source": [
    "### Data preprocessing"
   ]
  },
  {
   "cell_type": "code",
   "execution_count": 6,
   "id": "ea3fcd26",
   "metadata": {
    "scrolled": false
   },
   "outputs": [
    {
     "data": {
      "text/html": [
       "<div>\n",
       "<style scoped>\n",
       "    .dataframe tbody tr th:only-of-type {\n",
       "        vertical-align: middle;\n",
       "    }\n",
       "\n",
       "    .dataframe tbody tr th {\n",
       "        vertical-align: top;\n",
       "    }\n",
       "\n",
       "    .dataframe thead th {\n",
       "        text-align: right;\n",
       "    }\n",
       "</style>\n",
       "<table border=\"1\" class=\"dataframe\">\n",
       "  <thead>\n",
       "    <tr style=\"text-align: right;\">\n",
       "      <th></th>\n",
       "      <th>Country name</th>\n",
       "      <th>Regional indicator</th>\n",
       "      <th>Ladder score</th>\n",
       "      <th>Standard error of ladder score</th>\n",
       "      <th>upperwhisker</th>\n",
       "      <th>lowerwhisker</th>\n",
       "      <th>Logged GDP per capita</th>\n",
       "      <th>Social support</th>\n",
       "      <th>Healthy life expectancy</th>\n",
       "      <th>Freedom to make life choices</th>\n",
       "      <th>Generosity</th>\n",
       "      <th>Perceptions of corruption</th>\n",
       "      <th>Ladder score in Dystopia</th>\n",
       "      <th>Explained by: Log GDP per capita</th>\n",
       "      <th>Explained by: Social support</th>\n",
       "      <th>Explained by: Healthy life expectancy</th>\n",
       "      <th>Explained by: Freedom to make life choices</th>\n",
       "      <th>Explained by: Generosity</th>\n",
       "      <th>Explained by: Perceptions of corruption</th>\n",
       "      <th>Dystopia + residual</th>\n",
       "    </tr>\n",
       "  </thead>\n",
       "  <tbody>\n",
       "    <tr>\n",
       "      <th>0</th>\n",
       "      <td>Finland</td>\n",
       "      <td>Western Europe</td>\n",
       "      <td>7.842</td>\n",
       "      <td>0.032</td>\n",
       "      <td>7.904</td>\n",
       "      <td>7.780</td>\n",
       "      <td>10.775</td>\n",
       "      <td>0.954</td>\n",
       "      <td>72.0</td>\n",
       "      <td>0.949</td>\n",
       "      <td>-0.098</td>\n",
       "      <td>0.186</td>\n",
       "      <td>2.43</td>\n",
       "      <td>1.446</td>\n",
       "      <td>1.106</td>\n",
       "      <td>0.741</td>\n",
       "      <td>0.691</td>\n",
       "      <td>0.124</td>\n",
       "      <td>0.481</td>\n",
       "      <td>3.253</td>\n",
       "    </tr>\n",
       "    <tr>\n",
       "      <th>1</th>\n",
       "      <td>Denmark</td>\n",
       "      <td>Western Europe</td>\n",
       "      <td>7.620</td>\n",
       "      <td>0.035</td>\n",
       "      <td>7.687</td>\n",
       "      <td>7.552</td>\n",
       "      <td>10.933</td>\n",
       "      <td>0.954</td>\n",
       "      <td>72.7</td>\n",
       "      <td>0.946</td>\n",
       "      <td>0.030</td>\n",
       "      <td>0.179</td>\n",
       "      <td>2.43</td>\n",
       "      <td>1.502</td>\n",
       "      <td>1.108</td>\n",
       "      <td>0.763</td>\n",
       "      <td>0.686</td>\n",
       "      <td>0.208</td>\n",
       "      <td>0.485</td>\n",
       "      <td>2.868</td>\n",
       "    </tr>\n",
       "    <tr>\n",
       "      <th>2</th>\n",
       "      <td>Switzerland</td>\n",
       "      <td>Western Europe</td>\n",
       "      <td>7.571</td>\n",
       "      <td>0.036</td>\n",
       "      <td>7.643</td>\n",
       "      <td>7.500</td>\n",
       "      <td>11.117</td>\n",
       "      <td>0.942</td>\n",
       "      <td>74.4</td>\n",
       "      <td>0.919</td>\n",
       "      <td>0.025</td>\n",
       "      <td>0.292</td>\n",
       "      <td>2.43</td>\n",
       "      <td>1.566</td>\n",
       "      <td>1.079</td>\n",
       "      <td>0.816</td>\n",
       "      <td>0.653</td>\n",
       "      <td>0.204</td>\n",
       "      <td>0.413</td>\n",
       "      <td>2.839</td>\n",
       "    </tr>\n",
       "    <tr>\n",
       "      <th>3</th>\n",
       "      <td>Iceland</td>\n",
       "      <td>Western Europe</td>\n",
       "      <td>7.554</td>\n",
       "      <td>0.059</td>\n",
       "      <td>7.670</td>\n",
       "      <td>7.438</td>\n",
       "      <td>10.878</td>\n",
       "      <td>0.983</td>\n",
       "      <td>73.0</td>\n",
       "      <td>0.955</td>\n",
       "      <td>0.160</td>\n",
       "      <td>0.673</td>\n",
       "      <td>2.43</td>\n",
       "      <td>1.482</td>\n",
       "      <td>1.172</td>\n",
       "      <td>0.772</td>\n",
       "      <td>0.698</td>\n",
       "      <td>0.293</td>\n",
       "      <td>0.170</td>\n",
       "      <td>2.967</td>\n",
       "    </tr>\n",
       "    <tr>\n",
       "      <th>4</th>\n",
       "      <td>Netherlands</td>\n",
       "      <td>Western Europe</td>\n",
       "      <td>7.464</td>\n",
       "      <td>0.027</td>\n",
       "      <td>7.518</td>\n",
       "      <td>7.410</td>\n",
       "      <td>10.932</td>\n",
       "      <td>0.942</td>\n",
       "      <td>72.4</td>\n",
       "      <td>0.913</td>\n",
       "      <td>0.175</td>\n",
       "      <td>0.338</td>\n",
       "      <td>2.43</td>\n",
       "      <td>1.501</td>\n",
       "      <td>1.079</td>\n",
       "      <td>0.753</td>\n",
       "      <td>0.647</td>\n",
       "      <td>0.302</td>\n",
       "      <td>0.384</td>\n",
       "      <td>2.798</td>\n",
       "    </tr>\n",
       "  </tbody>\n",
       "</table>\n",
       "</div>"
      ],
      "text/plain": [
       "  Country name Regional indicator  Ladder score  \\\n",
       "0      Finland     Western Europe         7.842   \n",
       "1      Denmark     Western Europe         7.620   \n",
       "2  Switzerland     Western Europe         7.571   \n",
       "3      Iceland     Western Europe         7.554   \n",
       "4  Netherlands     Western Europe         7.464   \n",
       "\n",
       "   Standard error of ladder score  upperwhisker  lowerwhisker  \\\n",
       "0                           0.032         7.904         7.780   \n",
       "1                           0.035         7.687         7.552   \n",
       "2                           0.036         7.643         7.500   \n",
       "3                           0.059         7.670         7.438   \n",
       "4                           0.027         7.518         7.410   \n",
       "\n",
       "   Logged GDP per capita  Social support  Healthy life expectancy  \\\n",
       "0                 10.775           0.954                     72.0   \n",
       "1                 10.933           0.954                     72.7   \n",
       "2                 11.117           0.942                     74.4   \n",
       "3                 10.878           0.983                     73.0   \n",
       "4                 10.932           0.942                     72.4   \n",
       "\n",
       "   Freedom to make life choices  Generosity  Perceptions of corruption  \\\n",
       "0                         0.949      -0.098                      0.186   \n",
       "1                         0.946       0.030                      0.179   \n",
       "2                         0.919       0.025                      0.292   \n",
       "3                         0.955       0.160                      0.673   \n",
       "4                         0.913       0.175                      0.338   \n",
       "\n",
       "   Ladder score in Dystopia  Explained by: Log GDP per capita  \\\n",
       "0                      2.43                             1.446   \n",
       "1                      2.43                             1.502   \n",
       "2                      2.43                             1.566   \n",
       "3                      2.43                             1.482   \n",
       "4                      2.43                             1.501   \n",
       "\n",
       "   Explained by: Social support  Explained by: Healthy life expectancy  \\\n",
       "0                         1.106                                  0.741   \n",
       "1                         1.108                                  0.763   \n",
       "2                         1.079                                  0.816   \n",
       "3                         1.172                                  0.772   \n",
       "4                         1.079                                  0.753   \n",
       "\n",
       "   Explained by: Freedom to make life choices  Explained by: Generosity  \\\n",
       "0                                       0.691                     0.124   \n",
       "1                                       0.686                     0.208   \n",
       "2                                       0.653                     0.204   \n",
       "3                                       0.698                     0.293   \n",
       "4                                       0.647                     0.302   \n",
       "\n",
       "   Explained by: Perceptions of corruption  Dystopia + residual  \n",
       "0                                    0.481                3.253  \n",
       "1                                    0.485                2.868  \n",
       "2                                    0.413                2.839  \n",
       "3                                    0.170                2.967  \n",
       "4                                    0.384                2.798  "
      ]
     },
     "execution_count": 6,
     "metadata": {},
     "output_type": "execute_result"
    }
   ],
   "source": [
    "df_happy_2021 = pd.read_csv(PATH_HAPPY_2021)\n",
    "df_happy_2021.head()"
   ]
  },
  {
   "cell_type": "code",
   "execution_count": 7,
   "id": "fa65625a",
   "metadata": {},
   "outputs": [],
   "source": [
    "# We built here a list of country names that were not standard and their standard conversion. \n",
    "names_conversion = {\"Czech Republic\": \"Czechia\", \n",
    "                    \"Taiwan Province of China\": \"Taiwan, Province of China\", \n",
    "                    \"South Korea\": \"Korea, Republic of\", \n",
    "                    \"Moldova\": \"Moldova, Republic of\", \n",
    "                    \"Bolivia\": \"Bolivia, Plurinational State of\", \n",
    "                    \"Russia\" : \"Russian Federation\", \n",
    "                    \"Hong Kong S.A.R. of China\": \"Hong Kong\", \n",
    "                    \"Vietnam\": \"Viet Nam\", \n",
    "                    \"Congo (Brazzaville)\": \"Congo\", \n",
    "                    \"Ivory Coast\": \"Côte d'Ivoire\",\n",
    "                    \"Laos\": \"Lao People's Democratic Republic\", \n",
    "                    \"Venezuela\": \"Venezuela, Bolivarian Republic of\",\n",
    "                    \"Iran\": \"Iran, Islamic Republic of\", \n",
    "                    \"Palestinian Territories\": \"Palestine, State of\", \n",
    "                    \"Swaziland\": \"Eswatini\",\n",
    "                    \"Tanzania\": \"Tanzania, United Republic of\"}"
   ]
  },
  {
   "cell_type": "code",
   "execution_count": 8,
   "id": "285fba46",
   "metadata": {},
   "outputs": [],
   "source": [
    "df_happy_2021[\"Country name\"] = df_happy_2021[\"Country name\"].replace(names_conversion)"
   ]
  },
  {
   "cell_type": "markdown",
   "id": "026cfcd8",
   "metadata": {},
   "source": [
    "A first step is to ensure name consistency for countries. To do so, we will use the pycountry library and retrieve the iso_2 and iso_3 codes for country names. "
   ]
  },
  {
   "cell_type": "code",
   "execution_count": 24,
   "id": "a4238e09",
   "metadata": {
    "scrolled": false
   },
   "outputs": [
    {
     "name": "stdout",
     "output_type": "stream",
     "text": [
      "['FIN', 'DNK', 'CHE', 'ISL', 'NLD', 'NOR', 'SWE', 'LUX', 'NZL', 'AUT', 'AUS', 'ISR', 'DEU', 'CAN', 'IRL', 'CRI', 'GBR', 'CZE', 'USA', 'BEL', 'FRA', 'BHR', 'MLT', 'TWN', 'ARE', 'SAU', 'ESP', 'ITA', 'SVN', 'GTM', 'URY', 'SGP', 'Unknown code', 'SVK', 'BRA', 'MEX', 'JAM', 'LTU', 'CYP', 'EST', 'PAN', 'UZB', 'CHL', 'POL', 'KAZ', 'ROU', 'KWT', 'SRB', 'SLV', 'MUS', 'LVA', 'COL', 'HUN', 'THA', 'NIC', 'JPN', 'ARG', 'PRT', 'HND', 'HRV', 'PHL', 'KOR', 'PER', 'BIH', 'MDA', 'ECU', 'KGZ', 'GRC', 'BOL', 'MNG', 'PRY', 'MNE', 'DOM', 'Unknown code', 'BLR', 'RUS', 'HKG', 'TJK', 'VNM', 'LBY', 'MYS', 'IDN', 'COG', 'CHN', 'CIV', 'ARM', 'NPL', 'BGR', 'MDV', 'AZE', 'CMR', 'SEN', 'ALB', 'MKD', 'GHA', 'NER', 'TKM', 'GMB', 'BEN', 'LAO', 'BGD', 'GIN', 'ZAF', 'TUR', 'PAK', 'MAR', 'VEN', 'GEO', 'DZA', 'UKR', 'IRQ', 'GAB', 'BFA', 'KHM', 'MOZ', 'NGA', 'MLI', 'IRN', 'UGA', 'LBR', 'KEN', 'TUN', 'LBN', 'NAM', 'PSE', 'MMR', 'JOR', 'TCD', 'LKA', 'SWZ', 'COM', 'EGY', 'ETH', 'MRT', 'MDG', 'TGO', 'ZMB', 'SLE', 'IND', 'BDI', 'YEM', 'TZA', 'HTI', 'MWI', 'LSO', 'BWA', 'RWA', 'ZWE', 'AFG']\n"
     ]
    }
   ],
   "source": [
    "input_countries = [a for a in df_happy_2021[\"Country name\"].to_numpy()]\n",
    "countries_2 = {}\n",
    "countries_3 = {}\n",
    "for country in pycountry.countries:\n",
    "    countries_2[country.name] = country.alpha_2\n",
    "    countries_3[country.name] = country.alpha_3\n",
    "    \n",
    "codes_2 = [countries_2.get(country, 'Unknown code') for country in input_countries]\n",
    "codes_3 = [countries_3.get(country, 'Unknown code') for country in input_countries]\n",
    "\n",
    "print(codes_3)"
   ]
  },
  {
   "cell_type": "code",
   "execution_count": 30,
   "id": "f09568e1",
   "metadata": {},
   "outputs": [],
   "source": [
    "df_happy_2021[\"iso_2\"] = codes_2\n",
    "df_happy_2021[\"iso_3\"] = codes_3"
   ]
  },
  {
   "cell_type": "code",
   "execution_count": 31,
   "id": "36aa90d9",
   "metadata": {},
   "outputs": [
    {
     "data": {
      "text/html": [
       "<div>\n",
       "<style scoped>\n",
       "    .dataframe tbody tr th:only-of-type {\n",
       "        vertical-align: middle;\n",
       "    }\n",
       "\n",
       "    .dataframe tbody tr th {\n",
       "        vertical-align: top;\n",
       "    }\n",
       "\n",
       "    .dataframe thead th {\n",
       "        text-align: right;\n",
       "    }\n",
       "</style>\n",
       "<table border=\"1\" class=\"dataframe\">\n",
       "  <thead>\n",
       "    <tr style=\"text-align: right;\">\n",
       "      <th></th>\n",
       "      <th>Country name</th>\n",
       "      <th>Regional indicator</th>\n",
       "      <th>Ladder score</th>\n",
       "      <th>Standard error of ladder score</th>\n",
       "      <th>upperwhisker</th>\n",
       "      <th>lowerwhisker</th>\n",
       "      <th>Logged GDP per capita</th>\n",
       "      <th>Social support</th>\n",
       "      <th>Healthy life expectancy</th>\n",
       "      <th>Freedom to make life choices</th>\n",
       "      <th>...</th>\n",
       "      <th>Ladder score in Dystopia</th>\n",
       "      <th>Explained by: Log GDP per capita</th>\n",
       "      <th>Explained by: Social support</th>\n",
       "      <th>Explained by: Healthy life expectancy</th>\n",
       "      <th>Explained by: Freedom to make life choices</th>\n",
       "      <th>Explained by: Generosity</th>\n",
       "      <th>Explained by: Perceptions of corruption</th>\n",
       "      <th>Dystopia + residual</th>\n",
       "      <th>iso_2</th>\n",
       "      <th>iso_3</th>\n",
       "    </tr>\n",
       "  </thead>\n",
       "  <tbody>\n",
       "    <tr>\n",
       "      <th>141</th>\n",
       "      <td>Tanzania, United Republic of</td>\n",
       "      <td>Sub-Saharan Africa</td>\n",
       "      <td>3.623</td>\n",
       "      <td>0.071</td>\n",
       "      <td>3.762</td>\n",
       "      <td>3.485</td>\n",
       "      <td>7.876</td>\n",
       "      <td>0.702</td>\n",
       "      <td>57.999</td>\n",
       "      <td>0.833</td>\n",
       "      <td>...</td>\n",
       "      <td>2.43</td>\n",
       "      <td>0.433</td>\n",
       "      <td>0.540</td>\n",
       "      <td>0.300</td>\n",
       "      <td>0.549</td>\n",
       "      <td>0.307</td>\n",
       "      <td>0.231</td>\n",
       "      <td>1.263</td>\n",
       "      <td>TZ</td>\n",
       "      <td>TZA</td>\n",
       "    </tr>\n",
       "    <tr>\n",
       "      <th>146</th>\n",
       "      <td>Rwanda</td>\n",
       "      <td>Sub-Saharan Africa</td>\n",
       "      <td>3.415</td>\n",
       "      <td>0.068</td>\n",
       "      <td>3.548</td>\n",
       "      <td>3.282</td>\n",
       "      <td>7.676</td>\n",
       "      <td>0.552</td>\n",
       "      <td>61.400</td>\n",
       "      <td>0.897</td>\n",
       "      <td>...</td>\n",
       "      <td>2.43</td>\n",
       "      <td>0.364</td>\n",
       "      <td>0.202</td>\n",
       "      <td>0.407</td>\n",
       "      <td>0.627</td>\n",
       "      <td>0.227</td>\n",
       "      <td>0.493</td>\n",
       "      <td>1.095</td>\n",
       "      <td>RW</td>\n",
       "      <td>RWA</td>\n",
       "    </tr>\n",
       "    <tr>\n",
       "      <th>23</th>\n",
       "      <td>Taiwan, Province of China</td>\n",
       "      <td>East Asia</td>\n",
       "      <td>6.584</td>\n",
       "      <td>0.038</td>\n",
       "      <td>6.659</td>\n",
       "      <td>6.510</td>\n",
       "      <td>10.871</td>\n",
       "      <td>0.898</td>\n",
       "      <td>69.600</td>\n",
       "      <td>0.784</td>\n",
       "      <td>...</td>\n",
       "      <td>2.43</td>\n",
       "      <td>1.480</td>\n",
       "      <td>0.982</td>\n",
       "      <td>0.665</td>\n",
       "      <td>0.490</td>\n",
       "      <td>0.142</td>\n",
       "      <td>0.139</td>\n",
       "      <td>2.687</td>\n",
       "      <td>TW</td>\n",
       "      <td>TWN</td>\n",
       "    </tr>\n",
       "    <tr>\n",
       "      <th>53</th>\n",
       "      <td>Thailand</td>\n",
       "      <td>Southeast Asia</td>\n",
       "      <td>5.985</td>\n",
       "      <td>0.047</td>\n",
       "      <td>6.077</td>\n",
       "      <td>5.893</td>\n",
       "      <td>9.805</td>\n",
       "      <td>0.888</td>\n",
       "      <td>67.401</td>\n",
       "      <td>0.884</td>\n",
       "      <td>...</td>\n",
       "      <td>2.43</td>\n",
       "      <td>1.107</td>\n",
       "      <td>0.957</td>\n",
       "      <td>0.596</td>\n",
       "      <td>0.611</td>\n",
       "      <td>0.375</td>\n",
       "      <td>0.028</td>\n",
       "      <td>2.309</td>\n",
       "      <td>TH</td>\n",
       "      <td>THA</td>\n",
       "    </tr>\n",
       "    <tr>\n",
       "      <th>129</th>\n",
       "      <td>Eswatini</td>\n",
       "      <td>Sub-Saharan Africa</td>\n",
       "      <td>4.308</td>\n",
       "      <td>0.071</td>\n",
       "      <td>4.448</td>\n",
       "      <td>4.168</td>\n",
       "      <td>9.065</td>\n",
       "      <td>0.770</td>\n",
       "      <td>50.833</td>\n",
       "      <td>0.647</td>\n",
       "      <td>...</td>\n",
       "      <td>2.43</td>\n",
       "      <td>0.849</td>\n",
       "      <td>0.693</td>\n",
       "      <td>0.074</td>\n",
       "      <td>0.323</td>\n",
       "      <td>0.067</td>\n",
       "      <td>0.147</td>\n",
       "      <td>2.155</td>\n",
       "      <td>SZ</td>\n",
       "      <td>SWZ</td>\n",
       "    </tr>\n",
       "  </tbody>\n",
       "</table>\n",
       "<p>5 rows × 22 columns</p>\n",
       "</div>"
      ],
      "text/plain": [
       "                     Country name  Regional indicator  Ladder score  \\\n",
       "141  Tanzania, United Republic of  Sub-Saharan Africa         3.623   \n",
       "146                        Rwanda  Sub-Saharan Africa         3.415   \n",
       "23      Taiwan, Province of China           East Asia         6.584   \n",
       "53                       Thailand      Southeast Asia         5.985   \n",
       "129                      Eswatini  Sub-Saharan Africa         4.308   \n",
       "\n",
       "     Standard error of ladder score  upperwhisker  lowerwhisker  \\\n",
       "141                           0.071         3.762         3.485   \n",
       "146                           0.068         3.548         3.282   \n",
       "23                            0.038         6.659         6.510   \n",
       "53                            0.047         6.077         5.893   \n",
       "129                           0.071         4.448         4.168   \n",
       "\n",
       "     Logged GDP per capita  Social support  Healthy life expectancy  \\\n",
       "141                  7.876           0.702                   57.999   \n",
       "146                  7.676           0.552                   61.400   \n",
       "23                  10.871           0.898                   69.600   \n",
       "53                   9.805           0.888                   67.401   \n",
       "129                  9.065           0.770                   50.833   \n",
       "\n",
       "     Freedom to make life choices  ...  Ladder score in Dystopia  \\\n",
       "141                         0.833  ...                      2.43   \n",
       "146                         0.897  ...                      2.43   \n",
       "23                          0.784  ...                      2.43   \n",
       "53                          0.884  ...                      2.43   \n",
       "129                         0.647  ...                      2.43   \n",
       "\n",
       "     Explained by: Log GDP per capita  Explained by: Social support  \\\n",
       "141                             0.433                         0.540   \n",
       "146                             0.364                         0.202   \n",
       "23                              1.480                         0.982   \n",
       "53                              1.107                         0.957   \n",
       "129                             0.849                         0.693   \n",
       "\n",
       "     Explained by: Healthy life expectancy  \\\n",
       "141                                  0.300   \n",
       "146                                  0.407   \n",
       "23                                   0.665   \n",
       "53                                   0.596   \n",
       "129                                  0.074   \n",
       "\n",
       "     Explained by: Freedom to make life choices  Explained by: Generosity  \\\n",
       "141                                       0.549                     0.307   \n",
       "146                                       0.627                     0.227   \n",
       "23                                        0.490                     0.142   \n",
       "53                                        0.611                     0.375   \n",
       "129                                       0.323                     0.067   \n",
       "\n",
       "     Explained by: Perceptions of corruption  Dystopia + residual  iso_2  \\\n",
       "141                                    0.231                1.263     TZ   \n",
       "146                                    0.493                1.095     RW   \n",
       "23                                     0.139                2.687     TW   \n",
       "53                                     0.028                2.309     TH   \n",
       "129                                    0.147                2.155     SZ   \n",
       "\n",
       "     iso_3  \n",
       "141    TZA  \n",
       "146    RWA  \n",
       "23     TWN  \n",
       "53     THA  \n",
       "129    SWZ  \n",
       "\n",
       "[5 rows x 22 columns]"
      ]
     },
     "execution_count": 31,
     "metadata": {},
     "output_type": "execute_result"
    }
   ],
   "source": [
    "df_happy_2021.sample(5)"
   ]
  },
  {
   "cell_type": "code",
   "execution_count": 32,
   "id": "50daac5b",
   "metadata": {
    "scrolled": true
   },
   "outputs": [
    {
     "data": {
      "text/html": [
       "<div>\n",
       "<style scoped>\n",
       "    .dataframe tbody tr th:only-of-type {\n",
       "        vertical-align: middle;\n",
       "    }\n",
       "\n",
       "    .dataframe tbody tr th {\n",
       "        vertical-align: top;\n",
       "    }\n",
       "\n",
       "    .dataframe thead th {\n",
       "        text-align: right;\n",
       "    }\n",
       "</style>\n",
       "<table border=\"1\" class=\"dataframe\">\n",
       "  <thead>\n",
       "    <tr style=\"text-align: right;\">\n",
       "      <th></th>\n",
       "      <th>Country name</th>\n",
       "      <th>Regional indicator</th>\n",
       "      <th>Ladder score</th>\n",
       "      <th>Standard error of ladder score</th>\n",
       "      <th>upperwhisker</th>\n",
       "      <th>lowerwhisker</th>\n",
       "      <th>Logged GDP per capita</th>\n",
       "      <th>Social support</th>\n",
       "      <th>Healthy life expectancy</th>\n",
       "      <th>Freedom to make life choices</th>\n",
       "      <th>...</th>\n",
       "      <th>Ladder score in Dystopia</th>\n",
       "      <th>Explained by: Log GDP per capita</th>\n",
       "      <th>Explained by: Social support</th>\n",
       "      <th>Explained by: Healthy life expectancy</th>\n",
       "      <th>Explained by: Freedom to make life choices</th>\n",
       "      <th>Explained by: Generosity</th>\n",
       "      <th>Explained by: Perceptions of corruption</th>\n",
       "      <th>Dystopia + residual</th>\n",
       "      <th>iso_2</th>\n",
       "      <th>iso_3</th>\n",
       "    </tr>\n",
       "  </thead>\n",
       "  <tbody>\n",
       "    <tr>\n",
       "      <th>32</th>\n",
       "      <td>Kosovo</td>\n",
       "      <td>Central and Eastern Europe</td>\n",
       "      <td>6.372</td>\n",
       "      <td>0.059</td>\n",
       "      <td>6.487</td>\n",
       "      <td>6.257</td>\n",
       "      <td>9.318</td>\n",
       "      <td>0.821</td>\n",
       "      <td>63.813</td>\n",
       "      <td>0.869</td>\n",
       "      <td>...</td>\n",
       "      <td>2.43</td>\n",
       "      <td>0.937</td>\n",
       "      <td>0.807</td>\n",
       "      <td>0.483</td>\n",
       "      <td>0.593</td>\n",
       "      <td>0.356</td>\n",
       "      <td>0.014</td>\n",
       "      <td>3.182</td>\n",
       "      <td>Unknown code</td>\n",
       "      <td>Unknown code</td>\n",
       "    </tr>\n",
       "    <tr>\n",
       "      <th>73</th>\n",
       "      <td>North Cyprus</td>\n",
       "      <td>Western Europe</td>\n",
       "      <td>5.536</td>\n",
       "      <td>0.051</td>\n",
       "      <td>5.636</td>\n",
       "      <td>5.435</td>\n",
       "      <td>10.576</td>\n",
       "      <td>0.820</td>\n",
       "      <td>73.898</td>\n",
       "      <td>0.795</td>\n",
       "      <td>...</td>\n",
       "      <td>2.43</td>\n",
       "      <td>1.377</td>\n",
       "      <td>0.806</td>\n",
       "      <td>0.801</td>\n",
       "      <td>0.503</td>\n",
       "      <td>0.196</td>\n",
       "      <td>0.200</td>\n",
       "      <td>1.653</td>\n",
       "      <td>Unknown code</td>\n",
       "      <td>Unknown code</td>\n",
       "    </tr>\n",
       "  </tbody>\n",
       "</table>\n",
       "<p>2 rows × 22 columns</p>\n",
       "</div>"
      ],
      "text/plain": [
       "    Country name          Regional indicator  Ladder score  \\\n",
       "32        Kosovo  Central and Eastern Europe         6.372   \n",
       "73  North Cyprus              Western Europe         5.536   \n",
       "\n",
       "    Standard error of ladder score  upperwhisker  lowerwhisker  \\\n",
       "32                           0.059         6.487         6.257   \n",
       "73                           0.051         5.636         5.435   \n",
       "\n",
       "    Logged GDP per capita  Social support  Healthy life expectancy  \\\n",
       "32                  9.318           0.821                   63.813   \n",
       "73                 10.576           0.820                   73.898   \n",
       "\n",
       "    Freedom to make life choices  ...  Ladder score in Dystopia  \\\n",
       "32                         0.869  ...                      2.43   \n",
       "73                         0.795  ...                      2.43   \n",
       "\n",
       "    Explained by: Log GDP per capita  Explained by: Social support  \\\n",
       "32                             0.937                         0.807   \n",
       "73                             1.377                         0.806   \n",
       "\n",
       "    Explained by: Healthy life expectancy  \\\n",
       "32                                  0.483   \n",
       "73                                  0.801   \n",
       "\n",
       "    Explained by: Freedom to make life choices  Explained by: Generosity  \\\n",
       "32                                       0.593                     0.356   \n",
       "73                                       0.503                     0.196   \n",
       "\n",
       "    Explained by: Perceptions of corruption  Dystopia + residual  \\\n",
       "32                                    0.014                3.182   \n",
       "73                                    0.200                1.653   \n",
       "\n",
       "           iso_2         iso_3  \n",
       "32  Unknown code  Unknown code  \n",
       "73  Unknown code  Unknown code  \n",
       "\n",
       "[2 rows x 22 columns]"
      ]
     },
     "execution_count": 32,
     "metadata": {},
     "output_type": "execute_result"
    }
   ],
   "source": [
    "df_happy_2021[df_happy_2021['iso_3'] == \"Unknown code\"]"
   ]
  },
  {
   "cell_type": "code",
   "execution_count": 33,
   "id": "64a84864",
   "metadata": {},
   "outputs": [],
   "source": [
    "# some iso standards are not yet define. We enter by hand the temporary ones. \n",
    "df_happy_2021.loc[32,\"iso_2\"] = \"XK\"\n",
    "df_happy_2021.loc[32, \"iso_3\"] = \"XKX\"\n",
    "df_happy_2021.loc[73, \"iso_3\"] = \"CTR\"\n",
    "df_happy_2021.loc[73, \"iso_2\"] = \"CT\""
   ]
  },
  {
   "cell_type": "markdown",
   "id": "530caf60",
   "metadata": {},
   "source": [
    "## Outlier Map"
   ]
  },
  {
   "cell_type": "markdown",
   "id": "63999b9f",
   "metadata": {},
   "source": [
    "Let's start by building a table containing the Happiness Ranking and the GDP ranking of a country. From there, we will show how strong the difference between the two of them is. "
   ]
  },
  {
   "cell_type": "code",
   "execution_count": 37,
   "id": "b8ab8a5f",
   "metadata": {
    "scrolled": true
   },
   "outputs": [],
   "source": [
    "df_happy_2021[\"Happiness ranking\"] = df_happy_2021.index.array"
   ]
  },
  {
   "cell_type": "code",
   "execution_count": 38,
   "id": "ce922b98",
   "metadata": {},
   "outputs": [],
   "source": [
    "df_2021_indexed = df_happy_2021.sort_values(by = \"Logged GDP per capita\", ascending = False).reset_index()\n",
    "df_2021_indexed[\"GDP Ranking\"] = df_2021_indexed.index.array"
   ]
  },
  {
   "cell_type": "code",
   "execution_count": 39,
   "id": "398671f9",
   "metadata": {},
   "outputs": [
    {
     "data": {
      "text/html": [
       "<div>\n",
       "<style scoped>\n",
       "    .dataframe tbody tr th:only-of-type {\n",
       "        vertical-align: middle;\n",
       "    }\n",
       "\n",
       "    .dataframe tbody tr th {\n",
       "        vertical-align: top;\n",
       "    }\n",
       "\n",
       "    .dataframe thead th {\n",
       "        text-align: right;\n",
       "    }\n",
       "</style>\n",
       "<table border=\"1\" class=\"dataframe\">\n",
       "  <thead>\n",
       "    <tr style=\"text-align: right;\">\n",
       "      <th></th>\n",
       "      <th>index</th>\n",
       "      <th>Country name</th>\n",
       "      <th>Regional indicator</th>\n",
       "      <th>Ladder score</th>\n",
       "      <th>Standard error of ladder score</th>\n",
       "      <th>upperwhisker</th>\n",
       "      <th>lowerwhisker</th>\n",
       "      <th>Logged GDP per capita</th>\n",
       "      <th>Social support</th>\n",
       "      <th>Healthy life expectancy</th>\n",
       "      <th>...</th>\n",
       "      <th>Explained by: Social support</th>\n",
       "      <th>Explained by: Healthy life expectancy</th>\n",
       "      <th>Explained by: Freedom to make life choices</th>\n",
       "      <th>Explained by: Generosity</th>\n",
       "      <th>Explained by: Perceptions of corruption</th>\n",
       "      <th>Dystopia + residual</th>\n",
       "      <th>iso_2</th>\n",
       "      <th>iso_3</th>\n",
       "      <th>Happiness ranking</th>\n",
       "      <th>GDP Ranking</th>\n",
       "    </tr>\n",
       "  </thead>\n",
       "  <tbody>\n",
       "    <tr>\n",
       "      <th>0</th>\n",
       "      <td>7</td>\n",
       "      <td>Luxembourg</td>\n",
       "      <td>Western Europe</td>\n",
       "      <td>7.324</td>\n",
       "      <td>0.037</td>\n",
       "      <td>7.396</td>\n",
       "      <td>7.252</td>\n",
       "      <td>11.647</td>\n",
       "      <td>0.908</td>\n",
       "      <td>72.600</td>\n",
       "      <td>...</td>\n",
       "      <td>1.003</td>\n",
       "      <td>0.760</td>\n",
       "      <td>0.639</td>\n",
       "      <td>0.166</td>\n",
       "      <td>0.353</td>\n",
       "      <td>2.653</td>\n",
       "      <td>LU</td>\n",
       "      <td>LUX</td>\n",
       "      <td>7</td>\n",
       "      <td>0</td>\n",
       "    </tr>\n",
       "    <tr>\n",
       "      <th>1</th>\n",
       "      <td>31</td>\n",
       "      <td>Singapore</td>\n",
       "      <td>Southeast Asia</td>\n",
       "      <td>6.377</td>\n",
       "      <td>0.043</td>\n",
       "      <td>6.460</td>\n",
       "      <td>6.293</td>\n",
       "      <td>11.488</td>\n",
       "      <td>0.915</td>\n",
       "      <td>76.953</td>\n",
       "      <td>...</td>\n",
       "      <td>1.019</td>\n",
       "      <td>0.897</td>\n",
       "      <td>0.664</td>\n",
       "      <td>0.176</td>\n",
       "      <td>0.547</td>\n",
       "      <td>1.379</td>\n",
       "      <td>SG</td>\n",
       "      <td>SGP</td>\n",
       "      <td>31</td>\n",
       "      <td>1</td>\n",
       "    </tr>\n",
       "    <tr>\n",
       "      <th>2</th>\n",
       "      <td>14</td>\n",
       "      <td>Ireland</td>\n",
       "      <td>Western Europe</td>\n",
       "      <td>7.085</td>\n",
       "      <td>0.040</td>\n",
       "      <td>7.164</td>\n",
       "      <td>7.006</td>\n",
       "      <td>11.342</td>\n",
       "      <td>0.947</td>\n",
       "      <td>72.400</td>\n",
       "      <td>...</td>\n",
       "      <td>1.092</td>\n",
       "      <td>0.753</td>\n",
       "      <td>0.606</td>\n",
       "      <td>0.238</td>\n",
       "      <td>0.367</td>\n",
       "      <td>2.384</td>\n",
       "      <td>IE</td>\n",
       "      <td>IRL</td>\n",
       "      <td>14</td>\n",
       "      <td>2</td>\n",
       "    </tr>\n",
       "    <tr>\n",
       "      <th>3</th>\n",
       "      <td>2</td>\n",
       "      <td>Switzerland</td>\n",
       "      <td>Western Europe</td>\n",
       "      <td>7.571</td>\n",
       "      <td>0.036</td>\n",
       "      <td>7.643</td>\n",
       "      <td>7.500</td>\n",
       "      <td>11.117</td>\n",
       "      <td>0.942</td>\n",
       "      <td>74.400</td>\n",
       "      <td>...</td>\n",
       "      <td>1.079</td>\n",
       "      <td>0.816</td>\n",
       "      <td>0.653</td>\n",
       "      <td>0.204</td>\n",
       "      <td>0.413</td>\n",
       "      <td>2.839</td>\n",
       "      <td>CH</td>\n",
       "      <td>CHE</td>\n",
       "      <td>2</td>\n",
       "      <td>3</td>\n",
       "    </tr>\n",
       "    <tr>\n",
       "      <th>4</th>\n",
       "      <td>24</td>\n",
       "      <td>United Arab Emirates</td>\n",
       "      <td>Middle East and North Africa</td>\n",
       "      <td>6.561</td>\n",
       "      <td>0.039</td>\n",
       "      <td>6.637</td>\n",
       "      <td>6.484</td>\n",
       "      <td>11.085</td>\n",
       "      <td>0.844</td>\n",
       "      <td>67.333</td>\n",
       "      <td>...</td>\n",
       "      <td>0.860</td>\n",
       "      <td>0.594</td>\n",
       "      <td>0.670</td>\n",
       "      <td>0.236</td>\n",
       "      <td>0.223</td>\n",
       "      <td>2.422</td>\n",
       "      <td>AE</td>\n",
       "      <td>ARE</td>\n",
       "      <td>24</td>\n",
       "      <td>4</td>\n",
       "    </tr>\n",
       "  </tbody>\n",
       "</table>\n",
       "<p>5 rows × 25 columns</p>\n",
       "</div>"
      ],
      "text/plain": [
       "   index          Country name            Regional indicator  Ladder score  \\\n",
       "0      7            Luxembourg                Western Europe         7.324   \n",
       "1     31             Singapore                Southeast Asia         6.377   \n",
       "2     14               Ireland                Western Europe         7.085   \n",
       "3      2           Switzerland                Western Europe         7.571   \n",
       "4     24  United Arab Emirates  Middle East and North Africa         6.561   \n",
       "\n",
       "   Standard error of ladder score  upperwhisker  lowerwhisker  \\\n",
       "0                           0.037         7.396         7.252   \n",
       "1                           0.043         6.460         6.293   \n",
       "2                           0.040         7.164         7.006   \n",
       "3                           0.036         7.643         7.500   \n",
       "4                           0.039         6.637         6.484   \n",
       "\n",
       "   Logged GDP per capita  Social support  Healthy life expectancy  ...  \\\n",
       "0                 11.647           0.908                   72.600  ...   \n",
       "1                 11.488           0.915                   76.953  ...   \n",
       "2                 11.342           0.947                   72.400  ...   \n",
       "3                 11.117           0.942                   74.400  ...   \n",
       "4                 11.085           0.844                   67.333  ...   \n",
       "\n",
       "   Explained by: Social support  Explained by: Healthy life expectancy  \\\n",
       "0                         1.003                                  0.760   \n",
       "1                         1.019                                  0.897   \n",
       "2                         1.092                                  0.753   \n",
       "3                         1.079                                  0.816   \n",
       "4                         0.860                                  0.594   \n",
       "\n",
       "   Explained by: Freedom to make life choices  Explained by: Generosity  \\\n",
       "0                                       0.639                     0.166   \n",
       "1                                       0.664                     0.176   \n",
       "2                                       0.606                     0.238   \n",
       "3                                       0.653                     0.204   \n",
       "4                                       0.670                     0.236   \n",
       "\n",
       "   Explained by: Perceptions of corruption  Dystopia + residual  iso_2  iso_3  \\\n",
       "0                                    0.353                2.653     LU    LUX   \n",
       "1                                    0.547                1.379     SG    SGP   \n",
       "2                                    0.367                2.384     IE    IRL   \n",
       "3                                    0.413                2.839     CH    CHE   \n",
       "4                                    0.223                2.422     AE    ARE   \n",
       "\n",
       "   Happiness ranking  GDP Ranking  \n",
       "0                  7            0  \n",
       "1                 31            1  \n",
       "2                 14            2  \n",
       "3                  2            3  \n",
       "4                 24            4  \n",
       "\n",
       "[5 rows x 25 columns]"
      ]
     },
     "execution_count": 39,
     "metadata": {},
     "output_type": "execute_result"
    }
   ],
   "source": [
    "df_2021_indexed.head()"
   ]
  },
  {
   "cell_type": "code",
   "execution_count": 40,
   "id": "fffb1412",
   "metadata": {},
   "outputs": [
    {
     "name": "stderr",
     "output_type": "stream",
     "text": [
      "/var/folders/zq/7pgqxz395p5c63wvlrh4l0z80000gn/T/ipykernel_12195/774547479.py:2: SettingWithCopyWarning: \n",
      "A value is trying to be set on a copy of a slice from a DataFrame.\n",
      "Try using .loc[row_indexer,col_indexer] = value instead\n",
      "\n",
      "See the caveats in the documentation: https://pandas.pydata.org/pandas-docs/stable/user_guide/indexing.html#returning-a-view-versus-a-copy\n",
      "  df_2021_outliers[\"Difference\"] = df_2021_outliers[\"GDP Ranking\"] - df_2021_outliers[\"Happiness ranking\"]\n"
     ]
    }
   ],
   "source": [
    "df_2021_outliers = df_2021_indexed[[\"Country name\", \"iso_2\", \"iso_3\", \"Happiness ranking\", \"GDP Ranking\"]]\n",
    "df_2021_outliers[\"Difference\"] = df_2021_outliers[\"GDP Ranking\"] - df_2021_outliers[\"Happiness ranking\"]"
   ]
  },
  {
   "cell_type": "code",
   "execution_count": 41,
   "id": "82a1750d",
   "metadata": {},
   "outputs": [
    {
     "data": {
      "text/html": [
       "<div>\n",
       "<style scoped>\n",
       "    .dataframe tbody tr th:only-of-type {\n",
       "        vertical-align: middle;\n",
       "    }\n",
       "\n",
       "    .dataframe tbody tr th {\n",
       "        vertical-align: top;\n",
       "    }\n",
       "\n",
       "    .dataframe thead th {\n",
       "        text-align: right;\n",
       "    }\n",
       "</style>\n",
       "<table border=\"1\" class=\"dataframe\">\n",
       "  <thead>\n",
       "    <tr style=\"text-align: right;\">\n",
       "      <th></th>\n",
       "      <th>Country name</th>\n",
       "      <th>iso_2</th>\n",
       "      <th>iso_3</th>\n",
       "      <th>Happiness ranking</th>\n",
       "      <th>GDP Ranking</th>\n",
       "      <th>Difference</th>\n",
       "    </tr>\n",
       "  </thead>\n",
       "  <tbody>\n",
       "    <tr>\n",
       "      <th>0</th>\n",
       "      <td>Luxembourg</td>\n",
       "      <td>LU</td>\n",
       "      <td>LUX</td>\n",
       "      <td>7</td>\n",
       "      <td>0</td>\n",
       "      <td>-7</td>\n",
       "    </tr>\n",
       "    <tr>\n",
       "      <th>1</th>\n",
       "      <td>Singapore</td>\n",
       "      <td>SG</td>\n",
       "      <td>SGP</td>\n",
       "      <td>31</td>\n",
       "      <td>1</td>\n",
       "      <td>-30</td>\n",
       "    </tr>\n",
       "    <tr>\n",
       "      <th>2</th>\n",
       "      <td>Ireland</td>\n",
       "      <td>IE</td>\n",
       "      <td>IRL</td>\n",
       "      <td>14</td>\n",
       "      <td>2</td>\n",
       "      <td>-12</td>\n",
       "    </tr>\n",
       "    <tr>\n",
       "      <th>3</th>\n",
       "      <td>Switzerland</td>\n",
       "      <td>CH</td>\n",
       "      <td>CHE</td>\n",
       "      <td>2</td>\n",
       "      <td>3</td>\n",
       "      <td>1</td>\n",
       "    </tr>\n",
       "    <tr>\n",
       "      <th>4</th>\n",
       "      <td>United Arab Emirates</td>\n",
       "      <td>AE</td>\n",
       "      <td>ARE</td>\n",
       "      <td>24</td>\n",
       "      <td>4</td>\n",
       "      <td>-20</td>\n",
       "    </tr>\n",
       "  </tbody>\n",
       "</table>\n",
       "</div>"
      ],
      "text/plain": [
       "           Country name iso_2 iso_3  Happiness ranking  GDP Ranking  \\\n",
       "0            Luxembourg    LU   LUX                  7            0   \n",
       "1             Singapore    SG   SGP                 31            1   \n",
       "2               Ireland    IE   IRL                 14            2   \n",
       "3           Switzerland    CH   CHE                  2            3   \n",
       "4  United Arab Emirates    AE   ARE                 24            4   \n",
       "\n",
       "   Difference  \n",
       "0          -7  \n",
       "1         -30  \n",
       "2         -12  \n",
       "3           1  \n",
       "4         -20  "
      ]
     },
     "execution_count": 41,
     "metadata": {},
     "output_type": "execute_result"
    }
   ],
   "source": [
    "df_2021_outliers.head()"
   ]
  },
  {
   "cell_type": "markdown",
   "id": "d94f5451",
   "metadata": {},
   "source": [
    "The geopandas library allows to generate polygons with the right shape, making plotting data on a map very easy. It provides a dataframe with all countries and associated polygons."
   ]
  },
  {
   "cell_type": "code",
   "execution_count": 44,
   "id": "4fe5e3b9",
   "metadata": {
    "scrolled": true
   },
   "outputs": [
    {
     "data": {
      "text/html": [
       "<div>\n",
       "<style scoped>\n",
       "    .dataframe tbody tr th:only-of-type {\n",
       "        vertical-align: middle;\n",
       "    }\n",
       "\n",
       "    .dataframe tbody tr th {\n",
       "        vertical-align: top;\n",
       "    }\n",
       "\n",
       "    .dataframe thead th {\n",
       "        text-align: right;\n",
       "    }\n",
       "</style>\n",
       "<table border=\"1\" class=\"dataframe\">\n",
       "  <thead>\n",
       "    <tr style=\"text-align: right;\">\n",
       "      <th></th>\n",
       "      <th>pop_est</th>\n",
       "      <th>continent</th>\n",
       "      <th>name</th>\n",
       "      <th>iso_a3</th>\n",
       "      <th>gdp_md_est</th>\n",
       "      <th>geometry</th>\n",
       "    </tr>\n",
       "  </thead>\n",
       "  <tbody>\n",
       "    <tr>\n",
       "      <th>0</th>\n",
       "      <td>920938</td>\n",
       "      <td>Oceania</td>\n",
       "      <td>Fiji</td>\n",
       "      <td>FJI</td>\n",
       "      <td>8374.0</td>\n",
       "      <td>MULTIPOLYGON (((180.00000 -16.06713, 180.00000...</td>\n",
       "    </tr>\n",
       "    <tr>\n",
       "      <th>1</th>\n",
       "      <td>53950935</td>\n",
       "      <td>Africa</td>\n",
       "      <td>Tanzania</td>\n",
       "      <td>TZA</td>\n",
       "      <td>150600.0</td>\n",
       "      <td>POLYGON ((33.90371 -0.95000, 34.07262 -1.05982...</td>\n",
       "    </tr>\n",
       "    <tr>\n",
       "      <th>2</th>\n",
       "      <td>603253</td>\n",
       "      <td>Africa</td>\n",
       "      <td>W. Sahara</td>\n",
       "      <td>ESH</td>\n",
       "      <td>906.5</td>\n",
       "      <td>POLYGON ((-8.66559 27.65643, -8.66512 27.58948...</td>\n",
       "    </tr>\n",
       "    <tr>\n",
       "      <th>3</th>\n",
       "      <td>35623680</td>\n",
       "      <td>North America</td>\n",
       "      <td>Canada</td>\n",
       "      <td>CAN</td>\n",
       "      <td>1674000.0</td>\n",
       "      <td>MULTIPOLYGON (((-122.84000 49.00000, -122.9742...</td>\n",
       "    </tr>\n",
       "    <tr>\n",
       "      <th>4</th>\n",
       "      <td>326625791</td>\n",
       "      <td>North America</td>\n",
       "      <td>United States of America</td>\n",
       "      <td>USA</td>\n",
       "      <td>18560000.0</td>\n",
       "      <td>MULTIPOLYGON (((-122.84000 49.00000, -120.0000...</td>\n",
       "    </tr>\n",
       "  </tbody>\n",
       "</table>\n",
       "</div>"
      ],
      "text/plain": [
       "     pop_est      continent                      name iso_a3  gdp_md_est  \\\n",
       "0     920938        Oceania                      Fiji    FJI      8374.0   \n",
       "1   53950935         Africa                  Tanzania    TZA    150600.0   \n",
       "2     603253         Africa                 W. Sahara    ESH       906.5   \n",
       "3   35623680  North America                    Canada    CAN   1674000.0   \n",
       "4  326625791  North America  United States of America    USA  18560000.0   \n",
       "\n",
       "                                            geometry  \n",
       "0  MULTIPOLYGON (((180.00000 -16.06713, 180.00000...  \n",
       "1  POLYGON ((33.90371 -0.95000, 34.07262 -1.05982...  \n",
       "2  POLYGON ((-8.66559 27.65643, -8.66512 27.58948...  \n",
       "3  MULTIPOLYGON (((-122.84000 49.00000, -122.9742...  \n",
       "4  MULTIPOLYGON (((-122.84000 49.00000, -120.0000...  "
      ]
     },
     "execution_count": 44,
     "metadata": {},
     "output_type": "execute_result"
    }
   ],
   "source": [
    "countries = gpd.read_file(\n",
    "               gpd.datasets.get_path(\"naturalearth_lowres\"))\n",
    "countries.head()"
   ]
  },
  {
   "cell_type": "code",
   "execution_count": 45,
   "id": "93fec4fe",
   "metadata": {},
   "outputs": [
    {
     "data": {
      "text/plain": [
       "<AxesSubplot:>"
      ]
     },
     "execution_count": 45,
     "metadata": {},
     "output_type": "execute_result"
    },
    {
     "data": {
      "image/png": "[encoded data removed]",
      "text/plain": [
       "<Figure size 432x288 with 1 Axes>"
      ]
     },
     "metadata": {
      "needs_background": "light"
     },
     "output_type": "display_data"
    }
   ],
   "source": [
    "countries.plot()"
   ]
  },
  {
   "cell_type": "code",
   "execution_count": 47,
   "id": "89bd5b18",
   "metadata": {},
   "outputs": [
    {
     "data": {
      "text/html": [
       "<div>\n",
       "<style scoped>\n",
       "    .dataframe tbody tr th:only-of-type {\n",
       "        vertical-align: middle;\n",
       "    }\n",
       "\n",
       "    .dataframe tbody tr th {\n",
       "        vertical-align: top;\n",
       "    }\n",
       "\n",
       "    .dataframe thead th {\n",
       "        text-align: right;\n",
       "    }\n",
       "</style>\n",
       "<table border=\"1\" class=\"dataframe\">\n",
       "  <thead>\n",
       "    <tr style=\"text-align: right;\">\n",
       "      <th></th>\n",
       "      <th>pop_est</th>\n",
       "      <th>continent</th>\n",
       "      <th>name</th>\n",
       "      <th>iso_a3</th>\n",
       "      <th>gdp_md_est</th>\n",
       "      <th>geometry</th>\n",
       "      <th>Country name_x</th>\n",
       "      <th>iso_2_x</th>\n",
       "      <th>iso_3_x</th>\n",
       "      <th>Happiness ranking_x</th>\n",
       "      <th>GDP Ranking_x</th>\n",
       "      <th>Difference_x</th>\n",
       "      <th>Country name_y</th>\n",
       "      <th>iso_2_y</th>\n",
       "      <th>iso_3_y</th>\n",
       "      <th>Happiness ranking_y</th>\n",
       "      <th>GDP Ranking_y</th>\n",
       "      <th>Difference_y</th>\n",
       "    </tr>\n",
       "  </thead>\n",
       "  <tbody>\n",
       "    <tr>\n",
       "      <th>0</th>\n",
       "      <td>920938</td>\n",
       "      <td>Oceania</td>\n",
       "      <td>Fiji</td>\n",
       "      <td>FJI</td>\n",
       "      <td>8374.0</td>\n",
       "      <td>MULTIPOLYGON (((180.00000 -16.06713, 180.00000...</td>\n",
       "      <td>NaN</td>\n",
       "      <td>NaN</td>\n",
       "      <td>NaN</td>\n",
       "      <td>NaN</td>\n",
       "      <td>NaN</td>\n",
       "      <td>NaN</td>\n",
       "      <td>NaN</td>\n",
       "      <td>NaN</td>\n",
       "      <td>NaN</td>\n",
       "      <td>NaN</td>\n",
       "      <td>NaN</td>\n",
       "      <td>NaN</td>\n",
       "    </tr>\n",
       "    <tr>\n",
       "      <th>1</th>\n",
       "      <td>53950935</td>\n",
       "      <td>Africa</td>\n",
       "      <td>Tanzania</td>\n",
       "      <td>TZA</td>\n",
       "      <td>150600.0</td>\n",
       "      <td>POLYGON ((33.90371 -0.95000, 34.07262 -1.05982...</td>\n",
       "      <td>Tanzania, United Republic of</td>\n",
       "      <td>TZ</td>\n",
       "      <td>TZA</td>\n",
       "      <td>141.0</td>\n",
       "      <td>129.0</td>\n",
       "      <td>-12.0</td>\n",
       "      <td>Tanzania, United Republic of</td>\n",
       "      <td>TZ</td>\n",
       "      <td>TZA</td>\n",
       "      <td>141.0</td>\n",
       "      <td>129.0</td>\n",
       "      <td>-12.0</td>\n",
       "    </tr>\n",
       "    <tr>\n",
       "      <th>2</th>\n",
       "      <td>603253</td>\n",
       "      <td>Africa</td>\n",
       "      <td>W. Sahara</td>\n",
       "      <td>ESH</td>\n",
       "      <td>906.5</td>\n",
       "      <td>POLYGON ((-8.66559 27.65643, -8.66512 27.58948...</td>\n",
       "      <td>NaN</td>\n",
       "      <td>NaN</td>\n",
       "      <td>NaN</td>\n",
       "      <td>NaN</td>\n",
       "      <td>NaN</td>\n",
       "      <td>NaN</td>\n",
       "      <td>NaN</td>\n",
       "      <td>NaN</td>\n",
       "      <td>NaN</td>\n",
       "      <td>NaN</td>\n",
       "      <td>NaN</td>\n",
       "      <td>NaN</td>\n",
       "    </tr>\n",
       "    <tr>\n",
       "      <th>3</th>\n",
       "      <td>35623680</td>\n",
       "      <td>North America</td>\n",
       "      <td>Canada</td>\n",
       "      <td>CAN</td>\n",
       "      <td>1674000.0</td>\n",
       "      <td>MULTIPOLYGON (((-122.84000 49.00000, -122.9742...</td>\n",
       "      <td>Canada</td>\n",
       "      <td>CA</td>\n",
       "      <td>CAN</td>\n",
       "      <td>13.0</td>\n",
       "      <td>18.0</td>\n",
       "      <td>5.0</td>\n",
       "      <td>Canada</td>\n",
       "      <td>CA</td>\n",
       "      <td>CAN</td>\n",
       "      <td>13.0</td>\n",
       "      <td>18.0</td>\n",
       "      <td>5.0</td>\n",
       "    </tr>\n",
       "    <tr>\n",
       "      <th>4</th>\n",
       "      <td>326625791</td>\n",
       "      <td>North America</td>\n",
       "      <td>United States of America</td>\n",
       "      <td>USA</td>\n",
       "      <td>18560000.0</td>\n",
       "      <td>MULTIPOLYGON (((-122.84000 49.00000, -120.0000...</td>\n",
       "      <td>United States</td>\n",
       "      <td>US</td>\n",
       "      <td>USA</td>\n",
       "      <td>18.0</td>\n",
       "      <td>6.0</td>\n",
       "      <td>-12.0</td>\n",
       "      <td>United States</td>\n",
       "      <td>US</td>\n",
       "      <td>USA</td>\n",
       "      <td>18.0</td>\n",
       "      <td>6.0</td>\n",
       "      <td>-12.0</td>\n",
       "    </tr>\n",
       "  </tbody>\n",
       "</table>\n",
       "</div>"
      ],
      "text/plain": [
       "     pop_est      continent                      name iso_a3  gdp_md_est  \\\n",
       "0     920938        Oceania                      Fiji    FJI      8374.0   \n",
       "1   53950935         Africa                  Tanzania    TZA    150600.0   \n",
       "2     603253         Africa                 W. Sahara    ESH       906.5   \n",
       "3   35623680  North America                    Canada    CAN   1674000.0   \n",
       "4  326625791  North America  United States of America    USA  18560000.0   \n",
       "\n",
       "                                            geometry  \\\n",
       "0  MULTIPOLYGON (((180.00000 -16.06713, 180.00000...   \n",
       "1  POLYGON ((33.90371 -0.95000, 34.07262 -1.05982...   \n",
       "2  POLYGON ((-8.66559 27.65643, -8.66512 27.58948...   \n",
       "3  MULTIPOLYGON (((-122.84000 49.00000, -122.9742...   \n",
       "4  MULTIPOLYGON (((-122.84000 49.00000, -120.0000...   \n",
       "\n",
       "                 Country name_x iso_2_x iso_3_x  Happiness ranking_x  \\\n",
       "0                           NaN     NaN     NaN                  NaN   \n",
       "1  Tanzania, United Republic of      TZ     TZA                141.0   \n",
       "2                           NaN     NaN     NaN                  NaN   \n",
       "3                        Canada      CA     CAN                 13.0   \n",
       "4                 United States      US     USA                 18.0   \n",
       "\n",
       "   GDP Ranking_x  Difference_x                Country name_y iso_2_y iso_3_y  \\\n",
       "0            NaN           NaN                           NaN     NaN     NaN   \n",
       "1          129.0         -12.0  Tanzania, United Republic of      TZ     TZA   \n",
       "2            NaN           NaN                           NaN     NaN     NaN   \n",
       "3           18.0           5.0                        Canada      CA     CAN   \n",
       "4            6.0         -12.0                 United States      US     USA   \n",
       "\n",
       "   Happiness ranking_y  GDP Ranking_y  Difference_y  \n",
       "0                  NaN            NaN           NaN  \n",
       "1                141.0          129.0         -12.0  \n",
       "2                  NaN            NaN           NaN  \n",
       "3                 13.0           18.0           5.0  \n",
       "4                 18.0            6.0         -12.0  "
      ]
     },
     "execution_count": 47,
     "metadata": {},
     "output_type": "execute_result"
    }
   ],
   "source": [
    "# ATTENTION : This is just a mockup but be aware some countries are probably lost at this stage,\n",
    "# due to name inconsistency in the merge operation. \n",
    "countries = countries.merge(right = df_2021_outliers, how = \"left\", left_on = \"iso_a3\", right_on = \"iso_3\")\n",
    "countries.head()"
   ]
  },
  {
   "cell_type": "code",
   "execution_count": 50,
   "id": "b248ad3f",
   "metadata": {
    "scrolled": true
   },
   "outputs": [
    {
     "name": "stderr",
     "output_type": "stream",
     "text": [
      "/Users/andreyb/opt/anaconda3/lib/python3.8/site-packages/geopandas/geodataframe.py:1351: SettingWithCopyWarning: \n",
      "A value is trying to be set on a copy of a slice from a DataFrame.\n",
      "Try using .loc[row_indexer,col_indexer] = value instead\n",
      "\n",
      "See the caveats in the documentation: https://pandas.pydata.org/pandas-docs/stable/user_guide/indexing.html#returning-a-view-versus-a-copy\n",
      "  super().__setitem__(key, value)\n"
     ]
    },
    {
     "data": {
      "text/plain": [
       "<AxesSubplot:>"
      ]
     },
     "execution_count": 50,
     "metadata": {},
     "output_type": "execute_result"
    },
    {
     "data": {
      "image/png": "[encoded data removed]",
      "text/plain": [
       "<Figure size 1800x1440 with 2 Axes>"
      ]
     },
     "metadata": {
      "needs_background": "light"
     },
     "output_type": "display_data"
    }
   ],
   "source": [
    "plot_differences = countries[[\"name\", \"geometry\", \"Difference_x\"]]\n",
    "plot_differences['Difference'] = plot_differences['Difference_x'].fillna(0)\n",
    "plot_differences.plot(column='Difference', figsize=(25, 20),\n",
    "           legend=True, cmap='coolwarm')"
   ]
  },
  {
   "cell_type": "markdown",
   "id": "4b6e45b1",
   "metadata": {},
   "source": [
    "<b> Title : Ranking difference between GDP/inhabitant and happiness by country </b>"
   ]
  },
  {
   "cell_type": "markdown",
   "id": "457cdbb9",
   "metadata": {},
   "source": [
    "## Scatterplot"
   ]
  },
  {
   "cell_type": "markdown",
   "id": "7acbd89c",
   "metadata": {},
   "source": [
    "All credits for building (quickly) this visualisation, to the [solution showed here](https://community.plotly.com/t/put-images-inside-bubbles/41364/5). "
   ]
  },
  {
   "cell_type": "code",
   "execution_count": 63,
   "id": "351520c7",
   "metadata": {},
   "outputs": [],
   "source": [
    "# only iso2 can be used with the country flag dictionary mentioned below\n",
    "iso3_to_iso2 = {c.alpha_3: c.alpha_2 for c in pycountry.countries}\n",
    "\n",
    "df = px.data.gapminder().query(\"year==2007\")\n",
    "df[\"iso_alpha2\"] = df[\"iso_alpha\"].map(iso3_to_iso2)"
   ]
  },
  {
   "cell_type": "code",
   "execution_count": 64,
   "id": "d76908e3",
   "metadata": {
    "scrolled": true
   },
   "outputs": [],
   "source": [
    "df = df.merge(right = df_happy_2021, how = \"left\", left_on = \"iso_alpha\", right_on = \"iso_3\")"
   ]
  },
  {
   "cell_type": "code",
   "execution_count": 65,
   "id": "793774f6",
   "metadata": {
    "scrolled": true
   },
   "outputs": [
    {
     "data": {
      "text/html": [
       "<div>\n",
       "<style scoped>\n",
       "    .dataframe tbody tr th:only-of-type {\n",
       "        vertical-align: middle;\n",
       "    }\n",
       "\n",
       "    .dataframe tbody tr th {\n",
       "        vertical-align: top;\n",
       "    }\n",
       "\n",
       "    .dataframe thead th {\n",
       "        text-align: right;\n",
       "    }\n",
       "</style>\n",
       "<table border=\"1\" class=\"dataframe\">\n",
       "  <thead>\n",
       "    <tr style=\"text-align: right;\">\n",
       "      <th></th>\n",
       "      <th>country</th>\n",
       "      <th>continent</th>\n",
       "      <th>year</th>\n",
       "      <th>lifeExp</th>\n",
       "      <th>pop</th>\n",
       "      <th>gdpPercap</th>\n",
       "      <th>iso_alpha</th>\n",
       "      <th>iso_num</th>\n",
       "      <th>iso_alpha2</th>\n",
       "      <th>Country name</th>\n",
       "      <th>...</th>\n",
       "      <th>Explained by: Log GDP per capita</th>\n",
       "      <th>Explained by: Social support</th>\n",
       "      <th>Explained by: Healthy life expectancy</th>\n",
       "      <th>Explained by: Freedom to make life choices</th>\n",
       "      <th>Explained by: Generosity</th>\n",
       "      <th>Explained by: Perceptions of corruption</th>\n",
       "      <th>Dystopia + residual</th>\n",
       "      <th>iso_2</th>\n",
       "      <th>iso_3</th>\n",
       "      <th>Happiness ranking</th>\n",
       "    </tr>\n",
       "  </thead>\n",
       "  <tbody>\n",
       "    <tr>\n",
       "      <th>0</th>\n",
       "      <td>Afghanistan</td>\n",
       "      <td>Asia</td>\n",
       "      <td>2007</td>\n",
       "      <td>43.828</td>\n",
       "      <td>31889923</td>\n",
       "      <td>974.580338</td>\n",
       "      <td>AFG</td>\n",
       "      <td>4</td>\n",
       "      <td>AF</td>\n",
       "      <td>Afghanistan</td>\n",
       "      <td>...</td>\n",
       "      <td>0.370</td>\n",
       "      <td>0.000</td>\n",
       "      <td>0.126</td>\n",
       "      <td>0.000</td>\n",
       "      <td>0.122</td>\n",
       "      <td>0.010</td>\n",
       "      <td>1.895</td>\n",
       "      <td>AF</td>\n",
       "      <td>AFG</td>\n",
       "      <td>148.0</td>\n",
       "    </tr>\n",
       "    <tr>\n",
       "      <th>1</th>\n",
       "      <td>Albania</td>\n",
       "      <td>Europe</td>\n",
       "      <td>2007</td>\n",
       "      <td>76.423</td>\n",
       "      <td>3600523</td>\n",
       "      <td>5937.029526</td>\n",
       "      <td>ALB</td>\n",
       "      <td>8</td>\n",
       "      <td>AL</td>\n",
       "      <td>Albania</td>\n",
       "      <td>...</td>\n",
       "      <td>1.008</td>\n",
       "      <td>0.529</td>\n",
       "      <td>0.646</td>\n",
       "      <td>0.491</td>\n",
       "      <td>0.168</td>\n",
       "      <td>0.024</td>\n",
       "      <td>2.250</td>\n",
       "      <td>AL</td>\n",
       "      <td>ALB</td>\n",
       "      <td>92.0</td>\n",
       "    </tr>\n",
       "    <tr>\n",
       "      <th>2</th>\n",
       "      <td>Algeria</td>\n",
       "      <td>Africa</td>\n",
       "      <td>2007</td>\n",
       "      <td>72.301</td>\n",
       "      <td>33333216</td>\n",
       "      <td>6223.367465</td>\n",
       "      <td>DZA</td>\n",
       "      <td>12</td>\n",
       "      <td>DZ</td>\n",
       "      <td>Algeria</td>\n",
       "      <td>...</td>\n",
       "      <td>0.946</td>\n",
       "      <td>0.765</td>\n",
       "      <td>0.552</td>\n",
       "      <td>0.119</td>\n",
       "      <td>0.144</td>\n",
       "      <td>0.120</td>\n",
       "      <td>2.242</td>\n",
       "      <td>DZ</td>\n",
       "      <td>DZA</td>\n",
       "      <td>108.0</td>\n",
       "    </tr>\n",
       "    <tr>\n",
       "      <th>3</th>\n",
       "      <td>Angola</td>\n",
       "      <td>Africa</td>\n",
       "      <td>2007</td>\n",
       "      <td>42.731</td>\n",
       "      <td>12420476</td>\n",
       "      <td>4797.231267</td>\n",
       "      <td>AGO</td>\n",
       "      <td>24</td>\n",
       "      <td>AO</td>\n",
       "      <td>NaN</td>\n",
       "      <td>...</td>\n",
       "      <td>NaN</td>\n",
       "      <td>NaN</td>\n",
       "      <td>NaN</td>\n",
       "      <td>NaN</td>\n",
       "      <td>NaN</td>\n",
       "      <td>NaN</td>\n",
       "      <td>NaN</td>\n",
       "      <td>NaN</td>\n",
       "      <td>NaN</td>\n",
       "      <td>NaN</td>\n",
       "    </tr>\n",
       "    <tr>\n",
       "      <th>4</th>\n",
       "      <td>Argentina</td>\n",
       "      <td>Americas</td>\n",
       "      <td>2007</td>\n",
       "      <td>75.320</td>\n",
       "      <td>40301927</td>\n",
       "      <td>12779.379640</td>\n",
       "      <td>ARG</td>\n",
       "      <td>32</td>\n",
       "      <td>AR</td>\n",
       "      <td>Argentina</td>\n",
       "      <td>...</td>\n",
       "      <td>1.162</td>\n",
       "      <td>0.980</td>\n",
       "      <td>0.646</td>\n",
       "      <td>0.544</td>\n",
       "      <td>0.069</td>\n",
       "      <td>0.067</td>\n",
       "      <td>2.461</td>\n",
       "      <td>AR</td>\n",
       "      <td>ARG</td>\n",
       "      <td>56.0</td>\n",
       "    </tr>\n",
       "  </tbody>\n",
       "</table>\n",
       "<p>5 rows × 32 columns</p>\n",
       "</div>"
      ],
      "text/plain": [
       "       country continent  year  lifeExp       pop     gdpPercap iso_alpha  \\\n",
       "0  Afghanistan      Asia  2007   43.828  31889923    974.580338       AFG   \n",
       "1      Albania    Europe  2007   76.423   3600523   5937.029526       ALB   \n",
       "2      Algeria    Africa  2007   72.301  33333216   6223.367465       DZA   \n",
       "3       Angola    Africa  2007   42.731  12420476   4797.231267       AGO   \n",
       "4    Argentina  Americas  2007   75.320  40301927  12779.379640       ARG   \n",
       "\n",
       "   iso_num iso_alpha2 Country name  ... Explained by: Log GDP per capita  \\\n",
       "0        4         AF  Afghanistan  ...                            0.370   \n",
       "1        8         AL      Albania  ...                            1.008   \n",
       "2       12         DZ      Algeria  ...                            0.946   \n",
       "3       24         AO          NaN  ...                              NaN   \n",
       "4       32         AR    Argentina  ...                            1.162   \n",
       "\n",
       "   Explained by: Social support  Explained by: Healthy life expectancy  \\\n",
       "0                         0.000                                  0.126   \n",
       "1                         0.529                                  0.646   \n",
       "2                         0.765                                  0.552   \n",
       "3                           NaN                                    NaN   \n",
       "4                         0.980                                  0.646   \n",
       "\n",
       "   Explained by: Freedom to make life choices  Explained by: Generosity  \\\n",
       "0                                       0.000                     0.122   \n",
       "1                                       0.491                     0.168   \n",
       "2                                       0.119                     0.144   \n",
       "3                                         NaN                       NaN   \n",
       "4                                       0.544                     0.069   \n",
       "\n",
       "   Explained by: Perceptions of corruption  Dystopia + residual  iso_2  iso_3  \\\n",
       "0                                    0.010                1.895     AF    AFG   \n",
       "1                                    0.024                2.250     AL    ALB   \n",
       "2                                    0.120                2.242     DZ    DZA   \n",
       "3                                      NaN                  NaN    NaN    NaN   \n",
       "4                                    0.067                2.461     AR    ARG   \n",
       "\n",
       "   Happiness ranking  \n",
       "0              148.0  \n",
       "1               92.0  \n",
       "2              108.0  \n",
       "3                NaN  \n",
       "4               56.0  \n",
       "\n",
       "[5 rows x 32 columns]"
      ]
     },
     "execution_count": 65,
     "metadata": {},
     "output_type": "execute_result"
    }
   ],
   "source": [
    "df.head()"
   ]
  },
  {
   "cell_type": "code",
   "execution_count": 66,
   "id": "e067e937",
   "metadata": {},
   "outputs": [
    {
     "data": {
      "application/vnd.plotly.v1+json": {
       "config": {
        "plotlyServerURL": "https://plot.ly"
       },
       "data": [
        {
         "customdata": [
          [
           31889923
          ],
          [
           3600523
          ],
          [
           33333216
          ],
          [
           12420476
          ],
          [
           40301927
          ],
          [
           20434176
          ],
          [
           8199783
          ],
          [
           708573
          ],
          [
           150448339
          ],
          [
           10392226
          ],
          [
           8078314
          ],
          [
           9119152
          ],
          [
           4552198
          ],
          [
           1639131
          ],
          [
           190010647
          ],
          [
           7322858
          ],
          [
           14326203
          ],
          [
           8390505
          ],
          [
           14131858
          ],
          [
           17696293
          ],
          [
           33390141
          ],
          [
           4369038
          ],
          [
           10238807
          ],
          [
           16284741
          ],
          [
           1318683096
          ],
          [
           44227550
          ],
          [
           710960
          ],
          [
           64606759
          ],
          [
           3800610
          ],
          [
           4133884
          ],
          [
           18013409
          ],
          [
           4493312
          ],
          [
           11416987
          ],
          [
           10228744
          ],
          [
           5468120
          ],
          [
           496374
          ],
          [
           9319622
          ],
          [
           13755680
          ],
          [
           80264543
          ],
          [
           6939688
          ],
          [
           551201
          ],
          [
           4906585
          ],
          [
           76511887
          ],
          [
           5238460
          ],
          [
           61083916
          ],
          [
           1454867
          ],
          [
           1688359
          ],
          [
           82400996
          ],
          [
           22873338
          ],
          [
           10706290
          ],
          [
           12572928
          ],
          [
           9947814
          ],
          [
           1472041
          ],
          [
           8502814
          ],
          [
           7483763
          ],
          [
           6980412
          ],
          [
           9956108
          ],
          [
           301931
          ],
          [
           1110396331
          ],
          [
           223547000
          ],
          [
           69453570
          ],
          [
           27499638
          ],
          [
           4109086
          ],
          [
           6426679
          ],
          [
           58147733
          ],
          [
           2780132
          ],
          [
           127467972
          ],
          [
           6053193
          ],
          [
           35610177
          ],
          [
           23301725
          ],
          [
           49044790
          ],
          [
           2505559
          ],
          [
           3921278
          ],
          [
           2012649
          ],
          [
           3193942
          ],
          [
           6036914
          ],
          [
           19167654
          ],
          [
           13327079
          ],
          [
           24821286
          ],
          [
           12031795
          ],
          [
           3270065
          ],
          [
           1250882
          ],
          [
           108700891
          ],
          [
           2874127
          ],
          [
           684736
          ],
          [
           33757175
          ],
          [
           19951656
          ],
          [
           47761980
          ],
          [
           2055080
          ],
          [
           28901790
          ],
          [
           16570613
          ],
          [
           4115771
          ],
          [
           5675356
          ],
          [
           12894865
          ],
          [
           135031164
          ],
          [
           4627926
          ],
          [
           3204897
          ],
          [
           169270617
          ],
          [
           3242173
          ],
          [
           6667147
          ],
          [
           28674757
          ],
          [
           91077287
          ],
          [
           38518241
          ],
          [
           10642836
          ],
          [
           3942491
          ],
          [
           798094
          ],
          [
           22276056
          ],
          [
           8860588
          ],
          [
           199579
          ],
          [
           27601038
          ],
          [
           12267493
          ],
          [
           10150265
          ],
          [
           6144562
          ],
          [
           4553009
          ],
          [
           5447502
          ],
          [
           2009245
          ],
          [
           9118773
          ],
          [
           43997828
          ],
          [
           40448191
          ],
          [
           20378239
          ],
          [
           42292929
          ],
          [
           1133066
          ],
          [
           9031088
          ],
          [
           7554661
          ],
          [
           19314747
          ],
          [
           23174294
          ],
          [
           38139640
          ],
          [
           65068149
          ],
          [
           5701579
          ],
          [
           1056608
          ],
          [
           10276158
          ],
          [
           71158647
          ],
          [
           29170398
          ],
          [
           60776238
          ],
          [
           301139947
          ],
          [
           3447496
          ],
          [
           26084662
          ],
          [
           85262356
          ],
          [
           4018332
          ],
          [
           22211743
          ],
          [
           11746035
          ],
          [
           12311143
          ]
         ],
         "hovertemplate": "<b>%{hovertext}</b><br><br>Logged GDP per capita=%{x}<br>Ladder score=%{y}<br>pop=%{customdata[0]}<extra></extra>",
         "hovertext": [
          "Afghanistan",
          "Albania",
          "Algeria",
          "Angola",
          "Argentina",
          "Australia",
          "Austria",
          "Bahrain",
          "Bangladesh",
          "Belgium",
          "Benin",
          "Bolivia",
          "Bosnia and Herzegovina",
          "Botswana",
          "Brazil",
          "Bulgaria",
          "Burkina Faso",
          "Burundi",
          "Cambodia",
          "Cameroon",
          "Canada",
          "Central African Republic",
          "Chad",
          "Chile",
          "China",
          "Colombia",
          "Comoros",
          "Congo, Dem. Rep.",
          "Congo, Rep.",
          "Costa Rica",
          "Cote d'Ivoire",
          "Croatia",
          "Cuba",
          "Czech Republic",
          "Denmark",
          "Djibouti",
          "Dominican Republic",
          "Ecuador",
          "Egypt",
          "El Salvador",
          "Equatorial Guinea",
          "Eritrea",
          "Ethiopia",
          "Finland",
          "France",
          "Gabon",
          "Gambia",
          "Germany",
          "Ghana",
          "Greece",
          "Guatemala",
          "Guinea",
          "Guinea-Bissau",
          "Haiti",
          "Honduras",
          "Hong Kong, China",
          "Hungary",
          "Iceland",
          "India",
          "Indonesia",
          "Iran",
          "Iraq",
          "Ireland",
          "Israel",
          "Italy",
          "Jamaica",
          "Japan",
          "Jordan",
          "Kenya",
          "Korea, Dem. Rep.",
          "Korea, Rep.",
          "Kuwait",
          "Lebanon",
          "Lesotho",
          "Liberia",
          "Libya",
          "Madagascar",
          "Malawi",
          "Malaysia",
          "Mali",
          "Mauritania",
          "Mauritius",
          "Mexico",
          "Mongolia",
          "Montenegro",
          "Morocco",
          "Mozambique",
          "Myanmar",
          "Namibia",
          "Nepal",
          "Netherlands",
          "New Zealand",
          "Nicaragua",
          "Niger",
          "Nigeria",
          "Norway",
          "Oman",
          "Pakistan",
          "Panama",
          "Paraguay",
          "Peru",
          "Philippines",
          "Poland",
          "Portugal",
          "Puerto Rico",
          "Reunion",
          "Romania",
          "Rwanda",
          "Sao Tome and Principe",
          "Saudi Arabia",
          "Senegal",
          "Serbia",
          "Sierra Leone",
          "Singapore",
          "Slovak Republic",
          "Slovenia",
          "Somalia",
          "South Africa",
          "Spain",
          "Sri Lanka",
          "Sudan",
          "Swaziland",
          "Sweden",
          "Switzerland",
          "Syria",
          "Taiwan",
          "Tanzania",
          "Thailand",
          "Togo",
          "Trinidad and Tobago",
          "Tunisia",
          "Turkey",
          "Uganda",
          "United Kingdom",
          "United States",
          "Uruguay",
          "Venezuela",
          "Vietnam",
          "West Bank and Gaza",
          "Yemen, Rep.",
          "Zambia",
          "Zimbabwe"
         ],
         "legendgroup": "",
         "marker": {
          "color": "rgba(0,0,0,0)",
          "symbol": "circle"
         },
         "mode": "markers",
         "name": "",
         "orientation": "v",
         "showlegend": false,
         "type": "scatter",
         "x": [
          7.695,
          9.52,
          9.342,
          null,
          9.962,
          10.796,
          10.906,
          10.669,
          8.454,
          10.823,
          8.087,
          9.046,
          9.59,
          9.782,
          9.577,
          10.016,
          7.678,
          6.635,
          8.36,
          8.189,
          10.776,
          null,
          7.364,
          10.071,
          9.673,
          9.557,
          8.031,
          null,
          8.117,
          9.88,
          8.551,
          10.217,
          null,
          10.556,
          10.933,
          null,
          9.802,
          9.313,
          9.367,
          9.054,
          null,
          null,
          7.694,
          10.775,
          10.704,
          9.603,
          7.686,
          10.873,
          8.58,
          10.279,
          9.053,
          7.838,
          null,
          7.477,
          8.648,
          11,
          10.358,
          10.878,
          8.755,
          9.365,
          9.584,
          9.24,
          11.342,
          10.575,
          10.623,
          9.186,
          10.611,
          9.182,
          8.361,
          10.651,
          10.651,
          10.817,
          9.626,
          7.926,
          7.288,
          9.622,
          7.396,
          6.958,
          10.238,
          7.744,
          8.542,
          10.008,
          9.859,
          9.4,
          9.94,
          8.903,
          7.158,
          8.541,
          9.161,
          8.12,
          10.932,
          10.643,
          8.62,
          7.098,
          8.533,
          11.053,
          null,
          8.458,
          10.35,
          9.448,
          9.458,
          9.076,
          10.382,
          10.421,
          null,
          null,
          10.284,
          7.676,
          null,
          10.743,
          8.118,
          9.787,
          7.434,
          11.488,
          10.369,
          10.529,
          null,
          9.403,
          10.571,
          9.47,
          null,
          9.065,
          10.867,
          11.117,
          null,
          10.871,
          7.876,
          9.805,
          7.362,
          null,
          9.266,
          10.24,
          7.677,
          10.707,
          11.023,
          9.966,
          9.073,
          8.973,
          8.485,
          7.578,
          8.145,
          7.943
         ],
         "xaxis": "x",
         "y": [
          2.523,
          5.117,
          4.887,
          null,
          5.929,
          7.183,
          7.268,
          6.647,
          5.025,
          6.834,
          5.045,
          5.716,
          5.813,
          3.467,
          6.33,
          5.266,
          4.834,
          3.775,
          4.83,
          5.142,
          7.103,
          null,
          4.355,
          6.172,
          5.339,
          6.012,
          4.289,
          null,
          5.342,
          7.069,
          5.306,
          5.882,
          null,
          6.965,
          7.62,
          null,
          5.545,
          5.764,
          4.283,
          6.061,
          null,
          null,
          4.275,
          7.842,
          6.69,
          4.852,
          5.051,
          7.155,
          5.088,
          5.723,
          6.435,
          4.984,
          null,
          3.615,
          5.919,
          5.477,
          5.992,
          7.554,
          3.819,
          5.345,
          4.721,
          4.854,
          7.085,
          7.157,
          6.483,
          6.309,
          5.94,
          4.395,
          4.607,
          5.845,
          5.845,
          6.106,
          4.584,
          3.512,
          4.625,
          5.41,
          4.208,
          3.6,
          5.384,
          4.723,
          4.227,
          6.049,
          6.317,
          5.677,
          5.581,
          4.918,
          4.794,
          4.426,
          4.574,
          5.269,
          7.464,
          7.277,
          5.972,
          5.074,
          4.759,
          7.392,
          null,
          4.934,
          6.18,
          5.653,
          5.84,
          5.88,
          6.166,
          5.929,
          null,
          null,
          6.14,
          3.415,
          null,
          6.494,
          5.132,
          6.078,
          3.849,
          6.377,
          6.331,
          6.461,
          null,
          4.956,
          6.491,
          4.325,
          null,
          4.308,
          7.363,
          7.571,
          null,
          6.584,
          3.623,
          5.985,
          4.107,
          null,
          4.596,
          4.948,
          4.636,
          7.064,
          6.951,
          6.431,
          4.892,
          5.411,
          4.517,
          3.658,
          4.073,
          3.145
         ],
         "yaxis": "y"
        }
       ],
       "layout": {
        "height": 800,
        "images": [
         {
          "layer": "above",
          "opacity": 0.8,
          "sizex": 0.6126137178862854,
          "sizey": 0.6126137178862854,
          "sizing": "contain",
          "source": "https://raw.githubusercontent.com/matahombres/CSS-Country-Flags-Rounded/master/flags/AF.png",
          "x": 7.695,
          "xanchor": "center",
          "xref": "x",
          "y": 2.523,
          "yanchor": "middle",
          "yref": "y"
         },
         {
          "layer": "above",
          "opacity": 0.8,
          "sizex": 0.43468264858215777,
          "sizey": 0.43468264858215777,
          "sizing": "contain",
          "source": "https://raw.githubusercontent.com/matahombres/CSS-Country-Flags-Rounded/master/flags/AL.png",
          "x": 9.52,
          "xanchor": "center",
          "xref": "x",
          "y": 5.117,
          "yanchor": "middle",
          "yref": "y"
         },
         {
          "layer": "above",
          "opacity": 0.8,
          "sizex": 0.6186106718281927,
          "sizey": 0.6186106718281927,
          "sizing": "contain",
          "source": "https://raw.githubusercontent.com/matahombres/CSS-Country-Flags-Rounded/master/flags/DZ.png",
          "x": 9.342,
          "xanchor": "center",
          "xref": "x",
          "y": 4.887,
          "yanchor": "middle",
          "yref": "y"
         },
         {
          "layer": "above",
          "opacity": 0.8,
          "sizex": 0.5118778541434322,
          "sizey": 0.5118778541434322,
          "sizing": "contain",
          "source": "https://raw.githubusercontent.com/matahombres/CSS-Country-Flags-Rounded/master/flags/AO.png",
          "x": null,
          "xanchor": "center",
          "xref": "x",
          "y": null,
          "yanchor": "middle",
          "yref": "y"
         },
         {
          "layer": "above",
          "opacity": 0.8,
          "sizex": 0.6458909134418044,
          "sizey": 0.6458909134418044,
          "sizing": "contain",
          "source": "https://raw.githubusercontent.com/matahombres/CSS-Country-Flags-Rounded/master/flags/AR.png",
          "x": 9.962,
          "xanchor": "center",
          "xref": "x",
          "y": 5.929,
          "yanchor": "middle",
          "yref": "y"
         },
         {
          "layer": "above",
          "opacity": 0.8,
          "sizex": 0.5591482655145209,
          "sizey": 0.5591482655145209,
          "sizing": "contain",
          "source": "https://raw.githubusercontent.com/matahombres/CSS-Country-Flags-Rounded/master/flags/AU.png",
          "x": 10.796,
          "xanchor": "center",
          "xref": "x",
          "y": 7.183,
          "yanchor": "middle",
          "yref": "y"
         },
         {
          "layer": "above",
          "opacity": 0.8,
          "sizex": 0.4805234754253601,
          "sizey": 0.4805234754253601,
          "sizing": "contain",
          "source": "https://raw.githubusercontent.com/matahombres/CSS-Country-Flags-Rounded/master/flags/AT.png",
          "x": 10.906,
          "xanchor": "center",
          "xref": "x",
          "y": 7.268,
          "yanchor": "middle",
          "yref": "y"
         },
         {
          "layer": "above",
          "opacity": 0.8,
          "sizex": 0.3845845714585739,
          "sizey": 0.3845845714585739,
          "sizing": "contain",
          "source": "https://raw.githubusercontent.com/matahombres/CSS-Country-Flags-Rounded/master/flags/BH.png",
          "x": 10.669,
          "xanchor": "center",
          "xref": "x",
          "y": 6.647,
          "yanchor": "middle",
          "yref": "y"
         },
         {
          "layer": "above",
          "opacity": 0.8,
          "sizex": 0.9266884875950201,
          "sizey": 0.9266884875950201,
          "sizing": "contain",
          "source": "https://raw.githubusercontent.com/matahombres/CSS-Country-Flags-Rounded/master/flags/BD.png",
          "x": 8.454,
          "xanchor": "center",
          "xref": "x",
          "y": 5.025,
          "yanchor": "middle",
          "yref": "y"
         },
         {
          "layer": "above",
          "opacity": 0.8,
          "sizex": 0.49761475200405425,
          "sizey": 0.49761475200405425,
          "sizing": "contain",
          "source": "https://raw.githubusercontent.com/matahombres/CSS-Country-Flags-Rounded/master/flags/BE.png",
          "x": 10.823,
          "xanchor": "center",
          "xref": "x",
          "y": 6.834,
          "yanchor": "middle",
          "yref": "y"
         },
         {
          "layer": "above",
          "opacity": 0.8,
          "sizex": 0.47951325270533324,
          "sizey": 0.47951325270533324,
          "sizing": "contain",
          "source": "https://raw.githubusercontent.com/matahombres/CSS-Country-Flags-Rounded/master/flags/BJ.png",
          "x": 8.087,
          "xanchor": "center",
          "xref": "x",
          "y": 5.045,
          "yanchor": "middle",
          "yref": "y"
         },
         {
          "layer": "above",
          "opacity": 0.8,
          "sizex": 0.48793884625310624,
          "sizey": 0.48793884625310624,
          "sizing": "contain",
          "source": "https://raw.githubusercontent.com/matahombres/CSS-Country-Flags-Rounded/master/flags/BO.png",
          "x": 9.046,
          "xanchor": "center",
          "xref": "x",
          "y": 5.716,
          "yanchor": "middle",
          "yref": "y"
         },
         {
          "layer": "above",
          "opacity": 0.8,
          "sizex": 0.4458855719800392,
          "sizey": 0.4458855719800392,
          "sizing": "contain",
          "source": "https://raw.githubusercontent.com/matahombres/CSS-Country-Flags-Rounded/master/flags/BA.png",
          "x": 9.59,
          "xanchor": "center",
          "xref": "x",
          "y": 5.813,
          "yanchor": "middle",
          "yref": "y"
         },
         {
          "layer": "above",
          "opacity": 0.8,
          "sizex": 0.40539363929732003,
          "sizey": 0.40539363929732003,
          "sizing": "contain",
          "source": "https://raw.githubusercontent.com/matahombres/CSS-Country-Flags-Rounded/master/flags/BW.png",
          "x": 9.782,
          "xanchor": "center",
          "xref": "x",
          "y": 3.467,
          "yanchor": "middle",
          "yref": "y"
         },
         {
          "layer": "above",
          "opacity": 0.8,
          "sizex": 0.9987554916445478,
          "sizey": 0.9987554916445478,
          "sizing": "contain",
          "source": "https://raw.githubusercontent.com/matahombres/CSS-Country-Flags-Rounded/master/flags/BR.png",
          "x": 9.577,
          "xanchor": "center",
          "xref": "x",
          "y": 6.33,
          "yanchor": "middle",
          "yref": "y"
         },
         {
          "layer": "above",
          "opacity": 0.8,
          "sizex": 0.4730520480917817,
          "sizey": 0.4730520480917817,
          "sizing": "contain",
          "source": "https://raw.githubusercontent.com/matahombres/CSS-Country-Flags-Rounded/master/flags/BG.png",
          "x": 10.016,
          "xanchor": "center",
          "xref": "x",
          "y": 5.266,
          "yanchor": "middle",
          "yref": "y"
         },
         {
          "layer": "above",
          "opacity": 0.8,
          "sizex": 0.5242502084087374,
          "sizey": 0.5242502084087374,
          "sizing": "contain",
          "source": "https://raw.githubusercontent.com/matahombres/CSS-Country-Flags-Rounded/master/flags/BF.png",
          "x": 7.678,
          "xanchor": "center",
          "xref": "x",
          "y": 4.834,
          "yanchor": "middle",
          "yref": "y"
         },
         {
          "layer": "above",
          "opacity": 0.8,
          "sizex": 0.48209467543482454,
          "sizey": 0.48209467543482454,
          "sizing": "contain",
          "source": "https://raw.githubusercontent.com/matahombres/CSS-Country-Flags-Rounded/master/flags/BI.png",
          "x": 6.635,
          "xanchor": "center",
          "xref": "x",
          "y": 3.775,
          "yanchor": "middle",
          "yref": "y"
         },
         {
          "layer": "above",
          "opacity": 0.8,
          "sizex": 0.5230277791974803,
          "sizey": 0.5230277791974803,
          "sizing": "contain",
          "source": "https://raw.githubusercontent.com/matahombres/CSS-Country-Flags-Rounded/master/flags/KH.png",
          "x": 8.36,
          "xanchor": "center",
          "xref": "x",
          "y": 4.83,
          "yanchor": "middle",
          "yref": "y"
         },
         {
          "layer": "above",
          "opacity": 0.8,
          "sizex": 0.5442611791446395,
          "sizey": 0.5442611791446395,
          "sizing": "contain",
          "source": "https://raw.githubusercontent.com/matahombres/CSS-Country-Flags-Rounded/master/flags/CM.png",
          "x": 8.189,
          "xanchor": "center",
          "xref": "x",
          "y": 5.142,
          "yanchor": "middle",
          "yref": "y"
         },
         {
          "layer": "above",
          "opacity": 0.8,
          "sizex": 0.6188445095671959,
          "sizey": 0.6188445095671959,
          "sizing": "contain",
          "source": "https://raw.githubusercontent.com/matahombres/CSS-Country-Flags-Rounded/master/flags/CA.png",
          "x": 10.776,
          "xanchor": "center",
          "xref": "x",
          "y": 7.103,
          "yanchor": "middle",
          "yref": "y"
         },
         {
          "layer": "above",
          "opacity": 0.8,
          "sizex": 0.4438278273569082,
          "sizey": 0.4438278273569082,
          "sizing": "contain",
          "source": "https://raw.githubusercontent.com/matahombres/CSS-Country-Flags-Rounded/master/flags/CF.png",
          "x": null,
          "xanchor": "center",
          "xref": "x",
          "y": null,
          "yanchor": "middle",
          "yref": "y"
         },
         {
          "layer": "above",
          "opacity": 0.8,
          "sizex": 0.4964813809115601,
          "sizey": 0.4964813809115601,
          "sizing": "contain",
          "source": "https://raw.githubusercontent.com/matahombres/CSS-Country-Flags-Rounded/master/flags/TD.png",
          "x": 7.364,
          "xanchor": "center",
          "xref": "x",
          "y": 4.355,
          "yanchor": "middle",
          "yref": "y"
         },
         {
          "layer": "above",
          "opacity": 0.8,
          "sizex": 0.5361343189410759,
          "sizey": 0.5361343189410759,
          "sizing": "contain",
          "source": "https://raw.githubusercontent.com/matahombres/CSS-Country-Flags-Rounded/master/flags/CL.png",
          "x": 10.071,
          "xanchor": "center",
          "xref": "x",
          "y": 6.172,
          "yanchor": "middle",
          "yref": "y"
         },
         {
          "layer": "above",
          "opacity": 0.8,
          "sizex": 2.06784,
          "sizey": 2.06784,
          "sizing": "contain",
          "source": "https://raw.githubusercontent.com/matahombres/CSS-Country-Flags-Rounded/master/flags/CN.png",
          "x": 9.673,
          "xanchor": "center",
          "xref": "x",
          "y": 5.339,
          "yanchor": "middle",
          "yref": "y"
         },
         {
          "layer": "above",
          "opacity": 0.8,
          "sizex": 0.6602217698756083,
          "sizey": 0.6602217698756083,
          "sizing": "contain",
          "source": "https://raw.githubusercontent.com/matahombres/CSS-Country-Flags-Rounded/master/flags/CO.png",
          "x": 9.557,
          "xanchor": "center",
          "xref": "x",
          "y": 6.012,
          "yanchor": "middle",
          "yref": "y"
         },
         {
          "layer": "above",
          "opacity": 0.8,
          "sizex": 0.38465179637865055,
          "sizey": 0.38465179637865055,
          "sizing": "contain",
          "source": "https://raw.githubusercontent.com/matahombres/CSS-Country-Flags-Rounded/master/flags/KM.png",
          "x": 8.031,
          "xanchor": "center",
          "xref": "x",
          "y": 4.289,
          "yanchor": "middle",
          "yref": "y"
         },
         {
          "layer": "above",
          "opacity": 0.8,
          "sizex": 0.7260608626211014,
          "sizey": 0.7260608626211014,
          "sizing": "contain",
          "source": "https://raw.githubusercontent.com/matahombres/CSS-Country-Flags-Rounded/master/flags/CD.png",
          "x": null,
          "xanchor": "center",
          "xref": "x",
          "y": null,
          "yanchor": "middle",
          "yref": "y"
         },
         {
          "layer": "above",
          "opacity": 0.8,
          "sizex": 0.4371507325135712,
          "sizey": 0.4371507325135712,
          "sizing": "contain",
          "source": "https://raw.githubusercontent.com/matahombres/CSS-Country-Flags-Rounded/master/flags/CG.png",
          "x": 8.117,
          "xanchor": "center",
          "xref": "x",
          "y": 5.342,
          "yanchor": "middle",
          "yref": "y"
         },
         {
          "layer": "above",
          "opacity": 0.8,
          "sizex": 0.4411216249624367,
          "sizey": 0.4411216249624367,
          "sizing": "contain",
          "source": "https://raw.githubusercontent.com/matahombres/CSS-Country-Flags-Rounded/master/flags/CR.png",
          "x": 9.88,
          "xanchor": "center",
          "xref": "x",
          "y": 7.069,
          "yanchor": "middle",
          "yref": "y"
         },
         {
          "layer": "above",
          "opacity": 0.8,
          "sizex": 0.5460418341779012,
          "sizey": 0.5460418341779012,
          "sizing": "contain",
          "source": "https://raw.githubusercontent.com/matahombres/CSS-Country-Flags-Rounded/master/flags/CI.png",
          "x": 8.551,
          "xanchor": "center",
          "xref": "x",
          "y": 5.306,
          "yanchor": "middle",
          "yref": "y"
         },
         {
          "layer": "above",
          "opacity": 0.8,
          "sizex": 0.44522859781010077,
          "sizey": 0.44522859781010077,
          "sizing": "contain",
          "source": "https://raw.githubusercontent.com/matahombres/CSS-Country-Flags-Rounded/master/flags/HR.png",
          "x": 10.217,
          "xanchor": "center",
          "xref": "x",
          "y": 5.882,
          "yanchor": "middle",
          "yref": "y"
         },
         {
          "layer": "above",
          "opacity": 0.8,
          "sizex": 0.504979756489331,
          "sizey": 0.504979756489331,
          "sizing": "contain",
          "source": "https://raw.githubusercontent.com/matahombres/CSS-Country-Flags-Rounded/master/flags/CU.png",
          "x": null,
          "xanchor": "center",
          "xref": "x",
          "y": null,
          "yanchor": "middle",
          "yref": "y"
         },
         {
          "layer": "above",
          "opacity": 0.8,
          "sizex": 0.4964067454859401,
          "sizey": 0.4964067454859401,
          "sizing": "contain",
          "source": "https://raw.githubusercontent.com/matahombres/CSS-Country-Flags-Rounded/master/flags/CZ.png",
          "x": 10.556,
          "xanchor": "center",
          "xref": "x",
          "y": 6.965,
          "yanchor": "middle",
          "yref": "y"
         },
         {
          "layer": "above",
          "opacity": 0.8,
          "sizex": 0.4556046083883502,
          "sizey": 0.4556046083883502,
          "sizing": "contain",
          "source": "https://raw.githubusercontent.com/matahombres/CSS-Country-Flags-Rounded/master/flags/DK.png",
          "x": 10.933,
          "xanchor": "center",
          "xref": "x",
          "y": 7.62,
          "yanchor": "middle",
          "yref": "y"
         },
         {
          "layer": "above",
          "opacity": 0.8,
          "sizex": 0.3780725866586492,
          "sizey": 0.3780725866586492,
          "sizing": "contain",
          "source": "https://raw.githubusercontent.com/matahombres/CSS-Country-Flags-Rounded/master/flags/DJ.png",
          "x": null,
          "xanchor": "center",
          "xref": "x",
          "y": null,
          "yanchor": "middle",
          "yref": "y"
         },
         {
          "layer": "above",
          "opacity": 0.8,
          "sizex": 0.48950538180531333,
          "sizey": 0.48950538180531333,
          "sizing": "contain",
          "source": "https://raw.githubusercontent.com/matahombres/CSS-Country-Flags-Rounded/master/flags/DO.png",
          "x": 9.802,
          "xanchor": "center",
          "xref": "x",
          "y": 5.545,
          "yanchor": "middle",
          "yref": "y"
         },
         {
          "layer": "above",
          "opacity": 0.8,
          "sizex": 0.520637499885365,
          "sizey": 0.520637499885365,
          "sizing": "contain",
          "source": "https://raw.githubusercontent.com/matahombres/CSS-Country-Flags-Rounded/master/flags/EC.png",
          "x": 9.313,
          "xanchor": "center",
          "xref": "x",
          "y": 5.764,
          "yanchor": "middle",
          "yref": "y"
         },
         {
          "layer": "above",
          "opacity": 0.8,
          "sizex": 0.7697754645548307,
          "sizey": 0.7697754645548307,
          "sizing": "contain",
          "source": "https://raw.githubusercontent.com/matahombres/CSS-Country-Flags-Rounded/master/flags/EG.png",
          "x": 9.367,
          "xanchor": "center",
          "xref": "x",
          "y": 4.283,
          "yanchor": "middle",
          "yref": "y"
         },
         {
          "layer": "above",
          "opacity": 0.8,
          "sizex": 0.46964731845729424,
          "sizey": 0.46964731845729424,
          "sizing": "contain",
          "source": "https://raw.githubusercontent.com/matahombres/CSS-Country-Flags-Rounded/master/flags/SV.png",
          "x": 9.054,
          "xanchor": "center",
          "xref": "x",
          "y": 6.061,
          "yanchor": "middle",
          "yref": "y"
         },
         {
          "layer": "above",
          "opacity": 0.8,
          "sizex": 0.3798706344978499,
          "sizey": 0.3798706344978499,
          "sizing": "contain",
          "source": "https://raw.githubusercontent.com/matahombres/CSS-Country-Flags-Rounded/master/flags/GQ.png",
          "x": null,
          "xanchor": "center",
          "xref": "x",
          "y": null,
          "yanchor": "middle",
          "yref": "y"
         },
         {
          "layer": "above",
          "opacity": 0.8,
          "sizex": 0.44975268499354615,
          "sizey": 0.44975268499354615,
          "sizing": "contain",
          "source": "https://raw.githubusercontent.com/matahombres/CSS-Country-Flags-Rounded/master/flags/ER.png",
          "x": null,
          "xanchor": "center",
          "xref": "x",
          "y": null,
          "yanchor": "middle",
          "yref": "y"
         },
         {
          "layer": "above",
          "opacity": 0.8,
          "sizex": 0.7597181982798473,
          "sizey": 0.7597181982798473,
          "sizing": "contain",
          "source": "https://raw.githubusercontent.com/matahombres/CSS-Country-Flags-Rounded/master/flags/ET.png",
          "x": 7.694,
          "xanchor": "center",
          "xref": "x",
          "y": 4.275,
          "yanchor": "middle",
          "yref": "y"
         },
         {
          "layer": "above",
          "opacity": 0.8,
          "sizex": 0.4532493669783467,
          "sizey": 0.4532493669783467,
          "sizing": "contain",
          "source": "https://raw.githubusercontent.com/matahombres/CSS-Country-Flags-Rounded/master/flags/FI.png",
          "x": 10.775,
          "xanchor": "center",
          "xref": "x",
          "y": 7.842,
          "yanchor": "middle",
          "yref": "y"
         },
         {
          "layer": "above",
          "opacity": 0.8,
          "sizex": 0.7155161466490496,
          "sizey": 0.7155161466490496,
          "sizing": "contain",
          "source": "https://raw.githubusercontent.com/matahombres/CSS-Country-Flags-Rounded/master/flags/FR.png",
          "x": 10.704,
          "xanchor": "center",
          "xref": "x",
          "y": 6.69,
          "yanchor": "middle",
          "yref": "y"
         },
         {
          "layer": "above",
          "opacity": 0.8,
          "sizex": 0.4018770329811695,
          "sizey": 0.4018770329811695,
          "sizing": "contain",
          "source": "https://raw.githubusercontent.com/matahombres/CSS-Country-Flags-Rounded/master/flags/GA.png",
          "x": 9.603,
          "xanchor": "center",
          "xref": "x",
          "y": 4.852,
          "yanchor": "middle",
          "yref": "y"
         },
         {
          "layer": "above",
          "opacity": 0.8,
          "sizex": 0.40629919707265394,
          "sizey": 0.40629919707265394,
          "sizing": "contain",
          "source": "https://raw.githubusercontent.com/matahombres/CSS-Country-Flags-Rounded/master/flags/GM.png",
          "x": 7.686,
          "xanchor": "center",
          "xref": "x",
          "y": 5.051,
          "yanchor": "middle",
          "yref": "y"
         },
         {
          "layer": "above",
          "opacity": 0.8,
          "sizex": 0.7753963585981108,
          "sizey": 0.7753963585981108,
          "sizing": "contain",
          "source": "https://raw.githubusercontent.com/matahombres/CSS-Country-Flags-Rounded/master/flags/DE.png",
          "x": 10.873,
          "xanchor": "center",
          "xref": "x",
          "y": 7.155,
          "yanchor": "middle",
          "yref": "y"
         },
         {
          "layer": "above",
          "opacity": 0.8,
          "sizex": 0.5715900277715552,
          "sizey": 0.5715900277715552,
          "sizing": "contain",
          "source": "https://raw.githubusercontent.com/matahombres/CSS-Country-Flags-Rounded/master/flags/GH.png",
          "x": 8.58,
          "xanchor": "center",
          "xref": "x",
          "y": 5.088,
          "yanchor": "middle",
          "yref": "y"
         },
         {
          "layer": "above",
          "opacity": 0.8,
          "sizex": 0.49990907575733157,
          "sizey": 0.49990907575733157,
          "sizing": "contain",
          "source": "https://raw.githubusercontent.com/matahombres/CSS-Country-Flags-Rounded/master/flags/GR.png",
          "x": 10.279,
          "xanchor": "center",
          "xref": "x",
          "y": 5.723,
          "yanchor": "middle",
          "yref": "y"
         },
         {
          "layer": "above",
          "opacity": 0.8,
          "sizex": 0.5129010833076579,
          "sizey": 0.5129010833076579,
          "sizing": "contain",
          "source": "https://raw.githubusercontent.com/matahombres/CSS-Country-Flags-Rounded/master/flags/GT.png",
          "x": 9.053,
          "xanchor": "center",
          "xref": "x",
          "y": 6.435,
          "yanchor": "middle",
          "yref": "y"
         },
         {
          "layer": "above",
          "opacity": 0.8,
          "sizex": 0.4943081169549426,
          "sizey": 0.4943081169549426,
          "sizing": "contain",
          "source": "https://raw.githubusercontent.com/matahombres/CSS-Country-Flags-Rounded/master/flags/GN.png",
          "x": 7.838,
          "xanchor": "center",
          "xref": "x",
          "y": 4.984,
          "yanchor": "middle",
          "yref": "y"
         },
         {
          "layer": "above",
          "opacity": 0.8,
          "sizex": 0.4022138695698443,
          "sizey": 0.4022138695698443,
          "sizing": "contain",
          "source": "https://raw.githubusercontent.com/matahombres/CSS-Country-Flags-Rounded/master/flags/GW.png",
          "x": null,
          "xanchor": "center",
          "xref": "x",
          "y": null,
          "yanchor": "middle",
          "yref": "y"
         },
         {
          "layer": "above",
          "opacity": 0.8,
          "sizex": 0.4830115500243819,
          "sizey": 0.4830115500243819,
          "sizing": "contain",
          "source": "https://raw.githubusercontent.com/matahombres/CSS-Country-Flags-Rounded/master/flags/HT.png",
          "x": 7.477,
          "xanchor": "center",
          "xref": "x",
          "y": 3.615,
          "yanchor": "middle",
          "yref": "y"
         },
         {
          "layer": "above",
          "opacity": 0.8,
          "sizex": 0.47445517980149676,
          "sizey": 0.47445517980149676,
          "sizing": "contain",
          "source": "https://raw.githubusercontent.com/matahombres/CSS-Country-Flags-Rounded/master/flags/HN.png",
          "x": 8.648,
          "xanchor": "center",
          "xref": "x",
          "y": 5.919,
          "yanchor": "middle",
          "yref": "y"
         },
         {
          "layer": "above",
          "opacity": 0.8,
          "sizex": 0.4700135706086457,
          "sizey": 0.4700135706086457,
          "sizing": "contain",
          "source": "https://raw.githubusercontent.com/matahombres/CSS-Country-Flags-Rounded/master/flags/HK.png",
          "x": 11,
          "xanchor": "center",
          "xref": "x",
          "y": 5.477,
          "yanchor": "middle",
          "yref": "y"
         },
         {
          "layer": "above",
          "opacity": 0.8,
          "sizex": 0.49437049692737556,
          "sizey": 0.49437049692737556,
          "sizing": "contain",
          "source": "https://raw.githubusercontent.com/matahombres/CSS-Country-Flags-Rounded/master/flags/HU.png",
          "x": 10.358,
          "xanchor": "center",
          "xref": "x",
          "y": 5.992,
          "yanchor": "middle",
          "yref": "y"
         },
         {
          "layer": "above",
          "opacity": 0.8,
          "sizex": 0.37071469992346756,
          "sizey": 0.37071469992346756,
          "sizing": "contain",
          "source": "https://raw.githubusercontent.com/matahombres/CSS-Country-Flags-Rounded/master/flags/IS.png",
          "x": 10.878,
          "xanchor": "center",
          "xref": "x",
          "y": 7.554,
          "yanchor": "middle",
          "yref": "y"
         },
         {
          "layer": "above",
          "opacity": 0.8,
          "sizex": 1.9259043343638846,
          "sizey": 1.9259043343638846,
          "sizing": "contain",
          "source": "https://raw.githubusercontent.com/matahombres/CSS-Country-Flags-Rounded/master/flags/IN.png",
          "x": 8.755,
          "xanchor": "center",
          "xref": "x",
          "y": 3.819,
          "yanchor": "middle",
          "yref": "y"
         },
         {
          "layer": "above",
          "opacity": 0.8,
          "sizex": 1.0541358988645166,
          "sizey": 1.0541358988645166,
          "sizing": "contain",
          "source": "https://raw.githubusercontent.com/matahombres/CSS-Country-Flags-Rounded/master/flags/ID.png",
          "x": 9.365,
          "xanchor": "center",
          "xref": "x",
          "y": 5.345,
          "yanchor": "middle",
          "yref": "y"
         },
         {
          "layer": "above",
          "opacity": 0.8,
          "sizex": 0.7401092801589861,
          "sizey": 0.7401092801589861,
          "sizing": "contain",
          "source": "https://raw.githubusercontent.com/matahombres/CSS-Country-Flags-Rounded/master/flags/IR.png",
          "x": 9.584,
          "xanchor": "center",
          "xref": "x",
          "y": 4.721,
          "yanchor": "middle",
          "yref": "y"
         },
         {
          "layer": "above",
          "opacity": 0.8,
          "sizex": 0.5934850205735398,
          "sizey": 0.5934850205735398,
          "sizing": "contain",
          "source": "https://raw.githubusercontent.com/matahombres/CSS-Country-Flags-Rounded/master/flags/IQ.png",
          "x": 9.24,
          "xanchor": "center",
          "xref": "x",
          "y": 4.854,
          "yanchor": "middle",
          "yref": "y"
         },
         {
          "layer": "above",
          "opacity": 0.8,
          "sizex": 0.4408318066949461,
          "sizey": 0.4408318066949461,
          "sizing": "contain",
          "source": "https://raw.githubusercontent.com/matahombres/CSS-Country-Flags-Rounded/master/flags/IE.png",
          "x": 11.342,
          "xanchor": "center",
          "xref": "x",
          "y": 7.085,
          "yanchor": "middle",
          "yref": "y"
         },
         {
          "layer": "above",
          "opacity": 0.8,
          "sizex": 0.4649381006822715,
          "sizey": 0.4649381006822715,
          "sizing": "contain",
          "source": "https://raw.githubusercontent.com/matahombres/CSS-Country-Flags-Rounded/master/flags/IL.png",
          "x": 10.575,
          "xanchor": "center",
          "xref": "x",
          "y": 7.157,
          "yanchor": "middle",
          "yref": "y"
         },
         {
          "layer": "above",
          "opacity": 0.8,
          "sizex": 0.706492735588315,
          "sizey": 0.706492735588315,
          "sizing": "contain",
          "source": "https://raw.githubusercontent.com/matahombres/CSS-Country-Flags-Rounded/master/flags/IT.png",
          "x": 10.623,
          "xanchor": "center",
          "xref": "x",
          "y": 6.483,
          "yanchor": "middle",
          "yref": "y"
         },
         {
          "layer": "above",
          "opacity": 0.8,
          "sizex": 0.42376216727359084,
          "sizey": 0.42376216727359084,
          "sizing": "contain",
          "source": "https://raw.githubusercontent.com/matahombres/CSS-Country-Flags-Rounded/master/flags/JM.png",
          "x": 9.186,
          "xanchor": "center",
          "xref": "x",
          "y": 6.309,
          "yanchor": "middle",
          "yref": "y"
         },
         {
          "layer": "above",
          "opacity": 0.8,
          "sizex": 0.8803947183959202,
          "sizey": 0.8803947183959202,
          "sizing": "contain",
          "source": "https://raw.githubusercontent.com/matahombres/CSS-Country-Flags-Rounded/master/flags/JP.png",
          "x": 10.611,
          "xanchor": "center",
          "xref": "x",
          "y": 5.94,
          "yanchor": "middle",
          "yref": "y"
         },
         {
          "layer": "above",
          "opacity": 0.8,
          "sizex": 0.4613902252154468,
          "sizey": 0.4613902252154468,
          "sizing": "contain",
          "source": "https://raw.githubusercontent.com/matahombres/CSS-Country-Flags-Rounded/master/flags/JO.png",
          "x": 9.182,
          "xanchor": "center",
          "xref": "x",
          "y": 4.395,
          "yanchor": "middle",
          "yref": "y"
         },
         {
          "layer": "above",
          "opacity": 0.8,
          "sizex": 0.627813450382219,
          "sizey": 0.627813450382219,
          "sizing": "contain",
          "source": "https://raw.githubusercontent.com/matahombres/CSS-Country-Flags-Rounded/master/flags/KE.png",
          "x": 8.361,
          "xanchor": "center",
          "xref": "x",
          "y": 4.607,
          "yanchor": "middle",
          "yref": "y"
         },
         {
          "layer": "above",
          "opacity": 0.8,
          "sizex": 0.5737054042745784,
          "sizey": 0.5737054042745784,
          "sizing": "contain",
          "source": "https://raw.githubusercontent.com/matahombres/CSS-Country-Flags-Rounded/master/flags/KR.png",
          "x": 10.651,
          "xanchor": "center",
          "xref": "x",
          "y": 5.845,
          "yanchor": "middle",
          "yref": "y"
         },
         {
          "layer": "above",
          "opacity": 0.8,
          "sizex": 0.6769641526513526,
          "sizey": 0.6769641526513526,
          "sizing": "contain",
          "source": "https://raw.githubusercontent.com/matahombres/CSS-Country-Flags-Rounded/master/flags/KR.png",
          "x": 10.651,
          "xanchor": "center",
          "xref": "x",
          "y": 5.845,
          "yanchor": "middle",
          "yref": "y"
         },
         {
          "layer": "above",
          "opacity": 0.8,
          "sizex": 0.4197534627145225,
          "sizey": 0.4197534627145225,
          "sizing": "contain",
          "source": "https://raw.githubusercontent.com/matahombres/CSS-Country-Flags-Rounded/master/flags/KW.png",
          "x": 10.817,
          "xanchor": "center",
          "xref": "x",
          "y": 6.106,
          "yanchor": "middle",
          "yref": "y"
         },
         {
          "layer": "above",
          "opacity": 0.8,
          "sizex": 0.4386078483956713,
          "sizey": 0.4386078483956713,
          "sizing": "contain",
          "source": "https://raw.githubusercontent.com/matahombres/CSS-Country-Flags-Rounded/master/flags/LB.png",
          "x": 9.626,
          "xanchor": "center",
          "xref": "x",
          "y": 4.584,
          "yanchor": "middle",
          "yref": "y"
         },
         {
          "layer": "above",
          "opacity": 0.8,
          "sizex": 0.41196083396363076,
          "sizey": 0.41196083396363076,
          "sizing": "contain",
          "source": "https://raw.githubusercontent.com/matahombres/CSS-Country-Flags-Rounded/master/flags/LS.png",
          "x": 7.926,
          "xanchor": "center",
          "xref": "x",
          "y": 3.512,
          "yanchor": "middle",
          "yref": "y"
         },
         {
          "layer": "above",
          "opacity": 0.8,
          "sizex": 0.42944646856775337,
          "sizey": 0.42944646856775337,
          "sizing": "contain",
          "source": "https://raw.githubusercontent.com/matahombres/CSS-Country-Flags-Rounded/master/flags/LR.png",
          "x": 7.288,
          "xanchor": "center",
          "xref": "x",
          "y": 4.625,
          "yanchor": "middle",
          "yref": "y"
         },
         {
          "layer": "above",
          "opacity": 0.8,
          "sizex": 0.46123312990604515,
          "sizey": 0.46123312990604515,
          "sizing": "contain",
          "source": "https://raw.githubusercontent.com/matahombres/CSS-Country-Flags-Rounded/master/flags/LY.png",
          "x": 9.622,
          "xanchor": "center",
          "xref": "x",
          "y": 5.41,
          "yanchor": "middle",
          "yref": "y"
         },
         {
          "layer": "above",
          "opacity": 0.8,
          "sizex": 0.5523942644385422,
          "sizey": 0.5523942644385422,
          "sizing": "contain",
          "source": "https://raw.githubusercontent.com/matahombres/CSS-Country-Flags-Rounded/master/flags/MG.png",
          "x": 7.396,
          "xanchor": "center",
          "xref": "x",
          "y": 4.208,
          "yanchor": "middle",
          "yref": "y"
         },
         {
          "layer": "above",
          "opacity": 0.8,
          "sizex": 0.5178739278244655,
          "sizey": 0.5178739278244655,
          "sizing": "contain",
          "source": "https://raw.githubusercontent.com/matahombres/CSS-Country-Flags-Rounded/master/flags/MW.png",
          "x": 6.958,
          "xanchor": "center",
          "xref": "x",
          "y": 3.6,
          "yanchor": "middle",
          "yref": "y"
         },
         {
          "layer": "above",
          "opacity": 0.8,
          "sizex": 0.5810564032045908,
          "sizey": 0.5810564032045908,
          "sizing": "contain",
          "source": "https://raw.githubusercontent.com/matahombres/CSS-Country-Flags-Rounded/master/flags/MY.png",
          "x": 10.238,
          "xanchor": "center",
          "xref": "x",
          "y": 5.384,
          "yanchor": "middle",
          "yref": "y"
         },
         {
          "layer": "above",
          "opacity": 0.8,
          "sizex": 0.5092403211707373,
          "sizey": 0.5092403211707373,
          "sizing": "contain",
          "source": "https://raw.githubusercontent.com/matahombres/CSS-Country-Flags-Rounded/master/flags/ML.png",
          "x": 7.744,
          "xanchor": "center",
          "xref": "x",
          "y": 4.723,
          "yanchor": "middle",
          "yref": "y"
         },
         {
          "layer": "above",
          "opacity": 0.8,
          "sizex": 0.4304511375266614,
          "sizey": 0.4304511375266614,
          "sizing": "contain",
          "source": "https://raw.githubusercontent.com/matahombres/CSS-Country-Flags-Rounded/master/flags/MR.png",
          "x": 8.542,
          "xanchor": "center",
          "xref": "x",
          "y": 4.227,
          "yanchor": "middle",
          "yref": "y"
         },
         {
          "layer": "above",
          "opacity": 0.8,
          "sizex": 0.3977130000940511,
          "sizey": 0.3977130000940511,
          "sizing": "contain",
          "source": "https://raw.githubusercontent.com/matahombres/CSS-Country-Flags-Rounded/master/flags/MU.png",
          "x": 10.008,
          "xanchor": "center",
          "xref": "x",
          "y": 6.049,
          "yanchor": "middle",
          "yref": "y"
         },
         {
          "layer": "above",
          "opacity": 0.8,
          "sizex": 0.8393856887074613,
          "sizey": 0.8393856887074613,
          "sizing": "contain",
          "source": "https://raw.githubusercontent.com/matahombres/CSS-Country-Flags-Rounded/master/flags/MX.png",
          "x": 9.859,
          "xanchor": "center",
          "xref": "x",
          "y": 6.317,
          "yanchor": "middle",
          "yref": "y"
         },
         {
          "layer": "above",
          "opacity": 0.8,
          "sizex": 0.4250885912863651,
          "sizey": 0.4250885912863651,
          "sizing": "contain",
          "source": "https://raw.githubusercontent.com/matahombres/CSS-Country-Flags-Rounded/master/flags/MN.png",
          "x": 9.4,
          "xanchor": "center",
          "xref": "x",
          "y": 5.677,
          "yanchor": "middle",
          "yref": "y"
         },
         {
          "layer": "above",
          "opacity": 0.8,
          "sizex": 0.383906938946468,
          "sizey": 0.383906938946468,
          "sizing": "contain",
          "source": "https://raw.githubusercontent.com/matahombres/CSS-Country-Flags-Rounded/master/flags/ME.png",
          "x": 9.94,
          "xanchor": "center",
          "xref": "x",
          "y": 5.581,
          "yanchor": "middle",
          "yref": "y"
         },
         {
          "layer": "above",
          "opacity": 0.8,
          "sizex": 0.6203474579257668,
          "sizey": 0.6203474579257668,
          "sizing": "contain",
          "source": "https://raw.githubusercontent.com/matahombres/CSS-Country-Flags-Rounded/master/flags/MA.png",
          "x": 8.903,
          "xanchor": "center",
          "xref": "x",
          "y": 4.918,
          "yanchor": "middle",
          "yref": "y"
         },
         {
          "layer": "above",
          "opacity": 0.8,
          "sizex": 0.5566005025491116,
          "sizey": 0.5566005025491116,
          "sizing": "contain",
          "source": "https://raw.githubusercontent.com/matahombres/CSS-Country-Flags-Rounded/master/flags/MZ.png",
          "x": 7.158,
          "xanchor": "center",
          "xref": "x",
          "y": 4.794,
          "yanchor": "middle",
          "yref": "y"
         },
         {
          "layer": "above",
          "opacity": 0.8,
          "sizex": 0.6725892391224123,
          "sizey": 0.6725892391224123,
          "sizing": "contain",
          "source": "https://raw.githubusercontent.com/matahombres/CSS-Country-Flags-Rounded/master/flags/MM.png",
          "x": 8.541,
          "xanchor": "center",
          "xref": "x",
          "y": 4.426,
          "yanchor": "middle",
          "yref": "y"
         },
         {
          "layer": "above",
          "opacity": 0.8,
          "sizex": 0.4126667672121198,
          "sizey": 0.4126667672121198,
          "sizing": "contain",
          "source": "https://raw.githubusercontent.com/matahombres/CSS-Country-Flags-Rounded/master/flags/NA.png",
          "x": 9.161,
          "xanchor": "center",
          "xref": "x",
          "y": 4.574,
          "yanchor": "middle",
          "yref": "y"
         },
         {
          "layer": "above",
          "opacity": 0.8,
          "sizex": 0.5997502080790639,
          "sizey": 0.5997502080790639,
          "sizing": "contain",
          "source": "https://raw.githubusercontent.com/matahombres/CSS-Country-Flags-Rounded/master/flags/NP.png",
          "x": 8.12,
          "xanchor": "center",
          "xref": "x",
          "y": 5.269,
          "yanchor": "middle",
          "yref": "y"
         },
         {
          "layer": "above",
          "opacity": 0.8,
          "sizex": 0.5378078089473272,
          "sizey": 0.5378078089473272,
          "sizing": "contain",
          "source": "https://raw.githubusercontent.com/matahombres/CSS-Country-Flags-Rounded/master/flags/NL.png",
          "x": 10.932,
          "xanchor": "center",
          "xref": "x",
          "y": 7.464,
          "yanchor": "middle",
          "yref": "y"
         },
         {
          "layer": "above",
          "opacity": 0.8,
          "sizex": 0.44091002127864587,
          "sizey": 0.44091002127864587,
          "sizing": "contain",
          "source": "https://raw.githubusercontent.com/matahombres/CSS-Country-Flags-Rounded/master/flags/NZ.png",
          "x": 10.643,
          "xanchor": "center",
          "xref": "x",
          "y": 7.277,
          "yanchor": "middle",
          "yref": "y"
         },
         {
          "layer": "above",
          "opacity": 0.8,
          "sizex": 0.45768777547979594,
          "sizey": 0.45768777547979594,
          "sizing": "contain",
          "source": "https://raw.githubusercontent.com/matahombres/CSS-Country-Flags-Rounded/master/flags/NI.png",
          "x": 8.62,
          "xanchor": "center",
          "xref": "x",
          "y": 5.972,
          "yanchor": "middle",
          "yref": "y"
         },
         {
          "layer": "above",
          "opacity": 0.8,
          "sizex": 0.5150416776875761,
          "sizey": 0.5150416776875761,
          "sizing": "contain",
          "source": "https://raw.githubusercontent.com/matahombres/CSS-Country-Flags-Rounded/master/flags/NE.png",
          "x": 7.098,
          "xanchor": "center",
          "xref": "x",
          "y": 5.074,
          "yanchor": "middle",
          "yref": "y"
         },
         {
          "layer": "above",
          "opacity": 0.8,
          "sizex": 0.8960599469306836,
          "sizey": 0.8960599469306836,
          "sizing": "contain",
          "source": "https://raw.githubusercontent.com/matahombres/CSS-Country-Flags-Rounded/master/flags/NG.png",
          "x": 8.533,
          "xanchor": "center",
          "xref": "x",
          "y": 4.759,
          "yanchor": "middle",
          "yref": "y"
         },
         {
          "layer": "above",
          "opacity": 0.8,
          "sizex": 0.44672423284210805,
          "sizey": 0.44672423284210805,
          "sizing": "contain",
          "source": "https://raw.githubusercontent.com/matahombres/CSS-Country-Flags-Rounded/master/flags/NO.png",
          "x": 11.053,
          "xanchor": "center",
          "xref": "x",
          "y": 7.392,
          "yanchor": "middle",
          "yref": "y"
         },
         {
          "layer": "above",
          "opacity": 0.8,
          "sizex": 0.42959178422752314,
          "sizey": 0.42959178422752314,
          "sizing": "contain",
          "source": "https://raw.githubusercontent.com/matahombres/CSS-Country-Flags-Rounded/master/flags/OM.png",
          "x": null,
          "xanchor": "center",
          "xref": "x",
          "y": null,
          "yanchor": "middle",
          "yref": "y"
         },
         {
          "layer": "above",
          "opacity": 0.8,
          "sizex": 0.962025257861815,
          "sizey": 0.962025257861815,
          "sizing": "contain",
          "source": "https://raw.githubusercontent.com/matahombres/CSS-Country-Flags-Rounded/master/flags/PK.png",
          "x": 8.458,
          "xanchor": "center",
          "xref": "x",
          "y": 4.934,
          "yanchor": "middle",
          "yref": "y"
         },
         {
          "layer": "above",
          "opacity": 0.8,
          "sizex": 0.43008439101737,
          "sizey": 0.43008439101737,
          "sizing": "contain",
          "source": "https://raw.githubusercontent.com/matahombres/CSS-Country-Flags-Rounded/master/flags/PA.png",
          "x": 10.35,
          "xanchor": "center",
          "xref": "x",
          "y": 6.18,
          "yanchor": "middle",
          "yref": "y"
         },
         {
          "layer": "above",
          "opacity": 0.8,
          "sizex": 0.46716803868567713,
          "sizey": 0.46716803868567713,
          "sizing": "contain",
          "source": "https://raw.githubusercontent.com/matahombres/CSS-Country-Flags-Rounded/master/flags/PY.png",
          "x": 9.448,
          "xanchor": "center",
          "xref": "x",
          "y": 5.653,
          "yanchor": "middle",
          "yref": "y"
         },
         {
          "layer": "above",
          "opacity": 0.8,
          "sizex": 0.598746245575801,
          "sizey": 0.598746245575801,
          "sizing": "contain",
          "source": "https://raw.githubusercontent.com/matahombres/CSS-Country-Flags-Rounded/master/flags/PE.png",
          "x": 9.458,
          "xanchor": "center",
          "xref": "x",
          "y": 5.84,
          "yanchor": "middle",
          "yref": "y"
         },
         {
          "layer": "above",
          "opacity": 0.8,
          "sizex": 0.7975068268300332,
          "sizey": 0.7975068268300332,
          "sizing": "contain",
          "source": "https://raw.githubusercontent.com/matahombres/CSS-Country-Flags-Rounded/master/flags/PH.png",
          "x": 9.076,
          "xanchor": "center",
          "xref": "x",
          "y": 5.88,
          "yanchor": "middle",
          "yref": "y"
         },
         {
          "layer": "above",
          "opacity": 0.8,
          "sizex": 0.6391490802923825,
          "sizey": 0.6391490802923825,
          "sizing": "contain",
          "source": "https://raw.githubusercontent.com/matahombres/CSS-Country-Flags-Rounded/master/flags/PL.png",
          "x": 10.382,
          "xanchor": "center",
          "xref": "x",
          "y": 6.166,
          "yanchor": "middle",
          "yref": "y"
         },
         {
          "layer": "above",
          "opacity": 0.8,
          "sizex": 0.4994482678718812,
          "sizey": 0.4994482678718812,
          "sizing": "contain",
          "source": "https://raw.githubusercontent.com/matahombres/CSS-Country-Flags-Rounded/master/flags/PT.png",
          "x": 10.421,
          "xanchor": "center",
          "xref": "x",
          "y": 5.929,
          "yanchor": "middle",
          "yref": "y"
         },
         {
          "layer": "above",
          "opacity": 0.8,
          "sizex": 0.4388616752583182,
          "sizey": 0.4388616752583182,
          "sizing": "contain",
          "source": "https://raw.githubusercontent.com/matahombres/CSS-Country-Flags-Rounded/master/flags/PR.png",
          "x": null,
          "xanchor": "center",
          "xref": "x",
          "y": null,
          "yanchor": "middle",
          "yref": "y"
         },
         {
          "layer": "above",
          "opacity": 0.8,
          "sizex": 0.3870328377885204,
          "sizey": 0.3870328377885204,
          "sizing": "contain",
          "source": "https://raw.githubusercontent.com/matahombres/CSS-Country-Flags-Rounded/master/flags/RE.png",
          "x": null,
          "xanchor": "center",
          "xref": "x",
          "y": null,
          "yanchor": "middle",
          "yref": "y"
         },
         {
          "layer": "above",
          "opacity": 0.8,
          "sizex": 0.5686073012639485,
          "sizey": 0.5686073012639485,
          "sizing": "contain",
          "source": "https://raw.githubusercontent.com/matahombres/CSS-Country-Flags-Rounded/master/flags/RO.png",
          "x": 10.284,
          "xanchor": "center",
          "xref": "x",
          "y": 6.14,
          "yanchor": "middle",
          "yref": "y"
         },
         {
          "layer": "above",
          "opacity": 0.8,
          "sizex": 0.4858926935083777,
          "sizey": 0.4858926935083777,
          "sizing": "contain",
          "source": "https://raw.githubusercontent.com/matahombres/CSS-Country-Flags-Rounded/master/flags/RW.png",
          "x": 7.676,
          "xanchor": "center",
          "xref": "x",
          "y": 3.415,
          "yanchor": "middle",
          "yref": "y"
         },
         {
          "layer": "above",
          "opacity": 0.8,
          "sizex": 0.3658393667160763,
          "sizey": 0.3658393667160763,
          "sizing": "contain",
          "source": "https://raw.githubusercontent.com/matahombres/CSS-Country-Flags-Rounded/master/flags/ST.png",
          "x": null,
          "xanchor": "center",
          "xref": "x",
          "y": null,
          "yanchor": "middle",
          "yref": "y"
         },
         {
          "layer": "above",
          "opacity": 0.8,
          "sizex": 0.5939433841969718,
          "sizey": 0.5939433841969718,
          "sizing": "contain",
          "source": "https://raw.githubusercontent.com/matahombres/CSS-Country-Flags-Rounded/master/flags/SA.png",
          "x": 10.743,
          "xanchor": "center",
          "xref": "x",
          "y": 6.494,
          "yanchor": "middle",
          "yref": "y"
         },
         {
          "layer": "above",
          "opacity": 0.8,
          "sizex": 0.5108447287301267,
          "sizey": 0.5108447287301267,
          "sizing": "contain",
          "source": "https://raw.githubusercontent.com/matahombres/CSS-Country-Flags-Rounded/master/flags/SN.png",
          "x": 8.118,
          "xanchor": "center",
          "xref": "x",
          "y": 5.132,
          "yanchor": "middle",
          "yref": "y"
         },
         {
          "layer": "above",
          "opacity": 0.8,
          "sizex": 0.4958234169750442,
          "sizey": 0.4958234169750442,
          "sizing": "contain",
          "source": "https://raw.githubusercontent.com/matahombres/CSS-Country-Flags-Rounded/master/flags/RS.png",
          "x": 9.787,
          "xanchor": "center",
          "xref": "x",
          "y": 6.078,
          "yanchor": "middle",
          "yref": "y"
         },
         {
          "layer": "above",
          "opacity": 0.8,
          "sizex": 0.4622680592874214,
          "sizey": 0.4622680592874214,
          "sizing": "contain",
          "source": "https://raw.githubusercontent.com/matahombres/CSS-Country-Flags-Rounded/master/flags/SL.png",
          "x": 7.434,
          "xanchor": "center",
          "xref": "x",
          "y": 3.849,
          "yanchor": "middle",
          "yref": "y"
         },
         {
          "layer": "above",
          "opacity": 0.8,
          "sizex": 0.445894590316028,
          "sizey": 0.445894590316028,
          "sizing": "contain",
          "source": "https://raw.githubusercontent.com/matahombres/CSS-Country-Flags-Rounded/master/flags/SG.png",
          "x": 11.488,
          "xanchor": "center",
          "xref": "x",
          "y": 6.377,
          "yanchor": "middle",
          "yref": "y"
         },
         {
          "layer": "above",
          "opacity": 0.8,
          "sizex": 0.4553952101837969,
          "sizey": 0.4553952101837969,
          "sizing": "contain",
          "source": "https://raw.githubusercontent.com/matahombres/CSS-Country-Flags-Rounded/master/flags/SK.png",
          "x": 10.369,
          "xanchor": "center",
          "xref": "x",
          "y": 6.331,
          "yanchor": "middle",
          "yref": "y"
         },
         {
          "layer": "above",
          "opacity": 0.8,
          "sizex": 0.4119038798957189,
          "sizey": 0.4119038798957189,
          "sizing": "contain",
          "source": "https://raw.githubusercontent.com/matahombres/CSS-Country-Flags-Rounded/master/flags/SI.png",
          "x": 10.529,
          "xanchor": "center",
          "xref": "x",
          "y": 6.461,
          "yanchor": "middle",
          "yref": "y"
         },
         {
          "layer": "above",
          "opacity": 0.8,
          "sizex": 0.4879358684089472,
          "sizey": 0.4879358684089472,
          "sizing": "contain",
          "source": "https://raw.githubusercontent.com/matahombres/CSS-Country-Flags-Rounded/master/flags/SO.png",
          "x": null,
          "xanchor": "center",
          "xref": "x",
          "y": null,
          "yanchor": "middle",
          "yref": "y"
         },
         {
          "layer": "above",
          "opacity": 0.8,
          "sizex": 0.65940112235554,
          "sizey": 0.65940112235554,
          "sizing": "contain",
          "source": "https://raw.githubusercontent.com/matahombres/CSS-Country-Flags-Rounded/master/flags/ZA.png",
          "x": 9.403,
          "xanchor": "center",
          "xref": "x",
          "y": 4.956,
          "yanchor": "middle",
          "yref": "y"
         },
         {
          "layer": "above",
          "opacity": 0.8,
          "sizex": 0.6464370691915617,
          "sizey": 0.6464370691915617,
          "sizing": "contain",
          "source": "https://raw.githubusercontent.com/matahombres/CSS-Country-Flags-Rounded/master/flags/ES.png",
          "x": 10.571,
          "xanchor": "center",
          "xref": "x",
          "y": 6.491,
          "yanchor": "middle",
          "yref": "y"
         },
         {
          "layer": "above",
          "opacity": 0.8,
          "sizex": 0.5588544642949689,
          "sizey": 0.5588544642949689,
          "sizing": "contain",
          "source": "https://raw.githubusercontent.com/matahombres/CSS-Country-Flags-Rounded/master/flags/LK.png",
          "x": 9.47,
          "xanchor": "center",
          "xref": "x",
          "y": 4.325,
          "yanchor": "middle",
          "yref": "y"
         },
         {
          "layer": "above",
          "opacity": 0.8,
          "sizex": 0.6532424346874021,
          "sizey": 0.6532424346874021,
          "sizing": "contain",
          "source": "https://raw.githubusercontent.com/matahombres/CSS-Country-Flags-Rounded/master/flags/SD.png",
          "x": null,
          "xanchor": "center",
          "xref": "x",
          "y": null,
          "yanchor": "middle",
          "yref": "y"
         },
         {
          "layer": "above",
          "opacity": 0.8,
          "sizex": 0.39515182621131306,
          "sizey": 0.39515182621131306,
          "sizing": "contain",
          "source": "https://raw.githubusercontent.com/matahombres/CSS-Country-Flags-Rounded/master/flags/SZ.png",
          "x": 9.065,
          "xanchor": "center",
          "xref": "x",
          "y": 4.308,
          "yanchor": "middle",
          "yref": "y"
         },
         {
          "layer": "above",
          "opacity": 0.8,
          "sizex": 0.48724524643842154,
          "sizey": 0.48724524643842154,
          "sizing": "contain",
          "source": "https://raw.githubusercontent.com/matahombres/CSS-Country-Flags-Rounded/master/flags/SE.png",
          "x": 10.867,
          "xanchor": "center",
          "xref": "x",
          "y": 7.363,
          "yanchor": "middle",
          "yref": "y"
         },
         {
          "layer": "above",
          "opacity": 0.8,
          "sizex": 0.475068637324369,
          "sizey": 0.475068637324369,
          "sizing": "contain",
          "source": "https://raw.githubusercontent.com/matahombres/CSS-Country-Flags-Rounded/master/flags/CH.png",
          "x": 11.117,
          "xanchor": "center",
          "xref": "x",
          "y": 7.571,
          "yanchor": "middle",
          "yref": "y"
         },
         {
          "layer": "above",
          "opacity": 0.8,
          "sizex": 0.5531898963377834,
          "sizey": 0.5531898963377834,
          "sizing": "contain",
          "source": "https://raw.githubusercontent.com/matahombres/CSS-Country-Flags-Rounded/master/flags/SY.png",
          "x": null,
          "xanchor": "center",
          "xref": "x",
          "y": null,
          "yanchor": "middle",
          "yref": "y"
         },
         {
          "layer": "above",
          "opacity": 0.8,
          "sizex": 0.5730781963922769,
          "sizey": 0.5730781963922769,
          "sizing": "contain",
          "source": "https://raw.githubusercontent.com/matahombres/CSS-Country-Flags-Rounded/master/flags/TW.png",
          "x": 10.871,
          "xanchor": "center",
          "xref": "x",
          "y": 6.584,
          "yanchor": "middle",
          "yref": "y"
         },
         {
          "layer": "above",
          "opacity": 0.8,
          "sizex": 0.6376981212799073,
          "sizey": 0.6376981212799073,
          "sizing": "contain",
          "source": "https://raw.githubusercontent.com/matahombres/CSS-Country-Flags-Rounded/master/flags/TZ.png",
          "x": 7.876,
          "xanchor": "center",
          "xref": "x",
          "y": 3.623,
          "yanchor": "middle",
          "yref": "y"
         },
         {
          "layer": "above",
          "opacity": 0.8,
          "sizex": 0.7274204006467812,
          "sizey": 0.7274204006467812,
          "sizing": "contain",
          "source": "https://raw.githubusercontent.com/matahombres/CSS-Country-Flags-Rounded/master/flags/TH.png",
          "x": 9.805,
          "xanchor": "center",
          "xref": "x",
          "y": 5.985,
          "yanchor": "middle",
          "yref": "y"
         },
         {
          "layer": "above",
          "opacity": 0.8,
          "sizex": 0.4579486432905518,
          "sizey": 0.4579486432905518,
          "sizing": "contain",
          "source": "https://raw.githubusercontent.com/matahombres/CSS-Country-Flags-Rounded/master/flags/TG.png",
          "x": 7.362,
          "xanchor": "center",
          "xref": "x",
          "y": 4.107,
          "yanchor": "middle",
          "yref": "y"
         },
         {
          "layer": "above",
          "opacity": 0.8,
          "sizex": 0.3934178230302833,
          "sizey": 0.3934178230302833,
          "sizing": "contain",
          "source": "https://raw.githubusercontent.com/matahombres/CSS-Country-Flags-Rounded/master/flags/TT.png",
          "x": null,
          "xanchor": "center",
          "xref": "x",
          "y": null,
          "yanchor": "middle",
          "yref": "y"
         },
         {
          "layer": "above",
          "opacity": 0.8,
          "sizex": 0.49675808622071815,
          "sizey": 0.49675808622071815,
          "sizing": "contain",
          "source": "https://raw.githubusercontent.com/matahombres/CSS-Country-Flags-Rounded/master/flags/TN.png",
          "x": 9.266,
          "xanchor": "center",
          "xref": "x",
          "y": 4.596,
          "yanchor": "middle",
          "yref": "y"
         },
         {
          "layer": "above",
          "opacity": 0.8,
          "sizex": 0.7449342090793041,
          "sizey": 0.7449342090793041,
          "sizing": "contain",
          "source": "https://raw.githubusercontent.com/matahombres/CSS-Country-Flags-Rounded/master/flags/TR.png",
          "x": 10.24,
          "xanchor": "center",
          "xref": "x",
          "y": 4.948,
          "yanchor": "middle",
          "yref": "y"
         },
         {
          "layer": "above",
          "opacity": 0.8,
          "sizex": 0.6009329404366577,
          "sizey": 0.6009329404366577,
          "sizing": "contain",
          "source": "https://raw.githubusercontent.com/matahombres/CSS-Country-Flags-Rounded/master/flags/UG.png",
          "x": 7.677,
          "xanchor": "center",
          "xref": "x",
          "y": 4.636,
          "yanchor": "middle",
          "yref": "y"
         },
         {
          "layer": "above",
          "opacity": 0.8,
          "sizex": 0.7145809210255509,
          "sizey": 0.7145809210255509,
          "sizing": "contain",
          "source": "https://raw.githubusercontent.com/matahombres/CSS-Country-Flags-Rounded/master/flags/GB.png",
          "x": 10.707,
          "xanchor": "center",
          "xref": "x",
          "y": 7.064,
          "yanchor": "middle",
          "yref": "y"
         },
         {
          "layer": "above",
          "opacity": 0.8,
          "sizex": 1.1681135444249167,
          "sizey": 1.1681135444249167,
          "sizing": "contain",
          "source": "https://raw.githubusercontent.com/matahombres/CSS-Country-Flags-Rounded/master/flags/US.png",
          "x": 11.023,
          "xanchor": "center",
          "xref": "x",
          "y": 6.951,
          "yanchor": "middle",
          "yref": "y"
         },
         {
          "layer": "above",
          "opacity": 0.8,
          "sizex": 0.4327484075329362,
          "sizey": 0.4327484075329362,
          "sizing": "contain",
          "source": "https://raw.githubusercontent.com/matahombres/CSS-Country-Flags-Rounded/master/flags/UY.png",
          "x": 9.966,
          "xanchor": "center",
          "xref": "x",
          "y": 6.431,
          "yanchor": "middle",
          "yref": "y"
         },
         {
          "layer": "above",
          "opacity": 0.8,
          "sizex": 0.586998398048854,
          "sizey": 0.586998398048854,
          "sizing": "contain",
          "source": "https://raw.githubusercontent.com/matahombres/CSS-Country-Flags-Rounded/master/flags/VE.png",
          "x": 9.073,
          "xanchor": "center",
          "xref": "x",
          "y": 4.892,
          "yanchor": "middle",
          "yref": "y"
         },
         {
          "layer": "above",
          "opacity": 0.8,
          "sizex": 0.7828115046737458,
          "sizey": 0.7828115046737458,
          "sizing": "contain",
          "source": "https://raw.githubusercontent.com/matahombres/CSS-Country-Flags-Rounded/master/flags/VN.png",
          "x": 8.973,
          "xanchor": "center",
          "xref": "x",
          "y": 5.411,
          "yanchor": "middle",
          "yref": "y"
         },
         {
          "layer": "above",
          "opacity": 0.8,
          "sizex": 0.43976362110399014,
          "sizey": 0.43976362110399014,
          "sizing": "contain",
          "source": "https://raw.githubusercontent.com/matahombres/CSS-Country-Flags-Rounded/master/flags/PS.png",
          "x": 8.485,
          "xanchor": "center",
          "xref": "x",
          "y": 4.517,
          "yanchor": "middle",
          "yref": "y"
         },
         {
          "layer": "above",
          "opacity": 0.8,
          "sizex": 0.568283760586413,
          "sizey": 0.568283760586413,
          "sizing": "contain",
          "source": "https://raw.githubusercontent.com/matahombres/CSS-Country-Flags-Rounded/master/flags/YE.png",
          "x": 7.578,
          "xanchor": "center",
          "xref": "x",
          "y": 3.658,
          "yanchor": "middle",
          "yref": "y"
         },
         {
          "layer": "above",
          "opacity": 0.8,
          "sizex": 0.5072739131453048,
          "sizey": 0.5072739131453048,
          "sizing": "contain",
          "source": "https://raw.githubusercontent.com/matahombres/CSS-Country-Flags-Rounded/master/flags/ZM.png",
          "x": 8.145,
          "xanchor": "center",
          "xref": "x",
          "y": 4.073,
          "yanchor": "middle",
          "yref": "y"
         },
         {
          "layer": "above",
          "opacity": 0.8,
          "sizex": 0.5111401596854932,
          "sizey": 0.5111401596854932,
          "sizing": "contain",
          "source": "https://raw.githubusercontent.com/matahombres/CSS-Country-Flags-Rounded/master/flags/ZW.png",
          "x": 7.943,
          "xanchor": "center",
          "xref": "x",
          "y": 3.145,
          "yanchor": "middle",
          "yref": "y"
         }
        ],
        "legend": {
         "tracegroupgap": 0
        },
        "margin": {
         "t": 60
        },
        "plot_bgcolor": "#dfdfdf",
        "template": {
         "data": {
          "bar": [
           {
            "error_x": {
             "color": "#2a3f5f"
            },
            "error_y": {
             "color": "#2a3f5f"
            },
            "marker": {
             "line": {
              "color": "#E5ECF6",
              "width": 0.5
             },
             "pattern": {
              "fillmode": "overlay",
              "size": 10,
              "solidity": 0.2
             }
            },
            "type": "bar"
           }
          ],
          "barpolar": [
           {
            "marker": {
             "line": {
              "color": "#E5ECF6",
              "width": 0.5
             },
             "pattern": {
              "fillmode": "overlay",
              "size": 10,
              "solidity": 0.2
             }
            },
            "type": "barpolar"
           }
          ],
          "carpet": [
           {
            "aaxis": {
             "endlinecolor": "#2a3f5f",
             "gridcolor": "white",
             "linecolor": "white",
             "minorgridcolor": "white",
             "startlinecolor": "#2a3f5f"
            },
            "baxis": {
             "endlinecolor": "#2a3f5f",
             "gridcolor": "white",
             "linecolor": "white",
             "minorgridcolor": "white",
             "startlinecolor": "#2a3f5f"
            },
            "type": "carpet"
           }
          ],
          "choropleth": [
           {
            "colorbar": {
             "outlinewidth": 0,
             "ticks": ""
            },
            "type": "choropleth"
           }
          ],
          "contour": [
           {
            "colorbar": {
             "outlinewidth": 0,
             "ticks": ""
            },
            "colorscale": [
             [
              0,
              "#0d0887"
             ],
             [
              0.1111111111111111,
              "#46039f"
             ],
             [
              0.2222222222222222,
              "#7201a8"
             ],
             [
              0.3333333333333333,
              "#9c179e"
             ],
             [
              0.4444444444444444,
              "#bd3786"
             ],
             [
              0.5555555555555556,
              "#d8576b"
             ],
             [
              0.6666666666666666,
              "#ed7953"
             ],
             [
              0.7777777777777778,
              "#fb9f3a"
             ],
             [
              0.8888888888888888,
              "#fdca26"
             ],
             [
              1,
              "#f0f921"
             ]
            ],
            "type": "contour"
           }
          ],
          "contourcarpet": [
           {
            "colorbar": {
             "outlinewidth": 0,
             "ticks": ""
            },
            "type": "contourcarpet"
           }
          ],
          "heatmap": [
           {
            "colorbar": {
             "outlinewidth": 0,
             "ticks": ""
            },
            "colorscale": [
             [
              0,
              "#0d0887"
             ],
             [
              0.1111111111111111,
              "#46039f"
             ],
             [
              0.2222222222222222,
              "#7201a8"
             ],
             [
              0.3333333333333333,
              "#9c179e"
             ],
             [
              0.4444444444444444,
              "#bd3786"
             ],
             [
              0.5555555555555556,
              "#d8576b"
             ],
             [
              0.6666666666666666,
              "#ed7953"
             ],
             [
              0.7777777777777778,
              "#fb9f3a"
             ],
             [
              0.8888888888888888,
              "#fdca26"
             ],
             [
              1,
              "#f0f921"
             ]
            ],
            "type": "heatmap"
           }
          ],
          "heatmapgl": [
           {
            "colorbar": {
             "outlinewidth": 0,
             "ticks": ""
            },
            "colorscale": [
             [
              0,
              "#0d0887"
             ],
             [
              0.1111111111111111,
              "#46039f"
             ],
             [
              0.2222222222222222,
              "#7201a8"
             ],
             [
              0.3333333333333333,
              "#9c179e"
             ],
             [
              0.4444444444444444,
              "#bd3786"
             ],
             [
              0.5555555555555556,
              "#d8576b"
             ],
             [
              0.6666666666666666,
              "#ed7953"
             ],
             [
              0.7777777777777778,
              "#fb9f3a"
             ],
             [
              0.8888888888888888,
              "#fdca26"
             ],
             [
              1,
              "#f0f921"
             ]
            ],
            "type": "heatmapgl"
           }
          ],
          "histogram": [
           {
            "marker": {
             "pattern": {
              "fillmode": "overlay",
              "size": 10,
              "solidity": 0.2
             }
            },
            "type": "histogram"
           }
          ],
          "histogram2d": [
           {
            "colorbar": {
             "outlinewidth": 0,
             "ticks": ""
            },
            "colorscale": [
             [
              0,
              "#0d0887"
             ],
             [
              0.1111111111111111,
              "#46039f"
             ],
             [
              0.2222222222222222,
              "#7201a8"
             ],
             [
              0.3333333333333333,
              "#9c179e"
             ],
             [
              0.4444444444444444,
              "#bd3786"
             ],
             [
              0.5555555555555556,
              "#d8576b"
             ],
             [
              0.6666666666666666,
              "#ed7953"
             ],
             [
              0.7777777777777778,
              "#fb9f3a"
             ],
             [
              0.8888888888888888,
              "#fdca26"
             ],
             [
              1,
              "#f0f921"
             ]
            ],
            "type": "histogram2d"
           }
          ],
          "histogram2dcontour": [
           {
            "colorbar": {
             "outlinewidth": 0,
             "ticks": ""
            },
            "colorscale": [
             [
              0,
              "#0d0887"
             ],
             [
              0.1111111111111111,
              "#46039f"
             ],
             [
              0.2222222222222222,
              "#7201a8"
             ],
             [
              0.3333333333333333,
              "#9c179e"
             ],
             [
              0.4444444444444444,
              "#bd3786"
             ],
             [
              0.5555555555555556,
              "#d8576b"
             ],
             [
              0.6666666666666666,
              "#ed7953"
             ],
             [
              0.7777777777777778,
              "#fb9f3a"
             ],
             [
              0.8888888888888888,
              "#fdca26"
             ],
             [
              1,
              "#f0f921"
             ]
            ],
            "type": "histogram2dcontour"
           }
          ],
          "mesh3d": [
           {
            "colorbar": {
             "outlinewidth": 0,
             "ticks": ""
            },
            "type": "mesh3d"
           }
          ],
          "parcoords": [
           {
            "line": {
             "colorbar": {
              "outlinewidth": 0,
              "ticks": ""
             }
            },
            "type": "parcoords"
           }
          ],
          "pie": [
           {
            "automargin": true,
            "type": "pie"
           }
          ],
          "scatter": [
           {
            "marker": {
             "colorbar": {
              "outlinewidth": 0,
              "ticks": ""
             }
            },
            "type": "scatter"
           }
          ],
          "scatter3d": [
           {
            "line": {
             "colorbar": {
              "outlinewidth": 0,
              "ticks": ""
             }
            },
            "marker": {
             "colorbar": {
              "outlinewidth": 0,
              "ticks": ""
             }
            },
            "type": "scatter3d"
           }
          ],
          "scattercarpet": [
           {
            "marker": {
             "colorbar": {
              "outlinewidth": 0,
              "ticks": ""
             }
            },
            "type": "scattercarpet"
           }
          ],
          "scattergeo": [
           {
            "marker": {
             "colorbar": {
              "outlinewidth": 0,
              "ticks": ""
             }
            },
            "type": "scattergeo"
           }
          ],
          "scattergl": [
           {
            "marker": {
             "colorbar": {
              "outlinewidth": 0,
              "ticks": ""
             }
            },
            "type": "scattergl"
           }
          ],
          "scattermapbox": [
           {
            "marker": {
             "colorbar": {
              "outlinewidth": 0,
              "ticks": ""
             }
            },
            "type": "scattermapbox"
           }
          ],
          "scatterpolar": [
           {
            "marker": {
             "colorbar": {
              "outlinewidth": 0,
              "ticks": ""
             }
            },
            "type": "scatterpolar"
           }
          ],
          "scatterpolargl": [
           {
            "marker": {
             "colorbar": {
              "outlinewidth": 0,
              "ticks": ""
             }
            },
            "type": "scatterpolargl"
           }
          ],
          "scatterternary": [
           {
            "marker": {
             "colorbar": {
              "outlinewidth": 0,
              "ticks": ""
             }
            },
            "type": "scatterternary"
           }
          ],
          "surface": [
           {
            "colorbar": {
             "outlinewidth": 0,
             "ticks": ""
            },
            "colorscale": [
             [
              0,
              "#0d0887"
             ],
             [
              0.1111111111111111,
              "#46039f"
             ],
             [
              0.2222222222222222,
              "#7201a8"
             ],
             [
              0.3333333333333333,
              "#9c179e"
             ],
             [
              0.4444444444444444,
              "#bd3786"
             ],
             [
              0.5555555555555556,
              "#d8576b"
             ],
             [
              0.6666666666666666,
              "#ed7953"
             ],
             [
              0.7777777777777778,
              "#fb9f3a"
             ],
             [
              0.8888888888888888,
              "#fdca26"
             ],
             [
              1,
              "#f0f921"
             ]
            ],
            "type": "surface"
           }
          ],
          "table": [
           {
            "cells": {
             "fill": {
              "color": "#EBF0F8"
             },
             "line": {
              "color": "white"
             }
            },
            "header": {
             "fill": {
              "color": "#C8D4E3"
             },
             "line": {
              "color": "white"
             }
            },
            "type": "table"
           }
          ]
         },
         "layout": {
          "annotationdefaults": {
           "arrowcolor": "#2a3f5f",
           "arrowhead": 0,
           "arrowwidth": 1
          },
          "autotypenumbers": "strict",
          "coloraxis": {
           "colorbar": {
            "outlinewidth": 0,
            "ticks": ""
           }
          },
          "colorscale": {
           "diverging": [
            [
             0,
             "#8e0152"
            ],
            [
             0.1,
             "#c51b7d"
            ],
            [
             0.2,
             "#de77ae"
            ],
            [
             0.3,
             "#f1b6da"
            ],
            [
             0.4,
             "#fde0ef"
            ],
            [
             0.5,
             "#f7f7f7"
            ],
            [
             0.6,
             "#e6f5d0"
            ],
            [
             0.7,
             "#b8e186"
            ],
            [
             0.8,
             "#7fbc41"
            ],
            [
             0.9,
             "#4d9221"
            ],
            [
             1,
             "#276419"
            ]
           ],
           "sequential": [
            [
             0,
             "#0d0887"
            ],
            [
             0.1111111111111111,
             "#46039f"
            ],
            [
             0.2222222222222222,
             "#7201a8"
            ],
            [
             0.3333333333333333,
             "#9c179e"
            ],
            [
             0.4444444444444444,
             "#bd3786"
            ],
            [
             0.5555555555555556,
             "#d8576b"
            ],
            [
             0.6666666666666666,
             "#ed7953"
            ],
            [
             0.7777777777777778,
             "#fb9f3a"
            ],
            [
             0.8888888888888888,
             "#fdca26"
            ],
            [
             1,
             "#f0f921"
            ]
           ],
           "sequentialminus": [
            [
             0,
             "#0d0887"
            ],
            [
             0.1111111111111111,
             "#46039f"
            ],
            [
             0.2222222222222222,
             "#7201a8"
            ],
            [
             0.3333333333333333,
             "#9c179e"
            ],
            [
             0.4444444444444444,
             "#bd3786"
            ],
            [
             0.5555555555555556,
             "#d8576b"
            ],
            [
             0.6666666666666666,
             "#ed7953"
            ],
            [
             0.7777777777777778,
             "#fb9f3a"
            ],
            [
             0.8888888888888888,
             "#fdca26"
            ],
            [
             1,
             "#f0f921"
            ]
           ]
          },
          "colorway": [
           "#636efa",
           "#EF553B",
           "#00cc96",
           "#ab63fa",
           "#FFA15A",
           "#19d3f3",
           "#FF6692",
           "#B6E880",
           "#FF97FF",
           "#FECB52"
          ],
          "font": {
           "color": "#2a3f5f"
          },
          "geo": {
           "bgcolor": "white",
           "lakecolor": "white",
           "landcolor": "#E5ECF6",
           "showlakes": true,
           "showland": true,
           "subunitcolor": "white"
          },
          "hoverlabel": {
           "align": "left"
          },
          "hovermode": "closest",
          "mapbox": {
           "style": "light"
          },
          "paper_bgcolor": "white",
          "plot_bgcolor": "#E5ECF6",
          "polar": {
           "angularaxis": {
            "gridcolor": "white",
            "linecolor": "white",
            "ticks": ""
           },
           "bgcolor": "#E5ECF6",
           "radialaxis": {
            "gridcolor": "white",
            "linecolor": "white",
            "ticks": ""
           }
          },
          "scene": {
           "xaxis": {
            "backgroundcolor": "#E5ECF6",
            "gridcolor": "white",
            "gridwidth": 2,
            "linecolor": "white",
            "showbackground": true,
            "ticks": "",
            "zerolinecolor": "white"
           },
           "yaxis": {
            "backgroundcolor": "#E5ECF6",
            "gridcolor": "white",
            "gridwidth": 2,
            "linecolor": "white",
            "showbackground": true,
            "ticks": "",
            "zerolinecolor": "white"
           },
           "zaxis": {
            "backgroundcolor": "#E5ECF6",
            "gridcolor": "white",
            "gridwidth": 2,
            "linecolor": "white",
            "showbackground": true,
            "ticks": "",
            "zerolinecolor": "white"
           }
          },
          "shapedefaults": {
           "line": {
            "color": "#2a3f5f"
           }
          },
          "ternary": {
           "aaxis": {
            "gridcolor": "white",
            "linecolor": "white",
            "ticks": ""
           },
           "baxis": {
            "gridcolor": "white",
            "linecolor": "white",
            "ticks": ""
           },
           "bgcolor": "#E5ECF6",
           "caxis": {
            "gridcolor": "white",
            "linecolor": "white",
            "ticks": ""
           }
          },
          "title": {
           "x": 0.05
          },
          "xaxis": {
           "automargin": true,
           "gridcolor": "white",
           "linecolor": "white",
           "ticks": "",
           "title": {
            "standoff": 15
           },
           "zerolinecolor": "white",
           "zerolinewidth": 2
          },
          "yaxis": {
           "automargin": true,
           "gridcolor": "white",
           "linecolor": "white",
           "ticks": "",
           "title": {
            "standoff": 15
           },
           "zerolinecolor": "white",
           "zerolinewidth": 2
          }
         }
        },
        "width": 800,
        "xaxis": {
         "anchor": "y",
         "domain": [
          0,
          1
         ],
         "title": {
          "text": "Logged GDP per capita"
         }
        },
        "yaxis": {
         "anchor": "x",
         "domain": [
          0,
          1
         ],
         "range": [
          0,
          10
         ],
         "title": {
          "text": "Ladder score"
         }
        }
       }
      },
      "text/html": [
       "<div>                            <div id=\"bb02fb5e-b015-46c7-89f4-8d119a08cb3a\" class=\"plotly-graph-div\" style=\"height:800px; width:800px;\"></div>            <script type=\"text/javascript\">                require([\"plotly\"], function(Plotly) {                    window.PLOTLYENV=window.PLOTLYENV || {};                                    if (document.getElementById(\"bb02fb5e-b015-46c7-89f4-8d119a08cb3a\")) {                    Plotly.newPlot(                        \"bb02fb5e-b015-46c7-89f4-8d119a08cb3a\",                        [{\"customdata\":[[31889923],[3600523],[33333216],[12420476],[40301927],[20434176],[8199783],[708573],[150448339],[10392226],[8078314],[9119152],[4552198],[1639131],[190010647],[7322858],[14326203],[8390505],[14131858],[17696293],[33390141],[4369038],[10238807],[16284741],[1318683096],[44227550],[710960],[64606759],[3800610],[4133884],[18013409],[4493312],[11416987],[10228744],[5468120],[496374],[9319622],[13755680],[80264543],[6939688],[551201],[4906585],[76511887],[5238460],[61083916],[1454867],[1688359],[82400996],[22873338],[10706290],[12572928],[9947814],[1472041],[8502814],[7483763],[6980412],[9956108],[301931],[1110396331],[223547000],[69453570],[27499638],[4109086],[6426679],[58147733],[2780132],[127467972],[6053193],[35610177],[23301725],[49044790],[2505559],[3921278],[2012649],[3193942],[6036914],[19167654],[13327079],[24821286],[12031795],[3270065],[1250882],[108700891],[2874127],[684736],[33757175],[19951656],[47761980],[2055080],[28901790],[16570613],[4115771],[5675356],[12894865],[135031164],[4627926],[3204897],[169270617],[3242173],[6667147],[28674757],[91077287],[38518241],[10642836],[3942491],[798094],[22276056],[8860588],[199579],[27601038],[12267493],[10150265],[6144562],[4553009],[5447502],[2009245],[9118773],[43997828],[40448191],[20378239],[42292929],[1133066],[9031088],[7554661],[19314747],[23174294],[38139640],[65068149],[5701579],[1056608],[10276158],[71158647],[29170398],[60776238],[301139947],[3447496],[26084662],[85262356],[4018332],[22211743],[11746035],[12311143]],\"hovertemplate\":\"<b>%{hovertext}</b><br><br>Logged GDP per capita=%{x}<br>Ladder score=%{y}<br>pop=%{customdata[0]}<extra></extra>\",\"hovertext\":[\"Afghanistan\",\"Albania\",\"Algeria\",\"Angola\",\"Argentina\",\"Australia\",\"Austria\",\"Bahrain\",\"Bangladesh\",\"Belgium\",\"Benin\",\"Bolivia\",\"Bosnia and Herzegovina\",\"Botswana\",\"Brazil\",\"Bulgaria\",\"Burkina Faso\",\"Burundi\",\"Cambodia\",\"Cameroon\",\"Canada\",\"Central African Republic\",\"Chad\",\"Chile\",\"China\",\"Colombia\",\"Comoros\",\"Congo, Dem. Rep.\",\"Congo, Rep.\",\"Costa Rica\",\"Cote d'Ivoire\",\"Croatia\",\"Cuba\",\"Czech Republic\",\"Denmark\",\"Djibouti\",\"Dominican Republic\",\"Ecuador\",\"Egypt\",\"El Salvador\",\"Equatorial Guinea\",\"Eritrea\",\"Ethiopia\",\"Finland\",\"France\",\"Gabon\",\"Gambia\",\"Germany\",\"Ghana\",\"Greece\",\"Guatemala\",\"Guinea\",\"Guinea-Bissau\",\"Haiti\",\"Honduras\",\"Hong Kong, China\",\"Hungary\",\"Iceland\",\"India\",\"Indonesia\",\"Iran\",\"Iraq\",\"Ireland\",\"Israel\",\"Italy\",\"Jamaica\",\"Japan\",\"Jordan\",\"Kenya\",\"Korea, Dem. Rep.\",\"Korea, Rep.\",\"Kuwait\",\"Lebanon\",\"Lesotho\",\"Liberia\",\"Libya\",\"Madagascar\",\"Malawi\",\"Malaysia\",\"Mali\",\"Mauritania\",\"Mauritius\",\"Mexico\",\"Mongolia\",\"Montenegro\",\"Morocco\",\"Mozambique\",\"Myanmar\",\"Namibia\",\"Nepal\",\"Netherlands\",\"New Zealand\",\"Nicaragua\",\"Niger\",\"Nigeria\",\"Norway\",\"Oman\",\"Pakistan\",\"Panama\",\"Paraguay\",\"Peru\",\"Philippines\",\"Poland\",\"Portugal\",\"Puerto Rico\",\"Reunion\",\"Romania\",\"Rwanda\",\"Sao Tome and Principe\",\"Saudi Arabia\",\"Senegal\",\"Serbia\",\"Sierra Leone\",\"Singapore\",\"Slovak Republic\",\"Slovenia\",\"Somalia\",\"South Africa\",\"Spain\",\"Sri Lanka\",\"Sudan\",\"Swaziland\",\"Sweden\",\"Switzerland\",\"Syria\",\"Taiwan\",\"Tanzania\",\"Thailand\",\"Togo\",\"Trinidad and Tobago\",\"Tunisia\",\"Turkey\",\"Uganda\",\"United Kingdom\",\"United States\",\"Uruguay\",\"Venezuela\",\"Vietnam\",\"West Bank and Gaza\",\"Yemen, Rep.\",\"Zambia\",\"Zimbabwe\"],\"legendgroup\":\"\",\"marker\":{\"color\":\"rgba(0,0,0,0)\",\"symbol\":\"circle\"},\"mode\":\"markers\",\"name\":\"\",\"orientation\":\"v\",\"showlegend\":false,\"type\":\"scatter\",\"x\":[7.695,9.52,9.342,null,9.962,10.796,10.906,10.669,8.454,10.823,8.087,9.046,9.59,9.782,9.577,10.016,7.678,6.635,8.36,8.189,10.776,null,7.364,10.071,9.673,9.557,8.031,null,8.117,9.88,8.551,10.217,null,10.556,10.933,null,9.802,9.313,9.367,9.054,null,null,7.694,10.775,10.704,9.603,7.686,10.873,8.58,10.279,9.053,7.838,null,7.477,8.648,11.0,10.358,10.878,8.755,9.365,9.584,9.24,11.342,10.575,10.623,9.186,10.611,9.182,8.361,10.651,10.651,10.817,9.626,7.926,7.288,9.622,7.396,6.958,10.238,7.744,8.542,10.008,9.859,9.4,9.94,8.903,7.158,8.541,9.161,8.12,10.932,10.643,8.62,7.098,8.533,11.053,null,8.458,10.35,9.448,9.458,9.076,10.382,10.421,null,null,10.284,7.676,null,10.743,8.118,9.787,7.434,11.488,10.369,10.529,null,9.403,10.571,9.47,null,9.065,10.867,11.117,null,10.871,7.876,9.805,7.362,null,9.266,10.24,7.677,10.707,11.023,9.966,9.073,8.973,8.485,7.578,8.145,7.943],\"xaxis\":\"x\",\"y\":[2.523,5.117,4.887,null,5.929,7.183,7.268,6.647,5.025,6.834,5.045,5.716,5.813,3.467,6.33,5.266,4.834,3.775,4.83,5.142,7.103,null,4.355,6.172,5.339,6.012,4.289,null,5.342,7.069,5.306,5.882,null,6.965,7.62,null,5.545,5.764,4.283,6.061,null,null,4.275,7.842,6.69,4.852,5.051,7.155,5.088,5.723,6.435,4.984,null,3.615,5.919,5.477,5.992,7.554,3.819,5.345,4.721,4.854,7.085,7.157,6.483,6.309,5.94,4.395,4.607,5.845,5.845,6.106,4.584,3.512,4.625,5.41,4.208,3.6,5.384,4.723,4.227,6.049,6.317,5.677,5.581,4.918,4.794,4.426,4.574,5.269,7.464,7.277,5.972,5.074,4.759,7.392,null,4.934,6.18,5.653,5.84,5.88,6.166,5.929,null,null,6.14,3.415,null,6.494,5.132,6.078,3.849,6.377,6.331,6.461,null,4.956,6.491,4.325,null,4.308,7.363,7.571,null,6.584,3.623,5.985,4.107,null,4.596,4.948,4.636,7.064,6.951,6.431,4.892,5.411,4.517,3.658,4.073,3.145],\"yaxis\":\"y\"}],                        {\"height\":800,\"images\":[{\"layer\":\"above\",\"opacity\":0.8,\"sizex\":0.6126137178862854,\"sizey\":0.6126137178862854,\"sizing\":\"contain\",\"source\":\"https://raw.githubusercontent.com/matahombres/CSS-Country-Flags-Rounded/master/flags/AF.png\",\"x\":7.695,\"xanchor\":\"center\",\"xref\":\"x\",\"y\":2.523,\"yanchor\":\"middle\",\"yref\":\"y\"},{\"layer\":\"above\",\"opacity\":0.8,\"sizex\":0.43468264858215777,\"sizey\":0.43468264858215777,\"sizing\":\"contain\",\"source\":\"https://raw.githubusercontent.com/matahombres/CSS-Country-Flags-Rounded/master/flags/AL.png\",\"x\":9.52,\"xanchor\":\"center\",\"xref\":\"x\",\"y\":5.117,\"yanchor\":\"middle\",\"yref\":\"y\"},{\"layer\":\"above\",\"opacity\":0.8,\"sizex\":0.6186106718281927,\"sizey\":0.6186106718281927,\"sizing\":\"contain\",\"source\":\"https://raw.githubusercontent.com/matahombres/CSS-Country-Flags-Rounded/master/flags/DZ.png\",\"x\":9.342,\"xanchor\":\"center\",\"xref\":\"x\",\"y\":4.887,\"yanchor\":\"middle\",\"yref\":\"y\"},{\"layer\":\"above\",\"opacity\":0.8,\"sizex\":0.5118778541434322,\"sizey\":0.5118778541434322,\"sizing\":\"contain\",\"source\":\"https://raw.githubusercontent.com/matahombres/CSS-Country-Flags-Rounded/master/flags/AO.png\",\"x\":null,\"xanchor\":\"center\",\"xref\":\"x\",\"y\":null,\"yanchor\":\"middle\",\"yref\":\"y\"},{\"layer\":\"above\",\"opacity\":0.8,\"sizex\":0.6458909134418044,\"sizey\":0.6458909134418044,\"sizing\":\"contain\",\"source\":\"https://raw.githubusercontent.com/matahombres/CSS-Country-Flags-Rounded/master/flags/AR.png\",\"x\":9.962,\"xanchor\":\"center\",\"xref\":\"x\",\"y\":5.929,\"yanchor\":\"middle\",\"yref\":\"y\"},{\"layer\":\"above\",\"opacity\":0.8,\"sizex\":0.5591482655145209,\"sizey\":0.5591482655145209,\"sizing\":\"contain\",\"source\":\"https://raw.githubusercontent.com/matahombres/CSS-Country-Flags-Rounded/master/flags/AU.png\",\"x\":10.796,\"xanchor\":\"center\",\"xref\":\"x\",\"y\":7.183,\"yanchor\":\"middle\",\"yref\":\"y\"},{\"layer\":\"above\",\"opacity\":0.8,\"sizex\":0.4805234754253601,\"sizey\":0.4805234754253601,\"sizing\":\"contain\",\"source\":\"https://raw.githubusercontent.com/matahombres/CSS-Country-Flags-Rounded/master/flags/AT.png\",\"x\":10.906,\"xanchor\":\"center\",\"xref\":\"x\",\"y\":7.268,\"yanchor\":\"middle\",\"yref\":\"y\"},{\"layer\":\"above\",\"opacity\":0.8,\"sizex\":0.3845845714585739,\"sizey\":0.3845845714585739,\"sizing\":\"contain\",\"source\":\"https://raw.githubusercontent.com/matahombres/CSS-Country-Flags-Rounded/master/flags/BH.png\",\"x\":10.669,\"xanchor\":\"center\",\"xref\":\"x\",\"y\":6.647,\"yanchor\":\"middle\",\"yref\":\"y\"},{\"layer\":\"above\",\"opacity\":0.8,\"sizex\":0.9266884875950201,\"sizey\":0.9266884875950201,\"sizing\":\"contain\",\"source\":\"https://raw.githubusercontent.com/matahombres/CSS-Country-Flags-Rounded/master/flags/BD.png\",\"x\":8.454,\"xanchor\":\"center\",\"xref\":\"x\",\"y\":5.025,\"yanchor\":\"middle\",\"yref\":\"y\"},{\"layer\":\"above\",\"opacity\":0.8,\"sizex\":0.49761475200405425,\"sizey\":0.49761475200405425,\"sizing\":\"contain\",\"source\":\"https://raw.githubusercontent.com/matahombres/CSS-Country-Flags-Rounded/master/flags/BE.png\",\"x\":10.823,\"xanchor\":\"center\",\"xref\":\"x\",\"y\":6.834,\"yanchor\":\"middle\",\"yref\":\"y\"},{\"layer\":\"above\",\"opacity\":0.8,\"sizex\":0.47951325270533324,\"sizey\":0.47951325270533324,\"sizing\":\"contain\",\"source\":\"https://raw.githubusercontent.com/matahombres/CSS-Country-Flags-Rounded/master/flags/BJ.png\",\"x\":8.087,\"xanchor\":\"center\",\"xref\":\"x\",\"y\":5.045,\"yanchor\":\"middle\",\"yref\":\"y\"},{\"layer\":\"above\",\"opacity\":0.8,\"sizex\":0.48793884625310624,\"sizey\":0.48793884625310624,\"sizing\":\"contain\",\"source\":\"https://raw.githubusercontent.com/matahombres/CSS-Country-Flags-Rounded/master/flags/BO.png\",\"x\":9.046,\"xanchor\":\"center\",\"xref\":\"x\",\"y\":5.716,\"yanchor\":\"middle\",\"yref\":\"y\"},{\"layer\":\"above\",\"opacity\":0.8,\"sizex\":0.4458855719800392,\"sizey\":0.4458855719800392,\"sizing\":\"contain\",\"source\":\"https://raw.githubusercontent.com/matahombres/CSS-Country-Flags-Rounded/master/flags/BA.png\",\"x\":9.59,\"xanchor\":\"center\",\"xref\":\"x\",\"y\":5.813,\"yanchor\":\"middle\",\"yref\":\"y\"},{\"layer\":\"above\",\"opacity\":0.8,\"sizex\":0.40539363929732003,\"sizey\":0.40539363929732003,\"sizing\":\"contain\",\"source\":\"https://raw.githubusercontent.com/matahombres/CSS-Country-Flags-Rounded/master/flags/BW.png\",\"x\":9.782,\"xanchor\":\"center\",\"xref\":\"x\",\"y\":3.467,\"yanchor\":\"middle\",\"yref\":\"y\"},{\"layer\":\"above\",\"opacity\":0.8,\"sizex\":0.9987554916445478,\"sizey\":0.9987554916445478,\"sizing\":\"contain\",\"source\":\"https://raw.githubusercontent.com/matahombres/CSS-Country-Flags-Rounded/master/flags/BR.png\",\"x\":9.577,\"xanchor\":\"center\",\"xref\":\"x\",\"y\":6.33,\"yanchor\":\"middle\",\"yref\":\"y\"},{\"layer\":\"above\",\"opacity\":0.8,\"sizex\":0.4730520480917817,\"sizey\":0.4730520480917817,\"sizing\":\"contain\",\"source\":\"https://raw.githubusercontent.com/matahombres/CSS-Country-Flags-Rounded/master/flags/BG.png\",\"x\":10.016,\"xanchor\":\"center\",\"xref\":\"x\",\"y\":5.266,\"yanchor\":\"middle\",\"yref\":\"y\"},{\"layer\":\"above\",\"opacity\":0.8,\"sizex\":0.5242502084087374,\"sizey\":0.5242502084087374,\"sizing\":\"contain\",\"source\":\"https://raw.githubusercontent.com/matahombres/CSS-Country-Flags-Rounded/master/flags/BF.png\",\"x\":7.678,\"xanchor\":\"center\",\"xref\":\"x\",\"y\":4.834,\"yanchor\":\"middle\",\"yref\":\"y\"},{\"layer\":\"above\",\"opacity\":0.8,\"sizex\":0.48209467543482454,\"sizey\":0.48209467543482454,\"sizing\":\"contain\",\"source\":\"https://raw.githubusercontent.com/matahombres/CSS-Country-Flags-Rounded/master/flags/BI.png\",\"x\":6.635,\"xanchor\":\"center\",\"xref\":\"x\",\"y\":3.775,\"yanchor\":\"middle\",\"yref\":\"y\"},{\"layer\":\"above\",\"opacity\":0.8,\"sizex\":0.5230277791974803,\"sizey\":0.5230277791974803,\"sizing\":\"contain\",\"source\":\"https://raw.githubusercontent.com/matahombres/CSS-Country-Flags-Rounded/master/flags/KH.png\",\"x\":8.36,\"xanchor\":\"center\",\"xref\":\"x\",\"y\":4.83,\"yanchor\":\"middle\",\"yref\":\"y\"},{\"layer\":\"above\",\"opacity\":0.8,\"sizex\":0.5442611791446395,\"sizey\":0.5442611791446395,\"sizing\":\"contain\",\"source\":\"https://raw.githubusercontent.com/matahombres/CSS-Country-Flags-Rounded/master/flags/CM.png\",\"x\":8.189,\"xanchor\":\"center\",\"xref\":\"x\",\"y\":5.142,\"yanchor\":\"middle\",\"yref\":\"y\"},{\"layer\":\"above\",\"opacity\":0.8,\"sizex\":0.6188445095671959,\"sizey\":0.6188445095671959,\"sizing\":\"contain\",\"source\":\"https://raw.githubusercontent.com/matahombres/CSS-Country-Flags-Rounded/master/flags/CA.png\",\"x\":10.776,\"xanchor\":\"center\",\"xref\":\"x\",\"y\":7.103,\"yanchor\":\"middle\",\"yref\":\"y\"},{\"layer\":\"above\",\"opacity\":0.8,\"sizex\":0.4438278273569082,\"sizey\":0.4438278273569082,\"sizing\":\"contain\",\"source\":\"https://raw.githubusercontent.com/matahombres/CSS-Country-Flags-Rounded/master/flags/CF.png\",\"x\":null,\"xanchor\":\"center\",\"xref\":\"x\",\"y\":null,\"yanchor\":\"middle\",\"yref\":\"y\"},{\"layer\":\"above\",\"opacity\":0.8,\"sizex\":0.4964813809115601,\"sizey\":0.4964813809115601,\"sizing\":\"contain\",\"source\":\"https://raw.githubusercontent.com/matahombres/CSS-Country-Flags-Rounded/master/flags/TD.png\",\"x\":7.364,\"xanchor\":\"center\",\"xref\":\"x\",\"y\":4.355,\"yanchor\":\"middle\",\"yref\":\"y\"},{\"layer\":\"above\",\"opacity\":0.8,\"sizex\":0.5361343189410759,\"sizey\":0.5361343189410759,\"sizing\":\"contain\",\"source\":\"https://raw.githubusercontent.com/matahombres/CSS-Country-Flags-Rounded/master/flags/CL.png\",\"x\":10.071,\"xanchor\":\"center\",\"xref\":\"x\",\"y\":6.172,\"yanchor\":\"middle\",\"yref\":\"y\"},{\"layer\":\"above\",\"opacity\":0.8,\"sizex\":2.06784,\"sizey\":2.06784,\"sizing\":\"contain\",\"source\":\"https://raw.githubusercontent.com/matahombres/CSS-Country-Flags-Rounded/master/flags/CN.png\",\"x\":9.673,\"xanchor\":\"center\",\"xref\":\"x\",\"y\":5.339,\"yanchor\":\"middle\",\"yref\":\"y\"},{\"layer\":\"above\",\"opacity\":0.8,\"sizex\":0.6602217698756083,\"sizey\":0.6602217698756083,\"sizing\":\"contain\",\"source\":\"https://raw.githubusercontent.com/matahombres/CSS-Country-Flags-Rounded/master/flags/CO.png\",\"x\":9.557,\"xanchor\":\"center\",\"xref\":\"x\",\"y\":6.012,\"yanchor\":\"middle\",\"yref\":\"y\"},{\"layer\":\"above\",\"opacity\":0.8,\"sizex\":0.38465179637865055,\"sizey\":0.38465179637865055,\"sizing\":\"contain\",\"source\":\"https://raw.githubusercontent.com/matahombres/CSS-Country-Flags-Rounded/master/flags/KM.png\",\"x\":8.031,\"xanchor\":\"center\",\"xref\":\"x\",\"y\":4.289,\"yanchor\":\"middle\",\"yref\":\"y\"},{\"layer\":\"above\",\"opacity\":0.8,\"sizex\":0.7260608626211014,\"sizey\":0.7260608626211014,\"sizing\":\"contain\",\"source\":\"https://raw.githubusercontent.com/matahombres/CSS-Country-Flags-Rounded/master/flags/CD.png\",\"x\":null,\"xanchor\":\"center\",\"xref\":\"x\",\"y\":null,\"yanchor\":\"middle\",\"yref\":\"y\"},{\"layer\":\"above\",\"opacity\":0.8,\"sizex\":0.4371507325135712,\"sizey\":0.4371507325135712,\"sizing\":\"contain\",\"source\":\"https://raw.githubusercontent.com/matahombres/CSS-Country-Flags-Rounded/master/flags/CG.png\",\"x\":8.117,\"xanchor\":\"center\",\"xref\":\"x\",\"y\":5.342,\"yanchor\":\"middle\",\"yref\":\"y\"},{\"layer\":\"above\",\"opacity\":0.8,\"sizex\":0.4411216249624367,\"sizey\":0.4411216249624367,\"sizing\":\"contain\",\"source\":\"https://raw.githubusercontent.com/matahombres/CSS-Country-Flags-Rounded/master/flags/CR.png\",\"x\":9.88,\"xanchor\":\"center\",\"xref\":\"x\",\"y\":7.069,\"yanchor\":\"middle\",\"yref\":\"y\"},{\"layer\":\"above\",\"opacity\":0.8,\"sizex\":0.5460418341779012,\"sizey\":0.5460418341779012,\"sizing\":\"contain\",\"source\":\"https://raw.githubusercontent.com/matahombres/CSS-Country-Flags-Rounded/master/flags/CI.png\",\"x\":8.551,\"xanchor\":\"center\",\"xref\":\"x\",\"y\":5.306,\"yanchor\":\"middle\",\"yref\":\"y\"},{\"layer\":\"above\",\"opacity\":0.8,\"sizex\":0.44522859781010077,\"sizey\":0.44522859781010077,\"sizing\":\"contain\",\"source\":\"https://raw.githubusercontent.com/matahombres/CSS-Country-Flags-Rounded/master/flags/HR.png\",\"x\":10.217,\"xanchor\":\"center\",\"xref\":\"x\",\"y\":5.882,\"yanchor\":\"middle\",\"yref\":\"y\"},{\"layer\":\"above\",\"opacity\":0.8,\"sizex\":0.504979756489331,\"sizey\":0.504979756489331,\"sizing\":\"contain\",\"source\":\"https://raw.githubusercontent.com/matahombres/CSS-Country-Flags-Rounded/master/flags/CU.png\",\"x\":null,\"xanchor\":\"center\",\"xref\":\"x\",\"y\":null,\"yanchor\":\"middle\",\"yref\":\"y\"},{\"layer\":\"above\",\"opacity\":0.8,\"sizex\":0.4964067454859401,\"sizey\":0.4964067454859401,\"sizing\":\"contain\",\"source\":\"https://raw.githubusercontent.com/matahombres/CSS-Country-Flags-Rounded/master/flags/CZ.png\",\"x\":10.556,\"xanchor\":\"center\",\"xref\":\"x\",\"y\":6.965,\"yanchor\":\"middle\",\"yref\":\"y\"},{\"layer\":\"above\",\"opacity\":0.8,\"sizex\":0.4556046083883502,\"sizey\":0.4556046083883502,\"sizing\":\"contain\",\"source\":\"https://raw.githubusercontent.com/matahombres/CSS-Country-Flags-Rounded/master/flags/DK.png\",\"x\":10.933,\"xanchor\":\"center\",\"xref\":\"x\",\"y\":7.62,\"yanchor\":\"middle\",\"yref\":\"y\"},{\"layer\":\"above\",\"opacity\":0.8,\"sizex\":0.3780725866586492,\"sizey\":0.3780725866586492,\"sizing\":\"contain\",\"source\":\"https://raw.githubusercontent.com/matahombres/CSS-Country-Flags-Rounded/master/flags/DJ.png\",\"x\":null,\"xanchor\":\"center\",\"xref\":\"x\",\"y\":null,\"yanchor\":\"middle\",\"yref\":\"y\"},{\"layer\":\"above\",\"opacity\":0.8,\"sizex\":0.48950538180531333,\"sizey\":0.48950538180531333,\"sizing\":\"contain\",\"source\":\"https://raw.githubusercontent.com/matahombres/CSS-Country-Flags-Rounded/master/flags/DO.png\",\"x\":9.802,\"xanchor\":\"center\",\"xref\":\"x\",\"y\":5.545,\"yanchor\":\"middle\",\"yref\":\"y\"},{\"layer\":\"above\",\"opacity\":0.8,\"sizex\":0.520637499885365,\"sizey\":0.520637499885365,\"sizing\":\"contain\",\"source\":\"https://raw.githubusercontent.com/matahombres/CSS-Country-Flags-Rounded/master/flags/EC.png\",\"x\":9.313,\"xanchor\":\"center\",\"xref\":\"x\",\"y\":5.764,\"yanchor\":\"middle\",\"yref\":\"y\"},{\"layer\":\"above\",\"opacity\":0.8,\"sizex\":0.7697754645548307,\"sizey\":0.7697754645548307,\"sizing\":\"contain\",\"source\":\"https://raw.githubusercontent.com/matahombres/CSS-Country-Flags-Rounded/master/flags/EG.png\",\"x\":9.367,\"xanchor\":\"center\",\"xref\":\"x\",\"y\":4.283,\"yanchor\":\"middle\",\"yref\":\"y\"},{\"layer\":\"above\",\"opacity\":0.8,\"sizex\":0.46964731845729424,\"sizey\":0.46964731845729424,\"sizing\":\"contain\",\"source\":\"https://raw.githubusercontent.com/matahombres/CSS-Country-Flags-Rounded/master/flags/SV.png\",\"x\":9.054,\"xanchor\":\"center\",\"xref\":\"x\",\"y\":6.061,\"yanchor\":\"middle\",\"yref\":\"y\"},{\"layer\":\"above\",\"opacity\":0.8,\"sizex\":0.3798706344978499,\"sizey\":0.3798706344978499,\"sizing\":\"contain\",\"source\":\"https://raw.githubusercontent.com/matahombres/CSS-Country-Flags-Rounded/master/flags/GQ.png\",\"x\":null,\"xanchor\":\"center\",\"xref\":\"x\",\"y\":null,\"yanchor\":\"middle\",\"yref\":\"y\"},{\"layer\":\"above\",\"opacity\":0.8,\"sizex\":0.44975268499354615,\"sizey\":0.44975268499354615,\"sizing\":\"contain\",\"source\":\"https://raw.githubusercontent.com/matahombres/CSS-Country-Flags-Rounded/master/flags/ER.png\",\"x\":null,\"xanchor\":\"center\",\"xref\":\"x\",\"y\":null,\"yanchor\":\"middle\",\"yref\":\"y\"},{\"layer\":\"above\",\"opacity\":0.8,\"sizex\":0.7597181982798473,\"sizey\":0.7597181982798473,\"sizing\":\"contain\",\"source\":\"https://raw.githubusercontent.com/matahombres/CSS-Country-Flags-Rounded/master/flags/ET.png\",\"x\":7.694,\"xanchor\":\"center\",\"xref\":\"x\",\"y\":4.275,\"yanchor\":\"middle\",\"yref\":\"y\"},{\"layer\":\"above\",\"opacity\":0.8,\"sizex\":0.4532493669783467,\"sizey\":0.4532493669783467,\"sizing\":\"contain\",\"source\":\"https://raw.githubusercontent.com/matahombres/CSS-Country-Flags-Rounded/master/flags/FI.png\",\"x\":10.775,\"xanchor\":\"center\",\"xref\":\"x\",\"y\":7.842,\"yanchor\":\"middle\",\"yref\":\"y\"},{\"layer\":\"above\",\"opacity\":0.8,\"sizex\":0.7155161466490496,\"sizey\":0.7155161466490496,\"sizing\":\"contain\",\"source\":\"https://raw.githubusercontent.com/matahombres/CSS-Country-Flags-Rounded/master/flags/FR.png\",\"x\":10.704,\"xanchor\":\"center\",\"xref\":\"x\",\"y\":6.69,\"yanchor\":\"middle\",\"yref\":\"y\"},{\"layer\":\"above\",\"opacity\":0.8,\"sizex\":0.4018770329811695,\"sizey\":0.4018770329811695,\"sizing\":\"contain\",\"source\":\"https://raw.githubusercontent.com/matahombres/CSS-Country-Flags-Rounded/master/flags/GA.png\",\"x\":9.603,\"xanchor\":\"center\",\"xref\":\"x\",\"y\":4.852,\"yanchor\":\"middle\",\"yref\":\"y\"},{\"layer\":\"above\",\"opacity\":0.8,\"sizex\":0.40629919707265394,\"sizey\":0.40629919707265394,\"sizing\":\"contain\",\"source\":\"https://raw.githubusercontent.com/matahombres/CSS-Country-Flags-Rounded/master/flags/GM.png\",\"x\":7.686,\"xanchor\":\"center\",\"xref\":\"x\",\"y\":5.051,\"yanchor\":\"middle\",\"yref\":\"y\"},{\"layer\":\"above\",\"opacity\":0.8,\"sizex\":0.7753963585981108,\"sizey\":0.7753963585981108,\"sizing\":\"contain\",\"source\":\"https://raw.githubusercontent.com/matahombres/CSS-Country-Flags-Rounded/master/flags/DE.png\",\"x\":10.873,\"xanchor\":\"center\",\"xref\":\"x\",\"y\":7.155,\"yanchor\":\"middle\",\"yref\":\"y\"},{\"layer\":\"above\",\"opacity\":0.8,\"sizex\":0.5715900277715552,\"sizey\":0.5715900277715552,\"sizing\":\"contain\",\"source\":\"https://raw.githubusercontent.com/matahombres/CSS-Country-Flags-Rounded/master/flags/GH.png\",\"x\":8.58,\"xanchor\":\"center\",\"xref\":\"x\",\"y\":5.088,\"yanchor\":\"middle\",\"yref\":\"y\"},{\"layer\":\"above\",\"opacity\":0.8,\"sizex\":0.49990907575733157,\"sizey\":0.49990907575733157,\"sizing\":\"contain\",\"source\":\"https://raw.githubusercontent.com/matahombres/CSS-Country-Flags-Rounded/master/flags/GR.png\",\"x\":10.279,\"xanchor\":\"center\",\"xref\":\"x\",\"y\":5.723,\"yanchor\":\"middle\",\"yref\":\"y\"},{\"layer\":\"above\",\"opacity\":0.8,\"sizex\":0.5129010833076579,\"sizey\":0.5129010833076579,\"sizing\":\"contain\",\"source\":\"https://raw.githubusercontent.com/matahombres/CSS-Country-Flags-Rounded/master/flags/GT.png\",\"x\":9.053,\"xanchor\":\"center\",\"xref\":\"x\",\"y\":6.435,\"yanchor\":\"middle\",\"yref\":\"y\"},{\"layer\":\"above\",\"opacity\":0.8,\"sizex\":0.4943081169549426,\"sizey\":0.4943081169549426,\"sizing\":\"contain\",\"source\":\"https://raw.githubusercontent.com/matahombres/CSS-Country-Flags-Rounded/master/flags/GN.png\",\"x\":7.838,\"xanchor\":\"center\",\"xref\":\"x\",\"y\":4.984,\"yanchor\":\"middle\",\"yref\":\"y\"},{\"layer\":\"above\",\"opacity\":0.8,\"sizex\":0.4022138695698443,\"sizey\":0.4022138695698443,\"sizing\":\"contain\",\"source\":\"https://raw.githubusercontent.com/matahombres/CSS-Country-Flags-Rounded/master/flags/GW.png\",\"x\":null,\"xanchor\":\"center\",\"xref\":\"x\",\"y\":null,\"yanchor\":\"middle\",\"yref\":\"y\"},{\"layer\":\"above\",\"opacity\":0.8,\"sizex\":0.4830115500243819,\"sizey\":0.4830115500243819,\"sizing\":\"contain\",\"source\":\"https://raw.githubusercontent.com/matahombres/CSS-Country-Flags-Rounded/master/flags/HT.png\",\"x\":7.477,\"xanchor\":\"center\",\"xref\":\"x\",\"y\":3.615,\"yanchor\":\"middle\",\"yref\":\"y\"},{\"layer\":\"above\",\"opacity\":0.8,\"sizex\":0.47445517980149676,\"sizey\":0.47445517980149676,\"sizing\":\"contain\",\"source\":\"https://raw.githubusercontent.com/matahombres/CSS-Country-Flags-Rounded/master/flags/HN.png\",\"x\":8.648,\"xanchor\":\"center\",\"xref\":\"x\",\"y\":5.919,\"yanchor\":\"middle\",\"yref\":\"y\"},{\"layer\":\"above\",\"opacity\":0.8,\"sizex\":0.4700135706086457,\"sizey\":0.4700135706086457,\"sizing\":\"contain\",\"source\":\"https://raw.githubusercontent.com/matahombres/CSS-Country-Flags-Rounded/master/flags/HK.png\",\"x\":11.0,\"xanchor\":\"center\",\"xref\":\"x\",\"y\":5.477,\"yanchor\":\"middle\",\"yref\":\"y\"},{\"layer\":\"above\",\"opacity\":0.8,\"sizex\":0.49437049692737556,\"sizey\":0.49437049692737556,\"sizing\":\"contain\",\"source\":\"https://raw.githubusercontent.com/matahombres/CSS-Country-Flags-Rounded/master/flags/HU.png\",\"x\":10.358,\"xanchor\":\"center\",\"xref\":\"x\",\"y\":5.992,\"yanchor\":\"middle\",\"yref\":\"y\"},{\"layer\":\"above\",\"opacity\":0.8,\"sizex\":0.37071469992346756,\"sizey\":0.37071469992346756,\"sizing\":\"contain\",\"source\":\"https://raw.githubusercontent.com/matahombres/CSS-Country-Flags-Rounded/master/flags/IS.png\",\"x\":10.878,\"xanchor\":\"center\",\"xref\":\"x\",\"y\":7.554,\"yanchor\":\"middle\",\"yref\":\"y\"},{\"layer\":\"above\",\"opacity\":0.8,\"sizex\":1.9259043343638846,\"sizey\":1.9259043343638846,\"sizing\":\"contain\",\"source\":\"https://raw.githubusercontent.com/matahombres/CSS-Country-Flags-Rounded/master/flags/IN.png\",\"x\":8.755,\"xanchor\":\"center\",\"xref\":\"x\",\"y\":3.819,\"yanchor\":\"middle\",\"yref\":\"y\"},{\"layer\":\"above\",\"opacity\":0.8,\"sizex\":1.0541358988645166,\"sizey\":1.0541358988645166,\"sizing\":\"contain\",\"source\":\"https://raw.githubusercontent.com/matahombres/CSS-Country-Flags-Rounded/master/flags/ID.png\",\"x\":9.365,\"xanchor\":\"center\",\"xref\":\"x\",\"y\":5.345,\"yanchor\":\"middle\",\"yref\":\"y\"},{\"layer\":\"above\",\"opacity\":0.8,\"sizex\":0.7401092801589861,\"sizey\":0.7401092801589861,\"sizing\":\"contain\",\"source\":\"https://raw.githubusercontent.com/matahombres/CSS-Country-Flags-Rounded/master/flags/IR.png\",\"x\":9.584,\"xanchor\":\"center\",\"xref\":\"x\",\"y\":4.721,\"yanchor\":\"middle\",\"yref\":\"y\"},{\"layer\":\"above\",\"opacity\":0.8,\"sizex\":0.5934850205735398,\"sizey\":0.5934850205735398,\"sizing\":\"contain\",\"source\":\"https://raw.githubusercontent.com/matahombres/CSS-Country-Flags-Rounded/master/flags/IQ.png\",\"x\":9.24,\"xanchor\":\"center\",\"xref\":\"x\",\"y\":4.854,\"yanchor\":\"middle\",\"yref\":\"y\"},{\"layer\":\"above\",\"opacity\":0.8,\"sizex\":0.4408318066949461,\"sizey\":0.4408318066949461,\"sizing\":\"contain\",\"source\":\"https://raw.githubusercontent.com/matahombres/CSS-Country-Flags-Rounded/master/flags/IE.png\",\"x\":11.342,\"xanchor\":\"center\",\"xref\":\"x\",\"y\":7.085,\"yanchor\":\"middle\",\"yref\":\"y\"},{\"layer\":\"above\",\"opacity\":0.8,\"sizex\":0.4649381006822715,\"sizey\":0.4649381006822715,\"sizing\":\"contain\",\"source\":\"https://raw.githubusercontent.com/matahombres/CSS-Country-Flags-Rounded/master/flags/IL.png\",\"x\":10.575,\"xanchor\":\"center\",\"xref\":\"x\",\"y\":7.157,\"yanchor\":\"middle\",\"yref\":\"y\"},{\"layer\":\"above\",\"opacity\":0.8,\"sizex\":0.706492735588315,\"sizey\":0.706492735588315,\"sizing\":\"contain\",\"source\":\"https://raw.githubusercontent.com/matahombres/CSS-Country-Flags-Rounded/master/flags/IT.png\",\"x\":10.623,\"xanchor\":\"center\",\"xref\":\"x\",\"y\":6.483,\"yanchor\":\"middle\",\"yref\":\"y\"},{\"layer\":\"above\",\"opacity\":0.8,\"sizex\":0.42376216727359084,\"sizey\":0.42376216727359084,\"sizing\":\"contain\",\"source\":\"https://raw.githubusercontent.com/matahombres/CSS-Country-Flags-Rounded/master/flags/JM.png\",\"x\":9.186,\"xanchor\":\"center\",\"xref\":\"x\",\"y\":6.309,\"yanchor\":\"middle\",\"yref\":\"y\"},{\"layer\":\"above\",\"opacity\":0.8,\"sizex\":0.8803947183959202,\"sizey\":0.8803947183959202,\"sizing\":\"contain\",\"source\":\"https://raw.githubusercontent.com/matahombres/CSS-Country-Flags-Rounded/master/flags/JP.png\",\"x\":10.611,\"xanchor\":\"center\",\"xref\":\"x\",\"y\":5.94,\"yanchor\":\"middle\",\"yref\":\"y\"},{\"layer\":\"above\",\"opacity\":0.8,\"sizex\":0.4613902252154468,\"sizey\":0.4613902252154468,\"sizing\":\"contain\",\"source\":\"https://raw.githubusercontent.com/matahombres/CSS-Country-Flags-Rounded/master/flags/JO.png\",\"x\":9.182,\"xanchor\":\"center\",\"xref\":\"x\",\"y\":4.395,\"yanchor\":\"middle\",\"yref\":\"y\"},{\"layer\":\"above\",\"opacity\":0.8,\"sizex\":0.627813450382219,\"sizey\":0.627813450382219,\"sizing\":\"contain\",\"source\":\"https://raw.githubusercontent.com/matahombres/CSS-Country-Flags-Rounded/master/flags/KE.png\",\"x\":8.361,\"xanchor\":\"center\",\"xref\":\"x\",\"y\":4.607,\"yanchor\":\"middle\",\"yref\":\"y\"},{\"layer\":\"above\",\"opacity\":0.8,\"sizex\":0.5737054042745784,\"sizey\":0.5737054042745784,\"sizing\":\"contain\",\"source\":\"https://raw.githubusercontent.com/matahombres/CSS-Country-Flags-Rounded/master/flags/KR.png\",\"x\":10.651,\"xanchor\":\"center\",\"xref\":\"x\",\"y\":5.845,\"yanchor\":\"middle\",\"yref\":\"y\"},{\"layer\":\"above\",\"opacity\":0.8,\"sizex\":0.6769641526513526,\"sizey\":0.6769641526513526,\"sizing\":\"contain\",\"source\":\"https://raw.githubusercontent.com/matahombres/CSS-Country-Flags-Rounded/master/flags/KR.png\",\"x\":10.651,\"xanchor\":\"center\",\"xref\":\"x\",\"y\":5.845,\"yanchor\":\"middle\",\"yref\":\"y\"},{\"layer\":\"above\",\"opacity\":0.8,\"sizex\":0.4197534627145225,\"sizey\":0.4197534627145225,\"sizing\":\"contain\",\"source\":\"https://raw.githubusercontent.com/matahombres/CSS-Country-Flags-Rounded/master/flags/KW.png\",\"x\":10.817,\"xanchor\":\"center\",\"xref\":\"x\",\"y\":6.106,\"yanchor\":\"middle\",\"yref\":\"y\"},{\"layer\":\"above\",\"opacity\":0.8,\"sizex\":0.4386078483956713,\"sizey\":0.4386078483956713,\"sizing\":\"contain\",\"source\":\"https://raw.githubusercontent.com/matahombres/CSS-Country-Flags-Rounded/master/flags/LB.png\",\"x\":9.626,\"xanchor\":\"center\",\"xref\":\"x\",\"y\":4.584,\"yanchor\":\"middle\",\"yref\":\"y\"},{\"layer\":\"above\",\"opacity\":0.8,\"sizex\":0.41196083396363076,\"sizey\":0.41196083396363076,\"sizing\":\"contain\",\"source\":\"https://raw.githubusercontent.com/matahombres/CSS-Country-Flags-Rounded/master/flags/LS.png\",\"x\":7.926,\"xanchor\":\"center\",\"xref\":\"x\",\"y\":3.512,\"yanchor\":\"middle\",\"yref\":\"y\"},{\"layer\":\"above\",\"opacity\":0.8,\"sizex\":0.42944646856775337,\"sizey\":0.42944646856775337,\"sizing\":\"contain\",\"source\":\"https://raw.githubusercontent.com/matahombres/CSS-Country-Flags-Rounded/master/flags/LR.png\",\"x\":7.288,\"xanchor\":\"center\",\"xref\":\"x\",\"y\":4.625,\"yanchor\":\"middle\",\"yref\":\"y\"},{\"layer\":\"above\",\"opacity\":0.8,\"sizex\":0.46123312990604515,\"sizey\":0.46123312990604515,\"sizing\":\"contain\",\"source\":\"https://raw.githubusercontent.com/matahombres/CSS-Country-Flags-Rounded/master/flags/LY.png\",\"x\":9.622,\"xanchor\":\"center\",\"xref\":\"x\",\"y\":5.41,\"yanchor\":\"middle\",\"yref\":\"y\"},{\"layer\":\"above\",\"opacity\":0.8,\"sizex\":0.5523942644385422,\"sizey\":0.5523942644385422,\"sizing\":\"contain\",\"source\":\"https://raw.githubusercontent.com/matahombres/CSS-Country-Flags-Rounded/master/flags/MG.png\",\"x\":7.396,\"xanchor\":\"center\",\"xref\":\"x\",\"y\":4.208,\"yanchor\":\"middle\",\"yref\":\"y\"},{\"layer\":\"above\",\"opacity\":0.8,\"sizex\":0.5178739278244655,\"sizey\":0.5178739278244655,\"sizing\":\"contain\",\"source\":\"https://raw.githubusercontent.com/matahombres/CSS-Country-Flags-Rounded/master/flags/MW.png\",\"x\":6.958,\"xanchor\":\"center\",\"xref\":\"x\",\"y\":3.6,\"yanchor\":\"middle\",\"yref\":\"y\"},{\"layer\":\"above\",\"opacity\":0.8,\"sizex\":0.5810564032045908,\"sizey\":0.5810564032045908,\"sizing\":\"contain\",\"source\":\"https://raw.githubusercontent.com/matahombres/CSS-Country-Flags-Rounded/master/flags/MY.png\",\"x\":10.238,\"xanchor\":\"center\",\"xref\":\"x\",\"y\":5.384,\"yanchor\":\"middle\",\"yref\":\"y\"},{\"layer\":\"above\",\"opacity\":0.8,\"sizex\":0.5092403211707373,\"sizey\":0.5092403211707373,\"sizing\":\"contain\",\"source\":\"https://raw.githubusercontent.com/matahombres/CSS-Country-Flags-Rounded/master/flags/ML.png\",\"x\":7.744,\"xanchor\":\"center\",\"xref\":\"x\",\"y\":4.723,\"yanchor\":\"middle\",\"yref\":\"y\"},{\"layer\":\"above\",\"opacity\":0.8,\"sizex\":0.4304511375266614,\"sizey\":0.4304511375266614,\"sizing\":\"contain\",\"source\":\"https://raw.githubusercontent.com/matahombres/CSS-Country-Flags-Rounded/master/flags/MR.png\",\"x\":8.542,\"xanchor\":\"center\",\"xref\":\"x\",\"y\":4.227,\"yanchor\":\"middle\",\"yref\":\"y\"},{\"layer\":\"above\",\"opacity\":0.8,\"sizex\":0.3977130000940511,\"sizey\":0.3977130000940511,\"sizing\":\"contain\",\"source\":\"https://raw.githubusercontent.com/matahombres/CSS-Country-Flags-Rounded/master/flags/MU.png\",\"x\":10.008,\"xanchor\":\"center\",\"xref\":\"x\",\"y\":6.049,\"yanchor\":\"middle\",\"yref\":\"y\"},{\"layer\":\"above\",\"opacity\":0.8,\"sizex\":0.8393856887074613,\"sizey\":0.8393856887074613,\"sizing\":\"contain\",\"source\":\"https://raw.githubusercontent.com/matahombres/CSS-Country-Flags-Rounded/master/flags/MX.png\",\"x\":9.859,\"xanchor\":\"center\",\"xref\":\"x\",\"y\":6.317,\"yanchor\":\"middle\",\"yref\":\"y\"},{\"layer\":\"above\",\"opacity\":0.8,\"sizex\":0.4250885912863651,\"sizey\":0.4250885912863651,\"sizing\":\"contain\",\"source\":\"https://raw.githubusercontent.com/matahombres/CSS-Country-Flags-Rounded/master/flags/MN.png\",\"x\":9.4,\"xanchor\":\"center\",\"xref\":\"x\",\"y\":5.677,\"yanchor\":\"middle\",\"yref\":\"y\"},{\"layer\":\"above\",\"opacity\":0.8,\"sizex\":0.383906938946468,\"sizey\":0.383906938946468,\"sizing\":\"contain\",\"source\":\"https://raw.githubusercontent.com/matahombres/CSS-Country-Flags-Rounded/master/flags/ME.png\",\"x\":9.94,\"xanchor\":\"center\",\"xref\":\"x\",\"y\":5.581,\"yanchor\":\"middle\",\"yref\":\"y\"},{\"layer\":\"above\",\"opacity\":0.8,\"sizex\":0.6203474579257668,\"sizey\":0.6203474579257668,\"sizing\":\"contain\",\"source\":\"https://raw.githubusercontent.com/matahombres/CSS-Country-Flags-Rounded/master/flags/MA.png\",\"x\":8.903,\"xanchor\":\"center\",\"xref\":\"x\",\"y\":4.918,\"yanchor\":\"middle\",\"yref\":\"y\"},{\"layer\":\"above\",\"opacity\":0.8,\"sizex\":0.5566005025491116,\"sizey\":0.5566005025491116,\"sizing\":\"contain\",\"source\":\"https://raw.githubusercontent.com/matahombres/CSS-Country-Flags-Rounded/master/flags/MZ.png\",\"x\":7.158,\"xanchor\":\"center\",\"xref\":\"x\",\"y\":4.794,\"yanchor\":\"middle\",\"yref\":\"y\"},{\"layer\":\"above\",\"opacity\":0.8,\"sizex\":0.6725892391224123,\"sizey\":0.6725892391224123,\"sizing\":\"contain\",\"source\":\"https://raw.githubusercontent.com/matahombres/CSS-Country-Flags-Rounded/master/flags/MM.png\",\"x\":8.541,\"xanchor\":\"center\",\"xref\":\"x\",\"y\":4.426,\"yanchor\":\"middle\",\"yref\":\"y\"},{\"layer\":\"above\",\"opacity\":0.8,\"sizex\":0.4126667672121198,\"sizey\":0.4126667672121198,\"sizing\":\"contain\",\"source\":\"https://raw.githubusercontent.com/matahombres/CSS-Country-Flags-Rounded/master/flags/NA.png\",\"x\":9.161,\"xanchor\":\"center\",\"xref\":\"x\",\"y\":4.574,\"yanchor\":\"middle\",\"yref\":\"y\"},{\"layer\":\"above\",\"opacity\":0.8,\"sizex\":0.5997502080790639,\"sizey\":0.5997502080790639,\"sizing\":\"contain\",\"source\":\"https://raw.githubusercontent.com/matahombres/CSS-Country-Flags-Rounded/master/flags/NP.png\",\"x\":8.12,\"xanchor\":\"center\",\"xref\":\"x\",\"y\":5.269,\"yanchor\":\"middle\",\"yref\":\"y\"},{\"layer\":\"above\",\"opacity\":0.8,\"sizex\":0.5378078089473272,\"sizey\":0.5378078089473272,\"sizing\":\"contain\",\"source\":\"https://raw.githubusercontent.com/matahombres/CSS-Country-Flags-Rounded/master/flags/NL.png\",\"x\":10.932,\"xanchor\":\"center\",\"xref\":\"x\",\"y\":7.464,\"yanchor\":\"middle\",\"yref\":\"y\"},{\"layer\":\"above\",\"opacity\":0.8,\"sizex\":0.44091002127864587,\"sizey\":0.44091002127864587,\"sizing\":\"contain\",\"source\":\"https://raw.githubusercontent.com/matahombres/CSS-Country-Flags-Rounded/master/flags/NZ.png\",\"x\":10.643,\"xanchor\":\"center\",\"xref\":\"x\",\"y\":7.277,\"yanchor\":\"middle\",\"yref\":\"y\"},{\"layer\":\"above\",\"opacity\":0.8,\"sizex\":0.45768777547979594,\"sizey\":0.45768777547979594,\"sizing\":\"contain\",\"source\":\"https://raw.githubusercontent.com/matahombres/CSS-Country-Flags-Rounded/master/flags/NI.png\",\"x\":8.62,\"xanchor\":\"center\",\"xref\":\"x\",\"y\":5.972,\"yanchor\":\"middle\",\"yref\":\"y\"},{\"layer\":\"above\",\"opacity\":0.8,\"sizex\":0.5150416776875761,\"sizey\":0.5150416776875761,\"sizing\":\"contain\",\"source\":\"https://raw.githubusercontent.com/matahombres/CSS-Country-Flags-Rounded/master/flags/NE.png\",\"x\":7.098,\"xanchor\":\"center\",\"xref\":\"x\",\"y\":5.074,\"yanchor\":\"middle\",\"yref\":\"y\"},{\"layer\":\"above\",\"opacity\":0.8,\"sizex\":0.8960599469306836,\"sizey\":0.8960599469306836,\"sizing\":\"contain\",\"source\":\"https://raw.githubusercontent.com/matahombres/CSS-Country-Flags-Rounded/master/flags/NG.png\",\"x\":8.533,\"xanchor\":\"center\",\"xref\":\"x\",\"y\":4.759,\"yanchor\":\"middle\",\"yref\":\"y\"},{\"layer\":\"above\",\"opacity\":0.8,\"sizex\":0.44672423284210805,\"sizey\":0.44672423284210805,\"sizing\":\"contain\",\"source\":\"https://raw.githubusercontent.com/matahombres/CSS-Country-Flags-Rounded/master/flags/NO.png\",\"x\":11.053,\"xanchor\":\"center\",\"xref\":\"x\",\"y\":7.392,\"yanchor\":\"middle\",\"yref\":\"y\"},{\"layer\":\"above\",\"opacity\":0.8,\"sizex\":0.42959178422752314,\"sizey\":0.42959178422752314,\"sizing\":\"contain\",\"source\":\"https://raw.githubusercontent.com/matahombres/CSS-Country-Flags-Rounded/master/flags/OM.png\",\"x\":null,\"xanchor\":\"center\",\"xref\":\"x\",\"y\":null,\"yanchor\":\"middle\",\"yref\":\"y\"},{\"layer\":\"above\",\"opacity\":0.8,\"sizex\":0.962025257861815,\"sizey\":0.962025257861815,\"sizing\":\"contain\",\"source\":\"https://raw.githubusercontent.com/matahombres/CSS-Country-Flags-Rounded/master/flags/PK.png\",\"x\":8.458,\"xanchor\":\"center\",\"xref\":\"x\",\"y\":4.934,\"yanchor\":\"middle\",\"yref\":\"y\"},{\"layer\":\"above\",\"opacity\":0.8,\"sizex\":0.43008439101737,\"sizey\":0.43008439101737,\"sizing\":\"contain\",\"source\":\"https://raw.githubusercontent.com/matahombres/CSS-Country-Flags-Rounded/master/flags/PA.png\",\"x\":10.35,\"xanchor\":\"center\",\"xref\":\"x\",\"y\":6.18,\"yanchor\":\"middle\",\"yref\":\"y\"},{\"layer\":\"above\",\"opacity\":0.8,\"sizex\":0.46716803868567713,\"sizey\":0.46716803868567713,\"sizing\":\"contain\",\"source\":\"https://raw.githubusercontent.com/matahombres/CSS-Country-Flags-Rounded/master/flags/PY.png\",\"x\":9.448,\"xanchor\":\"center\",\"xref\":\"x\",\"y\":5.653,\"yanchor\":\"middle\",\"yref\":\"y\"},{\"layer\":\"above\",\"opacity\":0.8,\"sizex\":0.598746245575801,\"sizey\":0.598746245575801,\"sizing\":\"contain\",\"source\":\"https://raw.githubusercontent.com/matahombres/CSS-Country-Flags-Rounded/master/flags/PE.png\",\"x\":9.458,\"xanchor\":\"center\",\"xref\":\"x\",\"y\":5.84,\"yanchor\":\"middle\",\"yref\":\"y\"},{\"layer\":\"above\",\"opacity\":0.8,\"sizex\":0.7975068268300332,\"sizey\":0.7975068268300332,\"sizing\":\"contain\",\"source\":\"https://raw.githubusercontent.com/matahombres/CSS-Country-Flags-Rounded/master/flags/PH.png\",\"x\":9.076,\"xanchor\":\"center\",\"xref\":\"x\",\"y\":5.88,\"yanchor\":\"middle\",\"yref\":\"y\"},{\"layer\":\"above\",\"opacity\":0.8,\"sizex\":0.6391490802923825,\"sizey\":0.6391490802923825,\"sizing\":\"contain\",\"source\":\"https://raw.githubusercontent.com/matahombres/CSS-Country-Flags-Rounded/master/flags/PL.png\",\"x\":10.382,\"xanchor\":\"center\",\"xref\":\"x\",\"y\":6.166,\"yanchor\":\"middle\",\"yref\":\"y\"},{\"layer\":\"above\",\"opacity\":0.8,\"sizex\":0.4994482678718812,\"sizey\":0.4994482678718812,\"sizing\":\"contain\",\"source\":\"https://raw.githubusercontent.com/matahombres/CSS-Country-Flags-Rounded/master/flags/PT.png\",\"x\":10.421,\"xanchor\":\"center\",\"xref\":\"x\",\"y\":5.929,\"yanchor\":\"middle\",\"yref\":\"y\"},{\"layer\":\"above\",\"opacity\":0.8,\"sizex\":0.4388616752583182,\"sizey\":0.4388616752583182,\"sizing\":\"contain\",\"source\":\"https://raw.githubusercontent.com/matahombres/CSS-Country-Flags-Rounded/master/flags/PR.png\",\"x\":null,\"xanchor\":\"center\",\"xref\":\"x\",\"y\":null,\"yanchor\":\"middle\",\"yref\":\"y\"},{\"layer\":\"above\",\"opacity\":0.8,\"sizex\":0.3870328377885204,\"sizey\":0.3870328377885204,\"sizing\":\"contain\",\"source\":\"https://raw.githubusercontent.com/matahombres/CSS-Country-Flags-Rounded/master/flags/RE.png\",\"x\":null,\"xanchor\":\"center\",\"xref\":\"x\",\"y\":null,\"yanchor\":\"middle\",\"yref\":\"y\"},{\"layer\":\"above\",\"opacity\":0.8,\"sizex\":0.5686073012639485,\"sizey\":0.5686073012639485,\"sizing\":\"contain\",\"source\":\"https://raw.githubusercontent.com/matahombres/CSS-Country-Flags-Rounded/master/flags/RO.png\",\"x\":10.284,\"xanchor\":\"center\",\"xref\":\"x\",\"y\":6.14,\"yanchor\":\"middle\",\"yref\":\"y\"},{\"layer\":\"above\",\"opacity\":0.8,\"sizex\":0.4858926935083777,\"sizey\":0.4858926935083777,\"sizing\":\"contain\",\"source\":\"https://raw.githubusercontent.com/matahombres/CSS-Country-Flags-Rounded/master/flags/RW.png\",\"x\":7.676,\"xanchor\":\"center\",\"xref\":\"x\",\"y\":3.415,\"yanchor\":\"middle\",\"yref\":\"y\"},{\"layer\":\"above\",\"opacity\":0.8,\"sizex\":0.3658393667160763,\"sizey\":0.3658393667160763,\"sizing\":\"contain\",\"source\":\"https://raw.githubusercontent.com/matahombres/CSS-Country-Flags-Rounded/master/flags/ST.png\",\"x\":null,\"xanchor\":\"center\",\"xref\":\"x\",\"y\":null,\"yanchor\":\"middle\",\"yref\":\"y\"},{\"layer\":\"above\",\"opacity\":0.8,\"sizex\":0.5939433841969718,\"sizey\":0.5939433841969718,\"sizing\":\"contain\",\"source\":\"https://raw.githubusercontent.com/matahombres/CSS-Country-Flags-Rounded/master/flags/SA.png\",\"x\":10.743,\"xanchor\":\"center\",\"xref\":\"x\",\"y\":6.494,\"yanchor\":\"middle\",\"yref\":\"y\"},{\"layer\":\"above\",\"opacity\":0.8,\"sizex\":0.5108447287301267,\"sizey\":0.5108447287301267,\"sizing\":\"contain\",\"source\":\"https://raw.githubusercontent.com/matahombres/CSS-Country-Flags-Rounded/master/flags/SN.png\",\"x\":8.118,\"xanchor\":\"center\",\"xref\":\"x\",\"y\":5.132,\"yanchor\":\"middle\",\"yref\":\"y\"},{\"layer\":\"above\",\"opacity\":0.8,\"sizex\":0.4958234169750442,\"sizey\":0.4958234169750442,\"sizing\":\"contain\",\"source\":\"https://raw.githubusercontent.com/matahombres/CSS-Country-Flags-Rounded/master/flags/RS.png\",\"x\":9.787,\"xanchor\":\"center\",\"xref\":\"x\",\"y\":6.078,\"yanchor\":\"middle\",\"yref\":\"y\"},{\"layer\":\"above\",\"opacity\":0.8,\"sizex\":0.4622680592874214,\"sizey\":0.4622680592874214,\"sizing\":\"contain\",\"source\":\"https://raw.githubusercontent.com/matahombres/CSS-Country-Flags-Rounded/master/flags/SL.png\",\"x\":7.434,\"xanchor\":\"center\",\"xref\":\"x\",\"y\":3.849,\"yanchor\":\"middle\",\"yref\":\"y\"},{\"layer\":\"above\",\"opacity\":0.8,\"sizex\":0.445894590316028,\"sizey\":0.445894590316028,\"sizing\":\"contain\",\"source\":\"https://raw.githubusercontent.com/matahombres/CSS-Country-Flags-Rounded/master/flags/SG.png\",\"x\":11.488,\"xanchor\":\"center\",\"xref\":\"x\",\"y\":6.377,\"yanchor\":\"middle\",\"yref\":\"y\"},{\"layer\":\"above\",\"opacity\":0.8,\"sizex\":0.4553952101837969,\"sizey\":0.4553952101837969,\"sizing\":\"contain\",\"source\":\"https://raw.githubusercontent.com/matahombres/CSS-Country-Flags-Rounded/master/flags/SK.png\",\"x\":10.369,\"xanchor\":\"center\",\"xref\":\"x\",\"y\":6.331,\"yanchor\":\"middle\",\"yref\":\"y\"},{\"layer\":\"above\",\"opacity\":0.8,\"sizex\":0.4119038798957189,\"sizey\":0.4119038798957189,\"sizing\":\"contain\",\"source\":\"https://raw.githubusercontent.com/matahombres/CSS-Country-Flags-Rounded/master/flags/SI.png\",\"x\":10.529,\"xanchor\":\"center\",\"xref\":\"x\",\"y\":6.461,\"yanchor\":\"middle\",\"yref\":\"y\"},{\"layer\":\"above\",\"opacity\":0.8,\"sizex\":0.4879358684089472,\"sizey\":0.4879358684089472,\"sizing\":\"contain\",\"source\":\"https://raw.githubusercontent.com/matahombres/CSS-Country-Flags-Rounded/master/flags/SO.png\",\"x\":null,\"xanchor\":\"center\",\"xref\":\"x\",\"y\":null,\"yanchor\":\"middle\",\"yref\":\"y\"},{\"layer\":\"above\",\"opacity\":0.8,\"sizex\":0.65940112235554,\"sizey\":0.65940112235554,\"sizing\":\"contain\",\"source\":\"https://raw.githubusercontent.com/matahombres/CSS-Country-Flags-Rounded/master/flags/ZA.png\",\"x\":9.403,\"xanchor\":\"center\",\"xref\":\"x\",\"y\":4.956,\"yanchor\":\"middle\",\"yref\":\"y\"},{\"layer\":\"above\",\"opacity\":0.8,\"sizex\":0.6464370691915617,\"sizey\":0.6464370691915617,\"sizing\":\"contain\",\"source\":\"https://raw.githubusercontent.com/matahombres/CSS-Country-Flags-Rounded/master/flags/ES.png\",\"x\":10.571,\"xanchor\":\"center\",\"xref\":\"x\",\"y\":6.491,\"yanchor\":\"middle\",\"yref\":\"y\"},{\"layer\":\"above\",\"opacity\":0.8,\"sizex\":0.5588544642949689,\"sizey\":0.5588544642949689,\"sizing\":\"contain\",\"source\":\"https://raw.githubusercontent.com/matahombres/CSS-Country-Flags-Rounded/master/flags/LK.png\",\"x\":9.47,\"xanchor\":\"center\",\"xref\":\"x\",\"y\":4.325,\"yanchor\":\"middle\",\"yref\":\"y\"},{\"layer\":\"above\",\"opacity\":0.8,\"sizex\":0.6532424346874021,\"sizey\":0.6532424346874021,\"sizing\":\"contain\",\"source\":\"https://raw.githubusercontent.com/matahombres/CSS-Country-Flags-Rounded/master/flags/SD.png\",\"x\":null,\"xanchor\":\"center\",\"xref\":\"x\",\"y\":null,\"yanchor\":\"middle\",\"yref\":\"y\"},{\"layer\":\"above\",\"opacity\":0.8,\"sizex\":0.39515182621131306,\"sizey\":0.39515182621131306,\"sizing\":\"contain\",\"source\":\"https://raw.githubusercontent.com/matahombres/CSS-Country-Flags-Rounded/master/flags/SZ.png\",\"x\":9.065,\"xanchor\":\"center\",\"xref\":\"x\",\"y\":4.308,\"yanchor\":\"middle\",\"yref\":\"y\"},{\"layer\":\"above\",\"opacity\":0.8,\"sizex\":0.48724524643842154,\"sizey\":0.48724524643842154,\"sizing\":\"contain\",\"source\":\"https://raw.githubusercontent.com/matahombres/CSS-Country-Flags-Rounded/master/flags/SE.png\",\"x\":10.867,\"xanchor\":\"center\",\"xref\":\"x\",\"y\":7.363,\"yanchor\":\"middle\",\"yref\":\"y\"},{\"layer\":\"above\",\"opacity\":0.8,\"sizex\":0.475068637324369,\"sizey\":0.475068637324369,\"sizing\":\"contain\",\"source\":\"https://raw.githubusercontent.com/matahombres/CSS-Country-Flags-Rounded/master/flags/CH.png\",\"x\":11.117,\"xanchor\":\"center\",\"xref\":\"x\",\"y\":7.571,\"yanchor\":\"middle\",\"yref\":\"y\"},{\"layer\":\"above\",\"opacity\":0.8,\"sizex\":0.5531898963377834,\"sizey\":0.5531898963377834,\"sizing\":\"contain\",\"source\":\"https://raw.githubusercontent.com/matahombres/CSS-Country-Flags-Rounded/master/flags/SY.png\",\"x\":null,\"xanchor\":\"center\",\"xref\":\"x\",\"y\":null,\"yanchor\":\"middle\",\"yref\":\"y\"},{\"layer\":\"above\",\"opacity\":0.8,\"sizex\":0.5730781963922769,\"sizey\":0.5730781963922769,\"sizing\":\"contain\",\"source\":\"https://raw.githubusercontent.com/matahombres/CSS-Country-Flags-Rounded/master/flags/TW.png\",\"x\":10.871,\"xanchor\":\"center\",\"xref\":\"x\",\"y\":6.584,\"yanchor\":\"middle\",\"yref\":\"y\"},{\"layer\":\"above\",\"opacity\":0.8,\"sizex\":0.6376981212799073,\"sizey\":0.6376981212799073,\"sizing\":\"contain\",\"source\":\"https://raw.githubusercontent.com/matahombres/CSS-Country-Flags-Rounded/master/flags/TZ.png\",\"x\":7.876,\"xanchor\":\"center\",\"xref\":\"x\",\"y\":3.623,\"yanchor\":\"middle\",\"yref\":\"y\"},{\"layer\":\"above\",\"opacity\":0.8,\"sizex\":0.7274204006467812,\"sizey\":0.7274204006467812,\"sizing\":\"contain\",\"source\":\"https://raw.githubusercontent.com/matahombres/CSS-Country-Flags-Rounded/master/flags/TH.png\",\"x\":9.805,\"xanchor\":\"center\",\"xref\":\"x\",\"y\":5.985,\"yanchor\":\"middle\",\"yref\":\"y\"},{\"layer\":\"above\",\"opacity\":0.8,\"sizex\":0.4579486432905518,\"sizey\":0.4579486432905518,\"sizing\":\"contain\",\"source\":\"https://raw.githubusercontent.com/matahombres/CSS-Country-Flags-Rounded/master/flags/TG.png\",\"x\":7.362,\"xanchor\":\"center\",\"xref\":\"x\",\"y\":4.107,\"yanchor\":\"middle\",\"yref\":\"y\"},{\"layer\":\"above\",\"opacity\":0.8,\"sizex\":0.3934178230302833,\"sizey\":0.3934178230302833,\"sizing\":\"contain\",\"source\":\"https://raw.githubusercontent.com/matahombres/CSS-Country-Flags-Rounded/master/flags/TT.png\",\"x\":null,\"xanchor\":\"center\",\"xref\":\"x\",\"y\":null,\"yanchor\":\"middle\",\"yref\":\"y\"},{\"layer\":\"above\",\"opacity\":0.8,\"sizex\":0.49675808622071815,\"sizey\":0.49675808622071815,\"sizing\":\"contain\",\"source\":\"https://raw.githubusercontent.com/matahombres/CSS-Country-Flags-Rounded/master/flags/TN.png\",\"x\":9.266,\"xanchor\":\"center\",\"xref\":\"x\",\"y\":4.596,\"yanchor\":\"middle\",\"yref\":\"y\"},{\"layer\":\"above\",\"opacity\":0.8,\"sizex\":0.7449342090793041,\"sizey\":0.7449342090793041,\"sizing\":\"contain\",\"source\":\"https://raw.githubusercontent.com/matahombres/CSS-Country-Flags-Rounded/master/flags/TR.png\",\"x\":10.24,\"xanchor\":\"center\",\"xref\":\"x\",\"y\":4.948,\"yanchor\":\"middle\",\"yref\":\"y\"},{\"layer\":\"above\",\"opacity\":0.8,\"sizex\":0.6009329404366577,\"sizey\":0.6009329404366577,\"sizing\":\"contain\",\"source\":\"https://raw.githubusercontent.com/matahombres/CSS-Country-Flags-Rounded/master/flags/UG.png\",\"x\":7.677,\"xanchor\":\"center\",\"xref\":\"x\",\"y\":4.636,\"yanchor\":\"middle\",\"yref\":\"y\"},{\"layer\":\"above\",\"opacity\":0.8,\"sizex\":0.7145809210255509,\"sizey\":0.7145809210255509,\"sizing\":\"contain\",\"source\":\"https://raw.githubusercontent.com/matahombres/CSS-Country-Flags-Rounded/master/flags/GB.png\",\"x\":10.707,\"xanchor\":\"center\",\"xref\":\"x\",\"y\":7.064,\"yanchor\":\"middle\",\"yref\":\"y\"},{\"layer\":\"above\",\"opacity\":0.8,\"sizex\":1.1681135444249167,\"sizey\":1.1681135444249167,\"sizing\":\"contain\",\"source\":\"https://raw.githubusercontent.com/matahombres/CSS-Country-Flags-Rounded/master/flags/US.png\",\"x\":11.023,\"xanchor\":\"center\",\"xref\":\"x\",\"y\":6.951,\"yanchor\":\"middle\",\"yref\":\"y\"},{\"layer\":\"above\",\"opacity\":0.8,\"sizex\":0.4327484075329362,\"sizey\":0.4327484075329362,\"sizing\":\"contain\",\"source\":\"https://raw.githubusercontent.com/matahombres/CSS-Country-Flags-Rounded/master/flags/UY.png\",\"x\":9.966,\"xanchor\":\"center\",\"xref\":\"x\",\"y\":6.431,\"yanchor\":\"middle\",\"yref\":\"y\"},{\"layer\":\"above\",\"opacity\":0.8,\"sizex\":0.586998398048854,\"sizey\":0.586998398048854,\"sizing\":\"contain\",\"source\":\"https://raw.githubusercontent.com/matahombres/CSS-Country-Flags-Rounded/master/flags/VE.png\",\"x\":9.073,\"xanchor\":\"center\",\"xref\":\"x\",\"y\":4.892,\"yanchor\":\"middle\",\"yref\":\"y\"},{\"layer\":\"above\",\"opacity\":0.8,\"sizex\":0.7828115046737458,\"sizey\":0.7828115046737458,\"sizing\":\"contain\",\"source\":\"https://raw.githubusercontent.com/matahombres/CSS-Country-Flags-Rounded/master/flags/VN.png\",\"x\":8.973,\"xanchor\":\"center\",\"xref\":\"x\",\"y\":5.411,\"yanchor\":\"middle\",\"yref\":\"y\"},{\"layer\":\"above\",\"opacity\":0.8,\"sizex\":0.43976362110399014,\"sizey\":0.43976362110399014,\"sizing\":\"contain\",\"source\":\"https://raw.githubusercontent.com/matahombres/CSS-Country-Flags-Rounded/master/flags/PS.png\",\"x\":8.485,\"xanchor\":\"center\",\"xref\":\"x\",\"y\":4.517,\"yanchor\":\"middle\",\"yref\":\"y\"},{\"layer\":\"above\",\"opacity\":0.8,\"sizex\":0.568283760586413,\"sizey\":0.568283760586413,\"sizing\":\"contain\",\"source\":\"https://raw.githubusercontent.com/matahombres/CSS-Country-Flags-Rounded/master/flags/YE.png\",\"x\":7.578,\"xanchor\":\"center\",\"xref\":\"x\",\"y\":3.658,\"yanchor\":\"middle\",\"yref\":\"y\"},{\"layer\":\"above\",\"opacity\":0.8,\"sizex\":0.5072739131453048,\"sizey\":0.5072739131453048,\"sizing\":\"contain\",\"source\":\"https://raw.githubusercontent.com/matahombres/CSS-Country-Flags-Rounded/master/flags/ZM.png\",\"x\":8.145,\"xanchor\":\"center\",\"xref\":\"x\",\"y\":4.073,\"yanchor\":\"middle\",\"yref\":\"y\"},{\"layer\":\"above\",\"opacity\":0.8,\"sizex\":0.5111401596854932,\"sizey\":0.5111401596854932,\"sizing\":\"contain\",\"source\":\"https://raw.githubusercontent.com/matahombres/CSS-Country-Flags-Rounded/master/flags/ZW.png\",\"x\":7.943,\"xanchor\":\"center\",\"xref\":\"x\",\"y\":3.145,\"yanchor\":\"middle\",\"yref\":\"y\"}],\"legend\":{\"tracegroupgap\":0},\"margin\":{\"t\":60},\"plot_bgcolor\":\"#dfdfdf\",\"template\":{\"data\":{\"bar\":[{\"error_x\":{\"color\":\"#2a3f5f\"},\"error_y\":{\"color\":\"#2a3f5f\"},\"marker\":{\"line\":{\"color\":\"#E5ECF6\",\"width\":0.5},\"pattern\":{\"fillmode\":\"overlay\",\"size\":10,\"solidity\":0.2}},\"type\":\"bar\"}],\"barpolar\":[{\"marker\":{\"line\":{\"color\":\"#E5ECF6\",\"width\":0.5},\"pattern\":{\"fillmode\":\"overlay\",\"size\":10,\"solidity\":0.2}},\"type\":\"barpolar\"}],\"carpet\":[{\"aaxis\":{\"endlinecolor\":\"#2a3f5f\",\"gridcolor\":\"white\",\"linecolor\":\"white\",\"minorgridcolor\":\"white\",\"startlinecolor\":\"#2a3f5f\"},\"baxis\":{\"endlinecolor\":\"#2a3f5f\",\"gridcolor\":\"white\",\"linecolor\":\"white\",\"minorgridcolor\":\"white\",\"startlinecolor\":\"#2a3f5f\"},\"type\":\"carpet\"}],\"choropleth\":[{\"colorbar\":{\"outlinewidth\":0,\"ticks\":\"\"},\"type\":\"choropleth\"}],\"contour\":[{\"colorbar\":{\"outlinewidth\":0,\"ticks\":\"\"},\"colorscale\":[[0.0,\"#0d0887\"],[0.1111111111111111,\"#46039f\"],[0.2222222222222222,\"#7201a8\"],[0.3333333333333333,\"#9c179e\"],[0.4444444444444444,\"#bd3786\"],[0.5555555555555556,\"#d8576b\"],[0.6666666666666666,\"#ed7953\"],[0.7777777777777778,\"#fb9f3a\"],[0.8888888888888888,\"#fdca26\"],[1.0,\"#f0f921\"]],\"type\":\"contour\"}],\"contourcarpet\":[{\"colorbar\":{\"outlinewidth\":0,\"ticks\":\"\"},\"type\":\"contourcarpet\"}],\"heatmap\":[{\"colorbar\":{\"outlinewidth\":0,\"ticks\":\"\"},\"colorscale\":[[0.0,\"#0d0887\"],[0.1111111111111111,\"#46039f\"],[0.2222222222222222,\"#7201a8\"],[0.3333333333333333,\"#9c179e\"],[0.4444444444444444,\"#bd3786\"],[0.5555555555555556,\"#d8576b\"],[0.6666666666666666,\"#ed7953\"],[0.7777777777777778,\"#fb9f3a\"],[0.8888888888888888,\"#fdca26\"],[1.0,\"#f0f921\"]],\"type\":\"heatmap\"}],\"heatmapgl\":[{\"colorbar\":{\"outlinewidth\":0,\"ticks\":\"\"},\"colorscale\":[[0.0,\"#0d0887\"],[0.1111111111111111,\"#46039f\"],[0.2222222222222222,\"#7201a8\"],[0.3333333333333333,\"#9c179e\"],[0.4444444444444444,\"#bd3786\"],[0.5555555555555556,\"#d8576b\"],[0.6666666666666666,\"#ed7953\"],[0.7777777777777778,\"#fb9f3a\"],[0.8888888888888888,\"#fdca26\"],[1.0,\"#f0f921\"]],\"type\":\"heatmapgl\"}],\"histogram\":[{\"marker\":{\"pattern\":{\"fillmode\":\"overlay\",\"size\":10,\"solidity\":0.2}},\"type\":\"histogram\"}],\"histogram2d\":[{\"colorbar\":{\"outlinewidth\":0,\"ticks\":\"\"},\"colorscale\":[[0.0,\"#0d0887\"],[0.1111111111111111,\"#46039f\"],[0.2222222222222222,\"#7201a8\"],[0.3333333333333333,\"#9c179e\"],[0.4444444444444444,\"#bd3786\"],[0.5555555555555556,\"#d8576b\"],[0.6666666666666666,\"#ed7953\"],[0.7777777777777778,\"#fb9f3a\"],[0.8888888888888888,\"#fdca26\"],[1.0,\"#f0f921\"]],\"type\":\"histogram2d\"}],\"histogram2dcontour\":[{\"colorbar\":{\"outlinewidth\":0,\"ticks\":\"\"},\"colorscale\":[[0.0,\"#0d0887\"],[0.1111111111111111,\"#46039f\"],[0.2222222222222222,\"#7201a8\"],[0.3333333333333333,\"#9c179e\"],[0.4444444444444444,\"#bd3786\"],[0.5555555555555556,\"#d8576b\"],[0.6666666666666666,\"#ed7953\"],[0.7777777777777778,\"#fb9f3a\"],[0.8888888888888888,\"#fdca26\"],[1.0,\"#f0f921\"]],\"type\":\"histogram2dcontour\"}],\"mesh3d\":[{\"colorbar\":{\"outlinewidth\":0,\"ticks\":\"\"},\"type\":\"mesh3d\"}],\"parcoords\":[{\"line\":{\"colorbar\":{\"outlinewidth\":0,\"ticks\":\"\"}},\"type\":\"parcoords\"}],\"pie\":[{\"automargin\":true,\"type\":\"pie\"}],\"scatter\":[{\"marker\":{\"colorbar\":{\"outlinewidth\":0,\"ticks\":\"\"}},\"type\":\"scatter\"}],\"scatter3d\":[{\"line\":{\"colorbar\":{\"outlinewidth\":0,\"ticks\":\"\"}},\"marker\":{\"colorbar\":{\"outlinewidth\":0,\"ticks\":\"\"}},\"type\":\"scatter3d\"}],\"scattercarpet\":[{\"marker\":{\"colorbar\":{\"outlinewidth\":0,\"ticks\":\"\"}},\"type\":\"scattercarpet\"}],\"scattergeo\":[{\"marker\":{\"colorbar\":{\"outlinewidth\":0,\"ticks\":\"\"}},\"type\":\"scattergeo\"}],\"scattergl\":[{\"marker\":{\"colorbar\":{\"outlinewidth\":0,\"ticks\":\"\"}},\"type\":\"scattergl\"}],\"scattermapbox\":[{\"marker\":{\"colorbar\":{\"outlinewidth\":0,\"ticks\":\"\"}},\"type\":\"scattermapbox\"}],\"scatterpolar\":[{\"marker\":{\"colorbar\":{\"outlinewidth\":0,\"ticks\":\"\"}},\"type\":\"scatterpolar\"}],\"scatterpolargl\":[{\"marker\":{\"colorbar\":{\"outlinewidth\":0,\"ticks\":\"\"}},\"type\":\"scatterpolargl\"}],\"scatterternary\":[{\"marker\":{\"colorbar\":{\"outlinewidth\":0,\"ticks\":\"\"}},\"type\":\"scatterternary\"}],\"surface\":[{\"colorbar\":{\"outlinewidth\":0,\"ticks\":\"\"},\"colorscale\":[[0.0,\"#0d0887\"],[0.1111111111111111,\"#46039f\"],[0.2222222222222222,\"#7201a8\"],[0.3333333333333333,\"#9c179e\"],[0.4444444444444444,\"#bd3786\"],[0.5555555555555556,\"#d8576b\"],[0.6666666666666666,\"#ed7953\"],[0.7777777777777778,\"#fb9f3a\"],[0.8888888888888888,\"#fdca26\"],[1.0,\"#f0f921\"]],\"type\":\"surface\"}],\"table\":[{\"cells\":{\"fill\":{\"color\":\"#EBF0F8\"},\"line\":{\"color\":\"white\"}},\"header\":{\"fill\":{\"color\":\"#C8D4E3\"},\"line\":{\"color\":\"white\"}},\"type\":\"table\"}]},\"layout\":{\"annotationdefaults\":{\"arrowcolor\":\"#2a3f5f\",\"arrowhead\":0,\"arrowwidth\":1},\"autotypenumbers\":\"strict\",\"coloraxis\":{\"colorbar\":{\"outlinewidth\":0,\"ticks\":\"\"}},\"colorscale\":{\"diverging\":[[0,\"#8e0152\"],[0.1,\"#c51b7d\"],[0.2,\"#de77ae\"],[0.3,\"#f1b6da\"],[0.4,\"#fde0ef\"],[0.5,\"#f7f7f7\"],[0.6,\"#e6f5d0\"],[0.7,\"#b8e186\"],[0.8,\"#7fbc41\"],[0.9,\"#4d9221\"],[1,\"#276419\"]],\"sequential\":[[0.0,\"#0d0887\"],[0.1111111111111111,\"#46039f\"],[0.2222222222222222,\"#7201a8\"],[0.3333333333333333,\"#9c179e\"],[0.4444444444444444,\"#bd3786\"],[0.5555555555555556,\"#d8576b\"],[0.6666666666666666,\"#ed7953\"],[0.7777777777777778,\"#fb9f3a\"],[0.8888888888888888,\"#fdca26\"],[1.0,\"#f0f921\"]],\"sequentialminus\":[[0.0,\"#0d0887\"],[0.1111111111111111,\"#46039f\"],[0.2222222222222222,\"#7201a8\"],[0.3333333333333333,\"#9c179e\"],[0.4444444444444444,\"#bd3786\"],[0.5555555555555556,\"#d8576b\"],[0.6666666666666666,\"#ed7953\"],[0.7777777777777778,\"#fb9f3a\"],[0.8888888888888888,\"#fdca26\"],[1.0,\"#f0f921\"]]},\"colorway\":[\"#636efa\",\"#EF553B\",\"#00cc96\",\"#ab63fa\",\"#FFA15A\",\"#19d3f3\",\"#FF6692\",\"#B6E880\",\"#FF97FF\",\"#FECB52\"],\"font\":{\"color\":\"#2a3f5f\"},\"geo\":{\"bgcolor\":\"white\",\"lakecolor\":\"white\",\"landcolor\":\"#E5ECF6\",\"showlakes\":true,\"showland\":true,\"subunitcolor\":\"white\"},\"hoverlabel\":{\"align\":\"left\"},\"hovermode\":\"closest\",\"mapbox\":{\"style\":\"light\"},\"paper_bgcolor\":\"white\",\"plot_bgcolor\":\"#E5ECF6\",\"polar\":{\"angularaxis\":{\"gridcolor\":\"white\",\"linecolor\":\"white\",\"ticks\":\"\"},\"bgcolor\":\"#E5ECF6\",\"radialaxis\":{\"gridcolor\":\"white\",\"linecolor\":\"white\",\"ticks\":\"\"}},\"scene\":{\"xaxis\":{\"backgroundcolor\":\"#E5ECF6\",\"gridcolor\":\"white\",\"gridwidth\":2,\"linecolor\":\"white\",\"showbackground\":true,\"ticks\":\"\",\"zerolinecolor\":\"white\"},\"yaxis\":{\"backgroundcolor\":\"#E5ECF6\",\"gridcolor\":\"white\",\"gridwidth\":2,\"linecolor\":\"white\",\"showbackground\":true,\"ticks\":\"\",\"zerolinecolor\":\"white\"},\"zaxis\":{\"backgroundcolor\":\"#E5ECF6\",\"gridcolor\":\"white\",\"gridwidth\":2,\"linecolor\":\"white\",\"showbackground\":true,\"ticks\":\"\",\"zerolinecolor\":\"white\"}},\"shapedefaults\":{\"line\":{\"color\":\"#2a3f5f\"}},\"ternary\":{\"aaxis\":{\"gridcolor\":\"white\",\"linecolor\":\"white\",\"ticks\":\"\"},\"baxis\":{\"gridcolor\":\"white\",\"linecolor\":\"white\",\"ticks\":\"\"},\"bgcolor\":\"#E5ECF6\",\"caxis\":{\"gridcolor\":\"white\",\"linecolor\":\"white\",\"ticks\":\"\"}},\"title\":{\"x\":0.05},\"xaxis\":{\"automargin\":true,\"gridcolor\":\"white\",\"linecolor\":\"white\",\"ticks\":\"\",\"title\":{\"standoff\":15},\"zerolinecolor\":\"white\",\"zerolinewidth\":2},\"yaxis\":{\"automargin\":true,\"gridcolor\":\"white\",\"linecolor\":\"white\",\"ticks\":\"\",\"title\":{\"standoff\":15},\"zerolinecolor\":\"white\",\"zerolinewidth\":2}}},\"width\":800,\"xaxis\":{\"anchor\":\"y\",\"domain\":[0.0,1.0],\"title\":{\"text\":\"Logged GDP per capita\"}},\"yaxis\":{\"anchor\":\"x\",\"domain\":[0.0,1.0],\"range\":[0,10],\"title\":{\"text\":\"Ladder score\"}}},                        {\"responsive\": true}                    ).then(function(){\n",
       "                            \n",
       "var gd = document.getElementById('bb02fb5e-b015-46c7-89f4-8d119a08cb3a');\n",
       "var x = new MutationObserver(function (mutations, observer) {{\n",
       "        var display = window.getComputedStyle(gd).display;\n",
       "        if (!display || display === 'none') {{\n",
       "            console.log([gd, 'removed!']);\n",
       "            Plotly.purge(gd);\n",
       "            observer.disconnect();\n",
       "        }}\n",
       "}});\n",
       "\n",
       "// Listen for the removal of the full notebook cells\n",
       "var notebookContainer = gd.closest('#notebook-container');\n",
       "if (notebookContainer) {{\n",
       "    x.observe(notebookContainer, {childList: true});\n",
       "}}\n",
       "\n",
       "// Listen for the clearing of the current output cell\n",
       "var outputEl = gd.closest('.output');\n",
       "if (outputEl) {{\n",
       "    x.observe(outputEl, {childList: true});\n",
       "}}\n",
       "\n",
       "                        })                };                });            </script>        </div>"
      ]
     },
     "metadata": {},
     "output_type": "display_data"
    }
   ],
   "source": [
    "# todo : change with ladder score here \n",
    "fig = px.scatter(\n",
    "    df,\n",
    "    x=\"Logged GDP per capita\",\n",
    "    y=\"Ladder score\",\n",
    "    hover_name=\"country\",\n",
    "    hover_data=[\"Logged GDP per capita\", \"Ladder score\", \"pop\"],\n",
    ")\n",
    "fig.update_traces(marker_color=\"rgba(0,0,0,0)\")\n",
    "\n",
    "minDim = df[[\"Logged GDP per capita\", \"Ladder score\"]].max().idxmax()\n",
    "maxi = df[minDim].max()\n",
    "for i, row in df.iterrows():\n",
    "    country_iso = row[\"iso_alpha2\"]\n",
    "    fig.add_layout_image(\n",
    "        dict(\n",
    "            source=f\"https://raw.githubusercontent.com/matahombres/CSS-Country-Flags-Rounded/master/flags/{country_iso}.png\",\n",
    "            xref=\"x\",\n",
    "            yref=\"y\",\n",
    "            xanchor=\"center\",\n",
    "            yanchor=\"middle\",\n",
    "            x=row[\"Logged GDP per capita\"],\n",
    "            y=row[\"Ladder score\"],\n",
    "            sizex=np.sqrt(row[\"pop\"] / df[\"pop\"].max()) * maxi * 0.15 + maxi * 0.03,\n",
    "            sizey=np.sqrt(row[\"pop\"] / df[\"pop\"].max()) * maxi * 0.15+ maxi * 0.03,\n",
    "            sizing=\"contain\",\n",
    "            opacity=0.8,\n",
    "            layer=\"above\"\n",
    "        )\n",
    "    )\n",
    "\n",
    "fig.update_layout(height=800, width=800, plot_bgcolor=\"#dfdfdf\", yaxis_range=[0, 10])\n",
    "\n",
    "fig.show()"
   ]
  }
 ],
 "metadata": {
  "kernelspec": {
   "display_name": "Python 3 (ipykernel)",
   "language": "python",
   "name": "python3"
  },
  "language_info": {
   "codemirror_mode": {
    "name": "ipython",
    "version": 3
   },
   "file_extension": ".py",
   "mimetype": "text/x-python",
   "name": "python",
   "nbconvert_exporter": "python",
   "pygments_lexer": "ipython3",
   "version": "3.8.5"
  }
 },
 "nbformat": 4,
 "nbformat_minor": 5
}
